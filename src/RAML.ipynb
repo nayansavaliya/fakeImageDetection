{
 "cells": [
  {
   "cell_type": "markdown",
   "metadata": {},
   "source": [
    "Import important functions. "
   ]
  },
  {
   "cell_type": "code",
   "execution_count": 15,
   "metadata": {},
   "outputs": [],
   "source": [
    "from __future__ import print_function, division \n",
    "import os \n",
    "import torch \n",
    "import torch.nn as nn # for definition of network \n",
    "import torch.optim as optim # for optimizazion of network \n",
    "import torch.nn.functional as F # for loss function \n",
    "from torch.utils.data import DataLoader # for loading data \n",
    "from torch.autograd import Variable \n",
    "from torchvision import datasets, transforms"
   ]
  },
  {
   "cell_type": "markdown",
   "metadata": {},
   "source": [
    "Use the following command to get the results faster and using GPU (In case your GPU supports cuda)"
   ]
  },
  {
   "cell_type": "code",
   "execution_count": 16,
   "metadata": {},
   "outputs": [],
   "source": [
    "import torch.backends.cudnn as cudnn\n",
    "cudnn.benchmark = True\n",
    "cudnn.fastest = True"
   ]
  },
  {
   "cell_type": "code",
   "execution_count": 17,
   "metadata": {},
   "outputs": [],
   "source": [
    "import matplotlib.pyplot as plt # to plot loss"
   ]
  },
  {
   "cell_type": "code",
   "execution_count": 18,
   "metadata": {},
   "outputs": [],
   "source": [
    "import timeit"
   ]
  },
  {
   "cell_type": "markdown",
   "metadata": {},
   "source": [
    "Set the global parameters used to acquire train and test data as well as optimization parameters."
   ]
  },
  {
   "cell_type": "code",
   "execution_count": 19,
   "metadata": {},
   "outputs": [],
   "source": [
    "# Define parameters\n",
    "BATCH_SIZE = 50\n",
    "EPOCHS = 60\n",
    "DATA_DIR = '/Users/nayansavaliya/Masters Mechatronics/2022 Summer/RAML - Project/data/all'\n",
    "LEARNING_RATE = 0.001\n",
    "IMAGE_SIZE = [32, 32]"
   ]
  },
  {
   "cell_type": "code",
   "execution_count": 20,
   "metadata": {},
   "outputs": [],
   "source": [
    "# for plots\n",
    "LOSS_ARRAY = []\n",
    "TEST_ACCURACY = []"
   ]
  },
  {
   "cell_type": "markdown",
   "metadata": {},
   "source": [
    "Compute mean of the train dataset in order to zero center the both of train and test dataset"
   ]
  },
  {
   "cell_type": "code",
   "execution_count": 21,
   "metadata": {},
   "outputs": [],
   "source": [
    "data_transforms_1 = {\n",
    "    'train': transforms.Compose([\n",
    "    transforms.Grayscale(1),\n",
    "    transforms.Resize(IMAGE_SIZE),\n",
    "    transforms.ToTensor()])}\n",
    "\n",
    "train_dataset_1 = datasets.ImageFolder(os.path.join(DATA_DIR, 'train'), data_transforms_1['train'])\n",
    "train_images = torch.stack([t for t, c in train_dataset_1])\n",
    "mean_train_images = train_images.mean(0)"
   ]
  },
  {
   "cell_type": "markdown",
   "metadata": {},
   "source": [
    "Load the train and test data, apply random flip for \"jittering\" the train data. "
   ]
  },
  {
   "cell_type": "code",
   "execution_count": 22,
   "metadata": {},
   "outputs": [
    {
     "name": "stdout",
     "output_type": "stream",
     "text": [
      "3200 train samples\n",
      "800 test samples\n",
      "\n"
     ]
    }
   ],
   "source": [
    "data_transforms = {\n",
    "    'train': transforms.Compose([\n",
    "    transforms.Grayscale(1),\n",
    "    transforms.Resize(IMAGE_SIZE),\n",
    "    transforms.RandomHorizontalFlip(),\n",
    "    transforms.ToTensor()]),\n",
    "    'test': transforms.Compose([\n",
    "    transforms.Grayscale(1),\n",
    "    transforms.Resize(IMAGE_SIZE),\n",
    "    transforms.ToTensor()])}\n",
    "    \n",
    "train_dataset = datasets.ImageFolder(os.path.join(DATA_DIR, 'train'), data_transforms['train'])\n",
    "test_dataset = datasets.ImageFolder(os.path.join(DATA_DIR, 'test'), data_transforms['test'])\n",
    "\n",
    "train_loader = DataLoader(dataset=train_dataset, batch_size=BATCH_SIZE,shuffle=True)\n",
    "test_loader = DataLoader(dataset=test_dataset, batch_size=BATCH_SIZE,shuffle=True)\n",
    "\n",
    "print(train_loader.__len__()*train_loader.batch_size, 'train samples')\n",
    "print(test_loader.__len__()*test_loader.batch_size, 'test samples\\n')"
   ]
  },
  {
   "cell_type": "markdown",
   "metadata": {},
   "source": [
    "Define the \"regularized\" network "
   ]
  },
  {
   "cell_type": "code",
   "execution_count": 23,
   "metadata": {},
   "outputs": [],
   "source": [
    "class Net(nn.Module):\n",
    "    def __init__(self):\n",
    "        super(Net, self).__init__()\n",
    "        self.conv1 = nn.Conv2d(3, 15, kernel_size=9, stride=1, padding=0, bias=True)# 1 input and 15 output layers\n",
    "        \n",
    "        self.maxpool1 = nn.MaxPool2d(2, stride=1, padding=0)\n",
    "        \n",
    "        self.dropout = nn.Dropout2d(p=0.5, inplace=False)\n",
    "        \n",
    "        self.conv2 = nn.Conv2d(15, 20, kernel_size=5, stride=1, padding=2, bias=True)\n",
    "        \n",
    "        self.maxpool2 = nn.MaxPool2d(3, stride=2, padding=0)\n",
    "        \n",
    "        self.conv3 = nn.Conv2d(20, 20, kernel_size=5, stride=1, padding=2, bias=True)\n",
    "        \n",
    "        self.maxpool3 = nn.MaxPool2d(3, stride=2, padding=0)\n",
    "        \n",
    "        self.fc1 = nn.Linear(5*5*20, 1)\n",
    "        self.fc0 = nn.Linear(16*16,1)\n",
    "        self.fc01 = nn.Linear(32*32,16*16)\n",
    "\n",
    "    def forward(self, x):\n",
    "        # define the acutal network\n",
    "        in_size = x.size(0) # this is the batch size\n",
    "        x=torch.abs(torch.fft.fft2(x))\n",
    "        x=torch.log(x)\n",
    "        x = x.view(in_size, -1)\n",
    "        x = self.fc01(x)\n",
    "        x = F.relu(x)\n",
    "        x = self.fc0(x)\n",
    "        x = torch.sigmoid(x)\n",
    "        return x#F.softmax(x, dim=0)\n",
    "\n",
    "    def forwardc(self, x):\n",
    "        # define the acutal network\n",
    "        in_size = x.size(0) # this is the batch size\n",
    "        x=torch.abs(torch.fft.fft2(x))\n",
    "        x=torch.log(x+1)\n",
    "        x = self.conv1(x)\n",
    "        #x = self.maxpool1(x)\n",
    "        x = F.relu(x)\n",
    "        x = self.conv2(x)\n",
    "        x = self.maxpool2(x)\n",
    "        x = F.relu(x)\n",
    "        x = self.conv3(x)\n",
    "        x = self.maxpool3(x)\n",
    "        x = F.relu(x)\n",
    "        #x = self.dropout(x)\n",
    "        x = x.view(in_size, -1) #flatten data\n",
    "        x = self.fc1(x)\n",
    "        x = torch.sigmoid(x)\n",
    "        return x#F.softmax(x, dim=0)"
   ]
  },
  {
   "cell_type": "markdown",
   "metadata": {},
   "source": [
    "Initialization of the model and adding the definition of the optimizer. Optimizer is defined based on Stochastic Gradient Descent method with momentum and predefined learning rate for updating the parameters."
   ]
  },
  {
   "cell_type": "code",
   "execution_count": 24,
   "metadata": {},
   "outputs": [],
   "source": [
    "net = Net()\n",
    "#net.cuda()    # this is the only line necessary to make your model run on GPU\n",
    "\n",
    "optimizer = optim.SGD(net.parameters(), lr=LEARNING_RATE, momentum=0.9)"
   ]
  },
  {
   "cell_type": "markdown",
   "metadata": {},
   "source": [
    "Loop over the train data. In each iteration (epoch) the whole train dataset is passed through the network and based on the loss function and optimization algorithm the initialized values for the parameters are updated. \n",
    "\n",
    "Also, in order to zero center the data at each iteration, the computed mean image is subtracted from the train data."
   ]
  },
  {
   "cell_type": "code",
   "execution_count": 25,
   "metadata": {},
   "outputs": [],
   "source": [
    "def train(epoch):\n",
    "\n",
    "    net.train() \n",
    "\n",
    "    for batch_idx, (data, target) in enumerate(train_loader):\n",
    "        \n",
    "        for i in range(0,BATCH_SIZE):\n",
    "            data[i,:,:,:] = data[i,:,:,:] - mean_train_images\n",
    "       \n",
    "        #data, target = Variable(data.cuda()), Variable(target.cuda())  \n",
    "        data, target = Variable(data),Variable(target)\n",
    "        # reduce the learning rate by a factor of 10 in every 50 epochs\n",
    "        lr = LEARNING_RATE * (0.1 ** (epoch // 50))\n",
    "        for param_group in optimizer.param_groups:\n",
    "            param_group['lr'] = lr\n",
    "\n",
    "        optimizer.zero_grad() # necessary for new sum of gradients\n",
    "        output = net(data)  # call the forward() function (forward pass of network)\n",
    "        lossf=nn.BCELoss()\n",
    "        #loss = F.nll_loss(output, target) # use negative log likelihood to determine loss\n",
    "        loss=lossf(torch.squeeze(output.float()),torch.squeeze(target.float()))\n",
    "        loss.backward() # backward pass of network (calculate sum of gradients for graph)\n",
    "        optimizer.step() # perform model parameter update (update weights)\n",
    "        \n",
    "        # for graphing puposes\n",
    "        LOSS_ARRAY.append(loss.item())\n",
    "        \n",
    "        # print the current status of training\n",
    "        print('Train Epoch: {} [{}/{} ({:.0f}%)] Loss: {:.6f}'.format(\n",
    "             epoch, batch_idx * len(data), len(train_loader.dataset),\n",
    "             100. * batch_idx / len(train_loader), loss.item()))"
   ]
  },
  {
   "cell_type": "markdown",
   "metadata": {},
   "source": [
    "Loop over the test data, just to evaluate how our network works for unseen data. In this stage only data goes forward in the network and none of the parameters are updated"
   ]
  },
  {
   "cell_type": "code",
   "execution_count": 26,
   "metadata": {},
   "outputs": [],
   "source": [
    "# the test function\n",
    "def test(epoch):\n",
    "    net.eval()  \n",
    "    test_loss = 0\n",
    "    correct = 0\n",
    "\n",
    "    for data, target in test_loader:\n",
    "        \n",
    "        for i in range(0,data.size(0)):\n",
    "            data[i,:,:,:] = data[i,:,:,:] - mean_train_images\n",
    "       \n",
    "        #data, target = Variable(data.cuda(), volatile=True), Variable(target.cuda()) \n",
    "        data, target = Variable(data, volatile = True), Variable(target)     \n",
    "        output = net(data)\n",
    "        lossf=nn.BCELoss()\n",
    "        test_loss += lossf(torch.squeeze(output.float()),torch.squeeze(target.float())).item()#F.nll_loss(output, target, size_average=False).data[0] \n",
    "        pred = output.data.max(1, keepdim=True)[1]\n",
    "        pred = torch.round(output.data)\n",
    "        correct+= pred.eq(target.data.view_as(pred)).cpu().sum() \n",
    "       \n",
    "    test_dat_len = len(test_loader.dataset)\n",
    "    test_loss /= test_dat_len\n",
    "    \n",
    "    # print the test accuracy\n",
    "    print('\\nTest set: Average loss: {:.4f}, Accuracy: {}/{} ({:.2f}%)\\n'.format(\n",
    "        test_loss, correct, test_dat_len, 100. * correct / test_dat_len))\n",
    "\n",
    "    TEST_ACCURACY.append(correct / test_dat_len)"
   ]
  },
  {
   "cell_type": "markdown",
   "metadata": {},
   "source": [
    "For each epoch, call the train and test functions to update the parameters and evaluate the network"
   ]
  },
  {
   "cell_type": "code",
   "execution_count": 27,
   "metadata": {},
   "outputs": [
    {
     "ename": "ValueError",
     "evalue": "x and y can be no greater than 2D, but have shapes (50,) and torch.Size([50, 1, 32, 32])",
     "output_type": "error",
     "traceback": [
      "\u001b[0;31m---------------------------------------------------------------------------\u001b[0m",
      "\u001b[0;31mValueError\u001b[0m                                Traceback (most recent call last)",
      "\u001b[1;32m/Users/nayansavaliya/Masters Mechatronics/2022 Summer/RAML - Project/src/RAML.ipynb Cell 23'\u001b[0m in \u001b[0;36m<cell line: 1>\u001b[0;34m()\u001b[0m\n\u001b[1;32m      <a href='vscode-notebook-cell:/Users/nayansavaliya/Masters%20Mechatronics/2022%20Summer/RAML%20-%20Project/src/RAML.ipynb#ch0000022?line=0'>1</a>\u001b[0m \u001b[39mfor\u001b[39;00m epoch \u001b[39min\u001b[39;00m \u001b[39mrange\u001b[39m(\u001b[39m1\u001b[39m,EPOCHS):\n\u001b[1;32m      <a href='vscode-notebook-cell:/Users/nayansavaliya/Masters%20Mechatronics/2022%20Summer/RAML%20-%20Project/src/RAML.ipynb#ch0000022?line=1'>2</a>\u001b[0m         start_time \u001b[39m=\u001b[39m timeit\u001b[39m.\u001b[39mdefault_timer()\n\u001b[0;32m----> <a href='vscode-notebook-cell:/Users/nayansavaliya/Masters%20Mechatronics/2022%20Summer/RAML%20-%20Project/src/RAML.ipynb#ch0000022?line=3'>4</a>\u001b[0m         train(epoch)\n\u001b[1;32m      <a href='vscode-notebook-cell:/Users/nayansavaliya/Masters%20Mechatronics/2022%20Summer/RAML%20-%20Project/src/RAML.ipynb#ch0000022?line=5'>6</a>\u001b[0m         test(epoch)\n\u001b[1;32m      <a href='vscode-notebook-cell:/Users/nayansavaliya/Masters%20Mechatronics/2022%20Summer/RAML%20-%20Project/src/RAML.ipynb#ch0000022?line=7'>8</a>\u001b[0m         elapsed \u001b[39m=\u001b[39m timeit\u001b[39m.\u001b[39mdefault_timer() \u001b[39m-\u001b[39m start_time\n",
      "\u001b[1;32m/Users/nayansavaliya/Masters Mechatronics/2022 Summer/RAML - Project/src/RAML.ipynb Cell 19'\u001b[0m in \u001b[0;36mtrain\u001b[0;34m(epoch)\u001b[0m\n\u001b[1;32m     <a href='vscode-notebook-cell:/Users/nayansavaliya/Masters%20Mechatronics/2022%20Summer/RAML%20-%20Project/src/RAML.ipynb#ch0000018?line=14'>15</a>\u001b[0m     param_group[\u001b[39m'\u001b[39m\u001b[39mlr\u001b[39m\u001b[39m'\u001b[39m] \u001b[39m=\u001b[39m lr\n\u001b[1;32m     <a href='vscode-notebook-cell:/Users/nayansavaliya/Masters%20Mechatronics/2022%20Summer/RAML%20-%20Project/src/RAML.ipynb#ch0000018?line=16'>17</a>\u001b[0m optimizer\u001b[39m.\u001b[39mzero_grad() \u001b[39m# necessary for new sum of gradients\u001b[39;00m\n\u001b[0;32m---> <a href='vscode-notebook-cell:/Users/nayansavaliya/Masters%20Mechatronics/2022%20Summer/RAML%20-%20Project/src/RAML.ipynb#ch0000018?line=17'>18</a>\u001b[0m output \u001b[39m=\u001b[39m net(data)  \u001b[39m# call the forward() function (forward pass of network)\u001b[39;00m\n\u001b[1;32m     <a href='vscode-notebook-cell:/Users/nayansavaliya/Masters%20Mechatronics/2022%20Summer/RAML%20-%20Project/src/RAML.ipynb#ch0000018?line=18'>19</a>\u001b[0m lossf\u001b[39m=\u001b[39mnn\u001b[39m.\u001b[39mBCELoss()\n\u001b[1;32m     <a href='vscode-notebook-cell:/Users/nayansavaliya/Masters%20Mechatronics/2022%20Summer/RAML%20-%20Project/src/RAML.ipynb#ch0000018?line=19'>20</a>\u001b[0m \u001b[39m#loss = F.nll_loss(output, target) # use negative log likelihood to determine loss\u001b[39;00m\n",
      "File \u001b[0;32m~/Masters Mechatronics/2022 Summer/RAML - Project/venv/lib/python3.9/site-packages/torch/nn/modules/module.py:1110\u001b[0m, in \u001b[0;36mModule._call_impl\u001b[0;34m(self, *input, **kwargs)\u001b[0m\n\u001b[1;32m   <a href='file:///Users/nayansavaliya/Masters%20Mechatronics/2022%20Summer/RAML%20-%20Project/venv/lib/python3.9/site-packages/torch/nn/modules/module.py?line=1105'>1106</a>\u001b[0m \u001b[39m# If we don't have any hooks, we want to skip the rest of the logic in\u001b[39;00m\n\u001b[1;32m   <a href='file:///Users/nayansavaliya/Masters%20Mechatronics/2022%20Summer/RAML%20-%20Project/venv/lib/python3.9/site-packages/torch/nn/modules/module.py?line=1106'>1107</a>\u001b[0m \u001b[39m# this function, and just call forward.\u001b[39;00m\n\u001b[1;32m   <a href='file:///Users/nayansavaliya/Masters%20Mechatronics/2022%20Summer/RAML%20-%20Project/venv/lib/python3.9/site-packages/torch/nn/modules/module.py?line=1107'>1108</a>\u001b[0m \u001b[39mif\u001b[39;00m \u001b[39mnot\u001b[39;00m (\u001b[39mself\u001b[39m\u001b[39m.\u001b[39m_backward_hooks \u001b[39mor\u001b[39;00m \u001b[39mself\u001b[39m\u001b[39m.\u001b[39m_forward_hooks \u001b[39mor\u001b[39;00m \u001b[39mself\u001b[39m\u001b[39m.\u001b[39m_forward_pre_hooks \u001b[39mor\u001b[39;00m _global_backward_hooks\n\u001b[1;32m   <a href='file:///Users/nayansavaliya/Masters%20Mechatronics/2022%20Summer/RAML%20-%20Project/venv/lib/python3.9/site-packages/torch/nn/modules/module.py?line=1108'>1109</a>\u001b[0m         \u001b[39mor\u001b[39;00m _global_forward_hooks \u001b[39mor\u001b[39;00m _global_forward_pre_hooks):\n\u001b[0;32m-> <a href='file:///Users/nayansavaliya/Masters%20Mechatronics/2022%20Summer/RAML%20-%20Project/venv/lib/python3.9/site-packages/torch/nn/modules/module.py?line=1109'>1110</a>\u001b[0m     \u001b[39mreturn\u001b[39;00m forward_call(\u001b[39m*\u001b[39;49m\u001b[39minput\u001b[39;49m, \u001b[39m*\u001b[39;49m\u001b[39m*\u001b[39;49mkwargs)\n\u001b[1;32m   <a href='file:///Users/nayansavaliya/Masters%20Mechatronics/2022%20Summer/RAML%20-%20Project/venv/lib/python3.9/site-packages/torch/nn/modules/module.py?line=1110'>1111</a>\u001b[0m \u001b[39m# Do not call functions when jit is used\u001b[39;00m\n\u001b[1;32m   <a href='file:///Users/nayansavaliya/Masters%20Mechatronics/2022%20Summer/RAML%20-%20Project/venv/lib/python3.9/site-packages/torch/nn/modules/module.py?line=1111'>1112</a>\u001b[0m full_backward_hooks, non_full_backward_hooks \u001b[39m=\u001b[39m [], []\n",
      "\u001b[1;32m/Users/nayansavaliya/Masters Mechatronics/2022 Summer/RAML - Project/src/RAML.ipynb Cell 15'\u001b[0m in \u001b[0;36mNet.forward\u001b[0;34m(self, x)\u001b[0m\n\u001b[1;32m     <a href='vscode-notebook-cell:/Users/nayansavaliya/Masters%20Mechatronics/2022%20Summer/RAML%20-%20Project/src/RAML.ipynb#ch0000014?line=23'>24</a>\u001b[0m in_size \u001b[39m=\u001b[39m x\u001b[39m.\u001b[39msize(\u001b[39m0\u001b[39m) \u001b[39m# this is the batch size\u001b[39;00m\n\u001b[1;32m     <a href='vscode-notebook-cell:/Users/nayansavaliya/Masters%20Mechatronics/2022%20Summer/RAML%20-%20Project/src/RAML.ipynb#ch0000014?line=24'>25</a>\u001b[0m x\u001b[39m=\u001b[39mtorch\u001b[39m.\u001b[39mabs(torch\u001b[39m.\u001b[39mfft\u001b[39m.\u001b[39mfft2(x))\n\u001b[0;32m---> <a href='vscode-notebook-cell:/Users/nayansavaliya/Masters%20Mechatronics/2022%20Summer/RAML%20-%20Project/src/RAML.ipynb#ch0000014?line=25'>26</a>\u001b[0m plt\u001b[39m.\u001b[39;49mplot(x,cmap\u001b[39m=\u001b[39;49m\u001b[39m'\u001b[39;49m\u001b[39mgray\u001b[39;49m\u001b[39m'\u001b[39;49m)\n\u001b[1;32m     <a href='vscode-notebook-cell:/Users/nayansavaliya/Masters%20Mechatronics/2022%20Summer/RAML%20-%20Project/src/RAML.ipynb#ch0000014?line=26'>27</a>\u001b[0m x\u001b[39m=\u001b[39mtorch\u001b[39m.\u001b[39mlog(x)\n\u001b[1;32m     <a href='vscode-notebook-cell:/Users/nayansavaliya/Masters%20Mechatronics/2022%20Summer/RAML%20-%20Project/src/RAML.ipynb#ch0000014?line=27'>28</a>\u001b[0m x \u001b[39m=\u001b[39m x\u001b[39m.\u001b[39mview(in_size, \u001b[39m-\u001b[39m\u001b[39m1\u001b[39m)\n",
      "File \u001b[0;32m~/Masters Mechatronics/2022 Summer/RAML - Project/venv/lib/python3.9/site-packages/matplotlib/pyplot.py:2769\u001b[0m, in \u001b[0;36mplot\u001b[0;34m(scalex, scaley, data, *args, **kwargs)\u001b[0m\n\u001b[1;32m   <a href='file:///Users/nayansavaliya/Masters%20Mechatronics/2022%20Summer/RAML%20-%20Project/venv/lib/python3.9/site-packages/matplotlib/pyplot.py?line=2766'>2767</a>\u001b[0m \u001b[39m@_copy_docstring_and_deprecators\u001b[39m(Axes\u001b[39m.\u001b[39mplot)\n\u001b[1;32m   <a href='file:///Users/nayansavaliya/Masters%20Mechatronics/2022%20Summer/RAML%20-%20Project/venv/lib/python3.9/site-packages/matplotlib/pyplot.py?line=2767'>2768</a>\u001b[0m \u001b[39mdef\u001b[39;00m \u001b[39mplot\u001b[39m(\u001b[39m*\u001b[39margs, scalex\u001b[39m=\u001b[39m\u001b[39mTrue\u001b[39;00m, scaley\u001b[39m=\u001b[39m\u001b[39mTrue\u001b[39;00m, data\u001b[39m=\u001b[39m\u001b[39mNone\u001b[39;00m, \u001b[39m*\u001b[39m\u001b[39m*\u001b[39mkwargs):\n\u001b[0;32m-> <a href='file:///Users/nayansavaliya/Masters%20Mechatronics/2022%20Summer/RAML%20-%20Project/venv/lib/python3.9/site-packages/matplotlib/pyplot.py?line=2768'>2769</a>\u001b[0m     \u001b[39mreturn\u001b[39;00m gca()\u001b[39m.\u001b[39;49mplot(\n\u001b[1;32m   <a href='file:///Users/nayansavaliya/Masters%20Mechatronics/2022%20Summer/RAML%20-%20Project/venv/lib/python3.9/site-packages/matplotlib/pyplot.py?line=2769'>2770</a>\u001b[0m         \u001b[39m*\u001b[39;49margs, scalex\u001b[39m=\u001b[39;49mscalex, scaley\u001b[39m=\u001b[39;49mscaley,\n\u001b[1;32m   <a href='file:///Users/nayansavaliya/Masters%20Mechatronics/2022%20Summer/RAML%20-%20Project/venv/lib/python3.9/site-packages/matplotlib/pyplot.py?line=2770'>2771</a>\u001b[0m         \u001b[39m*\u001b[39;49m\u001b[39m*\u001b[39;49m({\u001b[39m\"\u001b[39;49m\u001b[39mdata\u001b[39;49m\u001b[39m\"\u001b[39;49m: data} \u001b[39mif\u001b[39;49;00m data \u001b[39mis\u001b[39;49;00m \u001b[39mnot\u001b[39;49;00m \u001b[39mNone\u001b[39;49;00m \u001b[39melse\u001b[39;49;00m {}), \u001b[39m*\u001b[39;49m\u001b[39m*\u001b[39;49mkwargs)\n",
      "File \u001b[0;32m~/Masters Mechatronics/2022 Summer/RAML - Project/venv/lib/python3.9/site-packages/matplotlib/axes/_axes.py:1632\u001b[0m, in \u001b[0;36mAxes.plot\u001b[0;34m(self, scalex, scaley, data, *args, **kwargs)\u001b[0m\n\u001b[1;32m   <a href='file:///Users/nayansavaliya/Masters%20Mechatronics/2022%20Summer/RAML%20-%20Project/venv/lib/python3.9/site-packages/matplotlib/axes/_axes.py?line=1389'>1390</a>\u001b[0m \u001b[39m\"\"\"\u001b[39;00m\n\u001b[1;32m   <a href='file:///Users/nayansavaliya/Masters%20Mechatronics/2022%20Summer/RAML%20-%20Project/venv/lib/python3.9/site-packages/matplotlib/axes/_axes.py?line=1390'>1391</a>\u001b[0m \u001b[39mPlot y versus x as lines and/or markers.\u001b[39;00m\n\u001b[1;32m   <a href='file:///Users/nayansavaliya/Masters%20Mechatronics/2022%20Summer/RAML%20-%20Project/venv/lib/python3.9/site-packages/matplotlib/axes/_axes.py?line=1391'>1392</a>\u001b[0m \n\u001b[0;32m   (...)\u001b[0m\n\u001b[1;32m   <a href='file:///Users/nayansavaliya/Masters%20Mechatronics/2022%20Summer/RAML%20-%20Project/venv/lib/python3.9/site-packages/matplotlib/axes/_axes.py?line=1628'>1629</a>\u001b[0m \u001b[39m(``'green'``) or hex strings (``'#008000'``).\u001b[39;00m\n\u001b[1;32m   <a href='file:///Users/nayansavaliya/Masters%20Mechatronics/2022%20Summer/RAML%20-%20Project/venv/lib/python3.9/site-packages/matplotlib/axes/_axes.py?line=1629'>1630</a>\u001b[0m \u001b[39m\"\"\"\u001b[39;00m\n\u001b[1;32m   <a href='file:///Users/nayansavaliya/Masters%20Mechatronics/2022%20Summer/RAML%20-%20Project/venv/lib/python3.9/site-packages/matplotlib/axes/_axes.py?line=1630'>1631</a>\u001b[0m kwargs \u001b[39m=\u001b[39m cbook\u001b[39m.\u001b[39mnormalize_kwargs(kwargs, mlines\u001b[39m.\u001b[39mLine2D)\n\u001b[0;32m-> <a href='file:///Users/nayansavaliya/Masters%20Mechatronics/2022%20Summer/RAML%20-%20Project/venv/lib/python3.9/site-packages/matplotlib/axes/_axes.py?line=1631'>1632</a>\u001b[0m lines \u001b[39m=\u001b[39m [\u001b[39m*\u001b[39m\u001b[39mself\u001b[39m\u001b[39m.\u001b[39m_get_lines(\u001b[39m*\u001b[39margs, data\u001b[39m=\u001b[39mdata, \u001b[39m*\u001b[39m\u001b[39m*\u001b[39mkwargs)]\n\u001b[1;32m   <a href='file:///Users/nayansavaliya/Masters%20Mechatronics/2022%20Summer/RAML%20-%20Project/venv/lib/python3.9/site-packages/matplotlib/axes/_axes.py?line=1632'>1633</a>\u001b[0m \u001b[39mfor\u001b[39;00m line \u001b[39min\u001b[39;00m lines:\n\u001b[1;32m   <a href='file:///Users/nayansavaliya/Masters%20Mechatronics/2022%20Summer/RAML%20-%20Project/venv/lib/python3.9/site-packages/matplotlib/axes/_axes.py?line=1633'>1634</a>\u001b[0m     \u001b[39mself\u001b[39m\u001b[39m.\u001b[39madd_line(line)\n",
      "File \u001b[0;32m~/Masters Mechatronics/2022 Summer/RAML - Project/venv/lib/python3.9/site-packages/matplotlib/axes/_base.py:312\u001b[0m, in \u001b[0;36m_process_plot_var_args.__call__\u001b[0;34m(self, data, *args, **kwargs)\u001b[0m\n\u001b[1;32m    <a href='file:///Users/nayansavaliya/Masters%20Mechatronics/2022%20Summer/RAML%20-%20Project/venv/lib/python3.9/site-packages/matplotlib/axes/_base.py?line=309'>310</a>\u001b[0m     this \u001b[39m+\u001b[39m\u001b[39m=\u001b[39m args[\u001b[39m0\u001b[39m],\n\u001b[1;32m    <a href='file:///Users/nayansavaliya/Masters%20Mechatronics/2022%20Summer/RAML%20-%20Project/venv/lib/python3.9/site-packages/matplotlib/axes/_base.py?line=310'>311</a>\u001b[0m     args \u001b[39m=\u001b[39m args[\u001b[39m1\u001b[39m:]\n\u001b[0;32m--> <a href='file:///Users/nayansavaliya/Masters%20Mechatronics/2022%20Summer/RAML%20-%20Project/venv/lib/python3.9/site-packages/matplotlib/axes/_base.py?line=311'>312</a>\u001b[0m \u001b[39myield from\u001b[39;00m \u001b[39mself\u001b[39;49m\u001b[39m.\u001b[39;49m_plot_args(this, kwargs)\n",
      "File \u001b[0;32m~/Masters Mechatronics/2022 Summer/RAML - Project/venv/lib/python3.9/site-packages/matplotlib/axes/_base.py:501\u001b[0m, in \u001b[0;36m_process_plot_var_args._plot_args\u001b[0;34m(self, tup, kwargs, return_kwargs)\u001b[0m\n\u001b[1;32m    <a href='file:///Users/nayansavaliya/Masters%20Mechatronics/2022%20Summer/RAML%20-%20Project/venv/lib/python3.9/site-packages/matplotlib/axes/_base.py?line=497'>498</a>\u001b[0m     \u001b[39mraise\u001b[39;00m \u001b[39mValueError\u001b[39;00m(\u001b[39mf\u001b[39m\u001b[39m\"\u001b[39m\u001b[39mx and y must have same first dimension, but \u001b[39m\u001b[39m\"\u001b[39m\n\u001b[1;32m    <a href='file:///Users/nayansavaliya/Masters%20Mechatronics/2022%20Summer/RAML%20-%20Project/venv/lib/python3.9/site-packages/matplotlib/axes/_base.py?line=498'>499</a>\u001b[0m                      \u001b[39mf\u001b[39m\u001b[39m\"\u001b[39m\u001b[39mhave shapes \u001b[39m\u001b[39m{\u001b[39;00mx\u001b[39m.\u001b[39mshape\u001b[39m}\u001b[39;00m\u001b[39m and \u001b[39m\u001b[39m{\u001b[39;00my\u001b[39m.\u001b[39mshape\u001b[39m}\u001b[39;00m\u001b[39m\"\u001b[39m)\n\u001b[1;32m    <a href='file:///Users/nayansavaliya/Masters%20Mechatronics/2022%20Summer/RAML%20-%20Project/venv/lib/python3.9/site-packages/matplotlib/axes/_base.py?line=499'>500</a>\u001b[0m \u001b[39mif\u001b[39;00m x\u001b[39m.\u001b[39mndim \u001b[39m>\u001b[39m \u001b[39m2\u001b[39m \u001b[39mor\u001b[39;00m y\u001b[39m.\u001b[39mndim \u001b[39m>\u001b[39m \u001b[39m2\u001b[39m:\n\u001b[0;32m--> <a href='file:///Users/nayansavaliya/Masters%20Mechatronics/2022%20Summer/RAML%20-%20Project/venv/lib/python3.9/site-packages/matplotlib/axes/_base.py?line=500'>501</a>\u001b[0m     \u001b[39mraise\u001b[39;00m \u001b[39mValueError\u001b[39;00m(\u001b[39mf\u001b[39m\u001b[39m\"\u001b[39m\u001b[39mx and y can be no greater than 2D, but have \u001b[39m\u001b[39m\"\u001b[39m\n\u001b[1;32m    <a href='file:///Users/nayansavaliya/Masters%20Mechatronics/2022%20Summer/RAML%20-%20Project/venv/lib/python3.9/site-packages/matplotlib/axes/_base.py?line=501'>502</a>\u001b[0m                      \u001b[39mf\u001b[39m\u001b[39m\"\u001b[39m\u001b[39mshapes \u001b[39m\u001b[39m{\u001b[39;00mx\u001b[39m.\u001b[39mshape\u001b[39m}\u001b[39;00m\u001b[39m and \u001b[39m\u001b[39m{\u001b[39;00my\u001b[39m.\u001b[39mshape\u001b[39m}\u001b[39;00m\u001b[39m\"\u001b[39m)\n\u001b[1;32m    <a href='file:///Users/nayansavaliya/Masters%20Mechatronics/2022%20Summer/RAML%20-%20Project/venv/lib/python3.9/site-packages/matplotlib/axes/_base.py?line=502'>503</a>\u001b[0m \u001b[39mif\u001b[39;00m x\u001b[39m.\u001b[39mndim \u001b[39m==\u001b[39m \u001b[39m1\u001b[39m:\n\u001b[1;32m    <a href='file:///Users/nayansavaliya/Masters%20Mechatronics/2022%20Summer/RAML%20-%20Project/venv/lib/python3.9/site-packages/matplotlib/axes/_base.py?line=503'>504</a>\u001b[0m     x \u001b[39m=\u001b[39m x[:, np\u001b[39m.\u001b[39mnewaxis]\n",
      "\u001b[0;31mValueError\u001b[0m: x and y can be no greater than 2D, but have shapes (50,) and torch.Size([50, 1, 32, 32])"
     ]
    },
    {
     "data": {
      "image/png": "[encoded data removed]",
      "text/plain": [
       "<Figure size 432x288 with 1 Axes>"
      ]
     },
     "metadata": {
      "needs_background": "light"
     },
     "output_type": "display_data"
    }
   ],
   "source": [
    "for epoch in range(1,EPOCHS):\n",
    "        start_time = timeit.default_timer()\n",
    "   \n",
    "        train(epoch)\n",
    "    \n",
    "        test(epoch)\n",
    "    \n",
    "        elapsed = timeit.default_timer() - start_time\n",
    "        \n",
    "        print(\"Epoch time is\", elapsed, \"s\\n\")"
   ]
  },
  {
   "cell_type": "code",
   "execution_count": null,
   "metadata": {},
   "outputs": [],
   "source": [
    "\n"
   ]
  },
  {
   "cell_type": "code",
   "execution_count": null,
   "metadata": {},
   "outputs": [
    {
     "data": {
      "image/png": "[encoded data removed]",
      "text/plain": [
       "<Figure size 432x288 with 1 Axes>"
      ]
     },
     "metadata": {
      "needs_background": "light"
     },
     "output_type": "display_data"
    }
   ],
   "source": [
    "#plot loss\n",
    "plt.plot(LOSS_ARRAY)\n",
    "plt.title('best test accuracy: {:.2f}%'.format(100*max(TEST_ACCURACY)))\n",
    "plt.ylabel('loss')\n",
    "plt.xlabel('iterations')\n",
    "plt.show()"
   ]
  },
  {
   "cell_type": "markdown",
   "metadata": {},
   "source": [
    "Reference:\n",
    "https://codetolight.wordpress.com/2017/11/29/getting-started-with-pytorch-for-deep-learning-part-3-neural-network-basics/"
   ]
  },
  {
   "cell_type": "code",
   "execution_count": null,
   "metadata": {},
   "outputs": [],
   "source": []
  }
 ],
 "metadata": {
  "interpreter": {
   "hash": "d6559be91acbc93f4d619e1b72121704cbae2e517629d34a1f89aedc7528f034"
  },
  "kernelspec": {
   "display_name": "Python 3.9.12 ('venv': venv)",
   "language": "python",
   "name": "python3"
  },
  "language_info": {
   "codemirror_mode": {
    "name": "ipython",
    "version": 3
   },
   "file_extension": ".py",
   "mimetype": "text/x-python",
   "name": "python",
   "nbconvert_exporter": "python",
   "pygments_lexer": "ipython3",
   "version": "3.9.12"
  }
 },
 "nbformat": 4,
 "nbformat_minor": 2
}
