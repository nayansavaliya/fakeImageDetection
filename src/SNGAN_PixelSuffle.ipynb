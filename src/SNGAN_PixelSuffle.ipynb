{
 "cells": [
  {
   "cell_type": "markdown",
   "metadata": {},
   "source": [
    "Imports"
   ]
  },
  {
   "cell_type": "code",
   "execution_count": 1,
   "metadata": {},
   "outputs": [],
   "source": [
    "import tensorflow as tf\n",
    "import numpy as np\n",
    "from tensorflow import keras\n",
    "from keras.preprocessing.image import ImageDataGenerator\n",
    "from keras.preprocessing import image\n",
    "import matplotlib.pyplot as plt\n",
    "from keras.callbacks import EarlyStopping\n",
    "\n",
    "\n",
    "# from IPython.core.interactiveshell import InteractiveShell\n",
    "# InteractiveShell.ast_node_interactivity = \"all\"\n",
    "\n"
   ]
  },
  {
   "cell_type": "markdown",
   "metadata": {},
   "source": [
    "Prepare DATASET"
   ]
  },
  {
   "cell_type": "code",
   "execution_count": 2,
   "metadata": {},
   "outputs": [
    {
     "name": "stdout",
     "output_type": "stream",
     "text": [
      "Found 400 images belonging to 2 classes.\n",
      "Found 400 images belonging to 2 classes.\n",
      "Found 1600 images belonging to 2 classes.\n"
     ]
    },
    {
     "data": {
      "text/plain": [
       "{'SNGAN_pixelshuffle': 0, 'imagewoof': 1}"
      ]
     },
     "execution_count": 2,
     "metadata": {},
     "output_type": "execute_result"
    }
   ],
   "source": [
    "\n",
    "train = ImageDataGenerator(rescale=1/255,validation_split=0.2)\n",
    "test = ImageDataGenerator(rescale=1/255)\n",
    "\n",
    "train_dataset = train.flow_from_directory(\"/Users/nayansavaliya/Masters Mechatronics/2022 Summer/RAML - Project/data/pixelsuffle/test\",\n",
    "                                          target_size=(32,32),\n",
    "                                          batch_size = 1,\n",
    "                                          class_mode = 'binary')\n",
    "\n",
    "validation_dataset = train.flow_from_directory(\"/Users/nayansavaliya/Masters Mechatronics/2022 Summer/RAML - Project/data/pixelsuffle/test\",\n",
    "                                          target_size=(32,32),\n",
    "                                          batch_size = 1,\n",
    "                                          class_mode = 'binary')                                    \n",
    "test_dataset = test.flow_from_directory(\"/Users/nayansavaliya/Masters Mechatronics/2022 Summer/RAML - Project/data/pixelsuffle/train\",\n",
    "                                          target_size=(32,32),\n",
    "                                          batch_size =1,\n",
    "                                          class_mode = 'binary')\n",
    "\n",
    "test_dataset.class_indices"
   ]
  },
  {
   "cell_type": "markdown",
   "metadata": {},
   "source": [
    "Design Model"
   ]
  },
  {
   "cell_type": "code",
   "execution_count": 3,
   "metadata": {},
   "outputs": [
    {
     "name": "stdout",
     "output_type": "stream",
     "text": [
      "Metal device set to: Apple M1\n",
      "\n",
      "systemMemory: 16.00 GB\n",
      "maxCacheSize: 5.33 GB\n",
      "\n"
     ]
    },
    {
     "name": "stderr",
     "output_type": "stream",
     "text": [
      "2022-05-13 20:53:31.402406: I tensorflow/core/common_runtime/pluggable_device/pluggable_device_factory.cc:305] Could not identify NUMA node of platform GPU ID 0, defaulting to 0. Your kernel may not have been built with NUMA support.\n",
      "2022-05-13 20:53:31.402527: I tensorflow/core/common_runtime/pluggable_device/pluggable_device_factory.cc:271] Created TensorFlow device (/job:localhost/replica:0/task:0/device:GPU:0 with 0 MB memory) -> physical PluggableDevice (device: 0, name: METAL, pci bus id: <undefined>)\n"
     ]
    }
   ],
   "source": [
    "model = keras.Sequential()\n",
    "\n",
    "# Convolutional layer and maxpool layer 1\n",
    "model.add(keras.layers.Conv2D(32,(3,3),activation='relu',input_shape=(32,32,3)))\n",
    "model.add(keras.layers.Dropout(0.3))\n",
    "model.add(keras.layers.MaxPool2D(2,2))\n",
    "\n",
    "# Convolutional layer and maxpool layer 2\n",
    "model.add(keras.layers.Conv2D(64,(3,3),activation='relu'))\n",
    "model.add(keras.layers.Dropout(0.3))\n",
    "model.add(keras.layers.MaxPool2D(2,2))\n",
    "\n",
    "# Convolutional layer and maxpool layer 3\n",
    "model.add(keras.layers.Conv2D(64,(3,3),activation='relu'))\n",
    "model.add(keras.layers.Dropout(0.3))\n",
    "model.add(keras.layers.MaxPool2D(2,2))\n",
    "\n",
    "# This layer flattens the resulting image array to 1D array\n",
    "model.add(keras.layers.Flatten())\n",
    "\n",
    "# Hidden layer with 512 neurons and Rectified Linear Unit activation function \n",
    "model.add(keras.layers.Dense(512,activation='relu'))\n",
    "\n",
    "# Output layer with single neuron which gives 0 for fake or 1 for real \n",
    "#Here we use sigmoid activation function which makes our model output to lie between 0 and 1\n",
    "model.add(keras.layers.Dense(1,activation='sigmoid'))\n",
    "\n",
    "\n",
    "model.compile(optimizer='adam',loss='binary_crossentropy',metrics=['accuracy'])"
   ]
  },
  {
   "cell_type": "markdown",
   "metadata": {},
   "source": [
    "Training\n",
    "\n",
    "Usually with every epoch increasing, loss goes lower and accuracy goes higher. But with val_loss and val_acc, many cases can be possible:\n",
    "\n",
    "val_loss starts increasing, val_acc starts decreasing(means model is cramming values not learning)\n",
    "\n",
    "val_loss starts increasing, val_acc also increases.(could be case of overfitting or diverse probability values in cases softmax is used in output layer)\n",
    "\n",
    "val_loss starts decreasing, val_acc starts increasing(Correct, means model build is learning and working fine)"
   ]
  },
  {
   "cell_type": "code",
   "execution_count": 4,
   "metadata": {},
   "outputs": [
    {
     "name": "stdout",
     "output_type": "stream",
     "text": [
      "Epoch 1/150\n"
     ]
    },
    {
     "name": "stderr",
     "output_type": "stream",
     "text": [
      "2022-05-13 20:53:31.539410: W tensorflow/core/platform/profile_utils/cpu_utils.cc:128] Failed to get CPU frequency: 0 Hz\n",
      "2022-05-13 20:53:31.865773: I tensorflow/core/grappler/optimizers/custom_graph_optimizer_registry.cc:113] Plugin optimizer for device_type GPU is enabled.\n"
     ]
    },
    {
     "name": "stdout",
     "output_type": "stream",
     "text": [
      "80/80 [==============================] - ETA: 0s - loss: 0.7183 - accuracy: 0.5125"
     ]
    },
    {
     "name": "stderr",
     "output_type": "stream",
     "text": [
      "2022-05-13 20:53:32.896282: I tensorflow/core/grappler/optimizers/custom_graph_optimizer_registry.cc:113] Plugin optimizer for device_type GPU is enabled.\n"
     ]
    },
    {
     "name": "stdout",
     "output_type": "stream",
     "text": [
      "80/80 [==============================] - 3s 23ms/step - loss: 0.7183 - accuracy: 0.5125 - val_loss: 0.6910 - val_accuracy: 0.5000\n",
      "Epoch 2/150\n",
      "80/80 [==============================] - 2s 22ms/step - loss: 0.6815 - accuracy: 0.5500 - val_loss: 0.6954 - val_accuracy: 0.5000\n",
      "Epoch 3/150\n",
      "80/80 [==============================] - 2s 23ms/step - loss: 0.6967 - accuracy: 0.4500 - val_loss: 0.6617 - val_accuracy: 0.5175\n",
      "Epoch 4/150\n",
      "80/80 [==============================] - 2s 22ms/step - loss: 0.6143 - accuracy: 0.6000 - val_loss: 0.6460 - val_accuracy: 0.7300\n",
      "Epoch 5/150\n",
      "80/80 [==============================] - 2s 23ms/step - loss: 0.5824 - accuracy: 0.7500 - val_loss: 0.6146 - val_accuracy: 0.7100\n",
      "Epoch 6/150\n",
      "80/80 [==============================] - 2s 23ms/step - loss: 0.6629 - accuracy: 0.6500 - val_loss: 0.6411 - val_accuracy: 0.6875\n",
      "Epoch 7/150\n",
      "80/80 [==============================] - 2s 22ms/step - loss: 0.6965 - accuracy: 0.5750 - val_loss: 0.6923 - val_accuracy: 0.5150\n",
      "Epoch 8/150\n",
      "80/80 [==============================] - 2s 22ms/step - loss: 0.6941 - accuracy: 0.5500 - val_loss: 0.6745 - val_accuracy: 0.5225\n",
      "Epoch 9/150\n",
      "80/80 [==============================] - 2s 23ms/step - loss: 0.6435 - accuracy: 0.6500 - val_loss: 0.6075 - val_accuracy: 0.7575\n",
      "Epoch 10/150\n",
      "80/80 [==============================] - 2s 21ms/step - loss: 0.6393 - accuracy: 0.7125 - val_loss: 0.5826 - val_accuracy: 0.7425\n",
      "Epoch 11/150\n",
      "80/80 [==============================] - 2s 24ms/step - loss: 0.5190 - accuracy: 0.7250 - val_loss: 0.5810 - val_accuracy: 0.6900\n",
      "Epoch 12/150\n",
      "80/80 [==============================] - 2s 22ms/step - loss: 0.5875 - accuracy: 0.7125 - val_loss: 0.5203 - val_accuracy: 0.7900\n",
      "Epoch 13/150\n",
      "80/80 [==============================] - 2s 22ms/step - loss: 0.5263 - accuracy: 0.7000 - val_loss: 0.5955 - val_accuracy: 0.6875\n",
      "Epoch 14/150\n",
      "80/80 [==============================] - 2s 24ms/step - loss: 0.4354 - accuracy: 0.8375 - val_loss: 0.6214 - val_accuracy: 0.6850\n",
      "Epoch 15/150\n",
      "80/80 [==============================] - 2s 22ms/step - loss: 0.5937 - accuracy: 0.7250 - val_loss: 0.5701 - val_accuracy: 0.7075\n",
      "Epoch 16/150\n",
      "80/80 [==============================] - 2s 23ms/step - loss: 0.5265 - accuracy: 0.7625 - val_loss: 0.5910 - val_accuracy: 0.6950\n",
      "Epoch 17/150\n",
      "80/80 [==============================] - 2s 23ms/step - loss: 0.5281 - accuracy: 0.7500 - val_loss: 0.6373 - val_accuracy: 0.6600\n",
      "Epoch 18/150\n",
      "80/80 [==============================] - 2s 21ms/step - loss: 0.4541 - accuracy: 0.8250 - val_loss: 0.4628 - val_accuracy: 0.8075\n",
      "Epoch 19/150\n",
      "80/80 [==============================] - 2s 22ms/step - loss: 0.4490 - accuracy: 0.7875 - val_loss: 0.4787 - val_accuracy: 0.7750\n",
      "Epoch 20/150\n",
      "80/80 [==============================] - 2s 22ms/step - loss: 0.4701 - accuracy: 0.7625 - val_loss: 0.7216 - val_accuracy: 0.6400\n",
      "Epoch 21/150\n",
      "80/80 [==============================] - 2s 21ms/step - loss: 0.3850 - accuracy: 0.8500 - val_loss: 0.5086 - val_accuracy: 0.7500\n",
      "Epoch 22/150\n",
      "80/80 [==============================] - 2s 22ms/step - loss: 0.3918 - accuracy: 0.8375 - val_loss: 0.4490 - val_accuracy: 0.7725\n",
      "Epoch 23/150\n",
      "80/80 [==============================] - 2s 23ms/step - loss: 0.4594 - accuracy: 0.8000 - val_loss: 0.6578 - val_accuracy: 0.6675\n",
      "Epoch 24/150\n",
      "80/80 [==============================] - 2s 22ms/step - loss: 0.4155 - accuracy: 0.7750 - val_loss: 0.6079 - val_accuracy: 0.7050\n",
      "Epoch 25/150\n",
      "80/80 [==============================] - 2s 24ms/step - loss: 0.3404 - accuracy: 0.8750 - val_loss: 0.5836 - val_accuracy: 0.7150\n",
      "Epoch 26/150\n",
      "80/80 [==============================] - 2s 23ms/step - loss: 0.4145 - accuracy: 0.8250 - val_loss: 0.4331 - val_accuracy: 0.7975\n",
      "Epoch 27/150\n",
      "80/80 [==============================] - 2s 22ms/step - loss: 0.4573 - accuracy: 0.7500 - val_loss: 0.4678 - val_accuracy: 0.8075\n",
      "Epoch 28/150\n",
      "80/80 [==============================] - 2s 24ms/step - loss: 0.4270 - accuracy: 0.8250 - val_loss: 0.4743 - val_accuracy: 0.7800\n",
      "Epoch 29/150\n",
      "80/80 [==============================] - 2s 21ms/step - loss: 0.3176 - accuracy: 0.8625 - val_loss: 0.3830 - val_accuracy: 0.8050\n",
      "Epoch 30/150\n",
      "80/80 [==============================] - 2s 21ms/step - loss: 0.3847 - accuracy: 0.8625 - val_loss: 0.4793 - val_accuracy: 0.7600\n",
      "Epoch 31/150\n",
      "80/80 [==============================] - 2s 23ms/step - loss: 0.2418 - accuracy: 0.9125 - val_loss: 0.5757 - val_accuracy: 0.7175\n",
      "Epoch 32/150\n",
      "80/80 [==============================] - 2s 21ms/step - loss: 0.3054 - accuracy: 0.9000 - val_loss: 0.5151 - val_accuracy: 0.7325\n",
      "Epoch 33/150\n",
      "80/80 [==============================] - 2s 22ms/step - loss: 0.2282 - accuracy: 0.9500 - val_loss: 0.5234 - val_accuracy: 0.7525\n",
      "Epoch 34/150\n",
      "80/80 [==============================] - 2s 23ms/step - loss: 0.1854 - accuracy: 0.9125 - val_loss: 0.3184 - val_accuracy: 0.8650\n",
      "Epoch 35/150\n",
      "80/80 [==============================] - 2s 21ms/step - loss: 0.2405 - accuracy: 0.9125 - val_loss: 0.4820 - val_accuracy: 0.7775\n",
      "Epoch 36/150\n",
      "80/80 [==============================] - 2s 22ms/step - loss: 0.1365 - accuracy: 0.9750 - val_loss: 0.3146 - val_accuracy: 0.8475\n",
      "Epoch 37/150\n",
      "80/80 [==============================] - 2s 23ms/step - loss: 0.1911 - accuracy: 0.9375 - val_loss: 0.3247 - val_accuracy: 0.8600\n",
      "Epoch 38/150\n",
      "80/80 [==============================] - 2s 21ms/step - loss: 0.2077 - accuracy: 0.9125 - val_loss: 0.3326 - val_accuracy: 0.8500\n",
      "Epoch 39/150\n",
      "80/80 [==============================] - 2s 21ms/step - loss: 0.1266 - accuracy: 0.9375 - val_loss: 0.8684 - val_accuracy: 0.6300\n",
      "Epoch 40/150\n",
      "80/80 [==============================] - 2s 23ms/step - loss: 0.0643 - accuracy: 0.9875 - val_loss: 0.5893 - val_accuracy: 0.7525\n",
      "Epoch 41/150\n",
      "80/80 [==============================] - 2s 21ms/step - loss: 0.2997 - accuracy: 0.8750 - val_loss: 0.4673 - val_accuracy: 0.7975\n",
      "Epoch 42/150\n",
      "80/80 [==============================] - 2s 22ms/step - loss: 0.1209 - accuracy: 0.9625 - val_loss: 0.3479 - val_accuracy: 0.8375\n",
      "Epoch 43/150\n",
      "80/80 [==============================] - 2s 22ms/step - loss: 0.1728 - accuracy: 0.9250 - val_loss: 0.3747 - val_accuracy: 0.8225\n",
      "Epoch 44/150\n",
      "80/80 [==============================] - 2s 21ms/step - loss: 0.1172 - accuracy: 0.9750 - val_loss: 0.3922 - val_accuracy: 0.8025\n",
      "Epoch 45/150\n",
      "80/80 [==============================] - 2s 22ms/step - loss: 0.1043 - accuracy: 0.9875 - val_loss: 0.4704 - val_accuracy: 0.8025\n",
      "Epoch 46/150\n",
      "80/80 [==============================] - 2s 22ms/step - loss: 0.1015 - accuracy: 0.9750 - val_loss: 0.4298 - val_accuracy: 0.8250\n",
      "Epoch 47/150\n",
      "80/80 [==============================] - 2s 21ms/step - loss: 0.1341 - accuracy: 0.9750 - val_loss: 0.4777 - val_accuracy: 0.7950\n",
      "Epoch 48/150\n",
      "80/80 [==============================] - 2s 22ms/step - loss: 0.1342 - accuracy: 0.9500 - val_loss: 0.2467 - val_accuracy: 0.8850\n",
      "Epoch 49/150\n",
      "80/80 [==============================] - 2s 22ms/step - loss: 0.2117 - accuracy: 0.9125 - val_loss: 0.6403 - val_accuracy: 0.7500\n",
      "Epoch 50/150\n",
      "80/80 [==============================] - 2s 21ms/step - loss: 0.1746 - accuracy: 0.9625 - val_loss: 0.3201 - val_accuracy: 0.8575\n",
      "Epoch 51/150\n",
      "80/80 [==============================] - 2s 22ms/step - loss: 0.1186 - accuracy: 0.9625 - val_loss: 0.6252 - val_accuracy: 0.7375\n",
      "Epoch 52/150\n",
      "80/80 [==============================] - 2s 22ms/step - loss: 0.1984 - accuracy: 0.9250 - val_loss: 0.6882 - val_accuracy: 0.7000\n",
      "Epoch 53/150\n",
      "80/80 [==============================] - 2s 21ms/step - loss: 0.1373 - accuracy: 0.9625 - val_loss: 0.5041 - val_accuracy: 0.7625\n",
      "Epoch 54/150\n",
      "80/80 [==============================] - 2s 22ms/step - loss: 0.1514 - accuracy: 0.9625 - val_loss: 0.5330 - val_accuracy: 0.7275\n",
      "Epoch 55/150\n",
      "80/80 [==============================] - 2s 22ms/step - loss: 0.1190 - accuracy: 0.9375 - val_loss: 0.9294 - val_accuracy: 0.6350\n",
      "Epoch 56/150\n",
      "80/80 [==============================] - 2s 21ms/step - loss: 0.1293 - accuracy: 0.9625 - val_loss: 0.6669 - val_accuracy: 0.7125\n",
      "Epoch 57/150\n",
      "80/80 [==============================] - 2s 22ms/step - loss: 0.1237 - accuracy: 0.9375 - val_loss: 0.3103 - val_accuracy: 0.8550\n",
      "Epoch 58/150\n",
      "80/80 [==============================] - 2s 22ms/step - loss: 0.0454 - accuracy: 0.9875 - val_loss: 0.4061 - val_accuracy: 0.8225\n",
      "Epoch 59/150\n",
      "80/80 [==============================] - 2s 21ms/step - loss: 0.0681 - accuracy: 0.9875 - val_loss: 0.4674 - val_accuracy: 0.7750\n",
      "Epoch 60/150\n",
      "80/80 [==============================] - 2s 22ms/step - loss: 0.0393 - accuracy: 0.9750 - val_loss: 0.2629 - val_accuracy: 0.8750\n",
      "Epoch 61/150\n",
      "80/80 [==============================] - 2s 22ms/step - loss: 0.0153 - accuracy: 1.0000 - val_loss: 0.2902 - val_accuracy: 0.8775\n",
      "Epoch 62/150\n",
      "80/80 [==============================] - 2s 21ms/step - loss: 0.0482 - accuracy: 0.9875 - val_loss: 0.3098 - val_accuracy: 0.8575\n",
      "Epoch 63/150\n",
      "80/80 [==============================] - 2s 22ms/step - loss: 0.0064 - accuracy: 1.0000 - val_loss: 0.6353 - val_accuracy: 0.7600\n",
      "Epoch 64/150\n",
      "80/80 [==============================] - 2s 22ms/step - loss: 0.0574 - accuracy: 0.9875 - val_loss: 0.3428 - val_accuracy: 0.8350\n",
      "Epoch 65/150\n",
      "80/80 [==============================] - 2s 22ms/step - loss: 0.0071 - accuracy: 1.0000 - val_loss: 0.2691 - val_accuracy: 0.8675\n",
      "Epoch 66/150\n",
      "80/80 [==============================] - 2s 22ms/step - loss: 0.0133 - accuracy: 1.0000 - val_loss: 0.2664 - val_accuracy: 0.8600\n",
      "Epoch 67/150\n",
      "80/80 [==============================] - 2s 22ms/step - loss: 0.0908 - accuracy: 0.9750 - val_loss: 0.5519 - val_accuracy: 0.8150\n",
      "Epoch 68/150\n",
      "80/80 [==============================] - 2s 21ms/step - loss: 0.5610 - accuracy: 0.8750 - val_loss: 0.6418 - val_accuracy: 0.6875\n"
     ]
    }
   ],
   "source": [
    "early_stopping = EarlyStopping(\n",
    "    min_delta=0.001, # minimium amount of change to count as an improvement\n",
    "    patience=20, # how many epochs to wait before stopping\n",
    "    restore_best_weights=True,\n",
    ")\n",
    "\n",
    "history = model.fit(train_dataset,\n",
    "         steps_per_epoch = 80,\n",
    "         epochs = 150,\n",
    "         callbacks=[early_stopping],\n",
    "         validation_data = validation_dataset\n",
    "         )"
   ]
  },
  {
   "cell_type": "code",
   "execution_count": 6,
   "metadata": {},
   "outputs": [
    {
     "data": {
      "text/plain": [
       "[<matplotlib.lines.Line2D at 0x13720a940>]"
      ]
     },
     "execution_count": 6,
     "metadata": {},
     "output_type": "execute_result"
    },
    {
     "data": {
      "image/png": "[encoded data removed]",
      "text/plain": [
       "<Figure size 432x288 with 1 Axes>"
      ]
     },
     "metadata": {
      "needs_background": "light"
     },
     "output_type": "display_data"
    }
   ],
   "source": [
    "# visualizing losses and accuracy\n",
    "# print(history.history)\n",
    "train_loss = history.history['loss']\n",
    "val_loss   = history.history['val_loss']\n",
    "train_acc  = history.history['accuracy']\n",
    "val_acc    = history.history['val_accuracy']\n",
    "xc         = range(68)\n",
    "\n",
    "plt.figure()\n",
    "plt.plot(xc, train_loss)\n",
    "plt.plot(xc, val_loss)"
   ]
  },
  {
   "cell_type": "code",
   "execution_count": 7,
   "metadata": {},
   "outputs": [
    {
     "name": "stdout",
     "output_type": "stream",
     "text": [
      "1600/1600 [==============================] - 6s 4ms/step - loss: 0.6310 - accuracy: 0.7575\n",
      "75.74999928474426\n"
     ]
    }
   ],
   "source": [
    "_, acc = model.evaluate(test_dataset)\n",
    "print(acc *100)"
   ]
  },
  {
   "cell_type": "markdown",
   "metadata": {},
   "source": [
    "Prediction"
   ]
  },
  {
   "cell_type": "code",
   "execution_count": null,
   "metadata": {},
   "outputs": [
    {
     "name": "stdout",
     "output_type": "stream",
     "text": [
      "[[1.]]\n"
     ]
    },
    {
     "name": "stderr",
     "output_type": "stream",
     "text": [
      "2022-05-13 20:38:47.965762: I tensorflow/core/grappler/optimizers/custom_graph_optimizer_registry.cc:113] Plugin optimizer for device_type GPU is enabled.\n"
     ]
    },
    {
     "data": {
      "image/png": "[encoded data removed]",
      "text/plain": [
       "<Figure size 432x288 with 1 Axes>"
      ]
     },
     "metadata": {
      "needs_background": "light"
     },
     "output_type": "display_data"
    }
   ],
   "source": [
    "def predictImage(filename):\n",
    "    img1 = image.load_img(filename,target_size=(32,32))\n",
    "    \n",
    "    plt.imshow(img1)\n",
    " \n",
    "    Y = image.img_to_array(img1)\n",
    "    \n",
    "    X = np.expand_dims(Y,axis=0)\n",
    "    val = model.predict(X)\n",
    "    print(val)\n",
    "    if val == 1:\n",
    "        \n",
    "        plt.xlabel(\"Real\",fontsize=30)\n",
    "        \n",
    "    \n",
    "    elif val == 0:\n",
    "        \n",
    "        plt.xlabel(\"Fake\",fontsize=30)\n",
    "\n",
    "predictImage(r\"/Users/nayansavaliya/Masters Mechatronics/2022 Summer/RAML - Project/data/pixelsuffle/test/imagewoof_test/985.jpg\")\n"
   ]
  },
  {
   "cell_type": "code",
   "execution_count": null,
   "metadata": {},
   "outputs": [
    {
     "name": "stdout",
     "output_type": "stream",
     "text": [
      "[[1.]]\n"
     ]
    },
    {
     "data": {
      "image/png": "[encoded data removed]",
      "text/plain": [
       "<Figure size 432x288 with 1 Axes>"
      ]
     },
     "metadata": {
      "needs_background": "light"
     },
     "output_type": "display_data"
    }
   ],
   "source": [
    "\n",
    "predictImage(r\"/Users/nayansavaliya/Masters Mechatronics/2022 Summer/RAML - Project/data/pixelsuffle/test/SNGAN_pixelshuffle_test/954.jpg\")"
   ]
  }
 ],
 "metadata": {
  "interpreter": {
   "hash": "d6559be91acbc93f4d619e1b72121704cbae2e517629d34a1f89aedc7528f034"
  },
  "kernelspec": {
   "display_name": "Python 3.9.12 ('venv': venv)",
   "language": "python",
   "name": "python3"
  },
  "language_info": {
   "codemirror_mode": {
    "name": "ipython",
    "version": 3
   },
   "file_extension": ".py",
   "mimetype": "text/x-python",
   "name": "python",
   "nbconvert_exporter": "python",
   "pygments_lexer": "ipython3",
   "version": "3.9.12"
  },
  "orig_nbformat": 4
 },
 "nbformat": 4,
 "nbformat_minor": 2
}
