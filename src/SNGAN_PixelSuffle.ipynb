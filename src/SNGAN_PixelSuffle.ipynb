{
 "cells": [
  {
   "cell_type": "markdown",
   "metadata": {},
   "source": [
    "Imports"
   ]
  },
  {
   "cell_type": "code",
   "execution_count": 6,
   "metadata": {},
   "outputs": [],
   "source": [
    "import tensorflow as tf\n",
    "import numpy as np\n",
    "from tensorflow import keras\n",
    "from keras.preprocessing.image import ImageDataGenerator\n",
    "from keras.preprocessing import image\n",
    "import matplotlib.pyplot as plt\n",
    "from keras.callbacks import EarlyStopping\n",
    "\n",
    "\n",
    "# from IPython.core.interactiveshell import InteractiveShell\n",
    "# InteractiveShell.ast_node_interactivity = \"all\"\n",
    "\n"
   ]
  },
  {
   "cell_type": "markdown",
   "metadata": {},
   "source": [
    "Prepare DATASET"
   ]
  },
  {
   "cell_type": "code",
   "execution_count": 7,
   "metadata": {},
   "outputs": [
    {
     "name": "stdout",
     "output_type": "stream",
     "text": [
      "Found 1280 images belonging to 2 classes.\n",
      "Found 320 images belonging to 2 classes.\n",
      "Found 400 images belonging to 2 classes.\n"
     ]
    },
    {
     "data": {
      "text/plain": [
       "{'SNGAN_pixelshuffle_test': 0, 'imagewoof_test': 1}"
      ]
     },
     "execution_count": 7,
     "metadata": {},
     "output_type": "execute_result"
    }
   ],
   "source": [
    "\n",
    "train = ImageDataGenerator(rescale=1/255,validation_split=0.2)\n",
    "test = ImageDataGenerator(rescale=1/255)\n",
    "\n",
    "train_dataset = train.flow_from_directory(\"/Users/nayansavaliya/Masters Mechatronics/2022 Summer/RAML - Project/data/pixelsuffle/train\",\n",
    "                                          target_size=(32,32),\n",
    "                                          batch_size = 30,\n",
    "                                          class_mode = 'binary',subset='training')\n",
    "\n",
    "validation_dataset = train.flow_from_directory(\"/Users/nayansavaliya/Masters Mechatronics/2022 Summer/RAML - Project/data/pixelsuffle/train\",\n",
    "                                          target_size=(32,32),\n",
    "                                          batch_size = 30,\n",
    "                                          class_mode = 'binary',subset='validation')                                    \n",
    "test_dataset = test.flow_from_directory(\"/Users/nayansavaliya/Masters Mechatronics/2022 Summer/RAML - Project/data/pixelsuffle/test\",\n",
    "                                          target_size=(32,32),\n",
    "                                          batch_size =30,\n",
    "                                          class_mode = 'binary')\n",
    "\n",
    "test_dataset.class_indices"
   ]
  },
  {
   "cell_type": "markdown",
   "metadata": {},
   "source": [
    "Design Model"
   ]
  },
  {
   "cell_type": "code",
   "execution_count": 8,
   "metadata": {},
   "outputs": [],
   "source": [
    "model = keras.Sequential()\n",
    "\n",
    "# Convolutional layer and maxpool layer 1\n",
    "model.add(keras.layers.Conv2D(32,(3,3),activation='relu',input_shape=(32,32,3)))\n",
    "model.add(keras.layers.MaxPool2D(2,2))\n",
    "\n",
    "# # Convolutional layer and maxpool layer 2\n",
    "# model.add(keras.layers.Conv2D(64,(3,3),activation='relu'))\n",
    "# model.add(keras.layers.Dropout(0.3))\n",
    "# model.add(keras.layers.MaxPool2D(2,2))\n",
    "\n",
    "# # Convolutional layer and maxpool layer 3\n",
    "# model.add(keras.layers.Conv2D(64,(3,3),activation='relu'))\n",
    "# model.add(keras.layers.Dropout(0.3))\n",
    "# model.add(keras.layers.MaxPool2D(2,2))\n",
    "\n",
    "# This layer flattens the resulting image array to 1D array\n",
    "model.add(keras.layers.Flatten())\n",
    "\n",
    "# Hidden layer with 512 neurons and Rectified Linear Unit activation function \n",
    "model.add(keras.layers.Dense(32,activation='relu'))\n",
    "\n",
    "# Output layer with single neuron which gives 0 for fake or 1 for real \n",
    "#Here we use sigmoid activation function which makes our model output to lie between 0 and 1\n",
    "model.add(keras.layers.Dense(1,activation='sigmoid'))\n",
    "\n",
    "\n",
    "model.compile(optimizer='adam',loss='binary_crossentropy',metrics=['accuracy'])"
   ]
  },
  {
   "cell_type": "markdown",
   "metadata": {},
   "source": [
    "Training\n",
    "\n",
    "Usually with every epoch increasing, loss goes lower and accuracy goes higher. But with val_loss and val_acc, many cases can be possible:\n",
    "\n",
    "val_loss starts increasing, val_acc starts decreasing(means model is cramming values not learning)\n",
    "\n",
    "val_loss starts increasing, val_acc also increases.(could be case of overfitting or diverse probability values in cases softmax is used in output layer)\n",
    "\n",
    "val_loss starts decreasing, val_acc starts increasing(Correct, means model build is learning and working fine)"
   ]
  },
  {
   "cell_type": "code",
   "execution_count": 9,
   "metadata": {},
   "outputs": [
    {
     "name": "stdout",
     "output_type": "stream",
     "text": [
      "Epoch 1/150\n",
      " 7/43 [===>..........................] - ETA: 0s - loss: 0.7220 - accuracy: 0.5238 "
     ]
    },
    {
     "name": "stderr",
     "output_type": "stream",
     "text": [
      "2022-06-01 12:35:09.685387: I tensorflow/core/grappler/optimizers/custom_graph_optimizer_registry.cc:113] Plugin optimizer for device_type GPU is enabled.\n"
     ]
    },
    {
     "name": "stdout",
     "output_type": "stream",
     "text": [
      "43/43 [==============================] - 1s 13ms/step - loss: 0.6555 - accuracy: 0.6109 - val_loss: 0.5895 - val_accuracy: 0.7531\n",
      "Epoch 2/150\n",
      " 7/43 [===>..........................] - ETA: 0s - loss: 0.5529 - accuracy: 0.7857"
     ]
    },
    {
     "name": "stderr",
     "output_type": "stream",
     "text": [
      "2022-06-01 12:35:10.233982: I tensorflow/core/grappler/optimizers/custom_graph_optimizer_registry.cc:113] Plugin optimizer for device_type GPU is enabled.\n"
     ]
    },
    {
     "name": "stdout",
     "output_type": "stream",
     "text": [
      "43/43 [==============================] - 0s 11ms/step - loss: 0.5727 - accuracy: 0.7305 - val_loss: 0.5412 - val_accuracy: 0.7219\n",
      "Epoch 3/150\n",
      "43/43 [==============================] - 0s 11ms/step - loss: 0.4890 - accuracy: 0.7750 - val_loss: 0.4925 - val_accuracy: 0.7750\n",
      "Epoch 4/150\n",
      "43/43 [==============================] - 0s 11ms/step - loss: 0.4394 - accuracy: 0.8070 - val_loss: 0.5574 - val_accuracy: 0.7094\n",
      "Epoch 5/150\n",
      "43/43 [==============================] - 0s 10ms/step - loss: 0.4177 - accuracy: 0.8180 - val_loss: 0.4116 - val_accuracy: 0.8250\n",
      "Epoch 6/150\n",
      "43/43 [==============================] - 0s 11ms/step - loss: 0.3561 - accuracy: 0.8547 - val_loss: 0.3738 - val_accuracy: 0.8469\n",
      "Epoch 7/150\n",
      "43/43 [==============================] - 0s 10ms/step - loss: 0.3372 - accuracy: 0.8648 - val_loss: 0.4054 - val_accuracy: 0.8188\n",
      "Epoch 8/150\n",
      "43/43 [==============================] - 0s 10ms/step - loss: 0.3204 - accuracy: 0.8672 - val_loss: 0.3872 - val_accuracy: 0.8531\n",
      "Epoch 9/150\n",
      "43/43 [==============================] - 0s 11ms/step - loss: 0.2788 - accuracy: 0.8953 - val_loss: 0.3684 - val_accuracy: 0.8281\n",
      "Epoch 10/150\n",
      "43/43 [==============================] - 0s 11ms/step - loss: 0.2600 - accuracy: 0.9023 - val_loss: 0.3211 - val_accuracy: 0.8562\n",
      "Epoch 11/150\n",
      "43/43 [==============================] - 0s 10ms/step - loss: 0.2384 - accuracy: 0.9086 - val_loss: 0.3324 - val_accuracy: 0.8469\n",
      "Epoch 12/150\n",
      "43/43 [==============================] - 0s 11ms/step - loss: 0.2363 - accuracy: 0.9109 - val_loss: 0.3778 - val_accuracy: 0.8469\n",
      "Epoch 13/150\n",
      "43/43 [==============================] - 0s 11ms/step - loss: 0.2102 - accuracy: 0.9227 - val_loss: 0.3280 - val_accuracy: 0.8562\n",
      "Epoch 14/150\n",
      "43/43 [==============================] - 0s 11ms/step - loss: 0.2474 - accuracy: 0.9047 - val_loss: 0.3415 - val_accuracy: 0.8500\n",
      "Epoch 15/150\n",
      "43/43 [==============================] - 0s 11ms/step - loss: 0.1826 - accuracy: 0.9484 - val_loss: 0.3179 - val_accuracy: 0.8656\n",
      "Epoch 16/150\n",
      "43/43 [==============================] - 0s 11ms/step - loss: 0.1596 - accuracy: 0.9516 - val_loss: 0.3089 - val_accuracy: 0.8656\n",
      "Epoch 17/150\n",
      "43/43 [==============================] - 0s 11ms/step - loss: 0.1501 - accuracy: 0.9539 - val_loss: 0.3931 - val_accuracy: 0.8188\n",
      "Epoch 18/150\n",
      "43/43 [==============================] - 0s 11ms/step - loss: 0.1483 - accuracy: 0.9508 - val_loss: 0.3310 - val_accuracy: 0.8531\n",
      "Epoch 19/150\n",
      "43/43 [==============================] - 0s 11ms/step - loss: 0.1476 - accuracy: 0.9477 - val_loss: 0.3214 - val_accuracy: 0.8781\n",
      "Epoch 20/150\n",
      "43/43 [==============================] - 0s 11ms/step - loss: 0.1137 - accuracy: 0.9742 - val_loss: 0.3178 - val_accuracy: 0.8750\n",
      "Epoch 21/150\n",
      "43/43 [==============================] - 1s 15ms/step - loss: 0.1083 - accuracy: 0.9711 - val_loss: 0.4286 - val_accuracy: 0.8188\n",
      "Epoch 22/150\n",
      "43/43 [==============================] - 1s 13ms/step - loss: 0.1051 - accuracy: 0.9719 - val_loss: 0.3173 - val_accuracy: 0.8625\n",
      "Epoch 23/150\n",
      "43/43 [==============================] - 0s 11ms/step - loss: 0.1074 - accuracy: 0.9641 - val_loss: 0.3557 - val_accuracy: 0.8531\n",
      "Epoch 24/150\n",
      "43/43 [==============================] - 0s 11ms/step - loss: 0.0982 - accuracy: 0.9703 - val_loss: 0.3431 - val_accuracy: 0.8594\n",
      "Epoch 25/150\n",
      "43/43 [==============================] - 0s 10ms/step - loss: 0.0753 - accuracy: 0.9875 - val_loss: 0.4189 - val_accuracy: 0.8438\n",
      "Epoch 26/150\n",
      "43/43 [==============================] - 0s 11ms/step - loss: 0.0894 - accuracy: 0.9758 - val_loss: 0.3475 - val_accuracy: 0.8562\n",
      "Epoch 27/150\n",
      "43/43 [==============================] - 0s 10ms/step - loss: 0.0692 - accuracy: 0.9852 - val_loss: 0.3862 - val_accuracy: 0.8562\n",
      "Epoch 28/150\n",
      "43/43 [==============================] - 0s 10ms/step - loss: 0.0571 - accuracy: 0.9930 - val_loss: 0.3451 - val_accuracy: 0.8656\n",
      "Epoch 29/150\n",
      "43/43 [==============================] - 0s 11ms/step - loss: 0.0571 - accuracy: 0.9898 - val_loss: 0.3513 - val_accuracy: 0.8688\n",
      "Epoch 30/150\n",
      "43/43 [==============================] - 0s 11ms/step - loss: 0.0567 - accuracy: 0.9906 - val_loss: 0.3497 - val_accuracy: 0.8531\n",
      "Epoch 31/150\n",
      "43/43 [==============================] - 0s 11ms/step - loss: 0.0465 - accuracy: 0.9938 - val_loss: 0.3668 - val_accuracy: 0.8500\n",
      "Epoch 32/150\n",
      "43/43 [==============================] - 0s 11ms/step - loss: 0.0437 - accuracy: 0.9945 - val_loss: 0.3787 - val_accuracy: 0.8656\n",
      "Epoch 33/150\n",
      "43/43 [==============================] - 0s 11ms/step - loss: 0.0435 - accuracy: 0.9938 - val_loss: 0.3881 - val_accuracy: 0.8594\n",
      "Epoch 34/150\n",
      "43/43 [==============================] - 0s 10ms/step - loss: 0.0383 - accuracy: 0.9938 - val_loss: 0.3604 - val_accuracy: 0.8656\n",
      "Epoch 35/150\n",
      "43/43 [==============================] - 0s 10ms/step - loss: 0.0328 - accuracy: 0.9969 - val_loss: 0.3797 - val_accuracy: 0.8531\n",
      "Epoch 36/150\n",
      "43/43 [==============================] - 0s 10ms/step - loss: 0.0273 - accuracy: 0.9992 - val_loss: 0.4294 - val_accuracy: 0.8625\n"
     ]
    }
   ],
   "source": [
    "early_stopping = EarlyStopping(\n",
    "    min_delta=0.001, # minimium amount of change to count as an improvement\n",
    "    patience=20, # how many epochs to wait before stopping\n",
    "    restore_best_weights=True,\n",
    ")\n",
    "\n",
    "history = model.fit(train_dataset,\n",
    "        #  steps_per_epoch = 80,\n",
    "         epochs = 150,\n",
    "         callbacks=[early_stopping],\n",
    "         validation_data = validation_dataset\n",
    "         )"
   ]
  },
  {
   "cell_type": "code",
   "execution_count": 10,
   "metadata": {},
   "outputs": [
    {
     "ename": "ValueError",
     "evalue": "x and y must have same first dimension, but have shapes (38,) and (36,)",
     "output_type": "error",
     "traceback": [
      "\u001b[0;31m---------------------------------------------------------------------------\u001b[0m",
      "\u001b[0;31mValueError\u001b[0m                                Traceback (most recent call last)",
      "\u001b[1;32m/Users/nayansavaliya/Masters Mechatronics/2022 Summer/RAML - Project/src/SNGAN_PixelSuffle.ipynb Cell 9'\u001b[0m in \u001b[0;36m<cell line: 10>\u001b[0;34m()\u001b[0m\n\u001b[1;32m      <a href='vscode-notebook-cell:/Users/nayansavaliya/Masters%20Mechatronics/2022%20Summer/RAML%20-%20Project/src/SNGAN_PixelSuffle.ipynb#ch0000008?line=6'>7</a>\u001b[0m xc         \u001b[39m=\u001b[39m \u001b[39mrange\u001b[39m(\u001b[39m38\u001b[39m)\n\u001b[1;32m      <a href='vscode-notebook-cell:/Users/nayansavaliya/Masters%20Mechatronics/2022%20Summer/RAML%20-%20Project/src/SNGAN_PixelSuffle.ipynb#ch0000008?line=8'>9</a>\u001b[0m plt\u001b[39m.\u001b[39mfigure()\n\u001b[0;32m---> <a href='vscode-notebook-cell:/Users/nayansavaliya/Masters%20Mechatronics/2022%20Summer/RAML%20-%20Project/src/SNGAN_PixelSuffle.ipynb#ch0000008?line=9'>10</a>\u001b[0m plt\u001b[39m.\u001b[39;49mplot(xc, train_loss)\n\u001b[1;32m     <a href='vscode-notebook-cell:/Users/nayansavaliya/Masters%20Mechatronics/2022%20Summer/RAML%20-%20Project/src/SNGAN_PixelSuffle.ipynb#ch0000008?line=10'>11</a>\u001b[0m plt\u001b[39m.\u001b[39mplot(xc, val_loss)\n",
      "File \u001b[0;32m~/Masters Mechatronics/2022 Summer/RAML - Project/venv/lib/python3.9/site-packages/matplotlib/pyplot.py:2769\u001b[0m, in \u001b[0;36mplot\u001b[0;34m(scalex, scaley, data, *args, **kwargs)\u001b[0m\n\u001b[1;32m   <a href='file:///Users/nayansavaliya/Masters%20Mechatronics/2022%20Summer/RAML%20-%20Project/venv/lib/python3.9/site-packages/matplotlib/pyplot.py?line=2766'>2767</a>\u001b[0m \u001b[39m@_copy_docstring_and_deprecators\u001b[39m(Axes\u001b[39m.\u001b[39mplot)\n\u001b[1;32m   <a href='file:///Users/nayansavaliya/Masters%20Mechatronics/2022%20Summer/RAML%20-%20Project/venv/lib/python3.9/site-packages/matplotlib/pyplot.py?line=2767'>2768</a>\u001b[0m \u001b[39mdef\u001b[39;00m \u001b[39mplot\u001b[39m(\u001b[39m*\u001b[39margs, scalex\u001b[39m=\u001b[39m\u001b[39mTrue\u001b[39;00m, scaley\u001b[39m=\u001b[39m\u001b[39mTrue\u001b[39;00m, data\u001b[39m=\u001b[39m\u001b[39mNone\u001b[39;00m, \u001b[39m*\u001b[39m\u001b[39m*\u001b[39mkwargs):\n\u001b[0;32m-> <a href='file:///Users/nayansavaliya/Masters%20Mechatronics/2022%20Summer/RAML%20-%20Project/venv/lib/python3.9/site-packages/matplotlib/pyplot.py?line=2768'>2769</a>\u001b[0m     \u001b[39mreturn\u001b[39;00m gca()\u001b[39m.\u001b[39;49mplot(\n\u001b[1;32m   <a href='file:///Users/nayansavaliya/Masters%20Mechatronics/2022%20Summer/RAML%20-%20Project/venv/lib/python3.9/site-packages/matplotlib/pyplot.py?line=2769'>2770</a>\u001b[0m         \u001b[39m*\u001b[39;49margs, scalex\u001b[39m=\u001b[39;49mscalex, scaley\u001b[39m=\u001b[39;49mscaley,\n\u001b[1;32m   <a href='file:///Users/nayansavaliya/Masters%20Mechatronics/2022%20Summer/RAML%20-%20Project/venv/lib/python3.9/site-packages/matplotlib/pyplot.py?line=2770'>2771</a>\u001b[0m         \u001b[39m*\u001b[39;49m\u001b[39m*\u001b[39;49m({\u001b[39m\"\u001b[39;49m\u001b[39mdata\u001b[39;49m\u001b[39m\"\u001b[39;49m: data} \u001b[39mif\u001b[39;49;00m data \u001b[39mis\u001b[39;49;00m \u001b[39mnot\u001b[39;49;00m \u001b[39mNone\u001b[39;49;00m \u001b[39melse\u001b[39;49;00m {}), \u001b[39m*\u001b[39;49m\u001b[39m*\u001b[39;49mkwargs)\n",
      "File \u001b[0;32m~/Masters Mechatronics/2022 Summer/RAML - Project/venv/lib/python3.9/site-packages/matplotlib/axes/_axes.py:1632\u001b[0m, in \u001b[0;36mAxes.plot\u001b[0;34m(self, scalex, scaley, data, *args, **kwargs)\u001b[0m\n\u001b[1;32m   <a href='file:///Users/nayansavaliya/Masters%20Mechatronics/2022%20Summer/RAML%20-%20Project/venv/lib/python3.9/site-packages/matplotlib/axes/_axes.py?line=1389'>1390</a>\u001b[0m \u001b[39m\"\"\"\u001b[39;00m\n\u001b[1;32m   <a href='file:///Users/nayansavaliya/Masters%20Mechatronics/2022%20Summer/RAML%20-%20Project/venv/lib/python3.9/site-packages/matplotlib/axes/_axes.py?line=1390'>1391</a>\u001b[0m \u001b[39mPlot y versus x as lines and/or markers.\u001b[39;00m\n\u001b[1;32m   <a href='file:///Users/nayansavaliya/Masters%20Mechatronics/2022%20Summer/RAML%20-%20Project/venv/lib/python3.9/site-packages/matplotlib/axes/_axes.py?line=1391'>1392</a>\u001b[0m \n\u001b[0;32m   (...)\u001b[0m\n\u001b[1;32m   <a href='file:///Users/nayansavaliya/Masters%20Mechatronics/2022%20Summer/RAML%20-%20Project/venv/lib/python3.9/site-packages/matplotlib/axes/_axes.py?line=1628'>1629</a>\u001b[0m \u001b[39m(``'green'``) or hex strings (``'#008000'``).\u001b[39;00m\n\u001b[1;32m   <a href='file:///Users/nayansavaliya/Masters%20Mechatronics/2022%20Summer/RAML%20-%20Project/venv/lib/python3.9/site-packages/matplotlib/axes/_axes.py?line=1629'>1630</a>\u001b[0m \u001b[39m\"\"\"\u001b[39;00m\n\u001b[1;32m   <a href='file:///Users/nayansavaliya/Masters%20Mechatronics/2022%20Summer/RAML%20-%20Project/venv/lib/python3.9/site-packages/matplotlib/axes/_axes.py?line=1630'>1631</a>\u001b[0m kwargs \u001b[39m=\u001b[39m cbook\u001b[39m.\u001b[39mnormalize_kwargs(kwargs, mlines\u001b[39m.\u001b[39mLine2D)\n\u001b[0;32m-> <a href='file:///Users/nayansavaliya/Masters%20Mechatronics/2022%20Summer/RAML%20-%20Project/venv/lib/python3.9/site-packages/matplotlib/axes/_axes.py?line=1631'>1632</a>\u001b[0m lines \u001b[39m=\u001b[39m [\u001b[39m*\u001b[39m\u001b[39mself\u001b[39m\u001b[39m.\u001b[39m_get_lines(\u001b[39m*\u001b[39margs, data\u001b[39m=\u001b[39mdata, \u001b[39m*\u001b[39m\u001b[39m*\u001b[39mkwargs)]\n\u001b[1;32m   <a href='file:///Users/nayansavaliya/Masters%20Mechatronics/2022%20Summer/RAML%20-%20Project/venv/lib/python3.9/site-packages/matplotlib/axes/_axes.py?line=1632'>1633</a>\u001b[0m \u001b[39mfor\u001b[39;00m line \u001b[39min\u001b[39;00m lines:\n\u001b[1;32m   <a href='file:///Users/nayansavaliya/Masters%20Mechatronics/2022%20Summer/RAML%20-%20Project/venv/lib/python3.9/site-packages/matplotlib/axes/_axes.py?line=1633'>1634</a>\u001b[0m     \u001b[39mself\u001b[39m\u001b[39m.\u001b[39madd_line(line)\n",
      "File \u001b[0;32m~/Masters Mechatronics/2022 Summer/RAML - Project/venv/lib/python3.9/site-packages/matplotlib/axes/_base.py:312\u001b[0m, in \u001b[0;36m_process_plot_var_args.__call__\u001b[0;34m(self, data, *args, **kwargs)\u001b[0m\n\u001b[1;32m    <a href='file:///Users/nayansavaliya/Masters%20Mechatronics/2022%20Summer/RAML%20-%20Project/venv/lib/python3.9/site-packages/matplotlib/axes/_base.py?line=309'>310</a>\u001b[0m     this \u001b[39m+\u001b[39m\u001b[39m=\u001b[39m args[\u001b[39m0\u001b[39m],\n\u001b[1;32m    <a href='file:///Users/nayansavaliya/Masters%20Mechatronics/2022%20Summer/RAML%20-%20Project/venv/lib/python3.9/site-packages/matplotlib/axes/_base.py?line=310'>311</a>\u001b[0m     args \u001b[39m=\u001b[39m args[\u001b[39m1\u001b[39m:]\n\u001b[0;32m--> <a href='file:///Users/nayansavaliya/Masters%20Mechatronics/2022%20Summer/RAML%20-%20Project/venv/lib/python3.9/site-packages/matplotlib/axes/_base.py?line=311'>312</a>\u001b[0m \u001b[39myield from\u001b[39;00m \u001b[39mself\u001b[39;49m\u001b[39m.\u001b[39;49m_plot_args(this, kwargs)\n",
      "File \u001b[0;32m~/Masters Mechatronics/2022 Summer/RAML - Project/venv/lib/python3.9/site-packages/matplotlib/axes/_base.py:498\u001b[0m, in \u001b[0;36m_process_plot_var_args._plot_args\u001b[0;34m(self, tup, kwargs, return_kwargs)\u001b[0m\n\u001b[1;32m    <a href='file:///Users/nayansavaliya/Masters%20Mechatronics/2022%20Summer/RAML%20-%20Project/venv/lib/python3.9/site-packages/matplotlib/axes/_base.py?line=494'>495</a>\u001b[0m     \u001b[39mself\u001b[39m\u001b[39m.\u001b[39maxes\u001b[39m.\u001b[39myaxis\u001b[39m.\u001b[39mupdate_units(y)\n\u001b[1;32m    <a href='file:///Users/nayansavaliya/Masters%20Mechatronics/2022%20Summer/RAML%20-%20Project/venv/lib/python3.9/site-packages/matplotlib/axes/_base.py?line=496'>497</a>\u001b[0m \u001b[39mif\u001b[39;00m x\u001b[39m.\u001b[39mshape[\u001b[39m0\u001b[39m] \u001b[39m!=\u001b[39m y\u001b[39m.\u001b[39mshape[\u001b[39m0\u001b[39m]:\n\u001b[0;32m--> <a href='file:///Users/nayansavaliya/Masters%20Mechatronics/2022%20Summer/RAML%20-%20Project/venv/lib/python3.9/site-packages/matplotlib/axes/_base.py?line=497'>498</a>\u001b[0m     \u001b[39mraise\u001b[39;00m \u001b[39mValueError\u001b[39;00m(\u001b[39mf\u001b[39m\u001b[39m\"\u001b[39m\u001b[39mx and y must have same first dimension, but \u001b[39m\u001b[39m\"\u001b[39m\n\u001b[1;32m    <a href='file:///Users/nayansavaliya/Masters%20Mechatronics/2022%20Summer/RAML%20-%20Project/venv/lib/python3.9/site-packages/matplotlib/axes/_base.py?line=498'>499</a>\u001b[0m                      \u001b[39mf\u001b[39m\u001b[39m\"\u001b[39m\u001b[39mhave shapes \u001b[39m\u001b[39m{\u001b[39;00mx\u001b[39m.\u001b[39mshape\u001b[39m}\u001b[39;00m\u001b[39m and \u001b[39m\u001b[39m{\u001b[39;00my\u001b[39m.\u001b[39mshape\u001b[39m}\u001b[39;00m\u001b[39m\"\u001b[39m)\n\u001b[1;32m    <a href='file:///Users/nayansavaliya/Masters%20Mechatronics/2022%20Summer/RAML%20-%20Project/venv/lib/python3.9/site-packages/matplotlib/axes/_base.py?line=499'>500</a>\u001b[0m \u001b[39mif\u001b[39;00m x\u001b[39m.\u001b[39mndim \u001b[39m>\u001b[39m \u001b[39m2\u001b[39m \u001b[39mor\u001b[39;00m y\u001b[39m.\u001b[39mndim \u001b[39m>\u001b[39m \u001b[39m2\u001b[39m:\n\u001b[1;32m    <a href='file:///Users/nayansavaliya/Masters%20Mechatronics/2022%20Summer/RAML%20-%20Project/venv/lib/python3.9/site-packages/matplotlib/axes/_base.py?line=500'>501</a>\u001b[0m     \u001b[39mraise\u001b[39;00m \u001b[39mValueError\u001b[39;00m(\u001b[39mf\u001b[39m\u001b[39m\"\u001b[39m\u001b[39mx and y can be no greater than 2D, but have \u001b[39m\u001b[39m\"\u001b[39m\n\u001b[1;32m    <a href='file:///Users/nayansavaliya/Masters%20Mechatronics/2022%20Summer/RAML%20-%20Project/venv/lib/python3.9/site-packages/matplotlib/axes/_base.py?line=501'>502</a>\u001b[0m                      \u001b[39mf\u001b[39m\u001b[39m\"\u001b[39m\u001b[39mshapes \u001b[39m\u001b[39m{\u001b[39;00mx\u001b[39m.\u001b[39mshape\u001b[39m}\u001b[39;00m\u001b[39m and \u001b[39m\u001b[39m{\u001b[39;00my\u001b[39m.\u001b[39mshape\u001b[39m}\u001b[39;00m\u001b[39m\"\u001b[39m)\n",
      "\u001b[0;31mValueError\u001b[0m: x and y must have same first dimension, but have shapes (38,) and (36,)"
     ]
    },
    {
     "data": {
      "image/png": "[encoded data removed]",
      "text/plain": [
       "<Figure size 432x288 with 1 Axes>"
      ]
     },
     "metadata": {
      "needs_background": "light"
     },
     "output_type": "display_data"
    }
   ],
   "source": [
    "# visualizing losses and accuracy\n",
    "# print(history.history)\n",
    "train_loss = history.history['loss']\n",
    "val_loss   = history.history['val_loss']\n",
    "train_acc  = history.history['accuracy']\n",
    "val_acc    = history.history['val_accuracy']\n",
    "xc         = range(38)\n",
    "\n",
    "plt.figure()\n",
    "plt.plot(xc, train_loss)\n",
    "plt.plot(xc, val_loss)"
   ]
  },
  {
   "cell_type": "code",
   "execution_count": null,
   "metadata": {},
   "outputs": [
    {
     "ename": "NameError",
     "evalue": "name 'model' is not defined",
     "output_type": "error",
     "traceback": [
      "\u001b[0;31m---------------------------------------------------------------------------\u001b[0m",
      "\u001b[0;31mNameError\u001b[0m                                 Traceback (most recent call last)",
      "\u001b[1;32m/Users/nayansavaliya/Masters Mechatronics/2022 Summer/RAML - Project/src/SNGAN_PixelSuffle.ipynb Cell 10'\u001b[0m in \u001b[0;36m<cell line: 1>\u001b[0;34m()\u001b[0m\n\u001b[0;32m----> <a href='vscode-notebook-cell:/Users/nayansavaliya/Masters%20Mechatronics/2022%20Summer/RAML%20-%20Project/src/SNGAN_PixelSuffle.ipynb#ch0000009?line=0'>1</a>\u001b[0m _, acc \u001b[39m=\u001b[39m model\u001b[39m.\u001b[39mevaluate(test_dataset)\n\u001b[1;32m      <a href='vscode-notebook-cell:/Users/nayansavaliya/Masters%20Mechatronics/2022%20Summer/RAML%20-%20Project/src/SNGAN_PixelSuffle.ipynb#ch0000009?line=1'>2</a>\u001b[0m \u001b[39mprint\u001b[39m(\u001b[39m'\u001b[39m\u001b[39mTrained with Pixelsuffle\u001b[39m\u001b[39m'\u001b[39m)\n\u001b[1;32m      <a href='vscode-notebook-cell:/Users/nayansavaliya/Masters%20Mechatronics/2022%20Summer/RAML%20-%20Project/src/SNGAN_PixelSuffle.ipynb#ch0000009?line=2'>3</a>\u001b[0m \u001b[39mprint\u001b[39m(\u001b[39m'\u001b[39m\u001b[39mPixelsuffle: \u001b[39m\u001b[39m'\u001b[39m ,acc \u001b[39m*\u001b[39m\u001b[39m100\u001b[39m)\n",
      "\u001b[0;31mNameError\u001b[0m: name 'model' is not defined"
     ]
    }
   ],
   "source": [
    "_, acc = model.evaluate(test_dataset)\n",
    "print('Trained with Pixelsuffle')\n",
    "print('Pixelsuffle: ' ,acc *100)\n",
    "\n",
    "test_dataset2 = test.flow_from_directory(\"/Users/nayansavaliya/Masters Mechatronics/2022 Summer/RAML - Project/data/bilinear/test\",\n",
    "                                          target_size=(32,32),\n",
    "                                          batch_size =30,\n",
    "                                          class_mode = 'binary')\n",
    "print(test_dataset.image_shape())\n",
    "_, acc = model.evaluate(test_dataset2)\n",
    "print('Bilinear: ' ,acc *100)\n",
    "\n",
    "test_dataset3 = test.flow_from_directory(\"/Users/nayansavaliya/Masters Mechatronics/2022 Summer/RAML - Project/data/bicubic/test\",\n",
    "                                          target_size=(32,32),\n",
    "                                          batch_size =30,\n",
    "                                          class_mode = 'binary')\n",
    "\n",
    "_, acc = model.evaluate(test_dataset3)\n",
    "print('Bicubic: ' ,acc *100)"
   ]
  },
  {
   "cell_type": "markdown",
   "metadata": {},
   "source": [
    "Prediction"
   ]
  },
  {
   "cell_type": "code",
   "execution_count": null,
   "metadata": {},
   "outputs": [],
   "source": [
    "def predictImage(filename):\n",
    "    img1 = image.load_img(filename,target_size=(32,32))\n",
    "    \n",
    "    plt.imshow(img1)\n",
    " \n",
    "    Y = image.img_to_array(img1)\n",
    "    \n",
    "    X = np.expand_dims(Y,axis=0)\n",
    "    val = model.predict(X)\n",
    "    print(val)\n",
    "    if val == 1:\n",
    "        \n",
    "        plt.xlabel(\"Real\",fontsize=30)\n",
    "        \n",
    "    \n",
    "    elif val == 0:\n",
    "        \n",
    "        plt.xlabel(\"Fake\",fontsize=30)\n",
    "\n",
    "predictImage(r\"/Users/nayansavaliya/Masters Mechatronics/2022 Summer/RAML - Project/data/pixelsuffle/test/imagewoof_test/985.jpg\")\n"
   ]
  },
  {
   "cell_type": "code",
   "execution_count": null,
   "metadata": {},
   "outputs": [],
   "source": [
    "\n",
    "predictImage(r\"/Users/nayansavaliya/Masters Mechatronics/2022 Summer/RAML - Project/data/pixelsuffle/test/SNGAN_pixelshuffle_test/824.jpg\")"
   ]
  }
 ],
 "metadata": {
  "interpreter": {
   "hash": "d6559be91acbc93f4d619e1b72121704cbae2e517629d34a1f89aedc7528f034"
  },
  "kernelspec": {
   "display_name": "Python 3.9.12 ('venv': venv)",
   "language": "python",
   "name": "python3"
  },
  "language_info": {
   "codemirror_mode": {
    "name": "ipython",
    "version": 3
   },
   "file_extension": ".py",
   "mimetype": "text/x-python",
   "name": "python",
   "nbconvert_exporter": "python",
   "pygments_lexer": "ipython3",
   "version": "3.9.12"
  },
  "orig_nbformat": 4
 },
 "nbformat": 4,
 "nbformat_minor": 2
}
