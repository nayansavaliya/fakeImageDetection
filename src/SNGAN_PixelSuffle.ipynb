{
 "cells": [
  {
   "cell_type": "markdown",
   "metadata": {},
   "source": [
    "Imports"
   ]
  },
  {
   "cell_type": "code",
   "execution_count": 1,
   "metadata": {},
   "outputs": [],
   "source": [
    "import tensorflow as tf\n",
    "import numpy as np\n",
    "from tensorflow import keras\n",
    "from keras.preprocessing.image import ImageDataGenerator\n",
    "from keras.preprocessing import image\n",
    "import matplotlib.pyplot as plt\n",
    "from keras.callbacks import EarlyStopping\n",
    "\n",
    "\n",
    "# from IPython.core.interactiveshell import InteractiveShell\n",
    "# InteractiveShell.ast_node_interactivity = \"all\"\n",
    "\n"
   ]
  },
  {
   "cell_type": "markdown",
   "metadata": {},
   "source": [
    "Prepare DATASET"
   ]
  },
  {
   "cell_type": "code",
   "execution_count": 2,
   "metadata": {},
   "outputs": [
    {
     "name": "stdout",
     "output_type": "stream",
     "text": [
      "Found 1280 images belonging to 2 classes.\n",
      "Found 320 images belonging to 2 classes.\n",
      "Found 400 images belonging to 2 classes.\n"
     ]
    },
    {
     "data": {
      "text/plain": [
       "{'SNGAN_pixelshuffle_test': 0, 'imagewoof_test': 1}"
      ]
     },
     "execution_count": 2,
     "metadata": {},
     "output_type": "execute_result"
    }
   ],
   "source": [
    "\n",
    "train = ImageDataGenerator(rescale=1/255,validation_split=0.2)\n",
    "test = ImageDataGenerator(rescale=1/255)\n",
    "\n",
    "train_dataset = train.flow_from_directory(\"/Users/nayansavaliya/Masters Mechatronics/2022 Summer/RAML - Project/data/pixelsuffle/train\",\n",
    "                                          target_size=(32,32),\n",
    "                                          batch_size = 30,\n",
    "                                          class_mode = 'binary',subset='training')\n",
    "\n",
    "validation_dataset = train.flow_from_directory(\"/Users/nayansavaliya/Masters Mechatronics/2022 Summer/RAML - Project/data/pixelsuffle/train\",\n",
    "                                          target_size=(32,32),\n",
    "                                          batch_size = 30,\n",
    "                                          class_mode = 'binary',subset='validation')                                    \n",
    "test_dataset = test.flow_from_directory(\"/Users/nayansavaliya/Masters Mechatronics/2022 Summer/RAML - Project/data/pixelsuffle/test\",\n",
    "                                          target_size=(32,32),\n",
    "                                          batch_size =30,\n",
    "                                          class_mode = 'binary')\n",
    "\n",
    "test_dataset.class_indices"
   ]
  },
  {
   "cell_type": "markdown",
   "metadata": {},
   "source": [
    "Design Model"
   ]
  },
  {
   "cell_type": "code",
   "execution_count": 3,
   "metadata": {},
   "outputs": [
    {
     "name": "stdout",
     "output_type": "stream",
     "text": [
      "Metal device set to: Apple M1\n",
      "\n",
      "systemMemory: 16.00 GB\n",
      "maxCacheSize: 5.33 GB\n",
      "\n"
     ]
    },
    {
     "name": "stderr",
     "output_type": "stream",
     "text": [
      "2022-05-16 14:14:11.185853: I tensorflow/core/common_runtime/pluggable_device/pluggable_device_factory.cc:305] Could not identify NUMA node of platform GPU ID 0, defaulting to 0. Your kernel may not have been built with NUMA support.\n",
      "2022-05-16 14:14:11.185955: I tensorflow/core/common_runtime/pluggable_device/pluggable_device_factory.cc:271] Created TensorFlow device (/job:localhost/replica:0/task:0/device:GPU:0 with 0 MB memory) -> physical PluggableDevice (device: 0, name: METAL, pci bus id: <undefined>)\n"
     ]
    }
   ],
   "source": [
    "model = keras.Sequential()\n",
    "\n",
    "# Convolutional layer and maxpool layer 1\n",
    "model.add(keras.layers.Conv2D(32,(3,3),activation='relu',input_shape=(32,32,3)))\n",
    "model.add(keras.layers.Dropout(0.3))\n",
    "model.add(keras.layers.MaxPool2D(2,2))\n",
    "\n",
    "# # Convolutional layer and maxpool layer 2\n",
    "# model.add(keras.layers.Conv2D(64,(3,3),activation='relu'))\n",
    "# model.add(keras.layers.Dropout(0.3))\n",
    "# model.add(keras.layers.MaxPool2D(2,2))\n",
    "\n",
    "# # Convolutional layer and maxpool layer 3\n",
    "# model.add(keras.layers.Conv2D(64,(3,3),activation='relu'))\n",
    "# model.add(keras.layers.Dropout(0.3))\n",
    "# model.add(keras.layers.MaxPool2D(2,2))\n",
    "\n",
    "# This layer flattens the resulting image array to 1D array\n",
    "model.add(keras.layers.Flatten())\n",
    "\n",
    "# Hidden layer with 512 neurons and Rectified Linear Unit activation function \n",
    "model.add(keras.layers.Dense(32,activation='relu'))\n",
    "\n",
    "# Output layer with single neuron which gives 0 for fake or 1 for real \n",
    "#Here we use sigmoid activation function which makes our model output to lie between 0 and 1\n",
    "model.add(keras.layers.Dense(1,activation='sigmoid'))\n",
    "\n",
    "\n",
    "model.compile(optimizer='adam',loss='binary_crossentropy',metrics=['accuracy'])"
   ]
  },
  {
   "cell_type": "markdown",
   "metadata": {},
   "source": [
    "Training\n",
    "\n",
    "Usually with every epoch increasing, loss goes lower and accuracy goes higher. But with val_loss and val_acc, many cases can be possible:\n",
    "\n",
    "val_loss starts increasing, val_acc starts decreasing(means model is cramming values not learning)\n",
    "\n",
    "val_loss starts increasing, val_acc also increases.(could be case of overfitting or diverse probability values in cases softmax is used in output layer)\n",
    "\n",
    "val_loss starts decreasing, val_acc starts increasing(Correct, means model build is learning and working fine)"
   ]
  },
  {
   "cell_type": "code",
   "execution_count": 4,
   "metadata": {},
   "outputs": [
    {
     "name": "stdout",
     "output_type": "stream",
     "text": [
      "Epoch 1/150\n"
     ]
    },
    {
     "name": "stderr",
     "output_type": "stream",
     "text": [
      "2022-05-16 14:14:11.296232: W tensorflow/core/platform/profile_utils/cpu_utils.cc:128] Failed to get CPU frequency: 0 Hz\n",
      "2022-05-16 14:14:11.583720: I tensorflow/core/grappler/optimizers/custom_graph_optimizer_registry.cc:113] Plugin optimizer for device_type GPU is enabled.\n"
     ]
    },
    {
     "name": "stdout",
     "output_type": "stream",
     "text": [
      "43/43 [==============================] - 1s 15ms/step - loss: 0.6765 - accuracy: 0.5844 - val_loss: 0.6293 - val_accuracy: 0.6344\n",
      "Epoch 2/150\n",
      " 6/43 [===>..........................] - ETA: 0s - loss: 0.6076 - accuracy: 0.7000"
     ]
    },
    {
     "name": "stderr",
     "output_type": "stream",
     "text": [
      "2022-05-16 14:14:12.419082: I tensorflow/core/grappler/optimizers/custom_graph_optimizer_registry.cc:113] Plugin optimizer for device_type GPU is enabled.\n"
     ]
    },
    {
     "name": "stdout",
     "output_type": "stream",
     "text": [
      "43/43 [==============================] - 1s 13ms/step - loss: 0.5751 - accuracy: 0.7156 - val_loss: 0.5890 - val_accuracy: 0.6438\n",
      "Epoch 3/150\n",
      "43/43 [==============================] - 1s 13ms/step - loss: 0.5297 - accuracy: 0.7289 - val_loss: 0.5486 - val_accuracy: 0.7031\n",
      "Epoch 4/150\n",
      "43/43 [==============================] - 1s 13ms/step - loss: 0.5045 - accuracy: 0.7617 - val_loss: 0.5095 - val_accuracy: 0.7563\n",
      "Epoch 5/150\n",
      "43/43 [==============================] - 1s 13ms/step - loss: 0.4266 - accuracy: 0.8258 - val_loss: 0.4715 - val_accuracy: 0.8063\n",
      "Epoch 6/150\n",
      "43/43 [==============================] - 1s 13ms/step - loss: 0.4069 - accuracy: 0.8273 - val_loss: 0.4354 - val_accuracy: 0.8406\n",
      "Epoch 7/150\n",
      "43/43 [==============================] - 1s 13ms/step - loss: 0.3913 - accuracy: 0.8375 - val_loss: 0.4178 - val_accuracy: 0.8406\n",
      "Epoch 8/150\n",
      "43/43 [==============================] - 1s 13ms/step - loss: 0.3494 - accuracy: 0.8539 - val_loss: 0.3969 - val_accuracy: 0.8500\n",
      "Epoch 9/150\n",
      "43/43 [==============================] - 1s 12ms/step - loss: 0.3039 - accuracy: 0.8820 - val_loss: 0.4373 - val_accuracy: 0.7937\n",
      "Epoch 10/150\n",
      "43/43 [==============================] - 1s 12ms/step - loss: 0.2889 - accuracy: 0.8891 - val_loss: 0.3676 - val_accuracy: 0.8688\n",
      "Epoch 11/150\n",
      "43/43 [==============================] - 1s 13ms/step - loss: 0.2899 - accuracy: 0.8813 - val_loss: 0.3920 - val_accuracy: 0.8500\n",
      "Epoch 12/150\n",
      "43/43 [==============================] - 1s 13ms/step - loss: 0.2386 - accuracy: 0.9187 - val_loss: 0.3473 - val_accuracy: 0.8594\n",
      "Epoch 13/150\n",
      "43/43 [==============================] - 1s 13ms/step - loss: 0.2447 - accuracy: 0.9094 - val_loss: 0.3311 - val_accuracy: 0.8656\n",
      "Epoch 14/150\n",
      "43/43 [==============================] - 1s 13ms/step - loss: 0.2159 - accuracy: 0.9187 - val_loss: 0.3706 - val_accuracy: 0.8406\n",
      "Epoch 15/150\n",
      "43/43 [==============================] - 1s 13ms/step - loss: 0.2126 - accuracy: 0.9203 - val_loss: 0.3380 - val_accuracy: 0.8625\n",
      "Epoch 16/150\n",
      "43/43 [==============================] - 1s 13ms/step - loss: 0.2065 - accuracy: 0.9117 - val_loss: 0.3523 - val_accuracy: 0.8500\n",
      "Epoch 17/150\n",
      "43/43 [==============================] - 1s 13ms/step - loss: 0.1721 - accuracy: 0.9477 - val_loss: 0.3090 - val_accuracy: 0.8938\n",
      "Epoch 18/150\n",
      "43/43 [==============================] - 1s 13ms/step - loss: 0.1850 - accuracy: 0.9336 - val_loss: 0.4185 - val_accuracy: 0.8188\n",
      "Epoch 19/150\n",
      "43/43 [==============================] - 1s 13ms/step - loss: 0.1726 - accuracy: 0.9398 - val_loss: 0.3114 - val_accuracy: 0.8688\n",
      "Epoch 20/150\n",
      "43/43 [==============================] - 1s 13ms/step - loss: 0.1551 - accuracy: 0.9453 - val_loss: 0.3473 - val_accuracy: 0.8531\n",
      "Epoch 21/150\n",
      "43/43 [==============================] - 1s 13ms/step - loss: 0.1530 - accuracy: 0.9453 - val_loss: 0.3288 - val_accuracy: 0.8750\n",
      "Epoch 22/150\n",
      "43/43 [==============================] - 1s 13ms/step - loss: 0.1315 - accuracy: 0.9555 - val_loss: 0.3799 - val_accuracy: 0.8375\n",
      "Epoch 23/150\n",
      "43/43 [==============================] - 1s 13ms/step - loss: 0.1369 - accuracy: 0.9508 - val_loss: 0.4178 - val_accuracy: 0.8313\n",
      "Epoch 24/150\n",
      "43/43 [==============================] - 1s 12ms/step - loss: 0.1452 - accuracy: 0.9453 - val_loss: 0.3654 - val_accuracy: 0.8344\n",
      "Epoch 25/150\n",
      "43/43 [==============================] - 1s 13ms/step - loss: 0.1089 - accuracy: 0.9758 - val_loss: 0.3006 - val_accuracy: 0.8625\n",
      "Epoch 26/150\n",
      "43/43 [==============================] - 1s 13ms/step - loss: 0.1060 - accuracy: 0.9648 - val_loss: 0.3777 - val_accuracy: 0.8438\n",
      "Epoch 27/150\n",
      "43/43 [==============================] - 1s 13ms/step - loss: 0.0967 - accuracy: 0.9742 - val_loss: 0.3452 - val_accuracy: 0.8531\n",
      "Epoch 28/150\n",
      "43/43 [==============================] - 1s 12ms/step - loss: 0.0913 - accuracy: 0.9727 - val_loss: 0.3150 - val_accuracy: 0.8656\n",
      "Epoch 29/150\n",
      "43/43 [==============================] - 1s 13ms/step - loss: 0.0983 - accuracy: 0.9695 - val_loss: 0.3194 - val_accuracy: 0.8656\n",
      "Epoch 30/150\n",
      "43/43 [==============================] - 1s 13ms/step - loss: 0.0950 - accuracy: 0.9727 - val_loss: 0.3022 - val_accuracy: 0.8719\n",
      "Epoch 31/150\n",
      "43/43 [==============================] - 1s 12ms/step - loss: 0.0784 - accuracy: 0.9828 - val_loss: 0.3041 - val_accuracy: 0.8688\n",
      "Epoch 32/150\n",
      "43/43 [==============================] - 1s 13ms/step - loss: 0.0736 - accuracy: 0.9820 - val_loss: 0.3092 - val_accuracy: 0.8656\n",
      "Epoch 33/150\n",
      "43/43 [==============================] - 1s 13ms/step - loss: 0.0931 - accuracy: 0.9719 - val_loss: 0.3767 - val_accuracy: 0.8438\n",
      "Epoch 34/150\n",
      "43/43 [==============================] - 1s 13ms/step - loss: 0.1005 - accuracy: 0.9633 - val_loss: 0.3813 - val_accuracy: 0.8500\n",
      "Epoch 35/150\n",
      "43/43 [==============================] - 1s 12ms/step - loss: 0.0682 - accuracy: 0.9836 - val_loss: 0.3206 - val_accuracy: 0.8750\n",
      "Epoch 36/150\n",
      "43/43 [==============================] - 1s 12ms/step - loss: 0.0506 - accuracy: 0.9953 - val_loss: 0.3127 - val_accuracy: 0.8688\n",
      "Epoch 37/150\n",
      "43/43 [==============================] - 1s 13ms/step - loss: 0.0486 - accuracy: 0.9953 - val_loss: 0.3142 - val_accuracy: 0.8750\n",
      "Epoch 38/150\n",
      "43/43 [==============================] - 1s 13ms/step - loss: 0.0476 - accuracy: 0.9922 - val_loss: 0.3593 - val_accuracy: 0.8531\n",
      "Epoch 39/150\n",
      "43/43 [==============================] - 1s 13ms/step - loss: 0.0457 - accuracy: 0.9945 - val_loss: 0.2976 - val_accuracy: 0.8719\n",
      "Epoch 40/150\n",
      "43/43 [==============================] - 1s 13ms/step - loss: 0.0450 - accuracy: 0.9922 - val_loss: 0.4206 - val_accuracy: 0.8344\n",
      "Epoch 41/150\n",
      "43/43 [==============================] - 1s 13ms/step - loss: 0.0466 - accuracy: 0.9930 - val_loss: 0.3216 - val_accuracy: 0.8781\n",
      "Epoch 42/150\n",
      "43/43 [==============================] - 1s 14ms/step - loss: 0.0350 - accuracy: 0.9961 - val_loss: 0.3300 - val_accuracy: 0.8656\n",
      "Epoch 43/150\n",
      "43/43 [==============================] - 1s 13ms/step - loss: 0.0386 - accuracy: 0.9930 - val_loss: 0.3777 - val_accuracy: 0.8625\n",
      "Epoch 44/150\n",
      "43/43 [==============================] - 1s 13ms/step - loss: 0.0435 - accuracy: 0.9898 - val_loss: 0.3620 - val_accuracy: 0.8625\n",
      "Epoch 45/150\n",
      "43/43 [==============================] - 1s 13ms/step - loss: 0.0336 - accuracy: 0.9961 - val_loss: 0.3168 - val_accuracy: 0.8719\n",
      "Epoch 46/150\n",
      "43/43 [==============================] - 1s 13ms/step - loss: 0.0295 - accuracy: 0.9977 - val_loss: 0.3640 - val_accuracy: 0.8688\n",
      "Epoch 47/150\n",
      "43/43 [==============================] - 1s 13ms/step - loss: 0.0268 - accuracy: 1.0000 - val_loss: 0.3231 - val_accuracy: 0.8625\n",
      "Epoch 48/150\n",
      "43/43 [==============================] - 1s 13ms/step - loss: 0.0273 - accuracy: 0.9969 - val_loss: 0.3276 - val_accuracy: 0.8688\n",
      "Epoch 49/150\n",
      "43/43 [==============================] - 1s 13ms/step - loss: 0.0243 - accuracy: 0.9992 - val_loss: 0.3338 - val_accuracy: 0.8750\n",
      "Epoch 50/150\n",
      "43/43 [==============================] - 1s 13ms/step - loss: 0.0234 - accuracy: 0.9992 - val_loss: 0.4034 - val_accuracy: 0.8594\n",
      "Epoch 51/150\n",
      "43/43 [==============================] - 1s 13ms/step - loss: 0.0229 - accuracy: 0.9977 - val_loss: 0.3565 - val_accuracy: 0.8719\n",
      "Epoch 52/150\n",
      "43/43 [==============================] - 1s 13ms/step - loss: 0.0215 - accuracy: 0.9992 - val_loss: 0.3474 - val_accuracy: 0.8781\n",
      "Epoch 53/150\n",
      "43/43 [==============================] - 1s 13ms/step - loss: 0.0173 - accuracy: 0.9992 - val_loss: 0.3552 - val_accuracy: 0.8688\n",
      "Epoch 54/150\n",
      "43/43 [==============================] - 1s 13ms/step - loss: 0.0166 - accuracy: 1.0000 - val_loss: 0.3369 - val_accuracy: 0.8781\n",
      "Epoch 55/150\n",
      "43/43 [==============================] - 1s 13ms/step - loss: 0.0181 - accuracy: 0.9992 - val_loss: 0.3632 - val_accuracy: 0.8719\n",
      "Epoch 56/150\n",
      "43/43 [==============================] - 1s 13ms/step - loss: 0.0171 - accuracy: 0.9992 - val_loss: 0.3354 - val_accuracy: 0.8781\n",
      "Epoch 57/150\n",
      "43/43 [==============================] - 1s 13ms/step - loss: 0.0131 - accuracy: 1.0000 - val_loss: 0.3400 - val_accuracy: 0.8781\n",
      "Epoch 58/150\n",
      "43/43 [==============================] - 1s 13ms/step - loss: 0.0157 - accuracy: 1.0000 - val_loss: 0.3758 - val_accuracy: 0.8781\n",
      "Epoch 59/150\n",
      "43/43 [==============================] - 1s 13ms/step - loss: 0.0269 - accuracy: 0.9977 - val_loss: 0.3891 - val_accuracy: 0.8719\n"
     ]
    }
   ],
   "source": [
    "early_stopping = EarlyStopping(\n",
    "    min_delta=0.001, # minimium amount of change to count as an improvement\n",
    "    patience=20, # how many epochs to wait before stopping\n",
    "    restore_best_weights=True,\n",
    ")\n",
    "\n",
    "history = model.fit(train_dataset,\n",
    "        #  steps_per_epoch = 80,\n",
    "         epochs = 150,\n",
    "         callbacks=[early_stopping],\n",
    "         validation_data = validation_dataset\n",
    "         )"
   ]
  },
  {
   "cell_type": "code",
   "execution_count": 7,
   "metadata": {},
   "outputs": [
    {
     "data": {
      "text/plain": [
       "[<matplotlib.lines.Line2D at 0x2b5f00e20>]"
      ]
     },
     "execution_count": 7,
     "metadata": {},
     "output_type": "execute_result"
    },
    {
     "data": {
      "image/png": "[encoded data removed]",
      "text/plain": [
       "<Figure size 432x288 with 1 Axes>"
      ]
     },
     "metadata": {
      "needs_background": "light"
     },
     "output_type": "display_data"
    }
   ],
   "source": [
    "# visualizing losses and accuracy\n",
    "# print(history.history)\n",
    "train_loss = history.history['loss']\n",
    "val_loss   = history.history['val_loss']\n",
    "train_acc  = history.history['accuracy']\n",
    "val_acc    = history.history['val_accuracy']\n",
    "xc         = range(59)\n",
    "\n",
    "plt.figure()\n",
    "plt.plot(xc, train_loss)\n",
    "plt.plot(xc, val_loss)"
   ]
  },
  {
   "cell_type": "code",
   "execution_count": 8,
   "metadata": {},
   "outputs": [
    {
     "name": "stdout",
     "output_type": "stream",
     "text": [
      "14/14 [==============================] - 0s 6ms/step - loss: 0.4638 - accuracy: 0.8325\n",
      "83.24999809265137\n"
     ]
    }
   ],
   "source": [
    "_, acc = model.evaluate(test_dataset)\n",
    "print(acc *100)"
   ]
  },
  {
   "cell_type": "markdown",
   "metadata": {},
   "source": [
    "Prediction"
   ]
  },
  {
   "cell_type": "code",
   "execution_count": null,
   "metadata": {},
   "outputs": [
    {
     "name": "stdout",
     "output_type": "stream",
     "text": [
      "[[1.]]\n"
     ]
    },
    {
     "name": "stderr",
     "output_type": "stream",
     "text": [
      "2022-05-13 20:38:47.965762: I tensorflow/core/grappler/optimizers/custom_graph_optimizer_registry.cc:113] Plugin optimizer for device_type GPU is enabled.\n"
     ]
    },
    {
     "data": {
      "image/png": "[encoded data removed]",
      "text/plain": [
       "<Figure size 432x288 with 1 Axes>"
      ]
     },
     "metadata": {
      "needs_background": "light"
     },
     "output_type": "display_data"
    }
   ],
   "source": [
    "def predictImage(filename):\n",
    "    img1 = image.load_img(filename,target_size=(32,32))\n",
    "    \n",
    "    plt.imshow(img1)\n",
    " \n",
    "    Y = image.img_to_array(img1)\n",
    "    \n",
    "    X = np.expand_dims(Y,axis=0)\n",
    "    val = model.predict(X)\n",
    "    print(val)\n",
    "    if val == 1:\n",
    "        \n",
    "        plt.xlabel(\"Real\",fontsize=30)\n",
    "        \n",
    "    \n",
    "    elif val == 0:\n",
    "        \n",
    "        plt.xlabel(\"Fake\",fontsize=30)\n",
    "\n",
    "predictImage(r\"/Users/nayansavaliya/Masters Mechatronics/2022 Summer/RAML - Project/data/pixelsuffle/test/imagewoof_test/985.jpg\")\n"
   ]
  },
  {
   "cell_type": "code",
   "execution_count": null,
   "metadata": {},
   "outputs": [
    {
     "name": "stdout",
     "output_type": "stream",
     "text": [
      "[[1.]]\n"
     ]
    },
    {
     "data": {
      "image/png": "[encoded data removed]",
      "text/plain": [
       "<Figure size 432x288 with 1 Axes>"
      ]
     },
     "metadata": {
      "needs_background": "light"
     },
     "output_type": "display_data"
    }
   ],
   "source": [
    "\n",
    "predictImage(r\"/Users/nayansavaliya/Masters Mechatronics/2022 Summer/RAML - Project/data/pixelsuffle/test/SNGAN_pixelshuffle_test/954.jpg\")"
   ]
  }
 ],
 "metadata": {
  "interpreter": {
   "hash": "d6559be91acbc93f4d619e1b72121704cbae2e517629d34a1f89aedc7528f034"
  },
  "kernelspec": {
   "display_name": "Python 3.9.12 ('venv': venv)",
   "language": "python",
   "name": "python3"
  },
  "language_info": {
   "codemirror_mode": {
    "name": "ipython",
    "version": 3
   },
   "file_extension": ".py",
   "mimetype": "text/x-python",
   "name": "python",
   "nbconvert_exporter": "python",
   "pygments_lexer": "ipython3",
   "version": "3.9.12"
  },
  "orig_nbformat": 4
 },
 "nbformat": 4,
 "nbformat_minor": 2
}
