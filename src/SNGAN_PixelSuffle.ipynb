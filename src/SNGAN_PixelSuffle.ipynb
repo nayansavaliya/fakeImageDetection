{
 "cells": [
  {
   "cell_type": "markdown",
   "metadata": {},
   "source": [
    "Imports"
   ]
  },
  {
   "cell_type": "code",
   "execution_count": 1,
   "metadata": {},
   "outputs": [],
   "source": [
    "import tensorflow as tf\n",
    "import numpy as np\n",
    "from tensorflow import keras\n",
    "from keras.preprocessing.image import ImageDataGenerator\n",
    "from keras.preprocessing import image\n",
    "import matplotlib.pyplot as plt\n",
    "from keras.callbacks import EarlyStopping\n",
    "\n",
    "\n",
    "# from IPython.core.interactiveshell import InteractiveShell\n",
    "# InteractiveShell.ast_node_interactivity = \"all\"\n",
    "\n"
   ]
  },
  {
   "cell_type": "markdown",
   "metadata": {},
   "source": [
    "Prepare DATASET"
   ]
  },
  {
   "cell_type": "code",
   "execution_count": 2,
   "metadata": {},
   "outputs": [
    {
     "name": "stdout",
     "output_type": "stream",
     "text": [
      "Found 1280 images belonging to 2 classes.\n",
      "Found 320 images belonging to 2 classes.\n",
      "Found 400 images belonging to 2 classes.\n"
     ]
    },
    {
     "data": {
      "text/plain": [
       "{'SNGAN_pixelshuffle_test': 0, 'imagewoof_test': 1}"
      ]
     },
     "execution_count": 2,
     "metadata": {},
     "output_type": "execute_result"
    }
   ],
   "source": [
    "\n",
    "train = ImageDataGenerator(rescale=1/255,validation_split=0.2)\n",
    "test = ImageDataGenerator(rescale=1/255)\n",
    "\n",
    "train_dataset = train.flow_from_directory(\"/Users/nayansavaliya/Masters Mechatronics/2022 Summer/RAML - Project/data/pixelsuffle/train\",\n",
    "                                          target_size=(32,32),\n",
    "                                          batch_size = 30,\n",
    "                                          class_mode = 'binary',subset='training')\n",
    "\n",
    "validation_dataset = train.flow_from_directory(\"/Users/nayansavaliya/Masters Mechatronics/2022 Summer/RAML - Project/data/pixelsuffle/train\",\n",
    "                                          target_size=(32,32),\n",
    "                                          batch_size = 30,\n",
    "                                          class_mode = 'binary',subset='validation')                                    \n",
    "test_dataset = test.flow_from_directory(\"/Users/nayansavaliya/Masters Mechatronics/2022 Summer/RAML - Project/data/pixelsuffle/test\",\n",
    "                                          target_size=(32,32),\n",
    "                                          batch_size =30,\n",
    "                                          class_mode = 'binary')\n",
    "\n",
    "test_dataset.class_indices"
   ]
  },
  {
   "cell_type": "markdown",
   "metadata": {},
   "source": [
    "Design Model"
   ]
  },
  {
   "cell_type": "code",
   "execution_count": 3,
   "metadata": {},
   "outputs": [
    {
     "name": "stdout",
     "output_type": "stream",
     "text": [
      "Metal device set to: Apple M1\n",
      "\n",
      "systemMemory: 16.00 GB\n",
      "maxCacheSize: 5.33 GB\n",
      "\n"
     ]
    },
    {
     "name": "stderr",
     "output_type": "stream",
     "text": [
      "2022-05-26 14:26:54.304467: I tensorflow/core/common_runtime/pluggable_device/pluggable_device_factory.cc:305] Could not identify NUMA node of platform GPU ID 0, defaulting to 0. Your kernel may not have been built with NUMA support.\n",
      "2022-05-26 14:26:54.304581: I tensorflow/core/common_runtime/pluggable_device/pluggable_device_factory.cc:271] Created TensorFlow device (/job:localhost/replica:0/task:0/device:GPU:0 with 0 MB memory) -> physical PluggableDevice (device: 0, name: METAL, pci bus id: <undefined>)\n"
     ]
    }
   ],
   "source": [
    "model = keras.Sequential()\n",
    "\n",
    "# Convolutional layer and maxpool layer 1\n",
    "model.add(keras.layers.Conv2D(32,(3,3),activation='relu',input_shape=(32,32,3)))\n",
    "model.add(keras.layers.MaxPool2D(2,2))\n",
    "\n",
    "# # Convolutional layer and maxpool layer 2\n",
    "# model.add(keras.layers.Conv2D(64,(3,3),activation='relu'))\n",
    "# model.add(keras.layers.Dropout(0.3))\n",
    "# model.add(keras.layers.MaxPool2D(2,2))\n",
    "\n",
    "# # Convolutional layer and maxpool layer 3\n",
    "# model.add(keras.layers.Conv2D(64,(3,3),activation='relu'))\n",
    "# model.add(keras.layers.Dropout(0.3))\n",
    "# model.add(keras.layers.MaxPool2D(2,2))\n",
    "\n",
    "# This layer flattens the resulting image array to 1D array\n",
    "model.add(keras.layers.Flatten())\n",
    "\n",
    "# Hidden layer with 512 neurons and Rectified Linear Unit activation function \n",
    "model.add(keras.layers.Dense(32,activation='relu'))\n",
    "\n",
    "# Output layer with single neuron which gives 0 for fake or 1 for real \n",
    "#Here we use sigmoid activation function which makes our model output to lie between 0 and 1\n",
    "model.add(keras.layers.Dense(1,activation='sigmoid'))\n",
    "\n",
    "\n",
    "model.compile(optimizer='adam',loss='binary_crossentropy',metrics=['accuracy'])"
   ]
  },
  {
   "cell_type": "markdown",
   "metadata": {},
   "source": [
    "Training\n",
    "\n",
    "Usually with every epoch increasing, loss goes lower and accuracy goes higher. But with val_loss and val_acc, many cases can be possible:\n",
    "\n",
    "val_loss starts increasing, val_acc starts decreasing(means model is cramming values not learning)\n",
    "\n",
    "val_loss starts increasing, val_acc also increases.(could be case of overfitting or diverse probability values in cases softmax is used in output layer)\n",
    "\n",
    "val_loss starts decreasing, val_acc starts increasing(Correct, means model build is learning and working fine)"
   ]
  },
  {
   "cell_type": "code",
   "execution_count": 4,
   "metadata": {},
   "outputs": [
    {
     "name": "stdout",
     "output_type": "stream",
     "text": [
      "Epoch 1/150\n"
     ]
    },
    {
     "name": "stderr",
     "output_type": "stream",
     "text": [
      "2022-05-26 14:26:54.921041: W tensorflow/core/platform/profile_utils/cpu_utils.cc:128] Failed to get CPU frequency: 0 Hz\n",
      "2022-05-26 14:26:55.245644: I tensorflow/core/grappler/optimizers/custom_graph_optimizer_registry.cc:113] Plugin optimizer for device_type GPU is enabled.\n"
     ]
    },
    {
     "name": "stdout",
     "output_type": "stream",
     "text": [
      "43/43 [==============================] - 3s 17ms/step - loss: 0.6687 - accuracy: 0.6352 - val_loss: 0.5874 - val_accuracy: 0.7312\n",
      "Epoch 2/150\n",
      " 6/43 [===>..........................] - ETA: 0s - loss: 0.5252 - accuracy: 0.7389"
     ]
    },
    {
     "name": "stderr",
     "output_type": "stream",
     "text": [
      "2022-05-26 14:26:58.334182: I tensorflow/core/grappler/optimizers/custom_graph_optimizer_registry.cc:113] Plugin optimizer for device_type GPU is enabled.\n"
     ]
    },
    {
     "name": "stdout",
     "output_type": "stream",
     "text": [
      "43/43 [==============================] - 1s 13ms/step - loss: 0.5268 - accuracy: 0.7445 - val_loss: 0.5262 - val_accuracy: 0.7781\n",
      "Epoch 3/150\n",
      "43/43 [==============================] - 1s 12ms/step - loss: 0.4753 - accuracy: 0.7937 - val_loss: 0.5267 - val_accuracy: 0.7531\n",
      "Epoch 4/150\n",
      "43/43 [==============================] - 1s 13ms/step - loss: 0.4300 - accuracy: 0.8109 - val_loss: 0.4510 - val_accuracy: 0.8000\n",
      "Epoch 5/150\n",
      "43/43 [==============================] - 1s 13ms/step - loss: 0.3628 - accuracy: 0.8531 - val_loss: 0.5193 - val_accuracy: 0.7406\n",
      "Epoch 6/150\n",
      "43/43 [==============================] - 1s 13ms/step - loss: 0.3298 - accuracy: 0.8648 - val_loss: 0.4388 - val_accuracy: 0.8000\n",
      "Epoch 7/150\n",
      "43/43 [==============================] - 1s 13ms/step - loss: 0.3040 - accuracy: 0.8820 - val_loss: 0.3854 - val_accuracy: 0.8375\n",
      "Epoch 8/150\n",
      "43/43 [==============================] - 1s 13ms/step - loss: 0.2834 - accuracy: 0.8898 - val_loss: 0.3731 - val_accuracy: 0.8344\n",
      "Epoch 9/150\n",
      "43/43 [==============================] - 1s 13ms/step - loss: 0.2502 - accuracy: 0.9094 - val_loss: 0.3844 - val_accuracy: 0.8531\n",
      "Epoch 10/150\n",
      "43/43 [==============================] - 1s 13ms/step - loss: 0.2190 - accuracy: 0.9258 - val_loss: 0.3510 - val_accuracy: 0.8313\n",
      "Epoch 11/150\n",
      "43/43 [==============================] - 1s 13ms/step - loss: 0.2100 - accuracy: 0.9219 - val_loss: 0.3396 - val_accuracy: 0.8500\n",
      "Epoch 12/150\n",
      "43/43 [==============================] - 1s 13ms/step - loss: 0.1988 - accuracy: 0.9273 - val_loss: 0.3692 - val_accuracy: 0.8562\n",
      "Epoch 13/150\n",
      "43/43 [==============================] - 1s 13ms/step - loss: 0.1990 - accuracy: 0.9219 - val_loss: 0.3579 - val_accuracy: 0.8313\n",
      "Epoch 14/150\n",
      "43/43 [==============================] - 1s 13ms/step - loss: 0.1507 - accuracy: 0.9547 - val_loss: 0.3636 - val_accuracy: 0.8469\n",
      "Epoch 15/150\n",
      "43/43 [==============================] - 1s 13ms/step - loss: 0.1525 - accuracy: 0.9430 - val_loss: 0.3976 - val_accuracy: 0.8094\n",
      "Epoch 16/150\n",
      "43/43 [==============================] - 1s 12ms/step - loss: 0.1369 - accuracy: 0.9555 - val_loss: 0.3282 - val_accuracy: 0.8562\n",
      "Epoch 17/150\n",
      "43/43 [==============================] - 1s 13ms/step - loss: 0.1261 - accuracy: 0.9586 - val_loss: 0.3390 - val_accuracy: 0.8438\n",
      "Epoch 18/150\n",
      "43/43 [==============================] - 1s 13ms/step - loss: 0.1175 - accuracy: 0.9703 - val_loss: 0.3261 - val_accuracy: 0.8500\n",
      "Epoch 19/150\n",
      "43/43 [==============================] - 1s 13ms/step - loss: 0.1179 - accuracy: 0.9578 - val_loss: 0.3291 - val_accuracy: 0.8406\n",
      "Epoch 20/150\n",
      "43/43 [==============================] - 1s 13ms/step - loss: 0.1166 - accuracy: 0.9578 - val_loss: 0.4304 - val_accuracy: 0.8375\n",
      "Epoch 21/150\n",
      "43/43 [==============================] - 1s 13ms/step - loss: 0.0902 - accuracy: 0.9805 - val_loss: 0.3313 - val_accuracy: 0.8406\n",
      "Epoch 22/150\n",
      "43/43 [==============================] - 1s 13ms/step - loss: 0.0929 - accuracy: 0.9727 - val_loss: 0.4395 - val_accuracy: 0.8313\n",
      "Epoch 23/150\n",
      "43/43 [==============================] - 1s 13ms/step - loss: 0.0928 - accuracy: 0.9719 - val_loss: 0.3594 - val_accuracy: 0.8594\n",
      "Epoch 24/150\n",
      "43/43 [==============================] - 1s 13ms/step - loss: 0.0649 - accuracy: 0.9859 - val_loss: 0.3724 - val_accuracy: 0.8656\n",
      "Epoch 25/150\n",
      "43/43 [==============================] - 1s 13ms/step - loss: 0.0760 - accuracy: 0.9797 - val_loss: 0.3407 - val_accuracy: 0.8469\n",
      "Epoch 26/150\n",
      "43/43 [==============================] - 1s 13ms/step - loss: 0.0661 - accuracy: 0.9844 - val_loss: 0.3397 - val_accuracy: 0.8594\n",
      "Epoch 27/150\n",
      "43/43 [==============================] - 1s 13ms/step - loss: 0.0474 - accuracy: 0.9953 - val_loss: 0.3400 - val_accuracy: 0.8438\n",
      "Epoch 28/150\n",
      "43/43 [==============================] - 1s 13ms/step - loss: 0.0470 - accuracy: 0.9945 - val_loss: 0.3344 - val_accuracy: 0.8594\n",
      "Epoch 29/150\n",
      "43/43 [==============================] - 1s 13ms/step - loss: 0.0408 - accuracy: 0.9969 - val_loss: 0.3416 - val_accuracy: 0.8344\n",
      "Epoch 30/150\n",
      "43/43 [==============================] - 1s 13ms/step - loss: 0.0426 - accuracy: 0.9914 - val_loss: 0.3462 - val_accuracy: 0.8625\n",
      "Epoch 31/150\n",
      "43/43 [==============================] - 1s 13ms/step - loss: 0.0385 - accuracy: 0.9922 - val_loss: 0.3511 - val_accuracy: 0.8438\n",
      "Epoch 32/150\n",
      "43/43 [==============================] - 1s 13ms/step - loss: 0.0338 - accuracy: 0.9961 - val_loss: 0.3501 - val_accuracy: 0.8594\n",
      "Epoch 33/150\n",
      "43/43 [==============================] - 1s 13ms/step - loss: 0.0298 - accuracy: 0.9984 - val_loss: 0.3551 - val_accuracy: 0.8594\n",
      "Epoch 34/150\n",
      "43/43 [==============================] - 1s 13ms/step - loss: 0.0278 - accuracy: 0.9977 - val_loss: 0.3592 - val_accuracy: 0.8531\n",
      "Epoch 35/150\n",
      "43/43 [==============================] - 1s 13ms/step - loss: 0.0303 - accuracy: 0.9984 - val_loss: 0.3500 - val_accuracy: 0.8688\n",
      "Epoch 36/150\n",
      "43/43 [==============================] - 1s 13ms/step - loss: 0.0266 - accuracy: 0.9969 - val_loss: 0.3882 - val_accuracy: 0.8469\n",
      "Epoch 37/150\n",
      "43/43 [==============================] - 1s 13ms/step - loss: 0.0328 - accuracy: 0.9969 - val_loss: 0.3592 - val_accuracy: 0.8594\n",
      "Epoch 38/150\n",
      "43/43 [==============================] - 1s 13ms/step - loss: 0.0218 - accuracy: 0.9977 - val_loss: 0.3689 - val_accuracy: 0.8562\n"
     ]
    }
   ],
   "source": [
    "early_stopping = EarlyStopping(\n",
    "    min_delta=0.001, # minimium amount of change to count as an improvement\n",
    "    patience=20, # how many epochs to wait before stopping\n",
    "    restore_best_weights=True,\n",
    ")\n",
    "\n",
    "history = model.fit(train_dataset,\n",
    "        #  steps_per_epoch = 80,\n",
    "         epochs = 150,\n",
    "         callbacks=[early_stopping],\n",
    "         validation_data = validation_dataset\n",
    "         )"
   ]
  },
  {
   "cell_type": "code",
   "execution_count": 6,
   "metadata": {},
   "outputs": [
    {
     "data": {
      "text/plain": [
       "[<matplotlib.lines.Line2D at 0x2b15b2670>]"
      ]
     },
     "execution_count": 6,
     "metadata": {},
     "output_type": "execute_result"
    },
    {
     "data": {
      "image/png": "[encoded data removed]",
      "text/plain": [
       "<Figure size 432x288 with 1 Axes>"
      ]
     },
     "metadata": {
      "needs_background": "light"
     },
     "output_type": "display_data"
    }
   ],
   "source": [
    "# visualizing losses and accuracy\n",
    "# print(history.history)\n",
    "train_loss = history.history['loss']\n",
    "val_loss   = history.history['val_loss']\n",
    "train_acc  = history.history['accuracy']\n",
    "val_acc    = history.history['val_accuracy']\n",
    "xc         = range(38)\n",
    "\n",
    "plt.figure()\n",
    "plt.plot(xc, train_loss)\n",
    "plt.plot(xc, val_loss)"
   ]
  },
  {
   "cell_type": "code",
   "execution_count": 7,
   "metadata": {},
   "outputs": [
    {
     "name": "stdout",
     "output_type": "stream",
     "text": [
      "14/14 [==============================] - 0s 11ms/step - loss: 0.4579 - accuracy: 0.8050\n",
      "Trained with Pixelsuffle\n",
      "Pixelsuffle:  80.50000071525574\n",
      "Found 400 images belonging to 2 classes.\n",
      "14/14 [==============================] - 0s 5ms/step - loss: 0.8675 - accuracy: 0.6500\n",
      "Bilinear:  64.99999761581421\n",
      "Found 400 images belonging to 2 classes.\n",
      "14/14 [==============================] - 0s 5ms/step - loss: 0.6187 - accuracy: 0.7250\n",
      "Bicubic:  72.49999642372131\n"
     ]
    }
   ],
   "source": [
    "_, acc = model.evaluate(test_dataset)\n",
    "print('Trained with Pixelsuffle')\n",
    "print('Pixelsuffle: ' ,acc *100)\n",
    "\n",
    "test_dataset2 = test.flow_from_directory(\"/Users/nayansavaliya/Masters Mechatronics/2022 Summer/RAML - Project/data/bilinear/test\",\n",
    "                                          target_size=(32,32),\n",
    "                                          batch_size =30,\n",
    "                                          class_mode = 'binary')\n",
    "\n",
    "_, acc = model.evaluate(test_dataset2)\n",
    "print('Bilinear: ' ,acc *100)\n",
    "\n",
    "test_dataset3 = test.flow_from_directory(\"/Users/nayansavaliya/Masters Mechatronics/2022 Summer/RAML - Project/data/bicubic/test\",\n",
    "                                          target_size=(32,32),\n",
    "                                          batch_size =30,\n",
    "                                          class_mode = 'binary')\n",
    "\n",
    "_, acc = model.evaluate(test_dataset3)\n",
    "print('Bicubic: ' ,acc *100)"
   ]
  },
  {
   "cell_type": "markdown",
   "metadata": {},
   "source": [
    "Prediction"
   ]
  },
  {
   "cell_type": "code",
   "execution_count": null,
   "metadata": {},
   "outputs": [],
   "source": [
    "def predictImage(filename):\n",
    "    img1 = image.load_img(filename,target_size=(32,32))\n",
    "    \n",
    "    plt.imshow(img1)\n",
    " \n",
    "    Y = image.img_to_array(img1)\n",
    "    \n",
    "    X = np.expand_dims(Y,axis=0)\n",
    "    val = model.predict(X)\n",
    "    print(val)\n",
    "    if val == 1:\n",
    "        \n",
    "        plt.xlabel(\"Real\",fontsize=30)\n",
    "        \n",
    "    \n",
    "    elif val == 0:\n",
    "        \n",
    "        plt.xlabel(\"Fake\",fontsize=30)\n",
    "\n",
    "predictImage(r\"/Users/nayansavaliya/Masters Mechatronics/2022 Summer/RAML - Project/data/pixelsuffle/test/imagewoof_test/985.jpg\")\n"
   ]
  },
  {
   "cell_type": "code",
   "execution_count": null,
   "metadata": {},
   "outputs": [],
   "source": [
    "\n",
    "predictImage(r\"/Users/nayansavaliya/Masters Mechatronics/2022 Summer/RAML - Project/data/pixelsuffle/test/SNGAN_pixelshuffle_test/824.jpg\")"
   ]
  }
 ],
 "metadata": {
  "interpreter": {
   "hash": "d6559be91acbc93f4d619e1b72121704cbae2e517629d34a1f89aedc7528f034"
  },
  "kernelspec": {
   "display_name": "Python 3.9.12 ('venv': venv)",
   "language": "python",
   "name": "python3"
  },
  "language_info": {
   "codemirror_mode": {
    "name": "ipython",
    "version": 3
   },
   "file_extension": ".py",
   "mimetype": "text/x-python",
   "name": "python",
   "nbconvert_exporter": "python",
   "pygments_lexer": "ipython3",
   "version": "3.9.12"
  },
  "orig_nbformat": 4
 },
 "nbformat": 4,
 "nbformat_minor": 2
}
