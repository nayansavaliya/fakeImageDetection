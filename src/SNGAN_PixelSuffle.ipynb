{
 "cells": [
  {
   "cell_type": "markdown",
   "metadata": {},
   "source": [
    "Imports"
   ]
  },
  {
   "cell_type": "code",
   "execution_count": 1,
   "metadata": {},
   "outputs": [],
   "source": [
    "import tensorflow as tf\n",
    "import numpy as np\n",
    "from tensorflow import keras\n",
    "from keras.preprocessing.image import ImageDataGenerator\n",
    "from keras.preprocessing import image\n",
    "import matplotlib.pyplot as plt\n",
    "from keras.callbacks import EarlyStopping\n",
    "\n",
    "\n",
    "# from IPython.core.interactiveshell import InteractiveShell\n",
    "# InteractiveShell.ast_node_interactivity = \"all\"\n",
    "\n"
   ]
  },
  {
   "cell_type": "markdown",
   "metadata": {},
   "source": [
    "Prepare DATASET"
   ]
  },
  {
   "cell_type": "code",
   "execution_count": 2,
   "metadata": {},
   "outputs": [
    {
     "name": "stdout",
     "output_type": "stream",
     "text": [
      "Found 1280 images belonging to 2 classes.\n",
      "Found 320 images belonging to 2 classes.\n",
      "Found 400 images belonging to 2 classes.\n"
     ]
    },
    {
     "data": {
      "text/plain": [
       "{'SNGAN_pixelshuffle_test': 0, 'imagewoof_test': 1}"
      ]
     },
     "execution_count": 2,
     "metadata": {},
     "output_type": "execute_result"
    }
   ],
   "source": [
    "\n",
    "train = ImageDataGenerator(rescale=1/255,validation_split=0.2)\n",
    "test = ImageDataGenerator(rescale=1/255)\n",
    "\n",
    "train_dataset = train.flow_from_directory(\"/Users/nayansavaliya/Masters Mechatronics/2022 Summer/RAML - Project/data/pixelsuffle/train\",\n",
    "                                          target_size=(32,32),\n",
    "                                          batch_size = 64,\n",
    "                                          class_mode = 'binary',subset='training')\n",
    "\n",
    "validation_dataset = train.flow_from_directory(\"/Users/nayansavaliya/Masters Mechatronics/2022 Summer/RAML - Project/data/pixelsuffle/train\",\n",
    "                                          target_size=(32,32),\n",
    "                                          batch_size = 64,\n",
    "                                          class_mode = 'binary',subset='validation')                                    \n",
    "test_dataset = test.flow_from_directory(\"/Users/nayansavaliya/Masters Mechatronics/2022 Summer/RAML - Project/data/pixelsuffle/test\",\n",
    "                                          target_size=(32,32),\n",
    "                                          batch_size =64,\n",
    "                                          class_mode = 'binary')\n",
    "\n",
    "test_dataset.class_indices"
   ]
  },
  {
   "cell_type": "markdown",
   "metadata": {},
   "source": [
    "Design Model"
   ]
  },
  {
   "cell_type": "code",
   "execution_count": 3,
   "metadata": {},
   "outputs": [
    {
     "name": "stdout",
     "output_type": "stream",
     "text": [
      "Metal device set to: Apple M1\n",
      "\n",
      "systemMemory: 16.00 GB\n",
      "maxCacheSize: 5.33 GB\n",
      "\n"
     ]
    },
    {
     "name": "stderr",
     "output_type": "stream",
     "text": [
      "2022-07-03 21:28:11.758387: I tensorflow/core/common_runtime/pluggable_device/pluggable_device_factory.cc:305] Could not identify NUMA node of platform GPU ID 0, defaulting to 0. Your kernel may not have been built with NUMA support.\n",
      "2022-07-03 21:28:11.758538: I tensorflow/core/common_runtime/pluggable_device/pluggable_device_factory.cc:271] Created TensorFlow device (/job:localhost/replica:0/task:0/device:GPU:0 with 0 MB memory) -> physical PluggableDevice (device: 0, name: METAL, pci bus id: <undefined>)\n"
     ]
    }
   ],
   "source": [
    "model = keras.Sequential()\n",
    "\n",
    "# Convolutional layer and maxpool layer 1\n",
    "model.add(keras.layers.Conv2D(32,(3,3),activation='relu',input_shape=(32,32,3)))\n",
    "# model.add(keras.layers.MaxPool2D(2,2))\n",
    "\n",
    "# # Convolutional layer and maxpool layer 2\n",
    "# model.add(keras.layers.Conv2D(64,(3,3),activation='relu'))\n",
    "# model.add(keras.layers.Dropout(0.3))\n",
    "# model.add(keras.layers.MaxPool2D(2,2))\n",
    "\n",
    "# # Convolutional layer and maxpool layer 3\n",
    "# model.add(keras.layers.Conv2D(64,(3,3),activation='relu'))\n",
    "# model.add(keras.layers.Dropout(0.3))\n",
    "# model.add(keras.layers.MaxPool2D(2,2))\n",
    "\n",
    "# This layer flattens the resulting image array to 1D array\n",
    "model.add(keras.layers.Flatten())\n",
    "\n",
    "# Hidden layer with 512 neurons and Rectified Linear Unit activation function \n",
    "model.add(keras.layers.Dense(32,activation='relu'))\n",
    "\n",
    "# Output layer with single neuron which gives 0 for fake or 1 for real \n",
    "#Here we use sigmoid activation function which makes our model output to lie between 0 and 1\n",
    "model.add(keras.layers.Dense(1,activation='sigmoid'))\n",
    "\n",
    "\n",
    "model.compile(optimizer='adam',loss='binary_crossentropy',metrics=['accuracy'])"
   ]
  },
  {
   "cell_type": "markdown",
   "metadata": {},
   "source": [
    "Training\n",
    "\n",
    "Usually with every epoch increasing, loss goes lower and accuracy goes higher. But with val_loss and val_acc, many cases can be possible:\n",
    "\n",
    "val_loss starts increasing, val_acc starts decreasing(means model is cramming values not learning)\n",
    "\n",
    "val_loss starts increasing, val_acc also increases.(could be case of overfitting or diverse probability values in cases softmax is used in output layer)\n",
    "\n",
    "val_loss starts decreasing, val_acc starts increasing(Correct, means model build is learning and working fine)"
   ]
  },
  {
   "cell_type": "code",
   "execution_count": 4,
   "metadata": {},
   "outputs": [
    {
     "name": "stdout",
     "output_type": "stream",
     "text": [
      "Epoch 1/150\n"
     ]
    },
    {
     "name": "stderr",
     "output_type": "stream",
     "text": [
      "2022-07-03 21:28:11.894957: W tensorflow/core/platform/profile_utils/cpu_utils.cc:128] Failed to get CPU frequency: 0 Hz\n",
      "2022-07-03 21:28:12.161072: I tensorflow/core/grappler/optimizers/custom_graph_optimizer_registry.cc:113] Plugin optimizer for device_type GPU is enabled.\n"
     ]
    },
    {
     "name": "stdout",
     "output_type": "stream",
     "text": [
      "20/20 [==============================] - 1s 19ms/step - loss: 0.7853 - accuracy: 0.5094 - val_loss: 0.6674 - val_accuracy: 0.5000\n",
      "Epoch 2/150\n",
      " 6/20 [========>.....................] - ETA: 0s - loss: 0.6633 - accuracy: 0.5208"
     ]
    },
    {
     "name": "stderr",
     "output_type": "stream",
     "text": [
      "2022-07-03 21:28:12.677286: I tensorflow/core/grappler/optimizers/custom_graph_optimizer_registry.cc:113] Plugin optimizer for device_type GPU is enabled.\n"
     ]
    },
    {
     "name": "stdout",
     "output_type": "stream",
     "text": [
      "20/20 [==============================] - 0s 19ms/step - loss: 0.6320 - accuracy: 0.5844 - val_loss: 0.6176 - val_accuracy: 0.7375\n",
      "Epoch 3/150\n",
      "20/20 [==============================] - 0s 15ms/step - loss: 0.5829 - accuracy: 0.7258 - val_loss: 0.5663 - val_accuracy: 0.7281\n",
      "Epoch 4/150\n",
      "20/20 [==============================] - 0s 15ms/step - loss: 0.5065 - accuracy: 0.7812 - val_loss: 0.5462 - val_accuracy: 0.7188\n",
      "Epoch 5/150\n",
      "20/20 [==============================] - 0s 15ms/step - loss: 0.4541 - accuracy: 0.8102 - val_loss: 0.4539 - val_accuracy: 0.8219\n",
      "Epoch 6/150\n",
      "20/20 [==============================] - 0s 15ms/step - loss: 0.4098 - accuracy: 0.8195 - val_loss: 0.4567 - val_accuracy: 0.7875\n",
      "Epoch 7/150\n",
      "20/20 [==============================] - 0s 16ms/step - loss: 0.3527 - accuracy: 0.8633 - val_loss: 0.3838 - val_accuracy: 0.8438\n",
      "Epoch 8/150\n",
      "20/20 [==============================] - 0s 15ms/step - loss: 0.2885 - accuracy: 0.9062 - val_loss: 0.3555 - val_accuracy: 0.8500\n",
      "Epoch 9/150\n",
      "20/20 [==============================] - 0s 16ms/step - loss: 0.2704 - accuracy: 0.9086 - val_loss: 0.3298 - val_accuracy: 0.8594\n",
      "Epoch 10/150\n",
      "20/20 [==============================] - 0s 14ms/step - loss: 0.2312 - accuracy: 0.9297 - val_loss: 0.3000 - val_accuracy: 0.8781\n",
      "Epoch 11/150\n",
      "20/20 [==============================] - 0s 15ms/step - loss: 0.2114 - accuracy: 0.9336 - val_loss: 0.2876 - val_accuracy: 0.8906\n",
      "Epoch 12/150\n",
      "20/20 [==============================] - 0s 15ms/step - loss: 0.1864 - accuracy: 0.9383 - val_loss: 0.3116 - val_accuracy: 0.8625\n",
      "Epoch 13/150\n",
      "20/20 [==============================] - 0s 15ms/step - loss: 0.1638 - accuracy: 0.9586 - val_loss: 0.2547 - val_accuracy: 0.9062\n",
      "Epoch 14/150\n",
      "20/20 [==============================] - 0s 15ms/step - loss: 0.1400 - accuracy: 0.9617 - val_loss: 0.2545 - val_accuracy: 0.8969\n",
      "Epoch 15/150\n",
      "20/20 [==============================] - 0s 14ms/step - loss: 0.1332 - accuracy: 0.9633 - val_loss: 0.2685 - val_accuracy: 0.8781\n",
      "Epoch 16/150\n",
      "20/20 [==============================] - 0s 14ms/step - loss: 0.1212 - accuracy: 0.9719 - val_loss: 0.2607 - val_accuracy: 0.9000\n",
      "Epoch 17/150\n",
      "20/20 [==============================] - 0s 15ms/step - loss: 0.1093 - accuracy: 0.9727 - val_loss: 0.2363 - val_accuracy: 0.9062\n",
      "Epoch 18/150\n",
      "20/20 [==============================] - 0s 15ms/step - loss: 0.0991 - accuracy: 0.9820 - val_loss: 0.2332 - val_accuracy: 0.9094\n",
      "Epoch 19/150\n",
      "20/20 [==============================] - 0s 14ms/step - loss: 0.0822 - accuracy: 0.9859 - val_loss: 0.2338 - val_accuracy: 0.9125\n",
      "Epoch 20/150\n",
      "20/20 [==============================] - 0s 15ms/step - loss: 0.0708 - accuracy: 0.9914 - val_loss: 0.2333 - val_accuracy: 0.9031\n",
      "Epoch 21/150\n",
      "20/20 [==============================] - 0s 15ms/step - loss: 0.0703 - accuracy: 0.9898 - val_loss: 0.2325 - val_accuracy: 0.9062\n",
      "Epoch 22/150\n",
      "20/20 [==============================] - 0s 14ms/step - loss: 0.0668 - accuracy: 0.9922 - val_loss: 0.2776 - val_accuracy: 0.8688\n",
      "Epoch 23/150\n",
      "20/20 [==============================] - 0s 14ms/step - loss: 0.0776 - accuracy: 0.9836 - val_loss: 0.3032 - val_accuracy: 0.8625\n",
      "Epoch 24/150\n",
      "20/20 [==============================] - 0s 15ms/step - loss: 0.0663 - accuracy: 0.9875 - val_loss: 0.2435 - val_accuracy: 0.9125\n",
      "Epoch 25/150\n",
      "20/20 [==============================] - 0s 15ms/step - loss: 0.0790 - accuracy: 0.9781 - val_loss: 0.3848 - val_accuracy: 0.8344\n",
      "Epoch 26/150\n",
      "20/20 [==============================] - 0s 15ms/step - loss: 0.0808 - accuracy: 0.9773 - val_loss: 0.2844 - val_accuracy: 0.9125\n",
      "Epoch 27/150\n",
      "20/20 [==============================] - 0s 15ms/step - loss: 0.0595 - accuracy: 0.9898 - val_loss: 0.2840 - val_accuracy: 0.8813\n",
      "Epoch 28/150\n",
      "20/20 [==============================] - 0s 15ms/step - loss: 0.0357 - accuracy: 0.9992 - val_loss: 0.2472 - val_accuracy: 0.9094\n",
      "Epoch 29/150\n",
      "20/20 [==============================] - 0s 15ms/step - loss: 0.0366 - accuracy: 0.9977 - val_loss: 0.2820 - val_accuracy: 0.8813\n",
      "Epoch 30/150\n",
      "20/20 [==============================] - 0s 15ms/step - loss: 0.0330 - accuracy: 1.0000 - val_loss: 0.2348 - val_accuracy: 0.9125\n",
      "Epoch 31/150\n",
      "20/20 [==============================] - 0s 16ms/step - loss: 0.0312 - accuracy: 0.9992 - val_loss: 0.2459 - val_accuracy: 0.9062\n",
      "Epoch 32/150\n",
      "20/20 [==============================] - 0s 15ms/step - loss: 0.0240 - accuracy: 1.0000 - val_loss: 0.2362 - val_accuracy: 0.9219\n",
      "Epoch 33/150\n",
      "20/20 [==============================] - 0s 15ms/step - loss: 0.0267 - accuracy: 1.0000 - val_loss: 0.2392 - val_accuracy: 0.9187\n",
      "Epoch 34/150\n",
      "20/20 [==============================] - 0s 15ms/step - loss: 0.0220 - accuracy: 0.9992 - val_loss: 0.2478 - val_accuracy: 0.9062\n",
      "Epoch 35/150\n",
      "20/20 [==============================] - 0s 16ms/step - loss: 0.0203 - accuracy: 1.0000 - val_loss: 0.2475 - val_accuracy: 0.9125\n",
      "Epoch 36/150\n",
      "20/20 [==============================] - 0s 15ms/step - loss: 0.0188 - accuracy: 1.0000 - val_loss: 0.2349 - val_accuracy: 0.9250\n",
      "Epoch 37/150\n",
      "20/20 [==============================] - 0s 15ms/step - loss: 0.0169 - accuracy: 1.0000 - val_loss: 0.2482 - val_accuracy: 0.9187\n",
      "Epoch 38/150\n",
      "20/20 [==============================] - 0s 15ms/step - loss: 0.0160 - accuracy: 1.0000 - val_loss: 0.2422 - val_accuracy: 0.9219\n"
     ]
    }
   ],
   "source": [
    "early_stopping = EarlyStopping(\n",
    "    min_delta=0.001, # minimium amount of change to count as an improvement\n",
    "    patience=20, # how many epochs to wait before stopping\n",
    "    restore_best_weights=True,\n",
    ")\n",
    "\n",
    "history = model.fit(train_dataset,\n",
    "        #  steps_per_epoch = 80,\n",
    "         epochs = 150,\n",
    "         callbacks=[early_stopping],\n",
    "         validation_data = validation_dataset\n",
    "         )"
   ]
  },
  {
   "cell_type": "code",
   "execution_count": 9,
   "metadata": {},
   "outputs": [
    {
     "data": {
      "text/plain": [
       "<matplotlib.legend.Legend at 0x16b53f9a0>"
      ]
     },
     "execution_count": 9,
     "metadata": {},
     "output_type": "execute_result"
    },
    {
     "data": {
      "image/png": "[encoded data removed]",
      "text/plain": [
       "<Figure size 432x288 with 1 Axes>"
      ]
     },
     "metadata": {
      "needs_background": "light"
     },
     "output_type": "display_data"
    }
   ],
   "source": [
    "# visualizing losses and accuracy\n",
    "# print(history.history)\n",
    "train_loss = history.history['loss']\n",
    "val_loss   = history.history['val_loss']\n",
    "train_acc  = history.history['accuracy']\n",
    "val_acc    = history.history['val_accuracy']\n",
    "xc         = range(38)\n",
    "\n",
    "plt.figure()\n",
    "plt.plot(xc, train_loss,label = 'Train Loss')\n",
    "plt.plot(xc, val_loss,label = 'Val Loss')\n",
    "plt.legend(loc='upper right')"
   ]
  },
  {
   "cell_type": "code",
   "execution_count": 10,
   "metadata": {},
   "outputs": [
    {
     "data": {
      "text/plain": [
       "<matplotlib.legend.Legend at 0x14e66efa0>"
      ]
     },
     "execution_count": 10,
     "metadata": {},
     "output_type": "execute_result"
    },
    {
     "data": {
      "image/png": "[encoded data removed]",
      "text/plain": [
       "<Figure size 432x288 with 1 Axes>"
      ]
     },
     "metadata": {
      "needs_background": "light"
     },
     "output_type": "display_data"
    }
   ],
   "source": [
    "plt.figure()\n",
    "plt.plot(xc, train_acc,label = 'Train Acc')\n",
    "plt.plot(xc, val_acc,label = 'Val Acc')\n",
    "plt.legend(loc='upper right')"
   ]
  },
  {
   "cell_type": "code",
   "execution_count": 8,
   "metadata": {},
   "outputs": [
    {
     "name": "stdout",
     "output_type": "stream",
     "text": [
      "7/7 [==============================] - 0s 10ms/step - loss: 0.3744 - accuracy: 0.8425\n",
      "Trained with Pixelsuffle\n",
      "Pixelsuffle:  84.24999713897705\n",
      "Found 400 images belonging to 2 classes.\n",
      "7/7 [==============================] - 0s 7ms/step - loss: 1.0619 - accuracy: 0.6125\n",
      "Bilinear:  61.250001192092896\n",
      "Found 400 images belonging to 2 classes.\n",
      "7/7 [==============================] - 0s 10ms/step - loss: 0.7222 - accuracy: 0.7025\n",
      "Bicubic:  70.24999856948853\n"
     ]
    }
   ],
   "source": [
    "_, acc = model.evaluate(test_dataset)\n",
    "print('Trained with Pixelsuffle')\n",
    "print('Pixelsuffle: ' ,acc *100)\n",
    "\n",
    "test_dataset2 = test.flow_from_directory(\"/Users/nayansavaliya/Masters Mechatronics/2022 Summer/RAML - Project/data/bilinear/test\",\n",
    "                                          target_size=(32,32),\n",
    "                                          batch_size =64,\n",
    "                                          class_mode = 'binary')\n",
    "\n",
    "_, acc = model.evaluate(test_dataset2)\n",
    "print('Bilinear: ' ,acc *100)\n",
    "\n",
    "test_dataset3 = test.flow_from_directory(\"/Users/nayansavaliya/Masters Mechatronics/2022 Summer/RAML - Project/data/bicubic/test\",\n",
    "                                          target_size=(32,32),\n",
    "                                          batch_size =64,\n",
    "                                          class_mode = 'binary')\n",
    "\n",
    "_, acc = model.evaluate(test_dataset3)\n",
    "print('Bicubic: ' ,acc *100)"
   ]
  },
  {
   "cell_type": "markdown",
   "metadata": {},
   "source": [
    "Prediction"
   ]
  },
  {
   "cell_type": "code",
   "execution_count": null,
   "metadata": {},
   "outputs": [],
   "source": [
    "def predictImage(filename):\n",
    "    img1 = image.load_img(filename,target_size=(32,32))\n",
    "    \n",
    "    plt.imshow(img1)\n",
    " \n",
    "    Y = image.img_to_array(img1)\n",
    "    \n",
    "    X = np.expand_dims(Y,axis=0)\n",
    "    val = model.predict(X)\n",
    "    print(val)\n",
    "    if val == 1:\n",
    "        \n",
    "        plt.xlabel(\"Real\",fontsize=30)\n",
    "        \n",
    "    \n",
    "    elif val == 0:\n",
    "        \n",
    "        plt.xlabel(\"Fake\",fontsize=30)\n",
    "\n",
    "predictImage(r\"/Users/nayansavaliya/Masters Mechatronics/2022 Summer/RAML - Project/data/pixelsuffle/test/imagewoof_test/985.jpg\")\n"
   ]
  },
  {
   "cell_type": "code",
   "execution_count": null,
   "metadata": {},
   "outputs": [],
   "source": [
    "\n",
    "predictImage(r\"/Users/nayansavaliya/Masters Mechatronics/2022 Summer/RAML - Project/data/pixelsuffle/test/SNGAN_pixelshuffle_test/824.jpg\")"
   ]
  }
 ],
 "metadata": {
  "interpreter": {
   "hash": "d6559be91acbc93f4d619e1b72121704cbae2e517629d34a1f89aedc7528f034"
  },
  "kernelspec": {
   "display_name": "Python 3.9.12 ('venv': venv)",
   "language": "python",
   "name": "python3"
  },
  "language_info": {
   "codemirror_mode": {
    "name": "ipython",
    "version": 3
   },
   "file_extension": ".py",
   "mimetype": "text/x-python",
   "name": "python",
   "nbconvert_exporter": "python",
   "pygments_lexer": "ipython3",
   "version": "3.9.12"
  },
  "orig_nbformat": 4
 },
 "nbformat": 4,
 "nbformat_minor": 2
}
