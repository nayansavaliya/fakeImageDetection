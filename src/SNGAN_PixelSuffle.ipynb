{
 "cells": [
  {
   "cell_type": "markdown",
   "metadata": {},
   "source": [
    "Imports"
   ]
  },
  {
   "cell_type": "code",
   "execution_count": 1,
   "metadata": {},
   "outputs": [],
   "source": [
    "import tensorflow as tf\n",
    "import numpy as np\n",
    "from tensorflow import keras\n",
    "from keras.preprocessing.image import ImageDataGenerator\n",
    "from keras.preprocessing import image\n",
    "import matplotlib.pyplot as plt\n",
    "from keras.callbacks import EarlyStopping\n",
    "\n",
    "\n",
    "# from IPython.core.interactiveshell import InteractiveShell\n",
    "# InteractiveShell.ast_node_interactivity = \"all\"\n",
    "\n"
   ]
  },
  {
   "cell_type": "markdown",
   "metadata": {},
   "source": [
    "Prepare DATASET"
   ]
  },
  {
   "cell_type": "code",
   "execution_count": 2,
   "metadata": {},
   "outputs": [
    {
     "name": "stdout",
     "output_type": "stream",
     "text": [
      "Found 1280 images belonging to 2 classes.\n",
      "Found 320 images belonging to 2 classes.\n",
      "Found 400 images belonging to 2 classes.\n"
     ]
    },
    {
     "data": {
      "text/plain": [
       "{'SNGAN_pixelshuffle_test': 0, 'imagewoof_test': 1}"
      ]
     },
     "execution_count": 2,
     "metadata": {},
     "output_type": "execute_result"
    }
   ],
   "source": [
    "\n",
    "train = ImageDataGenerator(rescale=1/255,validation_split=0.2)\n",
    "test = ImageDataGenerator(rescale=1/255)\n",
    "\n",
    "train_dataset = train.flow_from_directory(\"/Users/nayansavaliya/Masters Mechatronics/2022 Summer/RAML - Project/data/pixelsuffle/train\",\n",
    "                                          target_size=(32,32),\n",
    "                                          batch_size = 64,\n",
    "                                          class_mode = 'binary',subset='training')\n",
    "\n",
    "validation_dataset = train.flow_from_directory(\"/Users/nayansavaliya/Masters Mechatronics/2022 Summer/RAML - Project/data/pixelsuffle/train\",\n",
    "                                          target_size=(32,32),\n",
    "                                          batch_size = 64,\n",
    "                                          class_mode = 'binary',subset='validation')                                    \n",
    "test_dataset = test.flow_from_directory(\"/Users/nayansavaliya/Masters Mechatronics/2022 Summer/RAML - Project/data/pixelsuffle/test\",\n",
    "                                          target_size=(32,32),\n",
    "                                          batch_size =64,\n",
    "                                          class_mode = 'binary')\n",
    "\n",
    "test_dataset.class_indices"
   ]
  },
  {
   "cell_type": "markdown",
   "metadata": {},
   "source": [
    "Design Model"
   ]
  },
  {
   "cell_type": "code",
   "execution_count": 3,
   "metadata": {},
   "outputs": [
    {
     "name": "stdout",
     "output_type": "stream",
     "text": [
      "Metal device set to: Apple M1\n",
      "\n",
      "systemMemory: 16.00 GB\n",
      "maxCacheSize: 5.33 GB\n",
      "\n"
     ]
    },
    {
     "name": "stderr",
     "output_type": "stream",
     "text": [
      "2022-07-11 22:20:35.376497: I tensorflow/core/common_runtime/pluggable_device/pluggable_device_factory.cc:305] Could not identify NUMA node of platform GPU ID 0, defaulting to 0. Your kernel may not have been built with NUMA support.\n",
      "2022-07-11 22:20:35.376611: I tensorflow/core/common_runtime/pluggable_device/pluggable_device_factory.cc:271] Created TensorFlow device (/job:localhost/replica:0/task:0/device:GPU:0 with 0 MB memory) -> physical PluggableDevice (device: 0, name: METAL, pci bus id: <undefined>)\n"
     ]
    }
   ],
   "source": [
    "model = keras.Sequential()\n",
    "\n",
    "# Convolutional layer and maxpool layer 1\n",
    "model.add(keras.layers.Conv2D(32,(3,3),activation='relu',input_shape=(32,32,3)))\n",
    "# model.add(keras.layers.MaxPool2D(2,2))\n",
    "\n",
    "# # Convolutional layer and maxpool layer 2\n",
    "# model.add(keras.layers.Conv2D(64,(3,3),activation='relu'))\n",
    "# model.add(keras.layers.Dropout(0.3))\n",
    "# model.add(keras.layers.MaxPool2D(2,2))\n",
    "\n",
    "# # Convolutional layer and maxpool layer 3\n",
    "# model.add(keras.layers.Conv2D(64,(3,3),activation='relu'))\n",
    "# model.add(keras.layers.Dropout(0.3))\n",
    "# model.add(keras.layers.MaxPool2D(2,2))\n",
    "\n",
    "# This layer flattens the resulting image array to 1D array\n",
    "model.add(keras.layers.Flatten())\n",
    "\n",
    "# Hidden layer with 512 neurons and Rectified Linear Unit activation function \n",
    "# model.add(keras.layers.Dense(32,activation='relu'))\n",
    "\n",
    "# Output layer with single neuron which gives 0 for fake or 1 for real \n",
    "#Here we use sigmoid activation function which makes our model output to lie between 0 and 1\n",
    "model.add(keras.layers.Dense(1,activation='sigmoid'))\n",
    "\n",
    "\n",
    "model.compile(optimizer='adam',loss='binary_crossentropy',metrics=['accuracy'])"
   ]
  },
  {
   "cell_type": "markdown",
   "metadata": {},
   "source": [
    "Training\n",
    "\n",
    "Usually with every epoch increasing, loss goes lower and accuracy goes higher. But with val_loss and val_acc, many cases can be possible:\n",
    "\n",
    "val_loss starts increasing, val_acc starts decreasing(means model is cramming values not learning)\n",
    "\n",
    "val_loss starts increasing, val_acc also increases.(could be case of overfitting or diverse probability values in cases softmax is used in output layer)\n",
    "\n",
    "val_loss starts decreasing, val_acc starts increasing(Correct, means model build is learning and working fine)"
   ]
  },
  {
   "cell_type": "code",
   "execution_count": 4,
   "metadata": {},
   "outputs": [
    {
     "name": "stdout",
     "output_type": "stream",
     "text": [
      "Epoch 1/150\n"
     ]
    },
    {
     "name": "stderr",
     "output_type": "stream",
     "text": [
      "2022-07-11 22:20:35.516168: W tensorflow/core/platform/profile_utils/cpu_utils.cc:128] Failed to get CPU frequency: 0 Hz\n"
     ]
    },
    {
     "name": "stdout",
     "output_type": "stream",
     "text": [
      " 1/20 [>.............................] - ETA: 8s - loss: 0.6869 - accuracy: 0.6094"
     ]
    },
    {
     "name": "stderr",
     "output_type": "stream",
     "text": [
      "2022-07-11 22:20:35.815997: I tensorflow/core/grappler/optimizers/custom_graph_optimizer_registry.cc:113] Plugin optimizer for device_type GPU is enabled.\n"
     ]
    },
    {
     "name": "stdout",
     "output_type": "stream",
     "text": [
      "20/20 [==============================] - 1s 22ms/step - loss: 0.6896 - accuracy: 0.5461 - val_loss: 0.6210 - val_accuracy: 0.7563\n",
      "Epoch 2/150\n",
      " 7/20 [=========>....................] - ETA: 0s - loss: 0.6034 - accuracy: 0.7254"
     ]
    },
    {
     "name": "stderr",
     "output_type": "stream",
     "text": [
      "2022-07-11 22:20:36.338344: I tensorflow/core/grappler/optimizers/custom_graph_optimizer_registry.cc:113] Plugin optimizer for device_type GPU is enabled.\n"
     ]
    },
    {
     "name": "stdout",
     "output_type": "stream",
     "text": [
      "20/20 [==============================] - 0s 12ms/step - loss: 0.5818 - accuracy: 0.7367 - val_loss: 0.5678 - val_accuracy: 0.7469\n",
      "Epoch 3/150\n",
      "20/20 [==============================] - 0s 16ms/step - loss: 0.4956 - accuracy: 0.7805 - val_loss: 0.4894 - val_accuracy: 0.7906\n",
      "Epoch 4/150\n",
      "20/20 [==============================] - 0s 15ms/step - loss: 0.4423 - accuracy: 0.8063 - val_loss: 0.4663 - val_accuracy: 0.7719\n",
      "Epoch 5/150\n",
      "20/20 [==============================] - 0s 13ms/step - loss: 0.3860 - accuracy: 0.8625 - val_loss: 0.3983 - val_accuracy: 0.8469\n",
      "Epoch 6/150\n",
      "20/20 [==============================] - 0s 12ms/step - loss: 0.3405 - accuracy: 0.8758 - val_loss: 0.3605 - val_accuracy: 0.8531\n",
      "Epoch 7/150\n",
      "20/20 [==============================] - 0s 13ms/step - loss: 0.3082 - accuracy: 0.8906 - val_loss: 0.3460 - val_accuracy: 0.8531\n",
      "Epoch 8/150\n",
      "20/20 [==============================] - 0s 14ms/step - loss: 0.2983 - accuracy: 0.8930 - val_loss: 0.3285 - val_accuracy: 0.8469\n",
      "Epoch 9/150\n",
      "20/20 [==============================] - 0s 15ms/step - loss: 0.2815 - accuracy: 0.8938 - val_loss: 0.3169 - val_accuracy: 0.8719\n",
      "Epoch 10/150\n",
      "20/20 [==============================] - 0s 12ms/step - loss: 0.2634 - accuracy: 0.9031 - val_loss: 0.3094 - val_accuracy: 0.8719\n",
      "Epoch 11/150\n",
      "20/20 [==============================] - 0s 14ms/step - loss: 0.2390 - accuracy: 0.9180 - val_loss: 0.2916 - val_accuracy: 0.8875\n",
      "Epoch 12/150\n",
      "20/20 [==============================] - 0s 14ms/step - loss: 0.2211 - accuracy: 0.9273 - val_loss: 0.2995 - val_accuracy: 0.8781\n",
      "Epoch 13/150\n",
      "20/20 [==============================] - 0s 14ms/step - loss: 0.2120 - accuracy: 0.9352 - val_loss: 0.2799 - val_accuracy: 0.8813\n",
      "Epoch 14/150\n",
      "20/20 [==============================] - 0s 14ms/step - loss: 0.1861 - accuracy: 0.9523 - val_loss: 0.3350 - val_accuracy: 0.8656\n",
      "Epoch 15/150\n",
      "20/20 [==============================] - 0s 15ms/step - loss: 0.2294 - accuracy: 0.9180 - val_loss: 0.4065 - val_accuracy: 0.8063\n",
      "Epoch 16/150\n",
      "20/20 [==============================] - 0s 14ms/step - loss: 0.2021 - accuracy: 0.9289 - val_loss: 0.2816 - val_accuracy: 0.8656\n",
      "Epoch 17/150\n",
      "20/20 [==============================] - 0s 12ms/step - loss: 0.1955 - accuracy: 0.9328 - val_loss: 0.2674 - val_accuracy: 0.9031\n",
      "Epoch 18/150\n",
      "20/20 [==============================] - 0s 13ms/step - loss: 0.1947 - accuracy: 0.9367 - val_loss: 0.2673 - val_accuracy: 0.8781\n",
      "Epoch 19/150\n",
      "20/20 [==============================] - 0s 12ms/step - loss: 0.1578 - accuracy: 0.9602 - val_loss: 0.2741 - val_accuracy: 0.9000\n",
      "Epoch 20/150\n",
      "20/20 [==============================] - 0s 13ms/step - loss: 0.1504 - accuracy: 0.9609 - val_loss: 0.2720 - val_accuracy: 0.8625\n",
      "Epoch 21/150\n",
      "20/20 [==============================] - 0s 13ms/step - loss: 0.1471 - accuracy: 0.9586 - val_loss: 0.2642 - val_accuracy: 0.8813\n",
      "Epoch 22/150\n",
      "20/20 [==============================] - 0s 13ms/step - loss: 0.1465 - accuracy: 0.9625 - val_loss: 0.3058 - val_accuracy: 0.8781\n",
      "Epoch 23/150\n",
      "20/20 [==============================] - 0s 12ms/step - loss: 0.1495 - accuracy: 0.9578 - val_loss: 0.2969 - val_accuracy: 0.8406\n",
      "Epoch 24/150\n",
      "20/20 [==============================] - 0s 13ms/step - loss: 0.1448 - accuracy: 0.9547 - val_loss: 0.3199 - val_accuracy: 0.8656\n",
      "Epoch 25/150\n",
      "20/20 [==============================] - 0s 13ms/step - loss: 0.1295 - accuracy: 0.9625 - val_loss: 0.2523 - val_accuracy: 0.8844\n",
      "Epoch 26/150\n",
      "20/20 [==============================] - 0s 12ms/step - loss: 0.1091 - accuracy: 0.9828 - val_loss: 0.2421 - val_accuracy: 0.9031\n",
      "Epoch 27/150\n",
      "20/20 [==============================] - 0s 12ms/step - loss: 0.1054 - accuracy: 0.9805 - val_loss: 0.2439 - val_accuracy: 0.8875\n",
      "Epoch 28/150\n",
      "20/20 [==============================] - 0s 12ms/step - loss: 0.1059 - accuracy: 0.9820 - val_loss: 0.2461 - val_accuracy: 0.8875\n",
      "Epoch 29/150\n",
      "20/20 [==============================] - 0s 13ms/step - loss: 0.1017 - accuracy: 0.9812 - val_loss: 0.2994 - val_accuracy: 0.8781\n",
      "Epoch 30/150\n",
      "20/20 [==============================] - 0s 13ms/step - loss: 0.1154 - accuracy: 0.9719 - val_loss: 0.2554 - val_accuracy: 0.9031\n",
      "Epoch 31/150\n",
      "20/20 [==============================] - 0s 12ms/step - loss: 0.1047 - accuracy: 0.9781 - val_loss: 0.2437 - val_accuracy: 0.8969\n",
      "Epoch 32/150\n",
      "20/20 [==============================] - 0s 13ms/step - loss: 0.0923 - accuracy: 0.9867 - val_loss: 0.2535 - val_accuracy: 0.8875\n",
      "Epoch 33/150\n",
      "20/20 [==============================] - 0s 13ms/step - loss: 0.0863 - accuracy: 0.9852 - val_loss: 0.2346 - val_accuracy: 0.9000\n",
      "Epoch 34/150\n",
      "20/20 [==============================] - 0s 12ms/step - loss: 0.0787 - accuracy: 0.9906 - val_loss: 0.2423 - val_accuracy: 0.9031\n",
      "Epoch 35/150\n",
      "20/20 [==============================] - 0s 13ms/step - loss: 0.0776 - accuracy: 0.9875 - val_loss: 0.2339 - val_accuracy: 0.9000\n",
      "Epoch 36/150\n",
      "20/20 [==============================] - 0s 12ms/step - loss: 0.0782 - accuracy: 0.9844 - val_loss: 0.2368 - val_accuracy: 0.8969\n",
      "Epoch 37/150\n",
      "20/20 [==============================] - 0s 12ms/step - loss: 0.0700 - accuracy: 0.9938 - val_loss: 0.2477 - val_accuracy: 0.8969\n",
      "Epoch 38/150\n",
      "20/20 [==============================] - 0s 12ms/step - loss: 0.0790 - accuracy: 0.9891 - val_loss: 0.2937 - val_accuracy: 0.8594\n",
      "Epoch 39/150\n",
      "20/20 [==============================] - 0s 15ms/step - loss: 0.0934 - accuracy: 0.9766 - val_loss: 0.2373 - val_accuracy: 0.9031\n",
      "Epoch 40/150\n",
      "20/20 [==============================] - 0s 13ms/step - loss: 0.0709 - accuracy: 0.9906 - val_loss: 0.2538 - val_accuracy: 0.8844\n",
      "Epoch 41/150\n",
      "20/20 [==============================] - 0s 13ms/step - loss: 0.0616 - accuracy: 0.9938 - val_loss: 0.2351 - val_accuracy: 0.9031\n",
      "Epoch 42/150\n",
      "20/20 [==============================] - 0s 13ms/step - loss: 0.0570 - accuracy: 0.9945 - val_loss: 0.2327 - val_accuracy: 0.9031\n",
      "Epoch 43/150\n",
      "20/20 [==============================] - 0s 12ms/step - loss: 0.0575 - accuracy: 0.9938 - val_loss: 0.2392 - val_accuracy: 0.9000\n",
      "Epoch 44/150\n",
      "20/20 [==============================] - 0s 12ms/step - loss: 0.0583 - accuracy: 0.9922 - val_loss: 0.2327 - val_accuracy: 0.9156\n",
      "Epoch 45/150\n",
      "20/20 [==============================] - 0s 12ms/step - loss: 0.0568 - accuracy: 0.9945 - val_loss: 0.2346 - val_accuracy: 0.9031\n",
      "Epoch 46/150\n",
      "20/20 [==============================] - 0s 13ms/step - loss: 0.0522 - accuracy: 0.9953 - val_loss: 0.2382 - val_accuracy: 0.9062\n",
      "Epoch 47/150\n",
      "20/20 [==============================] - 0s 13ms/step - loss: 0.0472 - accuracy: 0.9977 - val_loss: 0.2370 - val_accuracy: 0.9062\n",
      "Epoch 48/150\n",
      "20/20 [==============================] - 0s 12ms/step - loss: 0.0455 - accuracy: 0.9984 - val_loss: 0.2421 - val_accuracy: 0.9000\n",
      "Epoch 49/150\n",
      "20/20 [==============================] - 0s 12ms/step - loss: 0.0486 - accuracy: 0.9969 - val_loss: 0.2463 - val_accuracy: 0.8938\n",
      "Epoch 50/150\n",
      "20/20 [==============================] - 0s 12ms/step - loss: 0.0620 - accuracy: 0.9938 - val_loss: 0.2367 - val_accuracy: 0.9125\n",
      "Epoch 51/150\n",
      "20/20 [==============================] - 0s 13ms/step - loss: 0.0437 - accuracy: 0.9977 - val_loss: 0.2537 - val_accuracy: 0.8938\n",
      "Epoch 52/150\n",
      "20/20 [==============================] - 0s 13ms/step - loss: 0.0484 - accuracy: 0.9984 - val_loss: 0.2407 - val_accuracy: 0.9000\n",
      "Epoch 53/150\n",
      "20/20 [==============================] - 0s 12ms/step - loss: 0.0417 - accuracy: 0.9984 - val_loss: 0.2496 - val_accuracy: 0.8969\n",
      "Epoch 54/150\n",
      "20/20 [==============================] - 0s 12ms/step - loss: 0.0395 - accuracy: 0.9984 - val_loss: 0.2409 - val_accuracy: 0.9031\n",
      "Epoch 55/150\n",
      "20/20 [==============================] - 0s 13ms/step - loss: 0.0479 - accuracy: 0.9969 - val_loss: 0.2848 - val_accuracy: 0.8719\n",
      "Epoch 56/150\n",
      "20/20 [==============================] - 0s 13ms/step - loss: 0.0370 - accuracy: 0.9992 - val_loss: 0.2372 - val_accuracy: 0.9062\n",
      "Epoch 57/150\n",
      "20/20 [==============================] - 0s 13ms/step - loss: 0.0382 - accuracy: 0.9992 - val_loss: 0.2531 - val_accuracy: 0.9000\n",
      "Epoch 58/150\n",
      "20/20 [==============================] - 0s 13ms/step - loss: 0.0361 - accuracy: 0.9984 - val_loss: 0.2605 - val_accuracy: 0.8906\n",
      "Epoch 59/150\n",
      "20/20 [==============================] - 0s 12ms/step - loss: 0.0349 - accuracy: 0.9984 - val_loss: 0.2506 - val_accuracy: 0.9000\n",
      "Epoch 60/150\n",
      "20/20 [==============================] - 0s 12ms/step - loss: 0.0414 - accuracy: 0.9977 - val_loss: 0.2850 - val_accuracy: 0.8719\n",
      "Epoch 61/150\n",
      "20/20 [==============================] - 0s 12ms/step - loss: 0.0360 - accuracy: 0.9992 - val_loss: 0.2344 - val_accuracy: 0.9094\n",
      "Epoch 62/150\n",
      "20/20 [==============================] - 0s 13ms/step - loss: 0.0302 - accuracy: 0.9992 - val_loss: 0.2412 - val_accuracy: 0.9000\n"
     ]
    }
   ],
   "source": [
    "early_stopping = EarlyStopping(\n",
    "    min_delta=0.001, # minimium amount of change to count as an improvement\n",
    "    patience=20, # how many epochs to wait before stopping\n",
    "    restore_best_weights=True,\n",
    ")\n",
    "\n",
    "history = model.fit(train_dataset,\n",
    "        #  steps_per_epoch = 80,\n",
    "         epochs = 150,\n",
    "         callbacks=[early_stopping],\n",
    "         validation_data = validation_dataset\n",
    "         )"
   ]
  },
  {
   "cell_type": "code",
   "execution_count": 6,
   "metadata": {},
   "outputs": [
    {
     "data": {
      "text/plain": [
       "<matplotlib.legend.Legend at 0x1733e0820>"
      ]
     },
     "execution_count": 6,
     "metadata": {},
     "output_type": "execute_result"
    },
    {
     "data": {
      "image/png": "[encoded data removed]",
      "text/plain": [
       "<Figure size 432x288 with 1 Axes>"
      ]
     },
     "metadata": {
      "needs_background": "light"
     },
     "output_type": "display_data"
    }
   ],
   "source": [
    "# visualizing losses and accuracy\n",
    "# print(history.history)\n",
    "train_loss = history.history['loss']\n",
    "val_loss   = history.history['val_loss']\n",
    "train_acc  = history.history['accuracy']\n",
    "val_acc    = history.history['val_accuracy']\n",
    "xc         = range(62)\n",
    "\n",
    "plt.figure()\n",
    "plt.plot(xc, train_loss,label = 'Train Loss')\n",
    "plt.plot(xc, val_loss,label = 'Val Loss')\n",
    "plt.legend(loc='upper right')"
   ]
  },
  {
   "cell_type": "code",
   "execution_count": 7,
   "metadata": {},
   "outputs": [
    {
     "data": {
      "text/plain": [
       "<matplotlib.legend.Legend at 0x174840a90>"
      ]
     },
     "execution_count": 7,
     "metadata": {},
     "output_type": "execute_result"
    },
    {
     "data": {
      "image/png": "[encoded data removed]",
      "text/plain": [
       "<Figure size 432x288 with 1 Axes>"
      ]
     },
     "metadata": {
      "needs_background": "light"
     },
     "output_type": "display_data"
    }
   ],
   "source": [
    "plt.figure()\n",
    "plt.plot(xc, train_acc,label = 'Train Acc')\n",
    "plt.plot(xc, val_acc,label = 'Val Acc')\n",
    "plt.legend(loc='upper right')"
   ]
  },
  {
   "cell_type": "code",
   "execution_count": 8,
   "metadata": {},
   "outputs": [
    {
     "name": "stdout",
     "output_type": "stream",
     "text": [
      "7/7 [==============================] - 0s 10ms/step - loss: 0.3552 - accuracy: 0.8625\n",
      "Trained with Pixelsuffle\n",
      "Pixelsuffle:  86.24999523162842\n",
      "Found 400 images belonging to 2 classes.\n",
      "7/7 [==============================] - 0s 8ms/step - loss: 1.1153 - accuracy: 0.6200\n",
      "Bilinear:  62.00000047683716\n",
      "Found 400 images belonging to 2 classes.\n",
      "7/7 [==============================] - 0s 8ms/step - loss: 0.7912 - accuracy: 0.7025\n",
      "Bicubic:  70.24999856948853\n"
     ]
    }
   ],
   "source": [
    "_, acc = model.evaluate(test_dataset)\n",
    "print('Trained with Pixelsuffle')\n",
    "print('Pixelsuffle: ' ,acc *100)\n",
    "\n",
    "test_dataset2 = test.flow_from_directory(\"/Users/nayansavaliya/Masters Mechatronics/2022 Summer/RAML - Project/data/bilinear/test\",\n",
    "                                          target_size=(32,32),\n",
    "                                          batch_size =64,\n",
    "                                          class_mode = 'binary')\n",
    "\n",
    "_, acc = model.evaluate(test_dataset2)\n",
    "print('Bilinear: ' ,acc *100)\n",
    "\n",
    "test_dataset3 = test.flow_from_directory(\"/Users/nayansavaliya/Masters Mechatronics/2022 Summer/RAML - Project/data/bicubic/test\",\n",
    "                                          target_size=(32,32),\n",
    "                                          batch_size =64,\n",
    "                                          class_mode = 'binary')\n",
    "\n",
    "_, acc = model.evaluate(test_dataset3)\n",
    "print('Bicubic: ' ,acc *100)"
   ]
  },
  {
   "cell_type": "markdown",
   "metadata": {},
   "source": [
    "Prediction"
   ]
  },
  {
   "cell_type": "code",
   "execution_count": null,
   "metadata": {},
   "outputs": [],
   "source": [
    "def predictImage(filename):\n",
    "    img1 = image.load_img(filename,target_size=(32,32))\n",
    "    \n",
    "    plt.imshow(img1)\n",
    " \n",
    "    Y = image.img_to_array(img1)\n",
    "    \n",
    "    X = np.expand_dims(Y,axis=0)\n",
    "    val = model.predict(X)\n",
    "    print(val)\n",
    "    if val == 1:\n",
    "        \n",
    "        plt.xlabel(\"Real\",fontsize=30)\n",
    "        \n",
    "    \n",
    "    elif val == 0:\n",
    "        \n",
    "        plt.xlabel(\"Fake\",fontsize=30)\n",
    "\n",
    "predictImage(r\"/Users/nayansavaliya/Masters Mechatronics/2022 Summer/RAML - Project/data/pixelsuffle/test/imagewoof_test/985.jpg\")\n"
   ]
  },
  {
   "cell_type": "code",
   "execution_count": null,
   "metadata": {},
   "outputs": [],
   "source": [
    "\n",
    "predictImage(r\"/Users/nayansavaliya/Masters Mechatronics/2022 Summer/RAML - Project/data/pixelsuffle/test/SNGAN_pixelshuffle_test/824.jpg\")"
   ]
  }
 ],
 "metadata": {
  "interpreter": {
   "hash": "d6559be91acbc93f4d619e1b72121704cbae2e517629d34a1f89aedc7528f034"
  },
  "kernelspec": {
   "display_name": "Python 3.9.12 ('venv': venv)",
   "language": "python",
   "name": "python3"
  },
  "language_info": {
   "codemirror_mode": {
    "name": "ipython",
    "version": 3
   },
   "file_extension": ".py",
   "mimetype": "text/x-python",
   "name": "python",
   "nbconvert_exporter": "python",
   "pygments_lexer": "ipython3",
   "version": "3.9.12"
  },
  "orig_nbformat": 4
 },
 "nbformat": 4,
 "nbformat_minor": 2
}
