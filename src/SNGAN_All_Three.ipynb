{
 "cells": [
  {
   "cell_type": "markdown",
   "metadata": {},
   "source": [
    "Imports"
   ]
  },
  {
   "cell_type": "code",
   "execution_count": 1,
   "metadata": {},
   "outputs": [],
   "source": [
    "import tensorflow as tf\n",
    "import numpy as np\n",
    "from tensorflow import keras\n",
    "from keras.preprocessing.image import ImageDataGenerator\n",
    "from keras.preprocessing import image\n",
    "import matplotlib.pyplot as plt\n",
    "from keras.callbacks import EarlyStopping\n",
    "\n",
    "\n",
    "# from IPython.core.interactiveshell import InteractiveShell\n",
    "# InteractiveShell.ast_node_interactivity = \"all\""
   ]
  },
  {
   "cell_type": "markdown",
   "metadata": {},
   "source": [
    "Prepare DATASET"
   ]
  },
  {
   "cell_type": "code",
   "execution_count": 2,
   "metadata": {},
   "outputs": [
    {
     "name": "stdout",
     "output_type": "stream",
     "text": [
      "Found 2560 images belonging to 2 classes.\n",
      "Found 640 images belonging to 2 classes.\n",
      "Found 800 images belonging to 2 classes.\n"
     ]
    },
    {
     "data": {
      "text/plain": [
       "{'SNGAN_all_test': 0, 'imagewoof_test': 1}"
      ]
     },
     "execution_count": 2,
     "metadata": {},
     "output_type": "execute_result"
    }
   ],
   "source": [
    "\n",
    "train = ImageDataGenerator(rescale=1/255,validation_split=0.2)\n",
    "test = ImageDataGenerator(rescale=1/255)\n",
    "\n",
    "train_dataset = train.flow_from_directory(\"/Users/nayansavaliya/Masters Mechatronics/2022 Summer/RAML - Project/data/all/train\",\n",
    "                                          target_size=(32,32),\n",
    "                                          batch_size = 64,\n",
    "                                          class_mode = 'binary',subset='training')\n",
    "\n",
    "validation_dataset = train.flow_from_directory(\"/Users/nayansavaliya/Masters Mechatronics/2022 Summer/RAML - Project/data/all/train\",\n",
    "                                          target_size=(32,32),\n",
    "                                          batch_size = 64,\n",
    "                                          class_mode = 'binary',subset='validation')                                    \n",
    "test_dataset = test.flow_from_directory(\"/Users/nayansavaliya/Masters Mechatronics/2022 Summer/RAML - Project/data/all/test\",\n",
    "                                          target_size=(32,32),\n",
    "                                          batch_size =64,\n",
    "                                          class_mode = 'binary')\n",
    "\n",
    "test_dataset.class_indices"
   ]
  },
  {
   "cell_type": "markdown",
   "metadata": {},
   "source": [
    "Design Model"
   ]
  },
  {
   "cell_type": "code",
   "execution_count": 3,
   "metadata": {},
   "outputs": [
    {
     "name": "stdout",
     "output_type": "stream",
     "text": [
      "Metal device set to: Apple M1\n",
      "\n",
      "systemMemory: 16.00 GB\n",
      "maxCacheSize: 5.33 GB\n",
      "\n"
     ]
    },
    {
     "name": "stderr",
     "output_type": "stream",
     "text": [
      "2022-07-10 23:03:55.679190: I tensorflow/core/common_runtime/pluggable_device/pluggable_device_factory.cc:305] Could not identify NUMA node of platform GPU ID 0, defaulting to 0. Your kernel may not have been built with NUMA support.\n",
      "2022-07-10 23:03:55.679308: I tensorflow/core/common_runtime/pluggable_device/pluggable_device_factory.cc:271] Created TensorFlow device (/job:localhost/replica:0/task:0/device:GPU:0 with 0 MB memory) -> physical PluggableDevice (device: 0, name: METAL, pci bus id: <undefined>)\n"
     ]
    }
   ],
   "source": [
    "model = keras.Sequential()\n",
    "\n",
    "# Convolutional layer and maxpool layer 1\n",
    "model.add(keras.layers.Conv2D(32,3,activation='relu',input_shape=(32,32,3)))\n",
    "# model.add(keras.layers.Conv2D(64,(3,3),activation='relu'))\n",
    "# model.add(keras.layers.MaxPool2D(2,2))\n",
    "# model.add(keras.layers.Conv2D(64,(3,3),activation='relu'))\n",
    "# model.add(keras.layers.MaxPool2D(2,2))\n",
    "# model.add(keras.layers.Conv2D(4,(3,3),activation='relu'))\n",
    "# model.add(keras.layers.MaxPool2D(2,2))\n",
    "# This layer flattens the resulting image array to 1D array\n",
    "model.add(keras.layers.Flatten())\n",
    "\n",
    "# Hidden layer with 512 neurons and Rectified Linear Unit activation function \n",
    "# model.add(keras.layers.Dense(32,activation='relu'))\n",
    "\n",
    "# Output layer with single neuron which gives 0 for fake or 1 for real \n",
    "#Here we use sigmoid activation function which makes our model output to lie between 0 and 1\n",
    "model.add(keras.layers.Dense(1,activation='sigmoid'))\n",
    "\n",
    "opt = keras.optimizers.Adam(learning_rate=0.0001)\n",
    "model.compile(optimizer=opt,loss='binary_crossentropy',metrics=['accuracy'])\n",
    "\n",
    "# model.compile(optimizer='adam',loss='binary_crossentropy',metrics=['accuracy'])"
   ]
  },
  {
   "cell_type": "markdown",
   "metadata": {},
   "source": [
    "Training\n",
    "\n",
    "Usually with every epoch increasing, loss goes lower and accuracy goes higher. But with val_loss and val_acc, many cases can be possible:\n",
    "\n",
    "val_loss starts increasing, val_acc starts decreasing(means model is cramming values not learning)\n",
    "\n",
    "val_loss starts increasing, val_acc also increases.(could be case of overfitting or diverse probability values in cases softmax is used in output layer)\n",
    "\n",
    "val_loss starts decreasing, val_acc starts increasing(Correct, means model build is learning and working fine)"
   ]
  },
  {
   "cell_type": "code",
   "execution_count": 4,
   "metadata": {},
   "outputs": [
    {
     "name": "stdout",
     "output_type": "stream",
     "text": [
      "Epoch 1/200\n"
     ]
    },
    {
     "name": "stderr",
     "output_type": "stream",
     "text": [
      "2022-07-10 23:03:55.819524: W tensorflow/core/platform/profile_utils/cpu_utils.cc:128] Failed to get CPU frequency: 0 Hz\n",
      "2022-07-10 23:03:56.103478: I tensorflow/core/grappler/optimizers/custom_graph_optimizer_registry.cc:113] Plugin optimizer for device_type GPU is enabled.\n"
     ]
    },
    {
     "name": "stdout",
     "output_type": "stream",
     "text": [
      "40/40 [==============================] - 1s 13ms/step - loss: 0.5917 - accuracy: 0.7383 - val_loss: 0.5749 - val_accuracy: 0.7500\n",
      "Epoch 2/200\n",
      " 7/40 [====>.........................] - ETA: 0s - loss: 0.6130 - accuracy: 0.7143"
     ]
    },
    {
     "name": "stderr",
     "output_type": "stream",
     "text": [
      "2022-07-10 23:03:56.784301: I tensorflow/core/grappler/optimizers/custom_graph_optimizer_registry.cc:113] Plugin optimizer for device_type GPU is enabled.\n"
     ]
    },
    {
     "name": "stdout",
     "output_type": "stream",
     "text": [
      "40/40 [==============================] - 0s 11ms/step - loss: 0.5620 - accuracy: 0.7500 - val_loss: 0.5567 - val_accuracy: 0.7500\n",
      "Epoch 3/200\n",
      "40/40 [==============================] - 0s 11ms/step - loss: 0.5383 - accuracy: 0.7527 - val_loss: 0.5321 - val_accuracy: 0.7594\n",
      "Epoch 4/200\n",
      "40/40 [==============================] - 0s 11ms/step - loss: 0.5141 - accuracy: 0.7641 - val_loss: 0.5097 - val_accuracy: 0.7703\n",
      "Epoch 5/200\n",
      "40/40 [==============================] - 0s 11ms/step - loss: 0.4898 - accuracy: 0.7781 - val_loss: 0.4912 - val_accuracy: 0.7719\n",
      "Epoch 6/200\n",
      "40/40 [==============================] - 0s 11ms/step - loss: 0.4741 - accuracy: 0.7902 - val_loss: 0.4735 - val_accuracy: 0.7922\n",
      "Epoch 7/200\n",
      "40/40 [==============================] - 0s 11ms/step - loss: 0.4517 - accuracy: 0.7949 - val_loss: 0.4586 - val_accuracy: 0.8000\n",
      "Epoch 8/200\n",
      "40/40 [==============================] - 0s 11ms/step - loss: 0.4371 - accuracy: 0.8055 - val_loss: 0.4440 - val_accuracy: 0.8156\n",
      "Epoch 9/200\n",
      "40/40 [==============================] - 0s 11ms/step - loss: 0.4234 - accuracy: 0.8117 - val_loss: 0.4301 - val_accuracy: 0.8188\n",
      "Epoch 10/200\n",
      "40/40 [==============================] - 0s 11ms/step - loss: 0.4083 - accuracy: 0.8230 - val_loss: 0.4179 - val_accuracy: 0.8281\n",
      "Epoch 11/200\n",
      "40/40 [==============================] - 0s 11ms/step - loss: 0.3974 - accuracy: 0.8289 - val_loss: 0.4066 - val_accuracy: 0.8344\n",
      "Epoch 12/200\n",
      "40/40 [==============================] - 0s 11ms/step - loss: 0.3855 - accuracy: 0.8348 - val_loss: 0.3983 - val_accuracy: 0.8234\n",
      "Epoch 13/200\n",
      "40/40 [==============================] - 0s 11ms/step - loss: 0.3768 - accuracy: 0.8398 - val_loss: 0.3865 - val_accuracy: 0.8453\n",
      "Epoch 14/200\n",
      "40/40 [==============================] - 0s 11ms/step - loss: 0.3764 - accuracy: 0.8316 - val_loss: 0.3942 - val_accuracy: 0.8125\n",
      "Epoch 15/200\n",
      "40/40 [==============================] - 0s 11ms/step - loss: 0.3610 - accuracy: 0.8453 - val_loss: 0.3743 - val_accuracy: 0.8281\n",
      "Epoch 16/200\n",
      "40/40 [==============================] - 0s 11ms/step - loss: 0.3503 - accuracy: 0.8508 - val_loss: 0.3650 - val_accuracy: 0.8625\n",
      "Epoch 17/200\n",
      "40/40 [==============================] - 0s 11ms/step - loss: 0.3427 - accuracy: 0.8539 - val_loss: 0.3586 - val_accuracy: 0.8453\n",
      "Epoch 18/200\n",
      "40/40 [==============================] - 0s 11ms/step - loss: 0.3375 - accuracy: 0.8566 - val_loss: 0.3604 - val_accuracy: 0.8313\n",
      "Epoch 19/200\n",
      "40/40 [==============================] - 0s 11ms/step - loss: 0.3325 - accuracy: 0.8582 - val_loss: 0.3445 - val_accuracy: 0.8688\n",
      "Epoch 20/200\n",
      "40/40 [==============================] - 0s 11ms/step - loss: 0.3281 - accuracy: 0.8605 - val_loss: 0.3412 - val_accuracy: 0.8562\n",
      "Epoch 21/200\n",
      "40/40 [==============================] - 0s 11ms/step - loss: 0.3185 - accuracy: 0.8652 - val_loss: 0.3521 - val_accuracy: 0.8328\n",
      "Epoch 22/200\n",
      "40/40 [==============================] - 0s 11ms/step - loss: 0.3215 - accuracy: 0.8598 - val_loss: 0.3306 - val_accuracy: 0.8766\n",
      "Epoch 23/200\n",
      "40/40 [==============================] - 0s 11ms/step - loss: 0.3139 - accuracy: 0.8660 - val_loss: 0.3475 - val_accuracy: 0.8859\n",
      "Epoch 24/200\n",
      "40/40 [==============================] - 0s 11ms/step - loss: 0.3174 - accuracy: 0.8668 - val_loss: 0.3282 - val_accuracy: 0.8656\n",
      "Epoch 25/200\n",
      "40/40 [==============================] - 0s 11ms/step - loss: 0.3015 - accuracy: 0.8707 - val_loss: 0.3209 - val_accuracy: 0.8828\n",
      "Epoch 26/200\n",
      "40/40 [==============================] - 0s 11ms/step - loss: 0.3000 - accuracy: 0.8738 - val_loss: 0.3169 - val_accuracy: 0.8719\n",
      "Epoch 27/200\n",
      "40/40 [==============================] - 0s 11ms/step - loss: 0.2922 - accuracy: 0.8777 - val_loss: 0.3397 - val_accuracy: 0.8375\n",
      "Epoch 28/200\n",
      "40/40 [==============================] - 0s 11ms/step - loss: 0.2980 - accuracy: 0.8781 - val_loss: 0.3123 - val_accuracy: 0.8844\n",
      "Epoch 29/200\n",
      "40/40 [==============================] - 0s 11ms/step - loss: 0.2861 - accuracy: 0.8879 - val_loss: 0.3082 - val_accuracy: 0.8844\n",
      "Epoch 30/200\n",
      "40/40 [==============================] - 0s 11ms/step - loss: 0.2827 - accuracy: 0.8867 - val_loss: 0.3059 - val_accuracy: 0.8797\n",
      "Epoch 31/200\n",
      "40/40 [==============================] - 0s 11ms/step - loss: 0.2808 - accuracy: 0.8863 - val_loss: 0.3030 - val_accuracy: 0.8828\n",
      "Epoch 32/200\n",
      "40/40 [==============================] - 1s 14ms/step - loss: 0.2838 - accuracy: 0.8840 - val_loss: 0.3023 - val_accuracy: 0.8797\n",
      "Epoch 33/200\n",
      "40/40 [==============================] - 1s 13ms/step - loss: 0.2767 - accuracy: 0.8844 - val_loss: 0.2994 - val_accuracy: 0.8844\n",
      "Epoch 34/200\n",
      "40/40 [==============================] - 1s 13ms/step - loss: 0.2711 - accuracy: 0.8879 - val_loss: 0.3067 - val_accuracy: 0.8719\n",
      "Epoch 35/200\n",
      "40/40 [==============================] - 1s 14ms/step - loss: 0.2707 - accuracy: 0.8910 - val_loss: 0.2951 - val_accuracy: 0.8828\n",
      "Epoch 36/200\n",
      "40/40 [==============================] - 1s 13ms/step - loss: 0.2665 - accuracy: 0.8914 - val_loss: 0.2927 - val_accuracy: 0.8844\n",
      "Epoch 37/200\n",
      "40/40 [==============================] - 1s 13ms/step - loss: 0.2620 - accuracy: 0.8953 - val_loss: 0.2949 - val_accuracy: 0.8781\n",
      "Epoch 38/200\n",
      "40/40 [==============================] - 1s 14ms/step - loss: 0.2596 - accuracy: 0.8965 - val_loss: 0.2930 - val_accuracy: 0.8781\n",
      "Epoch 39/200\n",
      "40/40 [==============================] - 1s 12ms/step - loss: 0.2572 - accuracy: 0.8984 - val_loss: 0.2874 - val_accuracy: 0.8844\n",
      "Epoch 40/200\n",
      "40/40 [==============================] - 1s 14ms/step - loss: 0.2574 - accuracy: 0.8941 - val_loss: 0.2897 - val_accuracy: 0.8984\n",
      "Epoch 41/200\n",
      "40/40 [==============================] - 1s 13ms/step - loss: 0.2617 - accuracy: 0.8965 - val_loss: 0.2919 - val_accuracy: 0.8906\n",
      "Epoch 42/200\n",
      "40/40 [==============================] - 0s 12ms/step - loss: 0.2615 - accuracy: 0.8980 - val_loss: 0.2836 - val_accuracy: 0.8906\n",
      "Epoch 43/200\n",
      "40/40 [==============================] - 0s 12ms/step - loss: 0.2495 - accuracy: 0.8992 - val_loss: 0.2941 - val_accuracy: 0.8750\n",
      "Epoch 44/200\n",
      "40/40 [==============================] - 0s 11ms/step - loss: 0.2477 - accuracy: 0.9008 - val_loss: 0.2828 - val_accuracy: 0.8859\n",
      "Epoch 45/200\n",
      "40/40 [==============================] - 0s 11ms/step - loss: 0.2457 - accuracy: 0.9016 - val_loss: 0.2826 - val_accuracy: 0.8844\n",
      "Epoch 46/200\n",
      "40/40 [==============================] - 0s 12ms/step - loss: 0.2436 - accuracy: 0.9027 - val_loss: 0.2802 - val_accuracy: 0.8906\n",
      "Epoch 47/200\n",
      "40/40 [==============================] - 0s 11ms/step - loss: 0.2450 - accuracy: 0.9059 - val_loss: 0.2799 - val_accuracy: 0.8875\n",
      "Epoch 48/200\n",
      "40/40 [==============================] - 0s 11ms/step - loss: 0.2395 - accuracy: 0.9082 - val_loss: 0.2847 - val_accuracy: 0.8781\n",
      "Epoch 49/200\n",
      "40/40 [==============================] - 0s 11ms/step - loss: 0.2383 - accuracy: 0.9051 - val_loss: 0.2785 - val_accuracy: 0.8859\n",
      "Epoch 50/200\n",
      "40/40 [==============================] - 0s 11ms/step - loss: 0.2417 - accuracy: 0.9020 - val_loss: 0.2792 - val_accuracy: 0.8938\n",
      "Epoch 51/200\n",
      "40/40 [==============================] - 0s 11ms/step - loss: 0.2386 - accuracy: 0.9070 - val_loss: 0.2749 - val_accuracy: 0.8953\n",
      "Epoch 52/200\n",
      "40/40 [==============================] - 0s 11ms/step - loss: 0.2333 - accuracy: 0.9090 - val_loss: 0.2802 - val_accuracy: 0.8922\n",
      "Epoch 53/200\n",
      "40/40 [==============================] - 0s 11ms/step - loss: 0.2365 - accuracy: 0.9078 - val_loss: 0.2752 - val_accuracy: 0.8875\n",
      "Epoch 54/200\n",
      "40/40 [==============================] - 0s 12ms/step - loss: 0.2330 - accuracy: 0.9078 - val_loss: 0.2720 - val_accuracy: 0.8969\n",
      "Epoch 55/200\n",
      "40/40 [==============================] - 0s 11ms/step - loss: 0.2321 - accuracy: 0.9109 - val_loss: 0.2731 - val_accuracy: 0.8969\n",
      "Epoch 56/200\n",
      "40/40 [==============================] - 0s 11ms/step - loss: 0.2286 - accuracy: 0.9129 - val_loss: 0.2772 - val_accuracy: 0.8953\n",
      "Epoch 57/200\n",
      "40/40 [==============================] - 0s 12ms/step - loss: 0.2291 - accuracy: 0.9133 - val_loss: 0.2699 - val_accuracy: 0.8969\n",
      "Epoch 58/200\n",
      "40/40 [==============================] - 0s 11ms/step - loss: 0.2250 - accuracy: 0.9137 - val_loss: 0.2763 - val_accuracy: 0.8844\n",
      "Epoch 59/200\n",
      "40/40 [==============================] - 0s 11ms/step - loss: 0.2276 - accuracy: 0.9082 - val_loss: 0.2683 - val_accuracy: 0.9031\n",
      "Epoch 60/200\n",
      "40/40 [==============================] - 0s 11ms/step - loss: 0.2207 - accuracy: 0.9184 - val_loss: 0.2676 - val_accuracy: 0.9031\n",
      "Epoch 61/200\n",
      "40/40 [==============================] - 0s 11ms/step - loss: 0.2203 - accuracy: 0.9187 - val_loss: 0.2677 - val_accuracy: 0.8984\n",
      "Epoch 62/200\n",
      "40/40 [==============================] - 0s 11ms/step - loss: 0.2171 - accuracy: 0.9199 - val_loss: 0.2679 - val_accuracy: 0.8969\n",
      "Epoch 63/200\n",
      "40/40 [==============================] - 0s 11ms/step - loss: 0.2219 - accuracy: 0.9137 - val_loss: 0.2691 - val_accuracy: 0.8953\n",
      "Epoch 64/200\n",
      "40/40 [==============================] - 0s 11ms/step - loss: 0.2191 - accuracy: 0.9187 - val_loss: 0.2697 - val_accuracy: 0.8953\n",
      "Epoch 65/200\n",
      "40/40 [==============================] - 0s 11ms/step - loss: 0.2144 - accuracy: 0.9180 - val_loss: 0.2692 - val_accuracy: 0.8953\n",
      "Epoch 66/200\n",
      "40/40 [==============================] - 0s 11ms/step - loss: 0.2158 - accuracy: 0.9191 - val_loss: 0.2696 - val_accuracy: 0.8938\n",
      "Epoch 67/200\n",
      "40/40 [==============================] - 0s 11ms/step - loss: 0.2129 - accuracy: 0.9223 - val_loss: 0.2632 - val_accuracy: 0.9016\n",
      "Epoch 68/200\n",
      "40/40 [==============================] - 0s 11ms/step - loss: 0.2113 - accuracy: 0.9246 - val_loss: 0.2675 - val_accuracy: 0.8953\n",
      "Epoch 69/200\n",
      "40/40 [==============================] - 0s 11ms/step - loss: 0.2108 - accuracy: 0.9207 - val_loss: 0.2626 - val_accuracy: 0.9031\n",
      "Epoch 70/200\n",
      "40/40 [==============================] - 0s 11ms/step - loss: 0.2078 - accuracy: 0.9273 - val_loss: 0.2637 - val_accuracy: 0.8969\n",
      "Epoch 71/200\n",
      "40/40 [==============================] - 0s 11ms/step - loss: 0.2082 - accuracy: 0.9246 - val_loss: 0.2679 - val_accuracy: 0.8859\n",
      "Epoch 72/200\n",
      "40/40 [==============================] - 0s 11ms/step - loss: 0.2073 - accuracy: 0.9215 - val_loss: 0.2622 - val_accuracy: 0.8953\n",
      "Epoch 73/200\n",
      "40/40 [==============================] - 0s 11ms/step - loss: 0.2070 - accuracy: 0.9207 - val_loss: 0.2602 - val_accuracy: 0.9078\n",
      "Epoch 74/200\n",
      "40/40 [==============================] - 0s 12ms/step - loss: 0.2047 - accuracy: 0.9242 - val_loss: 0.2597 - val_accuracy: 0.9062\n",
      "Epoch 75/200\n",
      "40/40 [==============================] - 0s 11ms/step - loss: 0.2036 - accuracy: 0.9289 - val_loss: 0.2690 - val_accuracy: 0.8938\n",
      "Epoch 76/200\n",
      "40/40 [==============================] - 0s 11ms/step - loss: 0.2053 - accuracy: 0.9250 - val_loss: 0.2596 - val_accuracy: 0.9000\n",
      "Epoch 77/200\n",
      "40/40 [==============================] - 0s 11ms/step - loss: 0.2068 - accuracy: 0.9223 - val_loss: 0.2602 - val_accuracy: 0.8984\n",
      "Epoch 78/200\n",
      "40/40 [==============================] - 0s 11ms/step - loss: 0.1999 - accuracy: 0.9297 - val_loss: 0.2585 - val_accuracy: 0.9062\n",
      "Epoch 79/200\n",
      "40/40 [==============================] - 0s 11ms/step - loss: 0.1984 - accuracy: 0.9281 - val_loss: 0.2579 - val_accuracy: 0.9062\n",
      "Epoch 80/200\n",
      "40/40 [==============================] - 0s 11ms/step - loss: 0.1962 - accuracy: 0.9320 - val_loss: 0.2604 - val_accuracy: 0.8969\n",
      "Epoch 81/200\n",
      "40/40 [==============================] - 0s 12ms/step - loss: 0.2000 - accuracy: 0.9266 - val_loss: 0.2581 - val_accuracy: 0.9016\n",
      "Epoch 82/200\n",
      "40/40 [==============================] - 0s 11ms/step - loss: 0.1976 - accuracy: 0.9281 - val_loss: 0.2590 - val_accuracy: 0.8969\n",
      "Epoch 83/200\n",
      "40/40 [==============================] - 0s 11ms/step - loss: 0.1953 - accuracy: 0.9270 - val_loss: 0.2579 - val_accuracy: 0.9000\n",
      "Epoch 84/200\n",
      "40/40 [==============================] - 0s 11ms/step - loss: 0.1962 - accuracy: 0.9297 - val_loss: 0.2667 - val_accuracy: 0.8891\n",
      "Epoch 85/200\n",
      "40/40 [==============================] - 0s 11ms/step - loss: 0.1926 - accuracy: 0.9355 - val_loss: 0.2596 - val_accuracy: 0.8969\n",
      "Epoch 86/200\n",
      "40/40 [==============================] - 0s 11ms/step - loss: 0.1921 - accuracy: 0.9277 - val_loss: 0.3020 - val_accuracy: 0.8781\n",
      "Epoch 87/200\n",
      "40/40 [==============================] - 0s 11ms/step - loss: 0.1968 - accuracy: 0.9320 - val_loss: 0.2804 - val_accuracy: 0.8813\n",
      "Epoch 88/200\n",
      "40/40 [==============================] - 0s 11ms/step - loss: 0.1931 - accuracy: 0.9301 - val_loss: 0.2552 - val_accuracy: 0.9078\n",
      "Epoch 89/200\n",
      "40/40 [==============================] - 0s 11ms/step - loss: 0.1873 - accuracy: 0.9352 - val_loss: 0.2575 - val_accuracy: 0.8969\n",
      "Epoch 90/200\n",
      "40/40 [==============================] - 0s 11ms/step - loss: 0.1905 - accuracy: 0.9313 - val_loss: 0.2645 - val_accuracy: 0.8922\n",
      "Epoch 91/200\n",
      "40/40 [==============================] - 0s 11ms/step - loss: 0.1918 - accuracy: 0.9281 - val_loss: 0.2549 - val_accuracy: 0.9000\n",
      "Epoch 92/200\n",
      "40/40 [==============================] - 0s 11ms/step - loss: 0.1855 - accuracy: 0.9371 - val_loss: 0.2538 - val_accuracy: 0.9031\n",
      "Epoch 93/200\n",
      "40/40 [==============================] - 0s 11ms/step - loss: 0.1883 - accuracy: 0.9340 - val_loss: 0.2742 - val_accuracy: 0.8844\n",
      "Epoch 94/200\n",
      "40/40 [==============================] - 0s 11ms/step - loss: 0.1851 - accuracy: 0.9336 - val_loss: 0.2623 - val_accuracy: 0.8906\n",
      "Epoch 95/200\n",
      "40/40 [==============================] - 0s 11ms/step - loss: 0.1846 - accuracy: 0.9371 - val_loss: 0.2524 - val_accuracy: 0.9031\n",
      "Epoch 96/200\n",
      "40/40 [==============================] - 0s 12ms/step - loss: 0.1805 - accuracy: 0.9414 - val_loss: 0.2524 - val_accuracy: 0.9094\n",
      "Epoch 97/200\n",
      "40/40 [==============================] - 0s 11ms/step - loss: 0.1804 - accuracy: 0.9375 - val_loss: 0.2568 - val_accuracy: 0.9016\n",
      "Epoch 98/200\n",
      "40/40 [==============================] - 0s 11ms/step - loss: 0.1796 - accuracy: 0.9348 - val_loss: 0.2520 - val_accuracy: 0.9094\n",
      "Epoch 99/200\n",
      "40/40 [==============================] - 0s 11ms/step - loss: 0.1791 - accuracy: 0.9395 - val_loss: 0.2555 - val_accuracy: 0.9031\n",
      "Epoch 100/200\n",
      "40/40 [==============================] - 0s 12ms/step - loss: 0.1775 - accuracy: 0.9430 - val_loss: 0.2637 - val_accuracy: 0.8938\n",
      "Epoch 101/200\n",
      "40/40 [==============================] - 0s 12ms/step - loss: 0.1806 - accuracy: 0.9359 - val_loss: 0.2510 - val_accuracy: 0.9031\n",
      "Epoch 102/200\n",
      "40/40 [==============================] - 0s 11ms/step - loss: 0.1786 - accuracy: 0.9375 - val_loss: 0.2512 - val_accuracy: 0.9016\n",
      "Epoch 103/200\n",
      "40/40 [==============================] - 0s 11ms/step - loss: 0.1766 - accuracy: 0.9398 - val_loss: 0.2540 - val_accuracy: 0.9031\n",
      "Epoch 104/200\n",
      "40/40 [==============================] - 0s 11ms/step - loss: 0.1787 - accuracy: 0.9383 - val_loss: 0.2615 - val_accuracy: 0.8938\n",
      "Epoch 105/200\n",
      "40/40 [==============================] - 0s 11ms/step - loss: 0.1809 - accuracy: 0.9410 - val_loss: 0.2508 - val_accuracy: 0.9062\n",
      "Epoch 106/200\n",
      "40/40 [==============================] - 0s 11ms/step - loss: 0.1728 - accuracy: 0.9414 - val_loss: 0.2548 - val_accuracy: 0.9000\n",
      "Epoch 107/200\n",
      "40/40 [==============================] - 0s 11ms/step - loss: 0.1706 - accuracy: 0.9414 - val_loss: 0.2534 - val_accuracy: 0.8953\n",
      "Epoch 108/200\n",
      "40/40 [==============================] - 0s 11ms/step - loss: 0.1752 - accuracy: 0.9402 - val_loss: 0.2529 - val_accuracy: 0.9031\n",
      "Epoch 109/200\n",
      "40/40 [==============================] - 0s 11ms/step - loss: 0.1706 - accuracy: 0.9406 - val_loss: 0.2493 - val_accuracy: 0.9062\n",
      "Epoch 110/200\n",
      "40/40 [==============================] - 0s 11ms/step - loss: 0.1739 - accuracy: 0.9406 - val_loss: 0.2521 - val_accuracy: 0.9047\n",
      "Epoch 111/200\n",
      "40/40 [==============================] - 0s 11ms/step - loss: 0.1704 - accuracy: 0.9434 - val_loss: 0.2506 - val_accuracy: 0.8969\n",
      "Epoch 112/200\n",
      "40/40 [==============================] - 0s 11ms/step - loss: 0.1694 - accuracy: 0.9422 - val_loss: 0.2504 - val_accuracy: 0.8938\n",
      "Epoch 113/200\n",
      "40/40 [==============================] - 0s 11ms/step - loss: 0.1702 - accuracy: 0.9414 - val_loss: 0.2481 - val_accuracy: 0.9047\n",
      "Epoch 114/200\n",
      "40/40 [==============================] - 0s 11ms/step - loss: 0.1681 - accuracy: 0.9406 - val_loss: 0.2569 - val_accuracy: 0.8984\n",
      "Epoch 115/200\n",
      "40/40 [==============================] - 0s 12ms/step - loss: 0.1675 - accuracy: 0.9418 - val_loss: 0.2478 - val_accuracy: 0.9031\n",
      "Epoch 116/200\n",
      "40/40 [==============================] - 0s 11ms/step - loss: 0.1670 - accuracy: 0.9465 - val_loss: 0.2504 - val_accuracy: 0.8922\n",
      "Epoch 117/200\n",
      "40/40 [==============================] - 0s 11ms/step - loss: 0.1648 - accuracy: 0.9453 - val_loss: 0.2478 - val_accuracy: 0.9062\n",
      "Epoch 118/200\n",
      "40/40 [==============================] - 0s 11ms/step - loss: 0.1642 - accuracy: 0.9445 - val_loss: 0.2510 - val_accuracy: 0.8922\n",
      "Epoch 119/200\n",
      "40/40 [==============================] - 0s 12ms/step - loss: 0.1671 - accuracy: 0.9449 - val_loss: 0.2468 - val_accuracy: 0.9047\n",
      "Epoch 120/200\n",
      "40/40 [==============================] - 0s 11ms/step - loss: 0.1624 - accuracy: 0.9453 - val_loss: 0.2625 - val_accuracy: 0.8922\n",
      "Epoch 121/200\n",
      "40/40 [==============================] - 0s 11ms/step - loss: 0.1661 - accuracy: 0.9457 - val_loss: 0.2508 - val_accuracy: 0.9016\n",
      "Epoch 122/200\n",
      "40/40 [==============================] - 0s 11ms/step - loss: 0.1658 - accuracy: 0.9422 - val_loss: 0.2534 - val_accuracy: 0.9000\n",
      "Epoch 123/200\n",
      "40/40 [==============================] - 0s 11ms/step - loss: 0.1650 - accuracy: 0.9422 - val_loss: 0.2475 - val_accuracy: 0.8906\n",
      "Epoch 124/200\n",
      "40/40 [==============================] - 0s 11ms/step - loss: 0.1653 - accuracy: 0.9410 - val_loss: 0.2494 - val_accuracy: 0.9047\n",
      "Epoch 125/200\n",
      "40/40 [==============================] - 0s 11ms/step - loss: 0.1590 - accuracy: 0.9441 - val_loss: 0.2454 - val_accuracy: 0.9047\n",
      "Epoch 126/200\n",
      "40/40 [==============================] - 0s 11ms/step - loss: 0.1586 - accuracy: 0.9461 - val_loss: 0.2454 - val_accuracy: 0.9047\n",
      "Epoch 127/200\n",
      "40/40 [==============================] - 0s 11ms/step - loss: 0.1566 - accuracy: 0.9465 - val_loss: 0.2451 - val_accuracy: 0.9016\n",
      "Epoch 128/200\n",
      "40/40 [==============================] - 0s 11ms/step - loss: 0.1569 - accuracy: 0.9492 - val_loss: 0.2465 - val_accuracy: 0.9062\n",
      "Epoch 129/200\n",
      "40/40 [==============================] - 0s 11ms/step - loss: 0.1560 - accuracy: 0.9480 - val_loss: 0.2477 - val_accuracy: 0.8953\n",
      "Epoch 130/200\n",
      "40/40 [==============================] - 0s 11ms/step - loss: 0.1609 - accuracy: 0.9484 - val_loss: 0.2579 - val_accuracy: 0.8969\n",
      "Epoch 131/200\n",
      "40/40 [==============================] - 0s 11ms/step - loss: 0.1553 - accuracy: 0.9484 - val_loss: 0.2470 - val_accuracy: 0.8922\n",
      "Epoch 132/200\n",
      "40/40 [==============================] - 0s 11ms/step - loss: 0.1645 - accuracy: 0.9434 - val_loss: 0.2476 - val_accuracy: 0.8922\n",
      "Epoch 133/200\n",
      "40/40 [==============================] - 0s 11ms/step - loss: 0.1582 - accuracy: 0.9449 - val_loss: 0.2477 - val_accuracy: 0.8953\n",
      "Epoch 134/200\n",
      "40/40 [==============================] - 0s 11ms/step - loss: 0.1583 - accuracy: 0.9473 - val_loss: 0.2434 - val_accuracy: 0.9000\n",
      "Epoch 135/200\n",
      "40/40 [==============================] - 0s 11ms/step - loss: 0.1555 - accuracy: 0.9488 - val_loss: 0.2523 - val_accuracy: 0.9016\n",
      "Epoch 136/200\n",
      "40/40 [==============================] - 0s 11ms/step - loss: 0.1571 - accuracy: 0.9488 - val_loss: 0.2458 - val_accuracy: 0.9062\n",
      "Epoch 137/200\n",
      "40/40 [==============================] - 0s 11ms/step - loss: 0.1534 - accuracy: 0.9520 - val_loss: 0.2434 - val_accuracy: 0.9000\n",
      "Epoch 138/200\n",
      "40/40 [==============================] - 0s 11ms/step - loss: 0.1513 - accuracy: 0.9516 - val_loss: 0.2441 - val_accuracy: 0.8891\n",
      "Epoch 139/200\n",
      "40/40 [==============================] - 0s 11ms/step - loss: 0.1523 - accuracy: 0.9508 - val_loss: 0.2435 - val_accuracy: 0.9000\n",
      "Epoch 140/200\n",
      "40/40 [==============================] - 0s 11ms/step - loss: 0.1501 - accuracy: 0.9516 - val_loss: 0.2475 - val_accuracy: 0.9047\n",
      "Epoch 141/200\n",
      "40/40 [==============================] - 0s 11ms/step - loss: 0.1507 - accuracy: 0.9496 - val_loss: 0.2665 - val_accuracy: 0.8922\n",
      "Epoch 142/200\n",
      "40/40 [==============================] - 0s 11ms/step - loss: 0.1582 - accuracy: 0.9465 - val_loss: 0.2443 - val_accuracy: 0.8891\n",
      "Epoch 143/200\n",
      "40/40 [==============================] - 0s 11ms/step - loss: 0.1508 - accuracy: 0.9488 - val_loss: 0.2466 - val_accuracy: 0.9062\n",
      "Epoch 144/200\n",
      "40/40 [==============================] - 0s 12ms/step - loss: 0.1491 - accuracy: 0.9527 - val_loss: 0.2429 - val_accuracy: 0.9016\n"
     ]
    }
   ],
   "source": [
    "early_stopping = EarlyStopping(\n",
    "    min_delta=0.001, # minimium amount of change to count as an improvement\n",
    "    patience=10, # how many epochs to wait before stopping\n",
    "    restore_best_weights=True,\n",
    ")\n",
    "\n",
    "history = model.fit(train_dataset,\n",
    "        #  steps_per_epoch = 80,\n",
    "         epochs = 200,\n",
    "         callbacks=[early_stopping],\n",
    "         validation_data = validation_dataset\n",
    "         )"
   ]
  },
  {
   "cell_type": "code",
   "execution_count": 6,
   "metadata": {},
   "outputs": [
    {
     "data": {
      "text/plain": [
       "<matplotlib.legend.Legend at 0x152c07940>"
      ]
     },
     "execution_count": 6,
     "metadata": {},
     "output_type": "execute_result"
    },
    {
     "data": {
      "image/png": "[encoded data removed]",
      "text/plain": [
       "<Figure size 432x288 with 1 Axes>"
      ]
     },
     "metadata": {
      "needs_background": "light"
     },
     "output_type": "display_data"
    }
   ],
   "source": [
    "# visualizing losses and accuracy\n",
    "# print(history.history)\n",
    "train_loss = history.history['loss']\n",
    "val_loss   = history.history['val_loss']\n",
    "train_acc  = history.history['accuracy']\n",
    "val_acc    = history.history['val_accuracy']\n",
    "xc         = range(144)\n",
    "\n",
    "\n",
    "plt.figure()\n",
    "plt.plot(xc, train_loss,label = 'Train Loss')\n",
    "plt.plot(xc, val_loss,label = 'Val Loss')\n",
    "plt.legend(loc='upper right')"
   ]
  },
  {
   "cell_type": "code",
   "execution_count": 7,
   "metadata": {},
   "outputs": [
    {
     "data": {
      "text/plain": [
       "<matplotlib.legend.Legend at 0x152c80e50>"
      ]
     },
     "execution_count": 7,
     "metadata": {},
     "output_type": "execute_result"
    },
    {
     "data": {
      "image/png": "[encoded data removed]",
      "text/plain": [
       "<Figure size 432x288 with 1 Axes>"
      ]
     },
     "metadata": {
      "needs_background": "light"
     },
     "output_type": "display_data"
    }
   ],
   "source": [
    "plt.figure()\n",
    "plt.plot(xc, train_acc,label = 'Train Acc')\n",
    "plt.plot(xc, val_acc,label = 'Val Acc')\n",
    "plt.legend(loc='upper right')"
   ]
  },
  {
   "cell_type": "code",
   "execution_count": 8,
   "metadata": {},
   "outputs": [
    {
     "name": "stdout",
     "output_type": "stream",
     "text": [
      "13/13 [==============================] - 0s 8ms/step - loss: 0.3067 - accuracy: 0.8762\n",
      "Trained with All Three\n",
      "All:  87.62499690055847\n",
      "Found 400 images belonging to 2 classes.\n",
      "7/7 [==============================] - 0s 8ms/step - loss: 0.4305 - accuracy: 0.8200\n",
      "Bilinear:  81.99999928474426\n",
      "Found 400 images belonging to 2 classes.\n",
      "7/7 [==============================] - 0s 6ms/step - loss: 0.4473 - accuracy: 0.8175\n",
      "Bicubic:  81.74999952316284\n",
      "Found 400 images belonging to 2 classes.\n",
      "7/7 [==============================] - 0s 6ms/step - loss: 0.4750 - accuracy: 0.8050\n",
      "Pixelsuffle:  80.50000071525574\n"
     ]
    }
   ],
   "source": [
    "_, acc = model.evaluate(test_dataset)\n",
    "print('Trained with All Three')\n",
    "print('All: ' ,acc *100)\n",
    "\n",
    "test_dataset1 = test.flow_from_directory(\"/Users/nayansavaliya/Masters Mechatronics/2022 Summer/RAML - Project/data/bilinear/test\",\n",
    "                                          target_size=(32,32),\n",
    "                                          batch_size =64,\n",
    "                                          class_mode = 'binary')\n",
    "\n",
    "_, acc = model.evaluate(test_dataset1)\n",
    "print('Bilinear: ' ,acc *100)\n",
    "\n",
    "test_dataset2 = test.flow_from_directory(\"/Users/nayansavaliya/Masters Mechatronics/2022 Summer/RAML - Project/data/bicubic/test\",\n",
    "                                          target_size=(32,32),\n",
    "                                          batch_size =64,\n",
    "                                          class_mode = 'binary')\n",
    "\n",
    "_, acc = model.evaluate(test_dataset2)\n",
    "print('Bicubic: ' ,acc *100)\n",
    "\n",
    "test_dataset3 = test.flow_from_directory(\"/Users/nayansavaliya/Masters Mechatronics/2022 Summer/RAML - Project/data/pixelsuffle/test\",\n",
    "                                          target_size=(32,32),\n",
    "                                          batch_size =64,\n",
    "                                          class_mode = 'binary')\n",
    "\n",
    "_, acc = model.evaluate(test_dataset3)\n",
    "print('Pixelsuffle: ' ,acc *100)"
   ]
  },
  {
   "cell_type": "markdown",
   "metadata": {},
   "source": [
    "Prediction"
   ]
  },
  {
   "cell_type": "code",
   "execution_count": null,
   "metadata": {},
   "outputs": [],
   "source": [
    "def predictImage(filename):\n",
    "    img1 = image.load_img(filename,target_size=(32,32))\n",
    "    \n",
    "    plt.imshow(img1)\n",
    " \n",
    "    Y = image.img_to_array(img1)\n",
    "    \n",
    "    X = np.expand_dims(Y,axis=0)\n",
    "    val = model.predict(X)\n",
    "    print(val)\n",
    "    if val == 1:\n",
    "        \n",
    "        plt.xlabel(\"Real\",fontsize=30)\n",
    "        \n",
    "    \n",
    "    elif val == 0:\n",
    "        \n",
    "        plt.xlabel(\"Fake\",fontsize=30)\n",
    "\n",
    "predictImage(r\"/Users/nayansavaliya/Masters Mechatronics/2022 Summer/RAML - Project/data/pixelsuffle/test/imagewoof_test/985.jpg\")\n"
   ]
  },
  {
   "cell_type": "code",
   "execution_count": null,
   "metadata": {},
   "outputs": [],
   "source": [
    "\n",
    "predictImage(r\"/Users/nayansavaliya/Masters Mechatronics/2022 Summer/RAML - Project/data/bicubic/test/SNGAN_bicubic_test/860.jpg\")"
   ]
  }
 ],
 "metadata": {
  "interpreter": {
   "hash": "d6559be91acbc93f4d619e1b72121704cbae2e517629d34a1f89aedc7528f034"
  },
  "kernelspec": {
   "display_name": "Python 3.9.12 ('venv': venv)",
   "language": "python",
   "name": "python3"
  },
  "language_info": {
   "codemirror_mode": {
    "name": "ipython",
    "version": 3
   },
   "file_extension": ".py",
   "mimetype": "text/x-python",
   "name": "python",
   "nbconvert_exporter": "python",
   "pygments_lexer": "ipython3",
   "version": "3.9.12"
  },
  "orig_nbformat": 4
 },
 "nbformat": 4,
 "nbformat_minor": 2
}
