{
 "cells": [
  {
   "cell_type": "markdown",
   "metadata": {},
   "source": [
    "Imports"
   ]
  },
  {
   "cell_type": "code",
   "execution_count": 1,
   "metadata": {},
   "outputs": [],
   "source": [
    "import tensorflow as tf\n",
    "import numpy as np\n",
    "from tensorflow import keras\n",
    "from keras.preprocessing.image import ImageDataGenerator\n",
    "from keras.preprocessing import image\n",
    "import matplotlib.pyplot as plt\n",
    "from keras.callbacks import EarlyStopping\n",
    "\n",
    "\n",
    "# from IPython.core.interactiveshell import InteractiveShell\n",
    "# InteractiveShell.ast_node_interactivity = \"all\"\n",
    "\n"
   ]
  },
  {
   "cell_type": "markdown",
   "metadata": {},
   "source": [
    "Prepare DATASET"
   ]
  },
  {
   "cell_type": "code",
   "execution_count": 2,
   "metadata": {},
   "outputs": [
    {
     "name": "stdout",
     "output_type": "stream",
     "text": [
      "Found 2560 images belonging to 2 classes.\n",
      "Found 640 images belonging to 2 classes.\n",
      "Found 800 images belonging to 2 classes.\n"
     ]
    },
    {
     "data": {
      "text/plain": [
       "{'SNGAN_all_test': 0, 'imagewoof_test': 1}"
      ]
     },
     "execution_count": 2,
     "metadata": {},
     "output_type": "execute_result"
    }
   ],
   "source": [
    "\n",
    "train = ImageDataGenerator(rescale=1/255,validation_split=0.2)\n",
    "test = ImageDataGenerator(rescale=1/255)\n",
    "\n",
    "train_dataset = train.flow_from_directory(\"/Users/nayansavaliya/Masters Mechatronics/2022 Summer/RAML - Project/data/all/train\",\n",
    "                                          target_size=(32,32),\n",
    "                                          batch_size = 96,\n",
    "                                          class_mode = 'binary',subset='training')\n",
    "\n",
    "validation_dataset = train.flow_from_directory(\"/Users/nayansavaliya/Masters Mechatronics/2022 Summer/RAML - Project/data/all/train\",\n",
    "                                          target_size=(32,32),\n",
    "                                          batch_size = 96,\n",
    "                                          class_mode = 'binary',subset='validation')                                    \n",
    "test_dataset = test.flow_from_directory(\"/Users/nayansavaliya/Masters Mechatronics/2022 Summer/RAML - Project/data/all/test\",\n",
    "                                          target_size=(32,32),\n",
    "                                          batch_size =96,\n",
    "                                          class_mode = 'binary')\n",
    "\n",
    "test_dataset.class_indices"
   ]
  },
  {
   "cell_type": "markdown",
   "metadata": {},
   "source": [
    "Design Model"
   ]
  },
  {
   "cell_type": "code",
   "execution_count": 3,
   "metadata": {},
   "outputs": [
    {
     "name": "stdout",
     "output_type": "stream",
     "text": [
      "Metal device set to: Apple M1\n",
      "\n",
      "systemMemory: 16.00 GB\n",
      "maxCacheSize: 5.33 GB\n",
      "\n"
     ]
    },
    {
     "name": "stderr",
     "output_type": "stream",
     "text": [
      "2022-07-03 21:31:56.300433: I tensorflow/core/common_runtime/pluggable_device/pluggable_device_factory.cc:305] Could not identify NUMA node of platform GPU ID 0, defaulting to 0. Your kernel may not have been built with NUMA support.\n",
      "2022-07-03 21:31:56.300541: I tensorflow/core/common_runtime/pluggable_device/pluggable_device_factory.cc:271] Created TensorFlow device (/job:localhost/replica:0/task:0/device:GPU:0 with 0 MB memory) -> physical PluggableDevice (device: 0, name: METAL, pci bus id: <undefined>)\n"
     ]
    }
   ],
   "source": [
    "model = keras.Sequential()\n",
    "\n",
    "# Convolutional layer and maxpool layer 1\n",
    "model.add(keras.layers.Conv2D(32,(3,3),activation='relu',input_shape=(32,32,3)))\n",
    "# model.add(keras.layers.MaxPool2D(2,2))\n",
    "\n",
    "# model.add(keras.layers.Conv2D(64,(3,3),activation='relu'))\n",
    "# model.add(keras.layers.MaxPool2D(2,2))\n",
    "\n",
    "# model.add(keras.layers.Conv2D(64,(3,3),activation='relu'))\n",
    "# model.add(keras.layers.MaxPool2D(2,2))\n",
    "# model.add(keras.layers.Conv2D(4,(3,3),activation='relu'))\n",
    "# model.add(keras.layers.MaxPool2D(2,2))\n",
    "# This layer flattens the resulting image array to 1D array\n",
    "model.add(keras.layers.Flatten())\n",
    "\n",
    "# Hidden layer with 512 neurons and Rectified Linear Unit activation function \n",
    "model.add(keras.layers.Dense(32,activation='relu'))\n",
    "\n",
    "# Output layer with single neuron which gives 0 for fake or 1 for real \n",
    "#Here we use sigmoid activation function which makes our model output to lie between 0 and 1\n",
    "model.add(keras.layers.Dense(1,activation='sigmoid'))\n",
    "\n",
    "\n",
    "model.compile(optimizer='adam',loss='binary_crossentropy',metrics=['accuracy'])"
   ]
  },
  {
   "cell_type": "markdown",
   "metadata": {},
   "source": [
    "Training\n",
    "\n",
    "Usually with every epoch increasing, loss goes lower and accuracy goes higher. But with val_loss and val_acc, many cases can be possible:\n",
    "\n",
    "val_loss starts increasing, val_acc starts decreasing(means model is cramming values not learning)\n",
    "\n",
    "val_loss starts increasing, val_acc also increases.(could be case of overfitting or diverse probability values in cases softmax is used in output layer)\n",
    "\n",
    "val_loss starts decreasing, val_acc starts increasing(Correct, means model build is learning and working fine)"
   ]
  },
  {
   "cell_type": "code",
   "execution_count": 4,
   "metadata": {},
   "outputs": [
    {
     "name": "stdout",
     "output_type": "stream",
     "text": [
      "Epoch 1/100\n"
     ]
    },
    {
     "name": "stderr",
     "output_type": "stream",
     "text": [
      "2022-07-03 21:31:56.473945: W tensorflow/core/platform/profile_utils/cpu_utils.cc:128] Failed to get CPU frequency: 0 Hz\n"
     ]
    },
    {
     "name": "stdout",
     "output_type": "stream",
     "text": [
      " 1/27 [>.............................] - ETA: 11s - loss: 0.6628 - accuracy: 0.7500"
     ]
    },
    {
     "name": "stderr",
     "output_type": "stream",
     "text": [
      "2022-07-03 21:31:56.736083: I tensorflow/core/grappler/optimizers/custom_graph_optimizer_registry.cc:113] Plugin optimizer for device_type GPU is enabled.\n"
     ]
    },
    {
     "name": "stdout",
     "output_type": "stream",
     "text": [
      "27/27 [==============================] - 1s 31ms/step - loss: 0.7041 - accuracy: 0.7180 - val_loss: 0.5382 - val_accuracy: 0.7563\n",
      "Epoch 2/100\n",
      " 1/27 [>.............................] - ETA: 0s - loss: 0.5500 - accuracy: 0.7500"
     ]
    },
    {
     "name": "stderr",
     "output_type": "stream",
     "text": [
      "2022-07-03 21:31:57.592515: I tensorflow/core/grappler/optimizers/custom_graph_optimizer_registry.cc:113] Plugin optimizer for device_type GPU is enabled.\n"
     ]
    },
    {
     "name": "stdout",
     "output_type": "stream",
     "text": [
      "27/27 [==============================] - 0s 17ms/step - loss: 0.5015 - accuracy: 0.7770 - val_loss: 0.4686 - val_accuracy: 0.7922\n",
      "Epoch 3/100\n",
      "27/27 [==============================] - 0s 17ms/step - loss: 0.4150 - accuracy: 0.8254 - val_loss: 0.3882 - val_accuracy: 0.8531\n",
      "Epoch 4/100\n",
      "27/27 [==============================] - 0s 17ms/step - loss: 0.3504 - accuracy: 0.8539 - val_loss: 0.3532 - val_accuracy: 0.8672\n",
      "Epoch 5/100\n",
      "27/27 [==============================] - 0s 17ms/step - loss: 0.3257 - accuracy: 0.8586 - val_loss: 0.3162 - val_accuracy: 0.8797\n",
      "Epoch 6/100\n",
      "27/27 [==============================] - 0s 17ms/step - loss: 0.3061 - accuracy: 0.8758 - val_loss: 0.3374 - val_accuracy: 0.8688\n",
      "Epoch 7/100\n",
      "27/27 [==============================] - 0s 17ms/step - loss: 0.2639 - accuracy: 0.8938 - val_loss: 0.2948 - val_accuracy: 0.8766\n",
      "Epoch 8/100\n",
      "27/27 [==============================] - 0s 17ms/step - loss: 0.2351 - accuracy: 0.9148 - val_loss: 0.2915 - val_accuracy: 0.8734\n",
      "Epoch 9/100\n",
      "27/27 [==============================] - 0s 17ms/step - loss: 0.2232 - accuracy: 0.9137 - val_loss: 0.2635 - val_accuracy: 0.9000\n",
      "Epoch 10/100\n",
      "27/27 [==============================] - 0s 17ms/step - loss: 0.2097 - accuracy: 0.9191 - val_loss: 0.2619 - val_accuracy: 0.8906\n",
      "Epoch 11/100\n",
      "27/27 [==============================] - 0s 17ms/step - loss: 0.2217 - accuracy: 0.9121 - val_loss: 0.3161 - val_accuracy: 0.8562\n",
      "Epoch 12/100\n",
      "27/27 [==============================] - 0s 17ms/step - loss: 0.1993 - accuracy: 0.9281 - val_loss: 0.2683 - val_accuracy: 0.8781\n",
      "Epoch 13/100\n",
      "27/27 [==============================] - 0s 17ms/step - loss: 0.1905 - accuracy: 0.9273 - val_loss: 0.2482 - val_accuracy: 0.8953\n",
      "Epoch 14/100\n",
      "27/27 [==============================] - 0s 17ms/step - loss: 0.1861 - accuracy: 0.9313 - val_loss: 0.2738 - val_accuracy: 0.8875\n",
      "Epoch 15/100\n",
      "27/27 [==============================] - 0s 17ms/step - loss: 0.1894 - accuracy: 0.9297 - val_loss: 0.2565 - val_accuracy: 0.8891\n",
      "Epoch 16/100\n",
      "27/27 [==============================] - 0s 17ms/step - loss: 0.1449 - accuracy: 0.9539 - val_loss: 0.2507 - val_accuracy: 0.8906\n",
      "Epoch 17/100\n",
      "27/27 [==============================] - 0s 17ms/step - loss: 0.1470 - accuracy: 0.9445 - val_loss: 0.3024 - val_accuracy: 0.8781\n",
      "Epoch 18/100\n",
      "27/27 [==============================] - 0s 17ms/step - loss: 0.1604 - accuracy: 0.9430 - val_loss: 0.2632 - val_accuracy: 0.8891\n",
      "Epoch 19/100\n",
      "27/27 [==============================] - 0s 17ms/step - loss: 0.1473 - accuracy: 0.9441 - val_loss: 0.3560 - val_accuracy: 0.8641\n",
      "Epoch 20/100\n",
      "27/27 [==============================] - 0s 17ms/step - loss: 0.1553 - accuracy: 0.9402 - val_loss: 0.2586 - val_accuracy: 0.8969\n",
      "Epoch 21/100\n",
      "27/27 [==============================] - 0s 17ms/step - loss: 0.1547 - accuracy: 0.9457 - val_loss: 0.3783 - val_accuracy: 0.8328\n",
      "Epoch 22/100\n",
      "27/27 [==============================] - 0s 17ms/step - loss: 0.1570 - accuracy: 0.9402 - val_loss: 0.2490 - val_accuracy: 0.8875\n",
      "Epoch 23/100\n",
      "27/27 [==============================] - 0s 17ms/step - loss: 0.1128 - accuracy: 0.9676 - val_loss: 0.2475 - val_accuracy: 0.8938\n"
     ]
    }
   ],
   "source": [
    "early_stopping = EarlyStopping(\n",
    "    min_delta=0.001, # minimium amount of change to count as an improvement\n",
    "    patience=10, # how many epochs to wait before stopping\n",
    "    restore_best_weights=True,\n",
    ")\n",
    "\n",
    "history = model.fit(train_dataset,\n",
    "        #  steps_per_epoch = 80,\n",
    "         epochs = 100,\n",
    "         callbacks=[early_stopping],\n",
    "         validation_data = validation_dataset\n",
    "         )"
   ]
  },
  {
   "cell_type": "code",
   "execution_count": 6,
   "metadata": {},
   "outputs": [
    {
     "name": "stdout",
     "output_type": "stream",
     "text": [
      "range(0, 23) [0.5382359623908997, 0.4686312675476074, 0.3882417380809784, 0.3532434403896332, 0.31624966859817505, 0.3374214172363281, 0.29475438594818115, 0.2915356159210205, 0.26354530453681946, 0.26187261939048767, 0.3160563111305237, 0.2683442533016205, 0.2482067197561264, 0.27384573221206665, 0.2565365433692932, 0.2507193684577942, 0.30238065123558044, 0.2631947100162506, 0.35597723722457886, 0.25862810015678406, 0.3783387541770935, 0.24901647865772247, 0.24745145440101624]\n"
     ]
    },
    {
     "data": {
      "image/png": "[encoded data removed]",
      "text/plain": [
       "<Figure size 432x288 with 1 Axes>"
      ]
     },
     "metadata": {
      "needs_background": "light"
     },
     "output_type": "display_data"
    }
   ],
   "source": [
    "# visualizing losses and accuracy\n",
    "# print(history.history)\n",
    "train_loss = history.history['loss']\n",
    "val_loss   = history.history['val_loss']\n",
    "train_acc  = history.history['accuracy']\n",
    "val_acc    = history.history['val_accuracy']\n",
    "xc         = range(23)\n",
    "\n",
    "plt.figure()\n",
    "plt.plot(xc, train_loss)\n",
    "plt.plot(xc, val_loss)\n",
    "print(xc,val_loss)"
   ]
  },
  {
   "cell_type": "code",
   "execution_count": 7,
   "metadata": {},
   "outputs": [
    {
     "data": {
      "text/plain": [
       "<matplotlib.legend.Legend at 0x15f8bd250>"
      ]
     },
     "execution_count": 7,
     "metadata": {},
     "output_type": "execute_result"
    },
    {
     "data": {
      "image/png": "[encoded data removed]",
      "text/plain": [
       "<Figure size 432x288 with 1 Axes>"
      ]
     },
     "metadata": {
      "needs_background": "light"
     },
     "output_type": "display_data"
    }
   ],
   "source": [
    "plt.figure()\n",
    "plt.plot(xc, train_acc,label = 'Train Acc')\n",
    "plt.plot(xc, val_acc,label = 'Val Acc')\n",
    "plt.legend(loc='upper right')"
   ]
  },
  {
   "cell_type": "code",
   "execution_count": 8,
   "metadata": {},
   "outputs": [
    {
     "name": "stdout",
     "output_type": "stream",
     "text": [
      "9/9 [==============================] - 0s 17ms/step - loss: 0.3162 - accuracy: 0.8675\n",
      "Trained with All Three\n",
      "All:  86.75000071525574\n",
      "Found 400 images belonging to 2 classes.\n",
      "5/5 [==============================] - 0s 14ms/step - loss: 0.4410 - accuracy: 0.8125\n",
      "Bilinear:  81.25\n",
      "Found 400 images belonging to 2 classes.\n",
      "5/5 [==============================] - 0s 12ms/step - loss: 0.4649 - accuracy: 0.8000\n",
      "Bicubic:  79.99999523162842\n",
      "Found 400 images belonging to 2 classes.\n",
      "5/5 [==============================] - 0s 9ms/step - loss: 0.5002 - accuracy: 0.7775\n",
      "Pixelsuffle:  77.74999737739563\n"
     ]
    }
   ],
   "source": [
    "_, acc = model.evaluate(test_dataset)\n",
    "print('Trained with All Three')\n",
    "print('All: ' ,acc *100)\n",
    "\n",
    "test_dataset1 = test.flow_from_directory(\"/Users/nayansavaliya/Masters Mechatronics/2022 Summer/RAML - Project/data/bilinear/test\",\n",
    "                                          target_size=(32,32),\n",
    "                                          batch_size =96,\n",
    "                                          class_mode = 'binary')\n",
    "\n",
    "_, acc = model.evaluate(test_dataset1)\n",
    "print('Bilinear: ' ,acc *100)\n",
    "\n",
    "test_dataset2 = test.flow_from_directory(\"/Users/nayansavaliya/Masters Mechatronics/2022 Summer/RAML - Project/data/bicubic/test\",\n",
    "                                          target_size=(32,32),\n",
    "                                          batch_size =96,\n",
    "                                          class_mode = 'binary')\n",
    "\n",
    "_, acc = model.evaluate(test_dataset2)\n",
    "print('Bicubic: ' ,acc *100)\n",
    "\n",
    "test_dataset3 = test.flow_from_directory(\"/Users/nayansavaliya/Masters Mechatronics/2022 Summer/RAML - Project/data/pixelsuffle/test\",\n",
    "                                          target_size=(32,32),\n",
    "                                          batch_size =96,\n",
    "                                          class_mode = 'binary')\n",
    "\n",
    "_, acc = model.evaluate(test_dataset3)\n",
    "print('Pixelsuffle: ' ,acc *100)"
   ]
  },
  {
   "cell_type": "markdown",
   "metadata": {},
   "source": [
    "Prediction"
   ]
  },
  {
   "cell_type": "code",
   "execution_count": null,
   "metadata": {},
   "outputs": [],
   "source": [
    "def predictImage(filename):\n",
    "    img1 = image.load_img(filename,target_size=(32,32))\n",
    "    \n",
    "    plt.imshow(img1)\n",
    " \n",
    "    Y = image.img_to_array(img1)\n",
    "    \n",
    "    X = np.expand_dims(Y,axis=0)\n",
    "    val = model.predict(X)\n",
    "    print(val)\n",
    "    if val == 1:\n",
    "        \n",
    "        plt.xlabel(\"Real\",fontsize=30)\n",
    "        \n",
    "    \n",
    "    elif val == 0:\n",
    "        \n",
    "        plt.xlabel(\"Fake\",fontsize=30)\n",
    "\n",
    "predictImage(r\"/Users/nayansavaliya/Masters Mechatronics/2022 Summer/RAML - Project/data/pixelsuffle/test/imagewoof_test/985.jpg\")\n"
   ]
  },
  {
   "cell_type": "code",
   "execution_count": null,
   "metadata": {},
   "outputs": [],
   "source": [
    "\n",
    "predictImage(r\"/Users/nayansavaliya/Masters Mechatronics/2022 Summer/RAML - Project/data/bicubic/test/SNGAN_bicubic_test/860.jpg\")"
   ]
  }
 ],
 "metadata": {
  "interpreter": {
   "hash": "d6559be91acbc93f4d619e1b72121704cbae2e517629d34a1f89aedc7528f034"
  },
  "kernelspec": {
   "display_name": "Python 3.9.12 ('venv': venv)",
   "language": "python",
   "name": "python3"
  },
  "language_info": {
   "codemirror_mode": {
    "name": "ipython",
    "version": 3
   },
   "file_extension": ".py",
   "mimetype": "text/x-python",
   "name": "python",
   "nbconvert_exporter": "python",
   "pygments_lexer": "ipython3",
   "version": "3.9.12"
  },
  "orig_nbformat": 4
 },
 "nbformat": 4,
 "nbformat_minor": 2
}
