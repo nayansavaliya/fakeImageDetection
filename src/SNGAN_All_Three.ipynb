{
 "cells": [
  {
   "cell_type": "markdown",
   "metadata": {},
   "source": [
    "Imports"
   ]
  },
  {
   "cell_type": "code",
   "execution_count": 1,
   "metadata": {},
   "outputs": [],
   "source": [
    "import tensorflow as tf\n",
    "import numpy as np\n",
    "from tensorflow import keras\n",
    "from keras.preprocessing.image import ImageDataGenerator\n",
    "from keras.preprocessing import image\n",
    "import matplotlib.pyplot as plt\n",
    "from keras.callbacks import EarlyStopping\n",
    "\n",
    "\n",
    "# from IPython.core.interactiveshell import InteractiveShell\n",
    "# InteractiveShell.ast_node_interactivity = \"all\"\n",
    "\n"
   ]
  },
  {
   "cell_type": "markdown",
   "metadata": {},
   "source": [
    "Prepare DATASET"
   ]
  },
  {
   "cell_type": "code",
   "execution_count": 2,
   "metadata": {},
   "outputs": [
    {
     "name": "stdout",
     "output_type": "stream",
     "text": [
      "Found 2560 images belonging to 2 classes.\n",
      "Found 640 images belonging to 2 classes.\n",
      "Found 800 images belonging to 2 classes.\n"
     ]
    },
    {
     "data": {
      "text/plain": [
       "{'SNGAN_all_test': 0, 'imagewoof_test': 1}"
      ]
     },
     "execution_count": 2,
     "metadata": {},
     "output_type": "execute_result"
    }
   ],
   "source": [
    "\n",
    "train = ImageDataGenerator(rescale=1/255,validation_split=0.2)\n",
    "test = ImageDataGenerator(rescale=1/255)\n",
    "\n",
    "train_dataset = train.flow_from_directory(\"/Users/nayansavaliya/Masters Mechatronics/2022 Summer/RAML - Project/data/all/train\",\n",
    "                                          target_size=(32,32),\n",
    "                                          batch_size = 30,\n",
    "                                          class_mode = 'binary',subset='training')\n",
    "\n",
    "validation_dataset = train.flow_from_directory(\"/Users/nayansavaliya/Masters Mechatronics/2022 Summer/RAML - Project/data/all/train\",\n",
    "                                          target_size=(32,32),\n",
    "                                          batch_size = 30,\n",
    "                                          class_mode = 'binary',subset='validation')                                    \n",
    "test_dataset = test.flow_from_directory(\"/Users/nayansavaliya/Masters Mechatronics/2022 Summer/RAML - Project/data/all/test\",\n",
    "                                          target_size=(32,32),\n",
    "                                          batch_size =30,\n",
    "                                          class_mode = 'binary')\n",
    "\n",
    "test_dataset.class_indices"
   ]
  },
  {
   "cell_type": "markdown",
   "metadata": {},
   "source": [
    "Design Model"
   ]
  },
  {
   "cell_type": "code",
   "execution_count": 3,
   "metadata": {},
   "outputs": [
    {
     "name": "stdout",
     "output_type": "stream",
     "text": [
      "Metal device set to: Apple M1\n",
      "\n",
      "systemMemory: 16.00 GB\n",
      "maxCacheSize: 5.33 GB\n",
      "\n"
     ]
    },
    {
     "name": "stderr",
     "output_type": "stream",
     "text": [
      "2022-05-26 14:40:34.805268: I tensorflow/core/common_runtime/pluggable_device/pluggable_device_factory.cc:305] Could not identify NUMA node of platform GPU ID 0, defaulting to 0. Your kernel may not have been built with NUMA support.\n",
      "2022-05-26 14:40:34.805386: I tensorflow/core/common_runtime/pluggable_device/pluggable_device_factory.cc:271] Created TensorFlow device (/job:localhost/replica:0/task:0/device:GPU:0 with 0 MB memory) -> physical PluggableDevice (device: 0, name: METAL, pci bus id: <undefined>)\n"
     ]
    }
   ],
   "source": [
    "model = keras.Sequential()\n",
    "\n",
    "# Convolutional layer and maxpool layer 1\n",
    "model.add(keras.layers.Conv2D(32,(3,3),activation='relu',input_shape=(32,32,3)))\n",
    "model.add(keras.layers.MaxPool2D(2,2))\n",
    "\n",
    "# # # Convolutional layer and maxpool layer 2\n",
    "# model.add(keras.layers.Conv2D(64,(3,3),activation='relu'))\n",
    "# model.add(keras.layers.Dropout(0.3))\n",
    "# model.add(keras.layers.MaxPool2D(2,2))\n",
    "\n",
    "# # Convolutional layer and maxpool layer 3\n",
    "# model.add(keras.layers.Conv2D(64,(3,3),activation='relu'))\n",
    "# model.add(keras.layers.Dropout(0.3))\n",
    "# model.add(keras.layers.MaxPool2D(2,2))\n",
    "\n",
    "# This layer flattens the resulting image array to 1D array\n",
    "model.add(keras.layers.Flatten())\n",
    "\n",
    "# Hidden layer with 512 neurons and Rectified Linear Unit activation function \n",
    "model.add(keras.layers.Dense(64,activation='relu'))\n",
    "\n",
    "# Output layer with single neuron which gives 0 for fake or 1 for real \n",
    "#Here we use sigmoid activation function which makes our model output to lie between 0 and 1\n",
    "model.add(keras.layers.Dense(1,activation='sigmoid'))\n",
    "\n",
    "\n",
    "model.compile(optimizer='adam',loss='binary_crossentropy',metrics=['accuracy'])"
   ]
  },
  {
   "cell_type": "markdown",
   "metadata": {},
   "source": [
    "Training\n",
    "\n",
    "Usually with every epoch increasing, loss goes lower and accuracy goes higher. But with val_loss and val_acc, many cases can be possible:\n",
    "\n",
    "val_loss starts increasing, val_acc starts decreasing(means model is cramming values not learning)\n",
    "\n",
    "val_loss starts increasing, val_acc also increases.(could be case of overfitting or diverse probability values in cases softmax is used in output layer)\n",
    "\n",
    "val_loss starts decreasing, val_acc starts increasing(Correct, means model build is learning and working fine)"
   ]
  },
  {
   "cell_type": "code",
   "execution_count": 4,
   "metadata": {},
   "outputs": [
    {
     "name": "stdout",
     "output_type": "stream",
     "text": [
      "Epoch 1/150\n"
     ]
    },
    {
     "name": "stderr",
     "output_type": "stream",
     "text": [
      "2022-05-26 14:40:35.236458: W tensorflow/core/platform/profile_utils/cpu_utils.cc:128] Failed to get CPU frequency: 0 Hz\n",
      "2022-05-26 14:40:35.512535: I tensorflow/core/grappler/optimizers/custom_graph_optimizer_registry.cc:113] Plugin optimizer for device_type GPU is enabled.\n"
     ]
    },
    {
     "name": "stdout",
     "output_type": "stream",
     "text": [
      "86/86 [==============================] - 3s 13ms/step - loss: 0.5562 - accuracy: 0.7523 - val_loss: 0.4768 - val_accuracy: 0.7797\n",
      "Epoch 2/150\n",
      " 1/86 [..............................] - ETA: 1s - loss: 0.5208 - accuracy: 0.8000"
     ]
    },
    {
     "name": "stderr",
     "output_type": "stream",
     "text": [
      "2022-05-26 14:40:38.130722: I tensorflow/core/grappler/optimizers/custom_graph_optimizer_registry.cc:113] Plugin optimizer for device_type GPU is enabled.\n"
     ]
    },
    {
     "name": "stdout",
     "output_type": "stream",
     "text": [
      "86/86 [==============================] - 1s 10ms/step - loss: 0.4383 - accuracy: 0.8113 - val_loss: 0.4562 - val_accuracy: 0.7797\n",
      "Epoch 3/150\n",
      "86/86 [==============================] - 1s 10ms/step - loss: 0.3785 - accuracy: 0.8367 - val_loss: 0.3570 - val_accuracy: 0.8500\n",
      "Epoch 4/150\n",
      "86/86 [==============================] - 1s 10ms/step - loss: 0.3140 - accuracy: 0.8613 - val_loss: 0.3320 - val_accuracy: 0.8641\n",
      "Epoch 5/150\n",
      "86/86 [==============================] - 1s 11ms/step - loss: 0.2760 - accuracy: 0.8871 - val_loss: 0.3335 - val_accuracy: 0.8562\n",
      "Epoch 6/150\n",
      "86/86 [==============================] - 1s 11ms/step - loss: 0.2651 - accuracy: 0.8895 - val_loss: 0.3036 - val_accuracy: 0.8719\n",
      "Epoch 7/150\n",
      "86/86 [==============================] - 1s 10ms/step - loss: 0.2278 - accuracy: 0.9074 - val_loss: 0.2880 - val_accuracy: 0.8688\n",
      "Epoch 8/150\n",
      "86/86 [==============================] - 1s 10ms/step - loss: 0.2460 - accuracy: 0.8930 - val_loss: 0.2990 - val_accuracy: 0.8766\n",
      "Epoch 9/150\n",
      "86/86 [==============================] - 1s 10ms/step - loss: 0.1960 - accuracy: 0.9277 - val_loss: 0.2917 - val_accuracy: 0.8766\n",
      "Epoch 10/150\n",
      "86/86 [==============================] - 1s 10ms/step - loss: 0.1936 - accuracy: 0.9262 - val_loss: 0.3197 - val_accuracy: 0.8672\n",
      "Epoch 11/150\n",
      "86/86 [==============================] - 1s 10ms/step - loss: 0.1659 - accuracy: 0.9406 - val_loss: 0.2937 - val_accuracy: 0.8844\n",
      "Epoch 12/150\n",
      "86/86 [==============================] - 1s 10ms/step - loss: 0.1495 - accuracy: 0.9438 - val_loss: 0.3044 - val_accuracy: 0.8750\n",
      "Epoch 13/150\n",
      "86/86 [==============================] - 1s 10ms/step - loss: 0.1368 - accuracy: 0.9516 - val_loss: 0.3371 - val_accuracy: 0.8750\n",
      "Epoch 14/150\n",
      "86/86 [==============================] - 1s 10ms/step - loss: 0.1199 - accuracy: 0.9574 - val_loss: 0.3831 - val_accuracy: 0.8672\n",
      "Epoch 15/150\n",
      "86/86 [==============================] - 1s 10ms/step - loss: 0.1118 - accuracy: 0.9629 - val_loss: 0.3955 - val_accuracy: 0.8719\n",
      "Epoch 16/150\n",
      "86/86 [==============================] - 1s 11ms/step - loss: 0.1010 - accuracy: 0.9652 - val_loss: 0.3201 - val_accuracy: 0.8828\n",
      "Epoch 17/150\n",
      "86/86 [==============================] - 1s 11ms/step - loss: 0.0867 - accuracy: 0.9754 - val_loss: 0.3397 - val_accuracy: 0.8859\n",
      "Epoch 18/150\n",
      "86/86 [==============================] - 1s 11ms/step - loss: 0.0917 - accuracy: 0.9688 - val_loss: 0.3486 - val_accuracy: 0.8750\n",
      "Epoch 19/150\n",
      "86/86 [==============================] - 1s 10ms/step - loss: 0.0728 - accuracy: 0.9785 - val_loss: 0.3291 - val_accuracy: 0.8734\n",
      "Epoch 20/150\n",
      "86/86 [==============================] - 1s 10ms/step - loss: 0.0707 - accuracy: 0.9777 - val_loss: 0.3488 - val_accuracy: 0.8750\n",
      "Epoch 21/150\n",
      "86/86 [==============================] - 1s 11ms/step - loss: 0.0567 - accuracy: 0.9840 - val_loss: 0.3519 - val_accuracy: 0.8797\n",
      "Epoch 22/150\n",
      "86/86 [==============================] - 1s 10ms/step - loss: 0.0497 - accuracy: 0.9910 - val_loss: 0.3919 - val_accuracy: 0.8797\n",
      "Epoch 23/150\n",
      "86/86 [==============================] - 1s 10ms/step - loss: 0.0432 - accuracy: 0.9891 - val_loss: 0.3686 - val_accuracy: 0.8828\n",
      "Epoch 24/150\n",
      "86/86 [==============================] - 1s 10ms/step - loss: 0.0419 - accuracy: 0.9902 - val_loss: 0.4059 - val_accuracy: 0.8875\n",
      "Epoch 25/150\n",
      "86/86 [==============================] - 1s 11ms/step - loss: 0.0505 - accuracy: 0.9832 - val_loss: 0.4047 - val_accuracy: 0.8891\n",
      "Epoch 26/150\n",
      "86/86 [==============================] - 1s 10ms/step - loss: 0.0393 - accuracy: 0.9898 - val_loss: 0.4009 - val_accuracy: 0.8828\n",
      "Epoch 27/150\n",
      "86/86 [==============================] - 1s 10ms/step - loss: 0.0259 - accuracy: 0.9961 - val_loss: 0.4172 - val_accuracy: 0.8875\n"
     ]
    }
   ],
   "source": [
    "early_stopping = EarlyStopping(\n",
    "    min_delta=0.001, # minimium amount of change to count as an improvement\n",
    "    patience=20, # how many epochs to wait before stopping\n",
    "    restore_best_weights=True,\n",
    ")\n",
    "\n",
    "history = model.fit(train_dataset,\n",
    "        #  steps_per_epoch = 80,\n",
    "         epochs = 150,\n",
    "         callbacks=[early_stopping],\n",
    "         validation_data = validation_dataset\n",
    "         )"
   ]
  },
  {
   "cell_type": "code",
   "execution_count": 6,
   "metadata": {},
   "outputs": [
    {
     "data": {
      "text/plain": [
       "[<matplotlib.lines.Line2D at 0x2b0c6dd00>]"
      ]
     },
     "execution_count": 6,
     "metadata": {},
     "output_type": "execute_result"
    },
    {
     "data": {
      "image/png": "[encoded data removed]",
      "text/plain": [
       "<Figure size 432x288 with 1 Axes>"
      ]
     },
     "metadata": {
      "needs_background": "light"
     },
     "output_type": "display_data"
    }
   ],
   "source": [
    "# visualizing losses and accuracy\n",
    "# print(history.history)\n",
    "train_loss = history.history['loss']\n",
    "val_loss   = history.history['val_loss']\n",
    "train_acc  = history.history['accuracy']\n",
    "val_acc    = history.history['val_accuracy']\n",
    "xc         = range(27)\n",
    "\n",
    "plt.figure()\n",
    "plt.plot(xc, train_loss)\n",
    "plt.plot(xc, val_loss)"
   ]
  },
  {
   "cell_type": "code",
   "execution_count": 7,
   "metadata": {},
   "outputs": [
    {
     "data": {
      "text/plain": [
       "<matplotlib.legend.Legend at 0x175c4e670>"
      ]
     },
     "execution_count": 7,
     "metadata": {},
     "output_type": "execute_result"
    },
    {
     "data": {
      "image/png": "[encoded data removed]",
      "text/plain": [
       "<Figure size 432x288 with 1 Axes>"
      ]
     },
     "metadata": {
      "needs_background": "light"
     },
     "output_type": "display_data"
    }
   ],
   "source": [
    "plt.figure()\n",
    "plt.plot(xc, train_acc,label = 'Train Acc')\n",
    "plt.plot(xc, val_acc,label = 'Val Acc')\n",
    "plt.legend(loc='upper right')"
   ]
  },
  {
   "cell_type": "code",
   "execution_count": 8,
   "metadata": {},
   "outputs": [
    {
     "name": "stdout",
     "output_type": "stream",
     "text": [
      "27/27 [==============================] - 0s 6ms/step - loss: 0.3548 - accuracy: 0.8625\n",
      "Trained with All Three\n",
      "All:  86.24999523162842\n"
     ]
    }
   ],
   "source": [
    "_, acc = model.evaluate(test_dataset)\n",
    "print('Trained with All Three')\n",
    "print('All: ' ,acc *100)\n",
    "\n"
   ]
  },
  {
   "cell_type": "markdown",
   "metadata": {},
   "source": [
    "Prediction"
   ]
  },
  {
   "cell_type": "code",
   "execution_count": null,
   "metadata": {},
   "outputs": [
    {
     "name": "stderr",
     "output_type": "stream",
     "text": [
      "2022-05-26 14:37:18.118496: I tensorflow/core/grappler/optimizers/custom_graph_optimizer_registry.cc:113] Plugin optimizer for device_type GPU is enabled.\n"
     ]
    },
    {
     "name": "stdout",
     "output_type": "stream",
     "text": [
      "[[1.]]\n"
     ]
    },
    {
     "data": {
      "image/png": "[encoded data removed]",
      "text/plain": [
       "<Figure size 432x288 with 1 Axes>"
      ]
     },
     "metadata": {
      "needs_background": "light"
     },
     "output_type": "display_data"
    }
   ],
   "source": [
    "def predictImage(filename):\n",
    "    img1 = image.load_img(filename,target_size=(32,32))\n",
    "    \n",
    "    plt.imshow(img1)\n",
    " \n",
    "    Y = image.img_to_array(img1)\n",
    "    \n",
    "    X = np.expand_dims(Y,axis=0)\n",
    "    val = model.predict(X)\n",
    "    print(val)\n",
    "    if val == 1:\n",
    "        \n",
    "        plt.xlabel(\"Real\",fontsize=30)\n",
    "        \n",
    "    \n",
    "    elif val == 0:\n",
    "        \n",
    "        plt.xlabel(\"Fake\",fontsize=30)\n",
    "\n",
    "predictImage(r\"/Users/nayansavaliya/Masters Mechatronics/2022 Summer/RAML - Project/data/pixelsuffle/test/imagewoof_test/985.jpg\")\n"
   ]
  },
  {
   "cell_type": "code",
   "execution_count": null,
   "metadata": {},
   "outputs": [
    {
     "name": "stdout",
     "output_type": "stream",
     "text": [
      "[[1.]]\n"
     ]
    },
    {
     "data": {
      "image/png": "[encoded data removed]",
      "text/plain": [
       "<Figure size 432x288 with 1 Axes>"
      ]
     },
     "metadata": {
      "needs_background": "light"
     },
     "output_type": "display_data"
    }
   ],
   "source": [
    "\n",
    "predictImage(r\"/Users/nayansavaliya/Masters Mechatronics/2022 Summer/RAML - Project/data/pixelsuffle/test/SNGAN_pixelshuffle_test/890.jpg\")"
   ]
  }
 ],
 "metadata": {
  "interpreter": {
   "hash": "d6559be91acbc93f4d619e1b72121704cbae2e517629d34a1f89aedc7528f034"
  },
  "kernelspec": {
   "display_name": "Python 3.9.12 ('venv': venv)",
   "language": "python",
   "name": "python3"
  },
  "language_info": {
   "codemirror_mode": {
    "name": "ipython",
    "version": 3
   },
   "file_extension": ".py",
   "mimetype": "text/x-python",
   "name": "python",
   "nbconvert_exporter": "python",
   "pygments_lexer": "ipython3",
   "version": "3.9.12"
  },
  "orig_nbformat": 4
 },
 "nbformat": 4,
 "nbformat_minor": 2
}
