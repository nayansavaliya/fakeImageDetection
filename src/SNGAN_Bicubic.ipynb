{
 "cells": [
  {
   "cell_type": "markdown",
   "metadata": {},
   "source": [
    "Imports"
   ]
  },
  {
   "cell_type": "code",
   "execution_count": 104,
   "metadata": {},
   "outputs": [],
   "source": [
    "import tensorflow as tf\n",
    "import numpy as np\n",
    "from tensorflow import keras\n",
    "from keras.preprocessing.image import ImageDataGenerator\n",
    "from keras.preprocessing import image\n",
    "import matplotlib.pyplot as plt\n",
    "\n",
    "\n",
    "# from IPython.core.interactiveshell import InteractiveShell\n",
    "# InteractiveShell.ast_node_interactivity = \"all\"\n",
    "\n"
   ]
  },
  {
   "cell_type": "markdown",
   "metadata": {},
   "source": [
    "Prepare DATASET"
   ]
  },
  {
   "cell_type": "code",
   "execution_count": 105,
   "metadata": {},
   "outputs": [
    {
     "name": "stdout",
     "output_type": "stream",
     "text": [
      "Found 400 images belonging to 2 classes.\n",
      "Found 1600 images belonging to 2 classes.\n"
     ]
    },
    {
     "data": {
      "text/plain": [
       "{'SNGAN_bicubic': 0, 'imagewoof': 1}"
      ]
     },
     "execution_count": 105,
     "metadata": {},
     "output_type": "execute_result"
    }
   ],
   "source": [
    "\n",
    "train = ImageDataGenerator(rescale=1/255)\n",
    "test = ImageDataGenerator(rescale=1/255)\n",
    "\n",
    "train_dataset = train.flow_from_directory(\"/Users/nayansavaliya/Masters Mechatronics/2022 Summer/RAML - Project/data/test\",\n",
    "                                          target_size=(32,32),\n",
    "                                          batch_size = 1,\n",
    "                                          class_mode = 'binary')\n",
    "                                         \n",
    "test_dataset = test.flow_from_directory(\"/Users/nayansavaliya/Masters Mechatronics/2022 Summer/RAML - Project/data/train\",\n",
    "                                          target_size=(32,32),\n",
    "                                          batch_size =1,\n",
    "                                          class_mode = 'binary',)\n",
    "\n",
    "test_dataset.class_indices"
   ]
  },
  {
   "cell_type": "markdown",
   "metadata": {},
   "source": [
    "Design Model"
   ]
  },
  {
   "cell_type": "code",
   "execution_count": 125,
   "metadata": {},
   "outputs": [],
   "source": [
    "model = keras.Sequential()\n",
    "\n",
    "# Convolutional layer and maxpool layer 1\n",
    "model.add(keras.layers.Conv2D(32,(3,3),activation='relu',input_shape=(32,32,3)))\n",
    "model.add(keras.layers.MaxPool2D(2,2))\n",
    "\n",
    "# Convolutional layer and maxpool layer 2\n",
    "model.add(keras.layers.Conv2D(64,(3,3),activation='relu'))\n",
    "model.add(keras.layers.MaxPool2D(2,2))\n",
    "\n",
    "# This layer flattens the resulting image array to 1D array\n",
    "model.add(keras.layers.Flatten())\n",
    "\n",
    "# Hidden layer with 512 neurons and Rectified Linear Unit activation function \n",
    "model.add(keras.layers.Dense(512,activation='relu'))\n",
    "\n",
    "# Output layer with single neuron which gives 0 for fake or 1 for real \n",
    "#Here we use sigmoid activation function which makes our model output to lie between 0 and 1\n",
    "model.add(keras.layers.Dense(1,activation='sigmoid'))\n",
    "\n",
    "\n",
    "model.compile(optimizer='adam',loss='binary_crossentropy',metrics=['accuracy'])"
   ]
  },
  {
   "cell_type": "markdown",
   "metadata": {},
   "source": [
    "Training"
   ]
  },
  {
   "cell_type": "code",
   "execution_count": 136,
   "metadata": {},
   "outputs": [
    {
     "name": "stdout",
     "output_type": "stream",
     "text": [
      "Epoch 1/15\n",
      "80/80 [==============================] - 5s 64ms/step - loss: 0.1462 - accuracy: 0.9500 - val_loss: 0.6403 - val_accuracy: 0.7587\n",
      "Epoch 2/15\n",
      "80/80 [==============================] - 5s 63ms/step - loss: 0.1707 - accuracy: 0.9375 - val_loss: 0.6396 - val_accuracy: 0.7994\n",
      "Epoch 3/15\n",
      "80/80 [==============================] - 5s 63ms/step - loss: 0.2429 - accuracy: 0.8750 - val_loss: 0.5926 - val_accuracy: 0.7981\n",
      "Epoch 4/15\n",
      "80/80 [==============================] - 5s 63ms/step - loss: 0.2568 - accuracy: 0.8625 - val_loss: 0.6791 - val_accuracy: 0.7831\n",
      "Epoch 5/15\n",
      "80/80 [==============================] - 5s 63ms/step - loss: 0.1845 - accuracy: 0.9375 - val_loss: 0.6981 - val_accuracy: 0.7487\n",
      "Epoch 6/15\n",
      "80/80 [==============================] - 5s 63ms/step - loss: 0.2518 - accuracy: 0.9000 - val_loss: 0.6508 - val_accuracy: 0.7925\n",
      "Epoch 7/15\n",
      "80/80 [==============================] - 5s 63ms/step - loss: 0.1715 - accuracy: 0.9250 - val_loss: 0.5840 - val_accuracy: 0.7844\n",
      "Epoch 8/15\n",
      "80/80 [==============================] - 5s 64ms/step - loss: 0.1820 - accuracy: 0.9250 - val_loss: 0.6804 - val_accuracy: 0.7831\n",
      "Epoch 9/15\n",
      "80/80 [==============================] - 5s 63ms/step - loss: 0.2153 - accuracy: 0.9250 - val_loss: 0.8924 - val_accuracy: 0.7075\n",
      "Epoch 10/15\n",
      "80/80 [==============================] - 5s 64ms/step - loss: 0.2375 - accuracy: 0.9375 - val_loss: 0.5247 - val_accuracy: 0.8125\n",
      "Epoch 11/15\n",
      "80/80 [==============================] - 5s 64ms/step - loss: 0.1179 - accuracy: 0.9375 - val_loss: 0.6502 - val_accuracy: 0.7950\n",
      "Epoch 12/15\n",
      "80/80 [==============================] - 5s 64ms/step - loss: 0.1005 - accuracy: 0.9750 - val_loss: 0.6613 - val_accuracy: 0.8006\n",
      "Epoch 13/15\n",
      "80/80 [==============================] - 5s 63ms/step - loss: 0.0222 - accuracy: 1.0000 - val_loss: 0.7264 - val_accuracy: 0.8056\n",
      "Epoch 14/15\n",
      "80/80 [==============================] - 5s 63ms/step - loss: 0.0965 - accuracy: 0.9750 - val_loss: 0.7713 - val_accuracy: 0.7856\n",
      "Epoch 15/15\n",
      "80/80 [==============================] - 5s 64ms/step - loss: 0.1936 - accuracy: 0.9375 - val_loss: 0.6587 - val_accuracy: 0.7619\n"
     ]
    }
   ],
   "source": [
    "history = model.fit(train_dataset,\n",
    "         steps_per_epoch = 80,\n",
    "         epochs = 15,\n",
    "         validation_data = test_dataset\n",
    "         )"
   ]
  },
  {
   "cell_type": "markdown",
   "metadata": {},
   "source": [
    "Prediction"
   ]
  },
  {
   "cell_type": "code",
   "execution_count": 137,
   "metadata": {},
   "outputs": [
    {
     "name": "stdout",
     "output_type": "stream",
     "text": [
      "[[1.]]\n"
     ]
    },
    {
     "data": {
      "image/png": "[encoded data removed]",
      "text/plain": [
       "<Figure size 432x288 with 1 Axes>"
      ]
     },
     "metadata": {
      "needs_background": "light"
     },
     "output_type": "display_data"
    }
   ],
   "source": [
    "def predictImage(filename):\n",
    "    img1 = image.load_img(filename,target_size=(32,32))\n",
    "    \n",
    "    plt.imshow(img1)\n",
    " \n",
    "    Y = image.img_to_array(img1)\n",
    "    \n",
    "    X = np.expand_dims(Y,axis=0)\n",
    "    val = model.predict(X)\n",
    "    print(val)\n",
    "    if val == 1:\n",
    "        \n",
    "        plt.xlabel(\"Real\",fontsize=30)\n",
    "        \n",
    "    \n",
    "    elif val == 0:\n",
    "        \n",
    "        plt.xlabel(\"Fake\",fontsize=30)\n",
    "\n",
    "predictImage(r\"/Users/nayansavaliya/Masters Mechatronics/2022 Summer/RAML - Project/data/test/imagewoof_test/985.jpg\")\n"
   ]
  },
  {
   "cell_type": "code",
   "execution_count": 140,
   "metadata": {},
   "outputs": [
    {
     "name": "stdout",
     "output_type": "stream",
     "text": [
      "[[0.]]\n"
     ]
    },
    {
     "data": {
      "image/png": "[encoded data removed]",
      "text/plain": [
       "<Figure size 432x288 with 1 Axes>"
      ]
     },
     "metadata": {
      "needs_background": "light"
     },
     "output_type": "display_data"
    }
   ],
   "source": [
    "\n",
    "predictImage(r\"/Users/nayansavaliya/Masters Mechatronics/2022 Summer/RAML - Project/data/test/SNGAN_bicubic_test/955.jpg\")"
   ]
  }
 ],
 "metadata": {
  "interpreter": {
   "hash": "d6559be91acbc93f4d619e1b72121704cbae2e517629d34a1f89aedc7528f034"
  },
  "kernelspec": {
   "display_name": "Python 3.9.12 ('venv': venv)",
   "language": "python",
   "name": "python3"
  },
  "language_info": {
   "codemirror_mode": {
    "name": "ipython",
    "version": 3
   },
   "file_extension": ".py",
   "mimetype": "text/x-python",
   "name": "python",
   "nbconvert_exporter": "python",
   "pygments_lexer": "ipython3",
   "version": "3.9.12"
  },
  "orig_nbformat": 4
 },
 "nbformat": 4,
 "nbformat_minor": 2
}
