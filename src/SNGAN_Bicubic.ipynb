{
 "cells": [
  {
   "cell_type": "markdown",
   "metadata": {},
   "source": [
    "Imports"
   ]
  },
  {
   "cell_type": "code",
   "execution_count": 1,
   "metadata": {},
   "outputs": [],
   "source": [
    "import tensorflow as tf\n",
    "import numpy as np\n",
    "from tensorflow import keras\n",
    "from keras.preprocessing.image import ImageDataGenerator\n",
    "from keras.preprocessing import image\n",
    "import matplotlib.pyplot as plt\n",
    "from keras.callbacks import EarlyStopping\n",
    "\n",
    "\n",
    "# from IPython.core.interactiveshell import InteractiveShell\n",
    "# InteractiveShell.ast_node_interactivity = \"all\"\n",
    "\n"
   ]
  },
  {
   "cell_type": "markdown",
   "metadata": {},
   "source": [
    "Prepare DATASET"
   ]
  },
  {
   "cell_type": "code",
   "execution_count": 2,
   "metadata": {},
   "outputs": [
    {
     "name": "stdout",
     "output_type": "stream",
     "text": [
      "Found 1280 images belonging to 2 classes.\n",
      "Found 320 images belonging to 2 classes.\n",
      "Found 400 images belonging to 2 classes.\n",
      "14\n"
     ]
    },
    {
     "data": {
      "text/plain": [
       "{'SNGAN_bicubic_test': 0, 'imagewoof_test': 1}"
      ]
     },
     "execution_count": 2,
     "metadata": {},
     "output_type": "execute_result"
    }
   ],
   "source": [
    "\n",
    "train = ImageDataGenerator(rescale=1/255,validation_split=0.2)\n",
    "test = ImageDataGenerator(rescale=1/255)\n",
    "\n",
    "train_dataset = train.flow_from_directory(\"/Users/nayansavaliya/Masters Mechatronics/2022 Summer/RAML - Project/data/bicubic/train\",\n",
    "                                          target_size=(32,32),\n",
    "                                          batch_size = 96,\n",
    "                                          class_mode = 'binary',subset='training')\n",
    "\n",
    "validation_dataset = train.flow_from_directory(\"/Users/nayansavaliya/Masters Mechatronics/2022 Summer/RAML - Project/data/bicubic/train\",\n",
    "                                          target_size=(32,32),\n",
    "                                          batch_size = 96,\n",
    "                                          class_mode = 'binary',subset='validation')                                    \n",
    "test_dataset = test.flow_from_directory(\"/Users/nayansavaliya/Masters Mechatronics/2022 Summer/RAML - Project/data/bicubic/test\",\n",
    "                                          target_size=(32,32),\n",
    "                                          batch_size =96,\n",
    "                                          class_mode = 'binary')\n",
    "print(train_dataset.__len__())\n",
    "test_dataset.class_indices"
   ]
  },
  {
   "cell_type": "markdown",
   "metadata": {},
   "source": [
    "Design Model"
   ]
  },
  {
   "cell_type": "code",
   "execution_count": 3,
   "metadata": {},
   "outputs": [
    {
     "name": "stdout",
     "output_type": "stream",
     "text": [
      "Metal device set to: Apple M1\n",
      "\n",
      "systemMemory: 16.00 GB\n",
      "maxCacheSize: 5.33 GB\n",
      "\n"
     ]
    },
    {
     "name": "stderr",
     "output_type": "stream",
     "text": [
      "2022-07-03 21:27:04.797640: I tensorflow/core/common_runtime/pluggable_device/pluggable_device_factory.cc:305] Could not identify NUMA node of platform GPU ID 0, defaulting to 0. Your kernel may not have been built with NUMA support.\n",
      "2022-07-03 21:27:04.797740: I tensorflow/core/common_runtime/pluggable_device/pluggable_device_factory.cc:271] Created TensorFlow device (/job:localhost/replica:0/task:0/device:GPU:0 with 0 MB memory) -> physical PluggableDevice (device: 0, name: METAL, pci bus id: <undefined>)\n"
     ]
    }
   ],
   "source": [
    "model = keras.Sequential()\n",
    "\n",
    "# Convolutional layer and maxpool layer 1\n",
    "model.add(keras.layers.Conv2D(32,(3,3),activation='relu',input_shape=(32,32,3)))\n",
    "# model.add(keras.layers.MaxPool2D(2,2))\n",
    "\n",
    "# This layer flattens the resulting image array to 1D array\n",
    "model.add(keras.layers.Flatten())\n",
    "\n",
    "# Hidden layer with 512 neurons and Rectified Linear Unit activation function \n",
    "model.add(keras.layers.Dense(32,activation='relu'))\n",
    "\n",
    "# Output layer with single neuron which gives 0 for fake or 1 for real \n",
    "#Here we use sigmoid activation function which makes our model output to lie between 0 and 1\n",
    "model.add(keras.layers.Dense(1,activation='sigmoid'))\n",
    "\n",
    "\n",
    "model.compile(optimizer='adam',loss='binary_crossentropy',metrics=['accuracy'])"
   ]
  },
  {
   "cell_type": "markdown",
   "metadata": {},
   "source": [
    "Training\n",
    "\n",
    "Usually with every epoch increasing, loss goes lower and accuracy goes higher. But with val_loss and val_acc, many cases can be possible:\n",
    "\n",
    "val_loss starts increasing, val_acc starts decreasing(means model is cramming values not learning)\n",
    "\n",
    "val_loss starts increasing, val_acc also increases.(could be case of overfitting or diverse probability values in cases softmax is used in output layer)\n",
    "\n",
    "val_loss starts decreasing, val_acc starts increasing(Correct, means model build is learning and working fine)"
   ]
  },
  {
   "cell_type": "code",
   "execution_count": 4,
   "metadata": {},
   "outputs": [
    {
     "name": "stdout",
     "output_type": "stream",
     "text": [
      "Epoch 1/100\n"
     ]
    },
    {
     "name": "stderr",
     "output_type": "stream",
     "text": [
      "2022-07-03 21:27:04.924839: W tensorflow/core/platform/profile_utils/cpu_utils.cc:128] Failed to get CPU frequency: 0 Hz\n"
     ]
    },
    {
     "name": "stdout",
     "output_type": "stream",
     "text": [
      " 5/14 [=========>....................] - ETA: 0s - loss: 1.4476 - accuracy: 0.5563"
     ]
    },
    {
     "name": "stderr",
     "output_type": "stream",
     "text": [
      "2022-07-03 21:27:05.203098: I tensorflow/core/grappler/optimizers/custom_graph_optimizer_registry.cc:113] Plugin optimizer for device_type GPU is enabled.\n"
     ]
    },
    {
     "name": "stdout",
     "output_type": "stream",
     "text": [
      "14/14 [==============================] - 1s 28ms/step - loss: 1.0549 - accuracy: 0.5500 - val_loss: 0.6154 - val_accuracy: 0.5875\n",
      "Epoch 2/100\n",
      " 5/14 [=========>....................] - ETA: 0s - loss: 0.6233 - accuracy: 0.6083"
     ]
    },
    {
     "name": "stderr",
     "output_type": "stream",
     "text": [
      "2022-07-03 21:27:05.621714: I tensorflow/core/grappler/optimizers/custom_graph_optimizer_registry.cc:113] Plugin optimizer for device_type GPU is enabled.\n"
     ]
    },
    {
     "name": "stdout",
     "output_type": "stream",
     "text": [
      "14/14 [==============================] - 0s 18ms/step - loss: 0.5857 - accuracy: 0.6930 - val_loss: 0.5354 - val_accuracy: 0.7250\n",
      "Epoch 3/100\n",
      "14/14 [==============================] - 0s 18ms/step - loss: 0.4762 - accuracy: 0.8047 - val_loss: 0.4696 - val_accuracy: 0.8156\n",
      "Epoch 4/100\n",
      "14/14 [==============================] - 0s 18ms/step - loss: 0.4195 - accuracy: 0.8148 - val_loss: 0.3845 - val_accuracy: 0.8438\n",
      "Epoch 5/100\n",
      "14/14 [==============================] - 0s 18ms/step - loss: 0.3453 - accuracy: 0.8664 - val_loss: 0.3684 - val_accuracy: 0.8406\n",
      "Epoch 6/100\n",
      "14/14 [==============================] - 0s 18ms/step - loss: 0.2993 - accuracy: 0.8891 - val_loss: 0.3085 - val_accuracy: 0.8750\n",
      "Epoch 7/100\n",
      "14/14 [==============================] - 0s 18ms/step - loss: 0.2664 - accuracy: 0.9055 - val_loss: 0.2801 - val_accuracy: 0.8875\n",
      "Epoch 8/100\n",
      "14/14 [==============================] - 0s 18ms/step - loss: 0.2154 - accuracy: 0.9344 - val_loss: 0.2652 - val_accuracy: 0.8969\n",
      "Epoch 9/100\n",
      "14/14 [==============================] - 0s 18ms/step - loss: 0.1978 - accuracy: 0.9336 - val_loss: 0.2493 - val_accuracy: 0.8969\n",
      "Epoch 10/100\n",
      "14/14 [==============================] - 0s 18ms/step - loss: 0.1827 - accuracy: 0.9383 - val_loss: 0.3020 - val_accuracy: 0.8656\n",
      "Epoch 11/100\n",
      "14/14 [==============================] - 0s 18ms/step - loss: 0.2093 - accuracy: 0.9242 - val_loss: 0.2367 - val_accuracy: 0.9000\n",
      "Epoch 12/100\n",
      "14/14 [==============================] - 0s 18ms/step - loss: 0.1475 - accuracy: 0.9648 - val_loss: 0.2438 - val_accuracy: 0.8969\n",
      "Epoch 13/100\n",
      "14/14 [==============================] - 0s 18ms/step - loss: 0.1397 - accuracy: 0.9648 - val_loss: 0.2055 - val_accuracy: 0.9375\n",
      "Epoch 14/100\n",
      "14/14 [==============================] - 0s 18ms/step - loss: 0.1557 - accuracy: 0.9430 - val_loss: 0.1958 - val_accuracy: 0.9125\n",
      "Epoch 15/100\n",
      "14/14 [==============================] - 0s 18ms/step - loss: 0.1678 - accuracy: 0.9359 - val_loss: 0.2060 - val_accuracy: 0.9125\n",
      "Epoch 16/100\n",
      "14/14 [==============================] - 0s 18ms/step - loss: 0.1263 - accuracy: 0.9680 - val_loss: 0.1891 - val_accuracy: 0.9344\n",
      "Epoch 17/100\n",
      "14/14 [==============================] - 0s 18ms/step - loss: 0.1490 - accuracy: 0.9461 - val_loss: 0.2382 - val_accuracy: 0.8844\n",
      "Epoch 18/100\n",
      "14/14 [==============================] - 0s 18ms/step - loss: 0.1331 - accuracy: 0.9594 - val_loss: 0.2244 - val_accuracy: 0.8969\n",
      "Epoch 19/100\n",
      "14/14 [==============================] - 0s 18ms/step - loss: 0.1010 - accuracy: 0.9797 - val_loss: 0.2042 - val_accuracy: 0.9187\n",
      "Epoch 20/100\n",
      "14/14 [==============================] - 0s 18ms/step - loss: 0.0913 - accuracy: 0.9820 - val_loss: 0.2022 - val_accuracy: 0.9313\n",
      "Epoch 21/100\n",
      "14/14 [==============================] - 0s 18ms/step - loss: 0.1062 - accuracy: 0.9664 - val_loss: 0.1898 - val_accuracy: 0.9406\n",
      "Epoch 22/100\n",
      "14/14 [==============================] - 0s 18ms/step - loss: 0.1144 - accuracy: 0.9633 - val_loss: 0.3105 - val_accuracy: 0.8594\n",
      "Epoch 23/100\n",
      "14/14 [==============================] - 0s 18ms/step - loss: 0.0981 - accuracy: 0.9734 - val_loss: 0.1925 - val_accuracy: 0.9500\n",
      "Epoch 24/100\n",
      "14/14 [==============================] - 0s 18ms/step - loss: 0.0693 - accuracy: 0.9883 - val_loss: 0.1958 - val_accuracy: 0.9062\n",
      "Epoch 25/100\n",
      "14/14 [==============================] - 0s 18ms/step - loss: 0.0637 - accuracy: 0.9938 - val_loss: 0.1730 - val_accuracy: 0.9438\n",
      "Epoch 26/100\n",
      "14/14 [==============================] - 0s 18ms/step - loss: 0.0583 - accuracy: 0.9914 - val_loss: 0.1703 - val_accuracy: 0.9469\n",
      "Epoch 27/100\n",
      "14/14 [==============================] - 0s 18ms/step - loss: 0.0579 - accuracy: 0.9930 - val_loss: 0.2100 - val_accuracy: 0.9062\n",
      "Epoch 28/100\n",
      "14/14 [==============================] - 0s 18ms/step - loss: 0.0536 - accuracy: 0.9922 - val_loss: 0.1780 - val_accuracy: 0.9156\n",
      "Epoch 29/100\n",
      "14/14 [==============================] - 0s 18ms/step - loss: 0.0469 - accuracy: 0.9945 - val_loss: 0.1655 - val_accuracy: 0.9406\n",
      "Epoch 30/100\n",
      "14/14 [==============================] - 0s 19ms/step - loss: 0.0520 - accuracy: 0.9906 - val_loss: 0.1969 - val_accuracy: 0.9062\n",
      "Epoch 31/100\n",
      "14/14 [==============================] - 0s 18ms/step - loss: 0.0414 - accuracy: 0.9984 - val_loss: 0.1621 - val_accuracy: 0.9344\n",
      "Epoch 32/100\n",
      "14/14 [==============================] - 0s 18ms/step - loss: 0.0390 - accuracy: 0.9977 - val_loss: 0.1636 - val_accuracy: 0.9531\n",
      "Epoch 33/100\n",
      "14/14 [==============================] - 0s 18ms/step - loss: 0.0366 - accuracy: 0.9953 - val_loss: 0.1624 - val_accuracy: 0.9406\n",
      "Epoch 34/100\n",
      "14/14 [==============================] - 0s 18ms/step - loss: 0.0305 - accuracy: 0.9984 - val_loss: 0.2141 - val_accuracy: 0.8969\n",
      "Epoch 35/100\n",
      "14/14 [==============================] - 0s 18ms/step - loss: 0.0295 - accuracy: 1.0000 - val_loss: 0.1643 - val_accuracy: 0.9187\n",
      "Epoch 36/100\n",
      "14/14 [==============================] - 0s 18ms/step - loss: 0.0263 - accuracy: 1.0000 - val_loss: 0.1766 - val_accuracy: 0.9187\n",
      "Epoch 37/100\n",
      "14/14 [==============================] - 0s 18ms/step - loss: 0.0247 - accuracy: 1.0000 - val_loss: 0.1650 - val_accuracy: 0.9219\n",
      "Epoch 38/100\n",
      "14/14 [==============================] - 0s 18ms/step - loss: 0.0240 - accuracy: 1.0000 - val_loss: 0.1575 - val_accuracy: 0.9438\n",
      "Epoch 39/100\n",
      "14/14 [==============================] - 0s 18ms/step - loss: 0.0270 - accuracy: 0.9984 - val_loss: 0.1562 - val_accuracy: 0.9438\n",
      "Epoch 40/100\n",
      "14/14 [==============================] - 0s 18ms/step - loss: 0.0225 - accuracy: 0.9992 - val_loss: 0.1597 - val_accuracy: 0.9438\n",
      "Epoch 41/100\n",
      "14/14 [==============================] - 0s 18ms/step - loss: 0.0197 - accuracy: 1.0000 - val_loss: 0.1924 - val_accuracy: 0.9156\n",
      "Epoch 42/100\n",
      "14/14 [==============================] - 0s 18ms/step - loss: 0.0199 - accuracy: 0.9992 - val_loss: 0.1622 - val_accuracy: 0.9219\n",
      "Epoch 43/100\n",
      "14/14 [==============================] - 0s 18ms/step - loss: 0.0172 - accuracy: 1.0000 - val_loss: 0.1693 - val_accuracy: 0.9187\n",
      "Epoch 44/100\n",
      "14/14 [==============================] - 0s 18ms/step - loss: 0.0166 - accuracy: 1.0000 - val_loss: 0.2140 - val_accuracy: 0.9031\n",
      "Epoch 45/100\n",
      "14/14 [==============================] - 0s 18ms/step - loss: 0.0182 - accuracy: 1.0000 - val_loss: 0.1777 - val_accuracy: 0.9219\n",
      "Epoch 46/100\n",
      "14/14 [==============================] - 0s 18ms/step - loss: 0.0151 - accuracy: 1.0000 - val_loss: 0.1601 - val_accuracy: 0.9375\n",
      "Epoch 47/100\n",
      "14/14 [==============================] - 0s 18ms/step - loss: 0.0152 - accuracy: 1.0000 - val_loss: 0.1615 - val_accuracy: 0.9313\n",
      "Epoch 48/100\n",
      "14/14 [==============================] - 0s 18ms/step - loss: 0.0136 - accuracy: 1.0000 - val_loss: 0.1576 - val_accuracy: 0.9438\n",
      "Epoch 49/100\n",
      "14/14 [==============================] - 0s 18ms/step - loss: 0.0140 - accuracy: 1.0000 - val_loss: 0.1562 - val_accuracy: 0.9438\n",
      "Epoch 50/100\n",
      "14/14 [==============================] - 0s 18ms/step - loss: 0.0142 - accuracy: 1.0000 - val_loss: 0.1711 - val_accuracy: 0.9250\n",
      "Epoch 51/100\n",
      "14/14 [==============================] - 0s 18ms/step - loss: 0.0138 - accuracy: 1.0000 - val_loss: 0.1952 - val_accuracy: 0.9156\n",
      "Epoch 52/100\n",
      "14/14 [==============================] - 0s 18ms/step - loss: 0.0139 - accuracy: 1.0000 - val_loss: 0.1647 - val_accuracy: 0.9313\n",
      "Epoch 53/100\n",
      "14/14 [==============================] - 0s 17ms/step - loss: 0.0240 - accuracy: 1.0000 - val_loss: 0.1599 - val_accuracy: 0.9313\n",
      "Epoch 54/100\n",
      "14/14 [==============================] - 0s 18ms/step - loss: 0.0168 - accuracy: 0.9992 - val_loss: 0.1539 - val_accuracy: 0.9469\n",
      "Epoch 55/100\n",
      "14/14 [==============================] - 0s 18ms/step - loss: 0.0114 - accuracy: 1.0000 - val_loss: 0.1836 - val_accuracy: 0.9187\n",
      "Epoch 56/100\n",
      "14/14 [==============================] - 0s 18ms/step - loss: 0.0105 - accuracy: 1.0000 - val_loss: 0.1579 - val_accuracy: 0.9438\n",
      "Epoch 57/100\n",
      "14/14 [==============================] - 0s 18ms/step - loss: 0.0122 - accuracy: 1.0000 - val_loss: 0.2170 - val_accuracy: 0.9094\n",
      "Epoch 58/100\n",
      "14/14 [==============================] - 0s 18ms/step - loss: 0.0103 - accuracy: 1.0000 - val_loss: 0.1600 - val_accuracy: 0.9406\n",
      "Epoch 59/100\n",
      "14/14 [==============================] - 0s 18ms/step - loss: 0.0090 - accuracy: 1.0000 - val_loss: 0.1804 - val_accuracy: 0.9187\n",
      "Epoch 60/100\n",
      "14/14 [==============================] - 0s 18ms/step - loss: 0.0075 - accuracy: 1.0000 - val_loss: 0.1726 - val_accuracy: 0.9281\n",
      "Epoch 61/100\n",
      "14/14 [==============================] - 0s 18ms/step - loss: 0.0077 - accuracy: 1.0000 - val_loss: 0.1700 - val_accuracy: 0.9281\n",
      "Epoch 62/100\n",
      "14/14 [==============================] - 0s 17ms/step - loss: 0.0080 - accuracy: 1.0000 - val_loss: 0.1830 - val_accuracy: 0.9156\n",
      "Epoch 63/100\n",
      "14/14 [==============================] - 0s 18ms/step - loss: 0.0078 - accuracy: 1.0000 - val_loss: 0.1646 - val_accuracy: 0.9344\n",
      "Epoch 64/100\n",
      "14/14 [==============================] - 0s 18ms/step - loss: 0.0062 - accuracy: 1.0000 - val_loss: 0.1704 - val_accuracy: 0.9313\n",
      "Epoch 65/100\n",
      "14/14 [==============================] - 0s 19ms/step - loss: 0.0057 - accuracy: 1.0000 - val_loss: 0.1672 - val_accuracy: 0.9344\n",
      "Epoch 66/100\n",
      "14/14 [==============================] - 0s 18ms/step - loss: 0.0058 - accuracy: 1.0000 - val_loss: 0.2056 - val_accuracy: 0.9125\n",
      "Epoch 67/100\n",
      "14/14 [==============================] - 0s 18ms/step - loss: 0.0062 - accuracy: 1.0000 - val_loss: 0.1702 - val_accuracy: 0.9313\n",
      "Epoch 68/100\n",
      "14/14 [==============================] - 0s 18ms/step - loss: 0.0052 - accuracy: 1.0000 - val_loss: 0.1890 - val_accuracy: 0.9219\n",
      "Epoch 69/100\n",
      "14/14 [==============================] - 0s 18ms/step - loss: 0.0056 - accuracy: 1.0000 - val_loss: 0.1613 - val_accuracy: 0.9469\n",
      "Epoch 70/100\n",
      "14/14 [==============================] - 0s 18ms/step - loss: 0.0051 - accuracy: 1.0000 - val_loss: 0.2051 - val_accuracy: 0.9156\n",
      "Epoch 71/100\n",
      "14/14 [==============================] - 0s 18ms/step - loss: 0.0055 - accuracy: 1.0000 - val_loss: 0.1616 - val_accuracy: 0.9500\n",
      "Epoch 72/100\n",
      "14/14 [==============================] - 0s 18ms/step - loss: 0.0049 - accuracy: 1.0000 - val_loss: 0.1936 - val_accuracy: 0.9187\n",
      "Epoch 73/100\n",
      "14/14 [==============================] - 0s 18ms/step - loss: 0.0044 - accuracy: 1.0000 - val_loss: 0.1710 - val_accuracy: 0.9313\n",
      "Epoch 74/100\n",
      "14/14 [==============================] - 0s 18ms/step - loss: 0.0041 - accuracy: 1.0000 - val_loss: 0.1792 - val_accuracy: 0.9250\n"
     ]
    }
   ],
   "source": [
    "early_stopping = EarlyStopping(\n",
    "    min_delta=0.001, # minimium amount of change to count as an improvement\n",
    "    patience=20, # how many epochs to wait before stopping\n",
    "    restore_best_weights=True,\n",
    ")\n",
    "# steps per epoch is calculated as train_length // batch_size\n",
    "history = model.fit(train_dataset,\n",
    "        #  steps_per_epoch = 42,\n",
    "         epochs = 100,\n",
    "         callbacks=[early_stopping],\n",
    "         validation_data = validation_dataset,\n",
    "        \n",
    "         )"
   ]
  },
  {
   "cell_type": "code",
   "execution_count": 6,
   "metadata": {},
   "outputs": [
    {
     "data": {
      "text/plain": [
       "<matplotlib.legend.Legend at 0x2b8adbdc0>"
      ]
     },
     "execution_count": 6,
     "metadata": {},
     "output_type": "execute_result"
    },
    {
     "data": {
      "image/png": "[encoded data removed]",
      "text/plain": [
       "<Figure size 432x288 with 1 Axes>"
      ]
     },
     "metadata": {
      "needs_background": "light"
     },
     "output_type": "display_data"
    }
   ],
   "source": [
    "# visualizing losses and accuracy\n",
    "# print(history.history)\n",
    "train_loss = history.history['loss']\n",
    "val_loss   = history.history['val_loss']\n",
    "train_acc  = history.history['accuracy']\n",
    "val_acc    = history.history['val_accuracy']\n",
    "xc         = range(74)\n",
    "\n",
    "plt.figure()\n",
    "plt.plot(xc, train_loss,label = 'Train Loss')\n",
    "plt.plot(xc, val_loss,label = 'Val Loss')\n",
    "plt.legend(loc='upper right')\n",
    "\n"
   ]
  },
  {
   "cell_type": "code",
   "execution_count": 7,
   "metadata": {},
   "outputs": [
    {
     "data": {
      "text/plain": [
       "<matplotlib.legend.Legend at 0x172e8c1f0>"
      ]
     },
     "execution_count": 7,
     "metadata": {},
     "output_type": "execute_result"
    },
    {
     "data": {
      "image/png": "[encoded data removed]",
      "text/plain": [
       "<Figure size 432x288 with 1 Axes>"
      ]
     },
     "metadata": {
      "needs_background": "light"
     },
     "output_type": "display_data"
    }
   ],
   "source": [
    "plt.figure()\n",
    "plt.plot(xc, train_acc,label = 'Train Acc')\n",
    "plt.plot(xc, val_acc,label = 'Val Acc')\n",
    "plt.legend(loc='upper right')"
   ]
  },
  {
   "cell_type": "code",
   "execution_count": 8,
   "metadata": {},
   "outputs": [
    {
     "name": "stdout",
     "output_type": "stream",
     "text": [
      "5/5 [==============================] - 0s 12ms/step - loss: 0.2685 - accuracy: 0.8950\n",
      "Trained with Bicubic\n",
      "Bicubic:  89.49999809265137\n",
      "Found 400 images belonging to 2 classes.\n",
      "5/5 [==============================] - 0s 8ms/step - loss: 1.9847 - accuracy: 0.5650\n",
      "Bilinear:  56.49999976158142\n",
      "Found 400 images belonging to 2 classes.\n",
      "5/5 [==============================] - 0s 9ms/step - loss: 1.7291 - accuracy: 0.5450\n",
      "Pixelsuffle:  54.500001668930054\n"
     ]
    }
   ],
   "source": [
    "_, acc = model.evaluate(test_dataset)\n",
    "print('Trained with Bicubic')\n",
    "print('Bicubic: ' ,acc *100)\n",
    "\n",
    "test_dataset2 = test.flow_from_directory(\"/Users/nayansavaliya/Masters Mechatronics/2022 Summer/RAML - Project/data/bilinear/test\",\n",
    "                                          target_size=(32,32),\n",
    "                                          batch_size =96,\n",
    "                                          class_mode = 'binary')\n",
    "\n",
    "_, acc = model.evaluate(test_dataset2)\n",
    "print('Bilinear: ' ,acc *100)\n",
    "\n",
    "test_dataset3 = test.flow_from_directory(\"/Users/nayansavaliya/Masters Mechatronics/2022 Summer/RAML - Project/data/pixelsuffle/test\",\n",
    "                                          target_size=(32,32),\n",
    "                                          batch_size =96,\n",
    "                                          class_mode = 'binary')\n",
    "\n",
    "_, acc = model.evaluate(test_dataset3)\n",
    "print('Pixelsuffle: ' ,acc *100)"
   ]
  },
  {
   "cell_type": "markdown",
   "metadata": {},
   "source": [
    "Prediction"
   ]
  },
  {
   "cell_type": "code",
   "execution_count": null,
   "metadata": {},
   "outputs": [
    {
     "name": "stdout",
     "output_type": "stream",
     "text": [
      "[[1.]]\n"
     ]
    },
    {
     "name": "stderr",
     "output_type": "stream",
     "text": [
      "2022-05-19 14:34:52.834697: I tensorflow/core/grappler/optimizers/custom_graph_optimizer_registry.cc:113] Plugin optimizer for device_type GPU is enabled.\n"
     ]
    },
    {
     "data": {
      "image/png": "[encoded data removed]",
      "text/plain": [
       "<Figure size 432x288 with 1 Axes>"
      ]
     },
     "metadata": {
      "needs_background": "light"
     },
     "output_type": "display_data"
    }
   ],
   "source": [
    "def predictImage(filename):\n",
    "    img1 = image.load_img(filename,target_size=(32,32))\n",
    "    \n",
    "    plt.imshow(img1)\n",
    " \n",
    "    Y = image.img_to_array(img1)\n",
    "    \n",
    "    X = np.expand_dims(Y,axis=0)\n",
    "    val = model.predict(X)\n",
    "    print(val)\n",
    "    if val >= 0.5:\n",
    "        \n",
    "        plt.xlabel(\"Real\",fontsize=30)\n",
    "        \n",
    "    \n",
    "    elif val < 0.5:\n",
    "        \n",
    "        plt.xlabel(\"Fake\",fontsize=30)\n",
    "\n",
    "predictImage(r\"/Users/nayansavaliya/Masters Mechatronics/2022 Summer/RAML - Project/data/bicubic/test/imagewoof_test/952.jpg\")\n"
   ]
  },
  {
   "cell_type": "code",
   "execution_count": null,
   "metadata": {},
   "outputs": [
    {
     "name": "stdout",
     "output_type": "stream",
     "text": [
      "[[1.]]\n"
     ]
    },
    {
     "data": {
      "image/png": "[encoded data removed]",
      "text/plain": [
       "<Figure size 432x288 with 1 Axes>"
      ]
     },
     "metadata": {
      "needs_background": "light"
     },
     "output_type": "display_data"
    }
   ],
   "source": [
    "\n",
    "predictImage(r\"/Users/nayansavaliya/Masters Mechatronics/2022 Summer/RAML - Project/data/bicubic/test/SNGAN_bicubic_test/960.jpg\")"
   ]
  }
 ],
 "metadata": {
  "interpreter": {
   "hash": "d6559be91acbc93f4d619e1b72121704cbae2e517629d34a1f89aedc7528f034"
  },
  "kernelspec": {
   "display_name": "Python 3.9.12 ('venv': venv)",
   "language": "python",
   "name": "python3"
  },
  "language_info": {
   "codemirror_mode": {
    "name": "ipython",
    "version": 3
   },
   "file_extension": ".py",
   "mimetype": "text/x-python",
   "name": "python",
   "nbconvert_exporter": "python",
   "pygments_lexer": "ipython3",
   "version": "3.9.12"
  },
  "orig_nbformat": 4
 },
 "nbformat": 4,
 "nbformat_minor": 2
}
