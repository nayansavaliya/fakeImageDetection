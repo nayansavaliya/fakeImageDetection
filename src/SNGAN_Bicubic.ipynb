{
 "cells": [
  {
   "cell_type": "markdown",
   "metadata": {},
   "source": [
    "Imports"
   ]
  },
  {
   "cell_type": "code",
   "execution_count": 1,
   "metadata": {},
   "outputs": [],
   "source": [
    "import tensorflow as tf\n",
    "import numpy as np\n",
    "from tensorflow import keras\n",
    "from keras.preprocessing.image import ImageDataGenerator\n",
    "from keras.preprocessing import image\n",
    "import matplotlib.pyplot as plt\n",
    "from keras.callbacks import EarlyStopping\n",
    "\n",
    "\n",
    "# from IPython.core.interactiveshell import InteractiveShell\n",
    "# InteractiveShell.ast_node_interactivity = \"all\"\n",
    "\n"
   ]
  },
  {
   "cell_type": "markdown",
   "metadata": {},
   "source": [
    "Prepare DATASET"
   ]
  },
  {
   "cell_type": "code",
   "execution_count": 2,
   "metadata": {},
   "outputs": [
    {
     "name": "stdout",
     "output_type": "stream",
     "text": [
      "Found 1280 images belonging to 2 classes.\n",
      "Found 320 images belonging to 2 classes.\n",
      "Found 400 images belonging to 2 classes.\n"
     ]
    },
    {
     "data": {
      "text/plain": [
       "{'SNGAN_bicubic_test': 0, 'imagewoof_test': 1}"
      ]
     },
     "execution_count": 2,
     "metadata": {},
     "output_type": "execute_result"
    }
   ],
   "source": [
    "\n",
    "train = ImageDataGenerator(rescale=1/255,validation_split=0.2)\n",
    "test = ImageDataGenerator(rescale=1/255)\n",
    "\n",
    "train_dataset = train.flow_from_directory(\"/Users/nayansavaliya/Masters Mechatronics/2022 Summer/RAML - Project/data/bicubic/train\",\n",
    "                                          target_size=(32,32),\n",
    "                                          batch_size = 30,\n",
    "                                          class_mode = 'binary',subset='training')\n",
    "\n",
    "validation_dataset = train.flow_from_directory(\"/Users/nayansavaliya/Masters Mechatronics/2022 Summer/RAML - Project/data/bicubic/train\",\n",
    "                                          target_size=(32,32),\n",
    "                                          batch_size = 30,\n",
    "                                          class_mode = 'binary',subset='validation')                                    \n",
    "test_dataset = test.flow_from_directory(\"/Users/nayansavaliya/Masters Mechatronics/2022 Summer/RAML - Project/data/bicubic/test\",\n",
    "                                          target_size=(32,32),\n",
    "                                          batch_size =30,\n",
    "                                          class_mode = 'binary')\n",
    "\n",
    "test_dataset.class_indices"
   ]
  },
  {
   "cell_type": "markdown",
   "metadata": {},
   "source": [
    "Design Model"
   ]
  },
  {
   "cell_type": "code",
   "execution_count": 3,
   "metadata": {},
   "outputs": [
    {
     "name": "stdout",
     "output_type": "stream",
     "text": [
      "Metal device set to: Apple M1\n",
      "\n",
      "systemMemory: 16.00 GB\n",
      "maxCacheSize: 5.33 GB\n",
      "\n"
     ]
    },
    {
     "name": "stderr",
     "output_type": "stream",
     "text": [
      "2022-05-15 02:21:53.561870: I tensorflow/core/common_runtime/pluggable_device/pluggable_device_factory.cc:305] Could not identify NUMA node of platform GPU ID 0, defaulting to 0. Your kernel may not have been built with NUMA support.\n",
      "2022-05-15 02:21:53.562050: I tensorflow/core/common_runtime/pluggable_device/pluggable_device_factory.cc:271] Created TensorFlow device (/job:localhost/replica:0/task:0/device:GPU:0 with 0 MB memory) -> physical PluggableDevice (device: 0, name: METAL, pci bus id: <undefined>)\n"
     ]
    }
   ],
   "source": [
    "model = keras.Sequential()\n",
    "\n",
    "# Convolutional layer and maxpool layer 1\n",
    "model.add(keras.layers.Conv2D(32,(3,3),activation='relu',input_shape=(32,32,3)))\n",
    "model.add(keras.layers.MaxPool2D(2,2))\n",
    "\n",
    "# This layer flattens the resulting image array to 1D array\n",
    "model.add(keras.layers.Flatten())\n",
    "\n",
    "# Hidden layer with 512 neurons and Rectified Linear Unit activation function \n",
    "model.add(keras.layers.Dense(32,activation='relu'))\n",
    "\n",
    "# Output layer with single neuron which gives 0 for fake or 1 for real \n",
    "#Here we use sigmoid activation function which makes our model output to lie between 0 and 1\n",
    "model.add(keras.layers.Dense(1,activation='sigmoid'))\n",
    "\n",
    "\n",
    "model.compile(optimizer='adam',loss='binary_crossentropy',metrics=['accuracy'])"
   ]
  },
  {
   "cell_type": "markdown",
   "metadata": {},
   "source": [
    "Training\n",
    "\n",
    "Usually with every epoch increasing, loss goes lower and accuracy goes higher. But with val_loss and val_acc, many cases can be possible:\n",
    "\n",
    "val_loss starts increasing, val_acc starts decreasing(means model is cramming values not learning)\n",
    "\n",
    "val_loss starts increasing, val_acc also increases.(could be case of overfitting or diverse probability values in cases softmax is used in output layer)\n",
    "\n",
    "val_loss starts decreasing, val_acc starts increasing(Correct, means model build is learning and working fine)"
   ]
  },
  {
   "cell_type": "code",
   "execution_count": 4,
   "metadata": {},
   "outputs": [
    {
     "name": "stdout",
     "output_type": "stream",
     "text": [
      "Epoch 1/100\n"
     ]
    },
    {
     "name": "stderr",
     "output_type": "stream",
     "text": [
      "2022-05-15 02:21:53.688916: W tensorflow/core/platform/profile_utils/cpu_utils.cc:128] Failed to get CPU frequency: 0 Hz\n"
     ]
    },
    {
     "name": "stdout",
     "output_type": "stream",
     "text": [
      " 1/42 [..............................] - ETA: 17s - loss: 0.7043 - accuracy: 0.4667"
     ]
    },
    {
     "name": "stderr",
     "output_type": "stream",
     "text": [
      "2022-05-15 02:21:53.968737: I tensorflow/core/grappler/optimizers/custom_graph_optimizer_registry.cc:113] Plugin optimizer for device_type GPU is enabled.\n"
     ]
    },
    {
     "name": "stdout",
     "output_type": "stream",
     "text": [
      "42/42 [==============================] - 1s 14ms/step - loss: 0.6869 - accuracy: 0.5216 - val_loss: 0.6589 - val_accuracy: 0.5000\n",
      "Epoch 2/100\n",
      " 7/42 [====>.........................] - ETA: 0s - loss: 0.6421 - accuracy: 0.5095"
     ]
    },
    {
     "name": "stderr",
     "output_type": "stream",
     "text": [
      "2022-05-15 02:21:54.586786: I tensorflow/core/grappler/optimizers/custom_graph_optimizer_registry.cc:113] Plugin optimizer for device_type GPU is enabled.\n"
     ]
    },
    {
     "name": "stdout",
     "output_type": "stream",
     "text": [
      "42/42 [==============================] - 0s 11ms/step - loss: 0.6124 - accuracy: 0.6440 - val_loss: 0.5753 - val_accuracy: 0.6594\n",
      "Epoch 3/100\n",
      "42/42 [==============================] - 0s 11ms/step - loss: 0.5480 - accuracy: 0.7752 - val_loss: 0.5431 - val_accuracy: 0.8281\n",
      "Epoch 4/100\n",
      "42/42 [==============================] - 0s 11ms/step - loss: 0.5057 - accuracy: 0.8200 - val_loss: 0.5086 - val_accuracy: 0.8000\n",
      "Epoch 5/100\n",
      "42/42 [==============================] - 0s 10ms/step - loss: 0.4635 - accuracy: 0.8648 - val_loss: 0.4845 - val_accuracy: 0.8562\n",
      "Epoch 6/100\n",
      "42/42 [==============================] - 0s 11ms/step - loss: 0.4331 - accuracy: 0.8920 - val_loss: 0.4641 - val_accuracy: 0.8656\n",
      "Epoch 7/100\n",
      "42/42 [==============================] - 0s 10ms/step - loss: 0.4054 - accuracy: 0.9072 - val_loss: 0.4481 - val_accuracy: 0.8625\n",
      "Epoch 8/100\n",
      "42/42 [==============================] - 0s 11ms/step - loss: 0.3900 - accuracy: 0.9168 - val_loss: 0.4374 - val_accuracy: 0.8688\n",
      "Epoch 9/100\n",
      "42/42 [==============================] - 0s 11ms/step - loss: 0.3780 - accuracy: 0.9224 - val_loss: 0.4270 - val_accuracy: 0.8813\n",
      "Epoch 10/100\n",
      "42/42 [==============================] - 0s 11ms/step - loss: 0.3492 - accuracy: 0.9424 - val_loss: 0.4110 - val_accuracy: 0.8906\n",
      "Epoch 11/100\n",
      "42/42 [==============================] - 0s 10ms/step - loss: 0.3240 - accuracy: 0.9576 - val_loss: 0.4169 - val_accuracy: 0.8781\n",
      "Epoch 12/100\n",
      "42/42 [==============================] - 0s 11ms/step - loss: 0.3060 - accuracy: 0.9592 - val_loss: 0.3959 - val_accuracy: 0.8875\n",
      "Epoch 13/100\n",
      "42/42 [==============================] - 0s 11ms/step - loss: 0.2963 - accuracy: 0.9648 - val_loss: 0.3889 - val_accuracy: 0.8938\n",
      "Epoch 14/100\n",
      "42/42 [==============================] - 0s 11ms/step - loss: 0.2789 - accuracy: 0.9776 - val_loss: 0.3966 - val_accuracy: 0.8875\n",
      "Epoch 15/100\n",
      "42/42 [==============================] - 0s 11ms/step - loss: 0.2618 - accuracy: 0.9824 - val_loss: 0.3790 - val_accuracy: 0.8938\n",
      "Epoch 16/100\n",
      "42/42 [==============================] - 0s 10ms/step - loss: 0.2518 - accuracy: 0.9848 - val_loss: 0.3917 - val_accuracy: 0.8781\n",
      "Epoch 17/100\n",
      "42/42 [==============================] - 0s 11ms/step - loss: 0.2371 - accuracy: 0.9928 - val_loss: 0.3700 - val_accuracy: 0.8906\n",
      "Epoch 18/100\n",
      "42/42 [==============================] - 0s 11ms/step - loss: 0.2259 - accuracy: 0.9928 - val_loss: 0.3688 - val_accuracy: 0.8875\n",
      "Epoch 19/100\n",
      "42/42 [==============================] - 0s 11ms/step - loss: 0.2241 - accuracy: 0.9912 - val_loss: 0.3503 - val_accuracy: 0.9062\n",
      "Epoch 20/100\n",
      "42/42 [==============================] - 0s 11ms/step - loss: 0.2134 - accuracy: 0.9952 - val_loss: 0.3541 - val_accuracy: 0.8906\n",
      "Epoch 21/100\n",
      "42/42 [==============================] - 0s 11ms/step - loss: 0.2051 - accuracy: 0.9960 - val_loss: 0.3416 - val_accuracy: 0.9062\n",
      "Epoch 22/100\n",
      "42/42 [==============================] - 0s 10ms/step - loss: 0.1985 - accuracy: 0.9960 - val_loss: 0.3626 - val_accuracy: 0.8906\n",
      "Epoch 23/100\n",
      "42/42 [==============================] - 0s 10ms/step - loss: 0.1871 - accuracy: 0.9984 - val_loss: 0.3772 - val_accuracy: 0.8938\n",
      "Epoch 24/100\n",
      "42/42 [==============================] - 0s 10ms/step - loss: 0.1794 - accuracy: 0.9984 - val_loss: 0.3761 - val_accuracy: 0.8844\n",
      "Epoch 25/100\n",
      "42/42 [==============================] - 0s 10ms/step - loss: 0.1749 - accuracy: 0.9992 - val_loss: 0.3705 - val_accuracy: 0.8875\n",
      "Epoch 26/100\n",
      "42/42 [==============================] - 0s 11ms/step - loss: 0.1696 - accuracy: 0.9984 - val_loss: 0.3538 - val_accuracy: 0.8969\n",
      "Epoch 27/100\n",
      "42/42 [==============================] - 0s 10ms/step - loss: 0.1649 - accuracy: 0.9984 - val_loss: 0.3358 - val_accuracy: 0.9000\n",
      "Epoch 28/100\n",
      "42/42 [==============================] - 0s 10ms/step - loss: 0.1596 - accuracy: 0.9984 - val_loss: 0.3390 - val_accuracy: 0.9000\n",
      "Epoch 29/100\n",
      "42/42 [==============================] - 0s 10ms/step - loss: 0.1538 - accuracy: 0.9984 - val_loss: 0.3683 - val_accuracy: 0.8906\n",
      "Epoch 30/100\n",
      "42/42 [==============================] - 0s 10ms/step - loss: 0.1487 - accuracy: 0.9984 - val_loss: 0.3472 - val_accuracy: 0.8875\n",
      "Epoch 31/100\n",
      "42/42 [==============================] - 0s 11ms/step - loss: 0.1477 - accuracy: 0.9984 - val_loss: 0.3225 - val_accuracy: 0.9031\n",
      "Epoch 32/100\n",
      "42/42 [==============================] - 0s 10ms/step - loss: 0.1436 - accuracy: 0.9984 - val_loss: 0.3384 - val_accuracy: 0.8906\n",
      "Epoch 33/100\n",
      "42/42 [==============================] - 0s 11ms/step - loss: 0.1368 - accuracy: 0.9984 - val_loss: 0.3531 - val_accuracy: 0.8906\n",
      "Epoch 34/100\n",
      "42/42 [==============================] - 0s 10ms/step - loss: 0.1315 - accuracy: 0.9992 - val_loss: 0.3617 - val_accuracy: 0.8875\n",
      "Epoch 35/100\n",
      "42/42 [==============================] - 0s 11ms/step - loss: 0.1270 - accuracy: 0.9992 - val_loss: 0.3372 - val_accuracy: 0.9000\n",
      "Epoch 36/100\n",
      "42/42 [==============================] - 0s 10ms/step - loss: 0.1240 - accuracy: 1.0000 - val_loss: 0.3234 - val_accuracy: 0.9094\n",
      "Epoch 37/100\n",
      "42/42 [==============================] - 0s 11ms/step - loss: 0.1199 - accuracy: 1.0000 - val_loss: 0.3333 - val_accuracy: 0.9000\n",
      "Epoch 38/100\n",
      "42/42 [==============================] - 0s 10ms/step - loss: 0.1169 - accuracy: 1.0000 - val_loss: 0.3277 - val_accuracy: 0.9062\n",
      "Epoch 39/100\n",
      "42/42 [==============================] - 0s 11ms/step - loss: 0.1135 - accuracy: 1.0000 - val_loss: 0.3502 - val_accuracy: 0.8938\n",
      "Epoch 40/100\n",
      "42/42 [==============================] - 0s 11ms/step - loss: 0.1104 - accuracy: 1.0000 - val_loss: 0.3272 - val_accuracy: 0.8969\n",
      "Epoch 41/100\n",
      "42/42 [==============================] - 0s 10ms/step - loss: 0.1079 - accuracy: 1.0000 - val_loss: 0.3339 - val_accuracy: 0.9000\n",
      "Epoch 42/100\n",
      "42/42 [==============================] - 0s 11ms/step - loss: 0.1045 - accuracy: 1.0000 - val_loss: 0.3238 - val_accuracy: 0.9031\n",
      "Epoch 43/100\n",
      "42/42 [==============================] - 0s 10ms/step - loss: 0.1013 - accuracy: 1.0000 - val_loss: 0.3382 - val_accuracy: 0.9062\n",
      "Epoch 44/100\n",
      "42/42 [==============================] - 0s 10ms/step - loss: 0.0990 - accuracy: 1.0000 - val_loss: 0.3153 - val_accuracy: 0.9062\n",
      "Epoch 45/100\n",
      "42/42 [==============================] - 0s 11ms/step - loss: 0.0971 - accuracy: 1.0000 - val_loss: 0.3253 - val_accuracy: 0.9062\n",
      "Epoch 46/100\n",
      "42/42 [==============================] - 0s 10ms/step - loss: 0.0938 - accuracy: 1.0000 - val_loss: 0.3236 - val_accuracy: 0.9031\n",
      "Epoch 47/100\n",
      "42/42 [==============================] - 0s 11ms/step - loss: 0.0926 - accuracy: 1.0000 - val_loss: 0.3351 - val_accuracy: 0.8938\n",
      "Epoch 48/100\n",
      "42/42 [==============================] - 0s 10ms/step - loss: 0.0892 - accuracy: 1.0000 - val_loss: 0.3420 - val_accuracy: 0.9000\n",
      "Epoch 49/100\n",
      "42/42 [==============================] - 0s 11ms/step - loss: 0.0870 - accuracy: 1.0000 - val_loss: 0.3469 - val_accuracy: 0.9000\n",
      "Epoch 50/100\n",
      "42/42 [==============================] - 0s 10ms/step - loss: 0.0857 - accuracy: 1.0000 - val_loss: 0.3305 - val_accuracy: 0.9062\n",
      "Epoch 51/100\n",
      "42/42 [==============================] - 0s 11ms/step - loss: 0.0828 - accuracy: 1.0000 - val_loss: 0.3307 - val_accuracy: 0.9062\n",
      "Epoch 52/100\n",
      "42/42 [==============================] - 0s 10ms/step - loss: 0.0805 - accuracy: 1.0000 - val_loss: 0.3333 - val_accuracy: 0.9031\n",
      "Epoch 53/100\n",
      "42/42 [==============================] - 0s 11ms/step - loss: 0.0785 - accuracy: 1.0000 - val_loss: 0.3161 - val_accuracy: 0.9062\n",
      "Epoch 54/100\n",
      "42/42 [==============================] - 0s 11ms/step - loss: 0.0771 - accuracy: 1.0000 - val_loss: 0.3199 - val_accuracy: 0.9094\n",
      "Epoch 55/100\n",
      "42/42 [==============================] - 0s 11ms/step - loss: 0.0752 - accuracy: 1.0000 - val_loss: 0.3260 - val_accuracy: 0.9094\n",
      "Epoch 56/100\n",
      "42/42 [==============================] - 0s 10ms/step - loss: 0.0726 - accuracy: 1.0000 - val_loss: 0.3319 - val_accuracy: 0.9094\n",
      "Epoch 57/100\n",
      "42/42 [==============================] - 0s 10ms/step - loss: 0.0713 - accuracy: 1.0000 - val_loss: 0.3345 - val_accuracy: 0.9000\n",
      "Epoch 58/100\n",
      "42/42 [==============================] - 0s 11ms/step - loss: 0.0697 - accuracy: 1.0000 - val_loss: 0.3459 - val_accuracy: 0.9000\n",
      "Epoch 59/100\n",
      "42/42 [==============================] - 0s 11ms/step - loss: 0.0681 - accuracy: 1.0000 - val_loss: 0.3112 - val_accuracy: 0.9031\n",
      "Epoch 60/100\n",
      "42/42 [==============================] - 0s 11ms/step - loss: 0.0671 - accuracy: 1.0000 - val_loss: 0.3449 - val_accuracy: 0.9031\n",
      "Epoch 61/100\n",
      "42/42 [==============================] - 0s 11ms/step - loss: 0.0648 - accuracy: 1.0000 - val_loss: 0.3357 - val_accuracy: 0.9031\n",
      "Epoch 62/100\n",
      "42/42 [==============================] - 0s 10ms/step - loss: 0.0634 - accuracy: 1.0000 - val_loss: 0.3231 - val_accuracy: 0.9094\n",
      "Epoch 63/100\n",
      "42/42 [==============================] - 0s 11ms/step - loss: 0.0623 - accuracy: 1.0000 - val_loss: 0.3064 - val_accuracy: 0.9031\n",
      "Epoch 64/100\n",
      "42/42 [==============================] - 0s 10ms/step - loss: 0.0607 - accuracy: 1.0000 - val_loss: 0.3412 - val_accuracy: 0.9062\n",
      "Epoch 65/100\n",
      "42/42 [==============================] - 0s 10ms/step - loss: 0.0590 - accuracy: 1.0000 - val_loss: 0.3204 - val_accuracy: 0.9031\n",
      "Epoch 66/100\n",
      "42/42 [==============================] - 0s 11ms/step - loss: 0.0584 - accuracy: 1.0000 - val_loss: 0.3240 - val_accuracy: 0.9000\n",
      "Epoch 67/100\n",
      "42/42 [==============================] - 0s 11ms/step - loss: 0.0566 - accuracy: 1.0000 - val_loss: 0.3295 - val_accuracy: 0.9094\n",
      "Epoch 68/100\n",
      "42/42 [==============================] - 0s 11ms/step - loss: 0.0554 - accuracy: 1.0000 - val_loss: 0.3181 - val_accuracy: 0.9062\n",
      "Epoch 69/100\n",
      "42/42 [==============================] - 0s 10ms/step - loss: 0.0540 - accuracy: 1.0000 - val_loss: 0.3440 - val_accuracy: 0.9062\n",
      "Epoch 70/100\n",
      "42/42 [==============================] - 0s 11ms/step - loss: 0.0529 - accuracy: 1.0000 - val_loss: 0.3421 - val_accuracy: 0.9062\n",
      "Epoch 71/100\n",
      "42/42 [==============================] - 0s 11ms/step - loss: 0.0519 - accuracy: 1.0000 - val_loss: 0.3327 - val_accuracy: 0.9125\n",
      "Epoch 72/100\n",
      "42/42 [==============================] - 0s 10ms/step - loss: 0.0503 - accuracy: 1.0000 - val_loss: 0.3576 - val_accuracy: 0.9031\n",
      "Epoch 73/100\n",
      "42/42 [==============================] - 0s 10ms/step - loss: 0.0495 - accuracy: 1.0000 - val_loss: 0.3258 - val_accuracy: 0.9125\n",
      "Epoch 74/100\n",
      "42/42 [==============================] - 0s 10ms/step - loss: 0.0485 - accuracy: 1.0000 - val_loss: 0.3160 - val_accuracy: 0.9094\n",
      "Epoch 75/100\n",
      "42/42 [==============================] - 0s 11ms/step - loss: 0.0471 - accuracy: 1.0000 - val_loss: 0.3414 - val_accuracy: 0.9094\n",
      "Epoch 76/100\n",
      "42/42 [==============================] - 0s 10ms/step - loss: 0.0463 - accuracy: 1.0000 - val_loss: 0.3195 - val_accuracy: 0.9094\n",
      "Epoch 77/100\n",
      "42/42 [==============================] - 0s 11ms/step - loss: 0.0455 - accuracy: 1.0000 - val_loss: 0.3446 - val_accuracy: 0.9062\n",
      "Epoch 78/100\n",
      "42/42 [==============================] - 0s 11ms/step - loss: 0.0442 - accuracy: 1.0000 - val_loss: 0.3349 - val_accuracy: 0.9125\n",
      "Epoch 79/100\n",
      "42/42 [==============================] - 0s 10ms/step - loss: 0.0434 - accuracy: 1.0000 - val_loss: 0.3370 - val_accuracy: 0.9156\n",
      "Epoch 80/100\n",
      "42/42 [==============================] - 0s 11ms/step - loss: 0.0427 - accuracy: 1.0000 - val_loss: 0.3355 - val_accuracy: 0.9062\n",
      "Epoch 81/100\n",
      "42/42 [==============================] - 0s 10ms/step - loss: 0.0417 - accuracy: 1.0000 - val_loss: 0.3262 - val_accuracy: 0.9156\n",
      "Epoch 82/100\n",
      "42/42 [==============================] - 0s 11ms/step - loss: 0.0410 - accuracy: 1.0000 - val_loss: 0.3211 - val_accuracy: 0.9031\n",
      "Epoch 83/100\n",
      "42/42 [==============================] - 0s 11ms/step - loss: 0.0397 - accuracy: 1.0000 - val_loss: 0.3314 - val_accuracy: 0.9094\n"
     ]
    }
   ],
   "source": [
    "early_stopping = EarlyStopping(\n",
    "    min_delta=0.001, # minimium amount of change to count as an improvement\n",
    "    patience=20, # how many epochs to wait before stopping\n",
    "    restore_best_weights=True,\n",
    ")\n",
    "# steps per epoch is calculated as train_length // batch_size\n",
    "history = model.fit(train_dataset,\n",
    "         steps_per_epoch = 42,\n",
    "         epochs = 100,\n",
    "         callbacks=[early_stopping],\n",
    "         validation_data = validation_dataset,\n",
    "        \n",
    "         )"
   ]
  },
  {
   "cell_type": "code",
   "execution_count": 6,
   "metadata": {},
   "outputs": [
    {
     "data": {
      "text/plain": [
       "<matplotlib.legend.Legend at 0x2b3fbbc40>"
      ]
     },
     "execution_count": 6,
     "metadata": {},
     "output_type": "execute_result"
    },
    {
     "data": {
      "image/png": "[encoded data removed]",
      "text/plain": [
       "<Figure size 432x288 with 1 Axes>"
      ]
     },
     "metadata": {
      "needs_background": "light"
     },
     "output_type": "display_data"
    }
   ],
   "source": [
    "# visualizing losses and accuracy\n",
    "# print(history.history)\n",
    "train_loss = history.history['loss']\n",
    "val_loss   = history.history['val_loss']\n",
    "train_acc  = history.history['accuracy']\n",
    "val_acc    = history.history['val_accuracy']\n",
    "xc         = range(83)\n",
    "\n",
    "plt.figure()\n",
    "plt.plot(xc, train_loss,label = 'Train Loss')\n",
    "plt.plot(xc, val_loss,label = 'Val Loss')\n",
    "plt.legend(loc='upper right')\n",
    "\n"
   ]
  },
  {
   "cell_type": "code",
   "execution_count": null,
   "metadata": {},
   "outputs": [
    {
     "data": {
      "text/plain": [
       "<matplotlib.legend.Legend at 0x2af948a60>"
      ]
     },
     "execution_count": 6,
     "metadata": {},
     "output_type": "execute_result"
    },
    {
     "data": {
      "image/png": "[encoded data removed]",
      "text/plain": [
       "<Figure size 432x288 with 1 Axes>"
      ]
     },
     "metadata": {
      "needs_background": "light"
     },
     "output_type": "display_data"
    }
   ],
   "source": [
    "plt.figure()\n",
    "plt.plot(xc, train_acc,label = 'Train Acc')\n",
    "plt.plot(xc, val_acc,label = 'Val Acc')\n",
    "plt.legend(loc='upper right')"
   ]
  },
  {
   "cell_type": "code",
   "execution_count": 7,
   "metadata": {},
   "outputs": [
    {
     "name": "stdout",
     "output_type": "stream",
     "text": [
      "14/14 [==============================] - 0s 6ms/step - loss: 0.3902 - accuracy: 0.8825\n",
      "88.24999928474426\n"
     ]
    }
   ],
   "source": [
    "_, acc = model.evaluate(test_dataset)\n",
    "print(acc *100)"
   ]
  },
  {
   "cell_type": "markdown",
   "metadata": {},
   "source": [
    "Prediction"
   ]
  },
  {
   "cell_type": "code",
   "execution_count": null,
   "metadata": {},
   "outputs": [
    {
     "name": "stdout",
     "output_type": "stream",
     "text": [
      "[[1.]]\n"
     ]
    },
    {
     "name": "stderr",
     "output_type": "stream",
     "text": [
      "2022-05-15 02:17:55.438540: I tensorflow/core/grappler/optimizers/custom_graph_optimizer_registry.cc:113] Plugin optimizer for device_type GPU is enabled.\n"
     ]
    },
    {
     "data": {
      "image/png": "[encoded data removed]",
      "text/plain": [
       "<Figure size 432x288 with 1 Axes>"
      ]
     },
     "metadata": {
      "needs_background": "light"
     },
     "output_type": "display_data"
    }
   ],
   "source": [
    "def predictImage(filename):\n",
    "    img1 = image.load_img(filename,target_size=(32,32))\n",
    "    \n",
    "    plt.imshow(img1)\n",
    " \n",
    "    Y = image.img_to_array(img1)\n",
    "    \n",
    "    X = np.expand_dims(Y,axis=0)\n",
    "    val = model.predict(X)\n",
    "    print(val)\n",
    "    if val == 1:\n",
    "        \n",
    "        plt.xlabel(\"Real\",fontsize=30)\n",
    "        \n",
    "    \n",
    "    elif val == 0:\n",
    "        \n",
    "        plt.xlabel(\"Fake\",fontsize=30)\n",
    "\n",
    "predictImage(r\"/Users/nayansavaliya/Masters Mechatronics/2022 Summer/RAML - Project/data/bicubic/test/imagewoof_test/985.jpg\")\n"
   ]
  },
  {
   "cell_type": "code",
   "execution_count": 1,
   "metadata": {},
   "outputs": [
    {
     "ename": "NameError",
     "evalue": "name 'predictImage' is not defined",
     "output_type": "error",
     "traceback": [
      "\u001b[0;31m---------------------------------------------------------------------------\u001b[0m",
      "\u001b[0;31mNameError\u001b[0m                                 Traceback (most recent call last)",
      "\u001b[1;32m/Users/nayansavaliya/Masters Mechatronics/2022 Summer/RAML - Project/src/SNGAN_Bicubic.ipynb Cell 14'\u001b[0m in \u001b[0;36m<cell line: 1>\u001b[0;34m()\u001b[0m\n\u001b[0;32m----> <a href='vscode-notebook-cell:/Users/nayansavaliya/Masters%20Mechatronics/2022%20Summer/RAML%20-%20Project/src/SNGAN_Bicubic.ipynb#ch0000013?line=0'>1</a>\u001b[0m predictImage(\u001b[39mr\u001b[39m\u001b[39m\"\u001b[39m\u001b[39m/Users/nayansavaliya/Masters Mechatronics/2022 Summer/RAML - Project/data/bicubic/test/SNGAN_bicubic_test/952.jpg\u001b[39m\u001b[39m\"\u001b[39m)\n",
      "\u001b[0;31mNameError\u001b[0m: name 'predictImage' is not defined"
     ]
    }
   ],
   "source": [
    "\n",
    "predictImage(r\"/Users/nayansavaliya/Masters Mechatronics/2022 Summer/RAML - Project/data/bicubic/test/SNGAN_bicubic_test/952.jpg\")"
   ]
  }
 ],
 "metadata": {
  "interpreter": {
   "hash": "d6559be91acbc93f4d619e1b72121704cbae2e517629d34a1f89aedc7528f034"
  },
  "kernelspec": {
   "display_name": "Python 3.9.12 ('venv': venv)",
   "language": "python",
   "name": "python3"
  },
  "language_info": {
   "codemirror_mode": {
    "name": "ipython",
    "version": 3
   },
   "file_extension": ".py",
   "mimetype": "text/x-python",
   "name": "python",
   "nbconvert_exporter": "python",
   "pygments_lexer": "ipython3",
   "version": "3.9.12"
  },
  "orig_nbformat": 4
 },
 "nbformat": 4,
 "nbformat_minor": 2
}
