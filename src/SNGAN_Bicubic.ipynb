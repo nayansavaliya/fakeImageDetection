{
 "cells": [
  {
   "cell_type": "markdown",
   "metadata": {},
   "source": [
    "Imports"
   ]
  },
  {
   "cell_type": "code",
   "execution_count": 1,
   "metadata": {},
   "outputs": [],
   "source": [
    "import tensorflow as tf\n",
    "import numpy as np\n",
    "from tensorflow import keras\n",
    "from keras.preprocessing.image import ImageDataGenerator\n",
    "from keras.preprocessing import image\n",
    "import matplotlib.pyplot as plt\n",
    "from keras.callbacks import EarlyStopping\n",
    "\n",
    "\n",
    "# from IPython.core.interactiveshell import InteractiveShell\n",
    "# InteractiveShell.ast_node_interactivity = \"all\"\n",
    "\n"
   ]
  },
  {
   "cell_type": "markdown",
   "metadata": {},
   "source": [
    "Prepare DATASET"
   ]
  },
  {
   "cell_type": "code",
   "execution_count": 2,
   "metadata": {},
   "outputs": [
    {
     "name": "stdout",
     "output_type": "stream",
     "text": [
      "Found 1280 images belonging to 2 classes.\n",
      "Found 320 images belonging to 2 classes.\n",
      "Found 400 images belonging to 2 classes.\n",
      "43\n"
     ]
    },
    {
     "data": {
      "text/plain": [
       "{'SNGAN_bicubic_test': 0, 'imagewoof_test': 1}"
      ]
     },
     "execution_count": 2,
     "metadata": {},
     "output_type": "execute_result"
    }
   ],
   "source": [
    "\n",
    "train = ImageDataGenerator(rescale=1/255,validation_split=0.2)\n",
    "test = ImageDataGenerator(rescale=1/255)\n",
    "\n",
    "train_dataset = train.flow_from_directory(\"/Users/nayansavaliya/Masters Mechatronics/2022 Summer/RAML - Project/data/bicubic/train\",\n",
    "                                          target_size=(32,32),\n",
    "                                          batch_size = 30,\n",
    "                                          class_mode = 'binary',subset='training')\n",
    "\n",
    "validation_dataset = train.flow_from_directory(\"/Users/nayansavaliya/Masters Mechatronics/2022 Summer/RAML - Project/data/bicubic/train\",\n",
    "                                          target_size=(32,32),\n",
    "                                          batch_size = 30,\n",
    "                                          class_mode = 'binary',subset='validation')                                    \n",
    "test_dataset = test.flow_from_directory(\"/Users/nayansavaliya/Masters Mechatronics/2022 Summer/RAML - Project/data/bicubic/test\",\n",
    "                                          target_size=(32,32),\n",
    "                                          batch_size =30,\n",
    "                                          class_mode = 'binary')\n",
    "print(train_dataset.__len__())\n",
    "test_dataset.class_indices"
   ]
  },
  {
   "cell_type": "markdown",
   "metadata": {},
   "source": [
    "Design Model"
   ]
  },
  {
   "cell_type": "code",
   "execution_count": 3,
   "metadata": {},
   "outputs": [
    {
     "name": "stdout",
     "output_type": "stream",
     "text": [
      "Metal device set to: Apple M1\n",
      "\n",
      "systemMemory: 16.00 GB\n",
      "maxCacheSize: 5.33 GB\n",
      "\n"
     ]
    },
    {
     "name": "stderr",
     "output_type": "stream",
     "text": [
      "2022-05-26 14:27:53.742321: I tensorflow/core/common_runtime/pluggable_device/pluggable_device_factory.cc:305] Could not identify NUMA node of platform GPU ID 0, defaulting to 0. Your kernel may not have been built with NUMA support.\n",
      "2022-05-26 14:27:53.742476: I tensorflow/core/common_runtime/pluggable_device/pluggable_device_factory.cc:271] Created TensorFlow device (/job:localhost/replica:0/task:0/device:GPU:0 with 0 MB memory) -> physical PluggableDevice (device: 0, name: METAL, pci bus id: <undefined>)\n"
     ]
    }
   ],
   "source": [
    "model = keras.Sequential()\n",
    "\n",
    "# Convolutional layer and maxpool layer 1\n",
    "model.add(keras.layers.Conv2D(32,(3,3),activation='relu',input_shape=(32,32,3)))\n",
    "model.add(keras.layers.MaxPool2D(2,2))\n",
    "\n",
    "# This layer flattens the resulting image array to 1D array\n",
    "model.add(keras.layers.Flatten())\n",
    "\n",
    "# Hidden layer with 512 neurons and Rectified Linear Unit activation function \n",
    "model.add(keras.layers.Dense(32,activation='relu'))\n",
    "\n",
    "# Output layer with single neuron which gives 0 for fake or 1 for real \n",
    "#Here we use sigmoid activation function which makes our model output to lie between 0 and 1\n",
    "model.add(keras.layers.Dense(1,activation='sigmoid'))\n",
    "\n",
    "\n",
    "model.compile(optimizer='adam',loss='binary_crossentropy',metrics=['accuracy'])"
   ]
  },
  {
   "cell_type": "markdown",
   "metadata": {},
   "source": [
    "Training\n",
    "\n",
    "Usually with every epoch increasing, loss goes lower and accuracy goes higher. But with val_loss and val_acc, many cases can be possible:\n",
    "\n",
    "val_loss starts increasing, val_acc starts decreasing(means model is cramming values not learning)\n",
    "\n",
    "val_loss starts increasing, val_acc also increases.(could be case of overfitting or diverse probability values in cases softmax is used in output layer)\n",
    "\n",
    "val_loss starts decreasing, val_acc starts increasing(Correct, means model build is learning and working fine)"
   ]
  },
  {
   "cell_type": "code",
   "execution_count": 4,
   "metadata": {},
   "outputs": [
    {
     "name": "stdout",
     "output_type": "stream",
     "text": [
      "Epoch 1/100\n"
     ]
    },
    {
     "name": "stderr",
     "output_type": "stream",
     "text": [
      "2022-05-26 14:27:54.336852: W tensorflow/core/platform/profile_utils/cpu_utils.cc:128] Failed to get CPU frequency: 0 Hz\n",
      "2022-05-26 14:27:54.631572: I tensorflow/core/grappler/optimizers/custom_graph_optimizer_registry.cc:113] Plugin optimizer for device_type GPU is enabled.\n"
     ]
    },
    {
     "name": "stdout",
     "output_type": "stream",
     "text": [
      "43/43 [==============================] - 3s 15ms/step - loss: 0.6253 - accuracy: 0.6594 - val_loss: 0.5619 - val_accuracy: 0.6594\n",
      "Epoch 2/100\n",
      " 7/43 [===>..........................] - ETA: 0s - loss: 0.5982 - accuracy: 0.6667"
     ]
    },
    {
     "name": "stderr",
     "output_type": "stream",
     "text": [
      "2022-05-26 14:27:57.493877: I tensorflow/core/grappler/optimizers/custom_graph_optimizer_registry.cc:113] Plugin optimizer for device_type GPU is enabled.\n"
     ]
    },
    {
     "name": "stdout",
     "output_type": "stream",
     "text": [
      "43/43 [==============================] - 0s 11ms/step - loss: 0.5508 - accuracy: 0.7109 - val_loss: 0.4829 - val_accuracy: 0.7937\n",
      "Epoch 3/100\n",
      "43/43 [==============================] - 0s 11ms/step - loss: 0.4438 - accuracy: 0.8203 - val_loss: 0.4331 - val_accuracy: 0.8031\n",
      "Epoch 4/100\n",
      "43/43 [==============================] - 0s 11ms/step - loss: 0.4146 - accuracy: 0.8148 - val_loss: 0.3835 - val_accuracy: 0.8375\n",
      "Epoch 5/100\n",
      "43/43 [==============================] - 0s 11ms/step - loss: 0.3391 - accuracy: 0.8680 - val_loss: 0.3668 - val_accuracy: 0.8469\n",
      "Epoch 6/100\n",
      "43/43 [==============================] - 0s 11ms/step - loss: 0.3135 - accuracy: 0.8711 - val_loss: 0.3318 - val_accuracy: 0.8500\n",
      "Epoch 7/100\n",
      "43/43 [==============================] - 0s 11ms/step - loss: 0.2826 - accuracy: 0.8969 - val_loss: 0.3481 - val_accuracy: 0.8469\n",
      "Epoch 8/100\n",
      "43/43 [==============================] - 0s 10ms/step - loss: 0.2585 - accuracy: 0.9031 - val_loss: 0.3028 - val_accuracy: 0.8781\n",
      "Epoch 9/100\n",
      "43/43 [==============================] - 0s 10ms/step - loss: 0.2215 - accuracy: 0.9195 - val_loss: 0.2789 - val_accuracy: 0.8969\n",
      "Epoch 10/100\n",
      "43/43 [==============================] - 0s 10ms/step - loss: 0.2061 - accuracy: 0.9227 - val_loss: 0.2676 - val_accuracy: 0.8906\n",
      "Epoch 11/100\n",
      "43/43 [==============================] - 0s 10ms/step - loss: 0.1808 - accuracy: 0.9406 - val_loss: 0.2596 - val_accuracy: 0.9000\n",
      "Epoch 12/100\n",
      "43/43 [==============================] - 0s 11ms/step - loss: 0.1786 - accuracy: 0.9344 - val_loss: 0.2524 - val_accuracy: 0.8969\n",
      "Epoch 13/100\n",
      "43/43 [==============================] - 0s 10ms/step - loss: 0.1562 - accuracy: 0.9516 - val_loss: 0.2544 - val_accuracy: 0.9000\n",
      "Epoch 14/100\n",
      "43/43 [==============================] - 0s 11ms/step - loss: 0.1485 - accuracy: 0.9477 - val_loss: 0.2472 - val_accuracy: 0.8938\n",
      "Epoch 15/100\n",
      "43/43 [==============================] - 0s 11ms/step - loss: 0.1258 - accuracy: 0.9586 - val_loss: 0.3368 - val_accuracy: 0.8656\n",
      "Epoch 16/100\n",
      "43/43 [==============================] - 0s 11ms/step - loss: 0.1212 - accuracy: 0.9648 - val_loss: 0.2467 - val_accuracy: 0.8969\n",
      "Epoch 17/100\n",
      "43/43 [==============================] - 0s 10ms/step - loss: 0.1146 - accuracy: 0.9648 - val_loss: 0.2618 - val_accuracy: 0.9000\n",
      "Epoch 18/100\n",
      "43/43 [==============================] - 0s 10ms/step - loss: 0.0994 - accuracy: 0.9727 - val_loss: 0.2431 - val_accuracy: 0.9031\n",
      "Epoch 19/100\n",
      "43/43 [==============================] - 0s 11ms/step - loss: 0.0945 - accuracy: 0.9711 - val_loss: 0.2529 - val_accuracy: 0.9031\n",
      "Epoch 20/100\n",
      "43/43 [==============================] - 0s 10ms/step - loss: 0.0939 - accuracy: 0.9719 - val_loss: 0.2445 - val_accuracy: 0.9062\n",
      "Epoch 21/100\n",
      "43/43 [==============================] - 0s 11ms/step - loss: 0.0866 - accuracy: 0.9750 - val_loss: 0.2444 - val_accuracy: 0.9094\n",
      "Epoch 22/100\n",
      "43/43 [==============================] - 0s 11ms/step - loss: 0.0710 - accuracy: 0.9820 - val_loss: 0.2432 - val_accuracy: 0.9094\n",
      "Epoch 23/100\n",
      "43/43 [==============================] - 0s 11ms/step - loss: 0.0649 - accuracy: 0.9836 - val_loss: 0.2612 - val_accuracy: 0.9000\n",
      "Epoch 24/100\n",
      "43/43 [==============================] - 0s 11ms/step - loss: 0.0653 - accuracy: 0.9828 - val_loss: 0.2413 - val_accuracy: 0.9094\n",
      "Epoch 25/100\n",
      "43/43 [==============================] - 0s 10ms/step - loss: 0.0564 - accuracy: 0.9891 - val_loss: 0.2573 - val_accuracy: 0.8969\n",
      "Epoch 26/100\n",
      "43/43 [==============================] - 0s 11ms/step - loss: 0.0449 - accuracy: 0.9945 - val_loss: 0.2633 - val_accuracy: 0.9062\n",
      "Epoch 27/100\n",
      "43/43 [==============================] - 1s 12ms/step - loss: 0.0638 - accuracy: 0.9828 - val_loss: 0.2632 - val_accuracy: 0.9031\n",
      "Epoch 28/100\n",
      "43/43 [==============================] - 0s 11ms/step - loss: 0.0413 - accuracy: 0.9961 - val_loss: 0.2477 - val_accuracy: 0.9094\n",
      "Epoch 29/100\n",
      "43/43 [==============================] - 0s 11ms/step - loss: 0.0416 - accuracy: 0.9938 - val_loss: 0.3080 - val_accuracy: 0.9000\n",
      "Epoch 30/100\n",
      "43/43 [==============================] - 0s 10ms/step - loss: 0.0405 - accuracy: 0.9945 - val_loss: 0.2573 - val_accuracy: 0.9125\n",
      "Epoch 31/100\n",
      "43/43 [==============================] - 0s 10ms/step - loss: 0.0273 - accuracy: 0.9992 - val_loss: 0.2751 - val_accuracy: 0.9062\n",
      "Epoch 32/100\n",
      "43/43 [==============================] - 0s 11ms/step - loss: 0.0245 - accuracy: 1.0000 - val_loss: 0.2930 - val_accuracy: 0.9031\n",
      "Epoch 33/100\n",
      "43/43 [==============================] - 0s 11ms/step - loss: 0.0215 - accuracy: 1.0000 - val_loss: 0.2640 - val_accuracy: 0.9156\n",
      "Epoch 34/100\n",
      "43/43 [==============================] - 0s 11ms/step - loss: 0.0249 - accuracy: 0.9969 - val_loss: 0.3082 - val_accuracy: 0.9000\n",
      "Epoch 35/100\n",
      "43/43 [==============================] - 0s 11ms/step - loss: 0.0209 - accuracy: 1.0000 - val_loss: 0.2673 - val_accuracy: 0.9062\n",
      "Epoch 36/100\n",
      "43/43 [==============================] - 0s 11ms/step - loss: 0.0194 - accuracy: 0.9984 - val_loss: 0.3293 - val_accuracy: 0.9000\n",
      "Epoch 37/100\n",
      "43/43 [==============================] - 0s 10ms/step - loss: 0.0159 - accuracy: 1.0000 - val_loss: 0.2801 - val_accuracy: 0.9125\n",
      "Epoch 38/100\n",
      "43/43 [==============================] - 0s 11ms/step - loss: 0.0175 - accuracy: 1.0000 - val_loss: 0.2828 - val_accuracy: 0.9156\n",
      "Epoch 39/100\n",
      "43/43 [==============================] - 0s 11ms/step - loss: 0.0136 - accuracy: 1.0000 - val_loss: 0.2902 - val_accuracy: 0.9156\n",
      "Epoch 40/100\n",
      "43/43 [==============================] - 0s 10ms/step - loss: 0.0121 - accuracy: 1.0000 - val_loss: 0.2896 - val_accuracy: 0.9094\n",
      "Epoch 41/100\n",
      "43/43 [==============================] - 0s 10ms/step - loss: 0.0119 - accuracy: 1.0000 - val_loss: 0.3312 - val_accuracy: 0.9031\n",
      "Epoch 42/100\n",
      "43/43 [==============================] - 0s 11ms/step - loss: 0.0101 - accuracy: 1.0000 - val_loss: 0.3029 - val_accuracy: 0.9031\n",
      "Epoch 43/100\n",
      "43/43 [==============================] - 0s 11ms/step - loss: 0.0093 - accuracy: 1.0000 - val_loss: 0.3124 - val_accuracy: 0.9062\n",
      "Epoch 44/100\n",
      "43/43 [==============================] - 0s 11ms/step - loss: 0.0099 - accuracy: 1.0000 - val_loss: 0.3200 - val_accuracy: 0.9031\n"
     ]
    }
   ],
   "source": [
    "early_stopping = EarlyStopping(\n",
    "    min_delta=0.001, # minimium amount of change to count as an improvement\n",
    "    patience=20, # how many epochs to wait before stopping\n",
    "    restore_best_weights=True,\n",
    ")\n",
    "# steps per epoch is calculated as train_length // batch_size\n",
    "history = model.fit(train_dataset,\n",
    "        #  steps_per_epoch = 42,\n",
    "         epochs = 100,\n",
    "         callbacks=[early_stopping],\n",
    "         validation_data = validation_dataset,\n",
    "        \n",
    "         )"
   ]
  },
  {
   "cell_type": "code",
   "execution_count": 6,
   "metadata": {},
   "outputs": [
    {
     "data": {
      "text/plain": [
       "<matplotlib.legend.Legend at 0x17ee77c70>"
      ]
     },
     "execution_count": 6,
     "metadata": {},
     "output_type": "execute_result"
    },
    {
     "data": {
      "image/png": "[encoded data removed]",
      "text/plain": [
       "<Figure size 432x288 with 1 Axes>"
      ]
     },
     "metadata": {
      "needs_background": "light"
     },
     "output_type": "display_data"
    }
   ],
   "source": [
    "# visualizing losses and accuracy\n",
    "# print(history.history)\n",
    "train_loss = history.history['loss']\n",
    "val_loss   = history.history['val_loss']\n",
    "train_acc  = history.history['accuracy']\n",
    "val_acc    = history.history['val_accuracy']\n",
    "xc         = range(44)\n",
    "\n",
    "plt.figure()\n",
    "plt.plot(xc, train_loss,label = 'Train Loss')\n",
    "plt.plot(xc, val_loss,label = 'Val Loss')\n",
    "plt.legend(loc='upper right')\n",
    "\n"
   ]
  },
  {
   "cell_type": "code",
   "execution_count": 7,
   "metadata": {},
   "outputs": [
    {
     "data": {
      "text/plain": [
       "<matplotlib.legend.Legend at 0x1670e2d00>"
      ]
     },
     "execution_count": 7,
     "metadata": {},
     "output_type": "execute_result"
    },
    {
     "data": {
      "image/png": "[encoded data removed]",
      "text/plain": [
       "<Figure size 432x288 with 1 Axes>"
      ]
     },
     "metadata": {
      "needs_background": "light"
     },
     "output_type": "display_data"
    }
   ],
   "source": [
    "plt.figure()\n",
    "plt.plot(xc, train_acc,label = 'Train Acc')\n",
    "plt.plot(xc, val_acc,label = 'Val Acc')\n",
    "plt.legend(loc='upper right')"
   ]
  },
  {
   "cell_type": "code",
   "execution_count": 8,
   "metadata": {},
   "outputs": [
    {
     "name": "stdout",
     "output_type": "stream",
     "text": [
      "14/14 [==============================] - 0s 11ms/step - loss: 0.3282 - accuracy: 0.8700\n",
      "Trained with Bicubic\n",
      "Bicubic:  87.00000047683716\n",
      "Found 400 images belonging to 2 classes.\n",
      "14/14 [==============================] - 0s 6ms/step - loss: 1.5988 - accuracy: 0.6125\n",
      "Bilinear:  61.250001192092896\n",
      "Found 400 images belonging to 2 classes.\n",
      "14/14 [==============================] - 0s 5ms/step - loss: 1.1310 - accuracy: 0.6175\n",
      "Pixelsuffle:  61.75000071525574\n"
     ]
    }
   ],
   "source": [
    "_, acc = model.evaluate(test_dataset)\n",
    "print('Trained with Bicubic')\n",
    "print('Bicubic: ' ,acc *100)\n",
    "\n",
    "test_dataset2 = test.flow_from_directory(\"/Users/nayansavaliya/Masters Mechatronics/2022 Summer/RAML - Project/data/bilinear/test\",\n",
    "                                          target_size=(32,32),\n",
    "                                          batch_size =30,\n",
    "                                          class_mode = 'binary')\n",
    "\n",
    "_, acc = model.evaluate(test_dataset2)\n",
    "print('Bilinear: ' ,acc *100)\n",
    "\n",
    "test_dataset3 = test.flow_from_directory(\"/Users/nayansavaliya/Masters Mechatronics/2022 Summer/RAML - Project/data/pixelsuffle/test\",\n",
    "                                          target_size=(32,32),\n",
    "                                          batch_size =30,\n",
    "                                          class_mode = 'binary')\n",
    "\n",
    "_, acc = model.evaluate(test_dataset3)\n",
    "print('Pixelsuffle: ' ,acc *100)"
   ]
  },
  {
   "cell_type": "markdown",
   "metadata": {},
   "source": [
    "Prediction"
   ]
  },
  {
   "cell_type": "code",
   "execution_count": null,
   "metadata": {},
   "outputs": [
    {
     "name": "stdout",
     "output_type": "stream",
     "text": [
      "[[1.]]\n"
     ]
    },
    {
     "name": "stderr",
     "output_type": "stream",
     "text": [
      "2022-05-19 14:34:52.834697: I tensorflow/core/grappler/optimizers/custom_graph_optimizer_registry.cc:113] Plugin optimizer for device_type GPU is enabled.\n"
     ]
    },
    {
     "data": {
      "image/png": "[encoded data removed]",
      "text/plain": [
       "<Figure size 432x288 with 1 Axes>"
      ]
     },
     "metadata": {
      "needs_background": "light"
     },
     "output_type": "display_data"
    }
   ],
   "source": [
    "def predictImage(filename):\n",
    "    img1 = image.load_img(filename,target_size=(32,32))\n",
    "    \n",
    "    plt.imshow(img1)\n",
    " \n",
    "    Y = image.img_to_array(img1)\n",
    "    \n",
    "    X = np.expand_dims(Y,axis=0)\n",
    "    val = model.predict(X)\n",
    "    print(val)\n",
    "    if val >= 0.5:\n",
    "        \n",
    "        plt.xlabel(\"Real\",fontsize=30)\n",
    "        \n",
    "    \n",
    "    elif val < 0.5:\n",
    "        \n",
    "        plt.xlabel(\"Fake\",fontsize=30)\n",
    "\n",
    "predictImage(r\"/Users/nayansavaliya/Masters Mechatronics/2022 Summer/RAML - Project/data/bicubic/test/imagewoof_test/952.jpg\")\n"
   ]
  },
  {
   "cell_type": "code",
   "execution_count": null,
   "metadata": {},
   "outputs": [
    {
     "name": "stdout",
     "output_type": "stream",
     "text": [
      "[[1.]]\n"
     ]
    },
    {
     "data": {
      "image/png": "[encoded data removed]",
      "text/plain": [
       "<Figure size 432x288 with 1 Axes>"
      ]
     },
     "metadata": {
      "needs_background": "light"
     },
     "output_type": "display_data"
    }
   ],
   "source": [
    "\n",
    "predictImage(r\"/Users/nayansavaliya/Masters Mechatronics/2022 Summer/RAML - Project/data/bicubic/test/SNGAN_bicubic_test/960.jpg\")"
   ]
  }
 ],
 "metadata": {
  "interpreter": {
   "hash": "d6559be91acbc93f4d619e1b72121704cbae2e517629d34a1f89aedc7528f034"
  },
  "kernelspec": {
   "display_name": "Python 3.9.12 ('venv': venv)",
   "language": "python",
   "name": "python3"
  },
  "language_info": {
   "codemirror_mode": {
    "name": "ipython",
    "version": 3
   },
   "file_extension": ".py",
   "mimetype": "text/x-python",
   "name": "python",
   "nbconvert_exporter": "python",
   "pygments_lexer": "ipython3",
   "version": "3.9.12"
  },
  "orig_nbformat": 4
 },
 "nbformat": 4,
 "nbformat_minor": 2
}
