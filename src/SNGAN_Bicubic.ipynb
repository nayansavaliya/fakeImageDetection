{
 "cells": [
  {
   "cell_type": "markdown",
   "metadata": {},
   "source": [
    "Imports"
   ]
  },
  {
   "cell_type": "code",
   "execution_count": 1,
   "metadata": {},
   "outputs": [],
   "source": [
    "import tensorflow as tf\n",
    "import numpy as np\n",
    "from tensorflow import keras\n",
    "from keras.preprocessing.image import ImageDataGenerator\n",
    "from keras.preprocessing import image\n",
    "import matplotlib.pyplot as plt\n",
    "from keras.callbacks import EarlyStopping\n",
    "\n",
    "\n",
    "# from IPython.core.interactiveshell import InteractiveShell\n",
    "# InteractiveShell.ast_node_interactivity = \"all\"\n",
    "\n"
   ]
  },
  {
   "cell_type": "markdown",
   "metadata": {},
   "source": [
    "Prepare DATASET"
   ]
  },
  {
   "cell_type": "code",
   "execution_count": 2,
   "metadata": {},
   "outputs": [
    {
     "name": "stdout",
     "output_type": "stream",
     "text": [
      "Found 1280 images belonging to 2 classes.\n",
      "Found 320 images belonging to 2 classes.\n",
      "Found 400 images belonging to 2 classes.\n",
      "14\n"
     ]
    },
    {
     "data": {
      "text/plain": [
       "{'SNGAN_bicubic_test': 0, 'imagewoof_test': 1}"
      ]
     },
     "execution_count": 2,
     "metadata": {},
     "output_type": "execute_result"
    }
   ],
   "source": [
    "\n",
    "train = ImageDataGenerator(rescale=1/255,validation_split=0.2)\n",
    "test = ImageDataGenerator(rescale=1/255)\n",
    "\n",
    "train_dataset = train.flow_from_directory(\"/Users/nayansavaliya/Masters Mechatronics/2022 Summer/RAML - Project/data/bicubic/train\",\n",
    "                                          target_size=(32,32),\n",
    "                                          batch_size = 96,\n",
    "                                          class_mode = 'binary',subset='training')\n",
    "\n",
    "validation_dataset = train.flow_from_directory(\"/Users/nayansavaliya/Masters Mechatronics/2022 Summer/RAML - Project/data/bicubic/train\",\n",
    "                                          target_size=(32,32),\n",
    "                                          batch_size = 96,\n",
    "                                          class_mode = 'binary',subset='validation')                                    \n",
    "test_dataset = test.flow_from_directory(\"/Users/nayansavaliya/Masters Mechatronics/2022 Summer/RAML - Project/data/bicubic/test\",\n",
    "                                          target_size=(32,32),\n",
    "                                          batch_size =96,\n",
    "                                          class_mode = 'binary')\n",
    "print(train_dataset.__len__())\n",
    "test_dataset.class_indices"
   ]
  },
  {
   "cell_type": "markdown",
   "metadata": {},
   "source": [
    "Design Model"
   ]
  },
  {
   "cell_type": "code",
   "execution_count": 3,
   "metadata": {},
   "outputs": [
    {
     "name": "stdout",
     "output_type": "stream",
     "text": [
      "Metal device set to: Apple M1\n",
      "\n",
      "systemMemory: 16.00 GB\n",
      "maxCacheSize: 5.33 GB\n",
      "\n"
     ]
    },
    {
     "name": "stderr",
     "output_type": "stream",
     "text": [
      "2022-07-11 22:16:31.781511: I tensorflow/core/common_runtime/pluggable_device/pluggable_device_factory.cc:305] Could not identify NUMA node of platform GPU ID 0, defaulting to 0. Your kernel may not have been built with NUMA support.\n",
      "2022-07-11 22:16:31.781947: I tensorflow/core/common_runtime/pluggable_device/pluggable_device_factory.cc:271] Created TensorFlow device (/job:localhost/replica:0/task:0/device:GPU:0 with 0 MB memory) -> physical PluggableDevice (device: 0, name: METAL, pci bus id: <undefined>)\n"
     ]
    }
   ],
   "source": [
    "model = keras.Sequential()\n",
    "\n",
    "# Convolutional layer and maxpool layer 1\n",
    "model.add(keras.layers.Conv2D(32,(3,3),activation='relu',input_shape=(32,32,3)))\n",
    "# model.add(keras.layers.MaxPool2D(2,2))\n",
    "\n",
    "# This layer flattens the resulting image array to 1D array\n",
    "model.add(keras.layers.Flatten())\n",
    "\n",
    "# Hidden layer with 512 neurons and Rectified Linear Unit activation function \n",
    "# model.add(keras.layers.Dense(32,activation='relu'))\n",
    "\n",
    "# Output layer with single neuron which gives 0 for fake or 1 for real \n",
    "#Here we use sigmoid activation function which makes our model output to lie between 0 and 1\n",
    "model.add(keras.layers.Dense(1,activation='sigmoid'))\n",
    "\n",
    "\n",
    "model.compile(optimizer='adam',loss='binary_crossentropy',metrics=['accuracy'])"
   ]
  },
  {
   "cell_type": "markdown",
   "metadata": {},
   "source": [
    "Training\n",
    "\n",
    "Usually with every epoch increasing, loss goes lower and accuracy goes higher. But with val_loss and val_acc, many cases can be possible:\n",
    "\n",
    "val_loss starts increasing, val_acc starts decreasing(means model is cramming values not learning)\n",
    "\n",
    "val_loss starts increasing, val_acc also increases.(could be case of overfitting or diverse probability values in cases softmax is used in output layer)\n",
    "\n",
    "val_loss starts decreasing, val_acc starts increasing(Correct, means model build is learning and working fine)"
   ]
  },
  {
   "cell_type": "code",
   "execution_count": 4,
   "metadata": {},
   "outputs": [
    {
     "name": "stderr",
     "output_type": "stream",
     "text": [
      "2022-07-11 22:16:31.974703: W tensorflow/core/platform/profile_utils/cpu_utils.cc:128] Failed to get CPU frequency: 0 Hz\n"
     ]
    },
    {
     "name": "stdout",
     "output_type": "stream",
     "text": [
      "Epoch 1/100\n",
      " 1/14 [=>............................] - ETA: 5s - loss: 0.6735 - accuracy: 0.5729"
     ]
    },
    {
     "name": "stderr",
     "output_type": "stream",
     "text": [
      "2022-07-11 22:16:32.256343: I tensorflow/core/grappler/optimizers/custom_graph_optimizer_registry.cc:113] Plugin optimizer for device_type GPU is enabled.\n"
     ]
    },
    {
     "name": "stdout",
     "output_type": "stream",
     "text": [
      "14/14 [==============================] - 1s 32ms/step - loss: 0.7095 - accuracy: 0.5656 - val_loss: 0.6260 - val_accuracy: 0.6594\n",
      "Epoch 2/100\n",
      " 6/14 [===========>..................] - ETA: 0s - loss: 0.5980 - accuracy: 0.6895"
     ]
    },
    {
     "name": "stderr",
     "output_type": "stream",
     "text": [
      "2022-07-11 22:16:32.778681: I tensorflow/core/grappler/optimizers/custom_graph_optimizer_registry.cc:113] Plugin optimizer for device_type GPU is enabled.\n"
     ]
    },
    {
     "name": "stdout",
     "output_type": "stream",
     "text": [
      "14/14 [==============================] - 0s 16ms/step - loss: 0.5709 - accuracy: 0.7172 - val_loss: 0.5198 - val_accuracy: 0.8063\n",
      "Epoch 3/100\n",
      "14/14 [==============================] - 0s 15ms/step - loss: 0.5083 - accuracy: 0.7453 - val_loss: 0.4662 - val_accuracy: 0.8031\n",
      "Epoch 4/100\n",
      "14/14 [==============================] - 0s 16ms/step - loss: 0.4434 - accuracy: 0.8023 - val_loss: 0.4264 - val_accuracy: 0.8219\n",
      "Epoch 5/100\n",
      "14/14 [==============================] - 0s 16ms/step - loss: 0.3867 - accuracy: 0.8562 - val_loss: 0.3960 - val_accuracy: 0.8188\n",
      "Epoch 6/100\n",
      "14/14 [==============================] - 0s 16ms/step - loss: 0.3557 - accuracy: 0.8586 - val_loss: 0.3647 - val_accuracy: 0.8438\n",
      "Epoch 7/100\n",
      "14/14 [==============================] - 0s 16ms/step - loss: 0.3462 - accuracy: 0.8383 - val_loss: 0.3583 - val_accuracy: 0.8500\n",
      "Epoch 8/100\n",
      "14/14 [==============================] - 0s 16ms/step - loss: 0.3297 - accuracy: 0.8633 - val_loss: 0.3602 - val_accuracy: 0.8656\n",
      "Epoch 9/100\n",
      "14/14 [==============================] - 0s 16ms/step - loss: 0.2940 - accuracy: 0.8867 - val_loss: 0.3123 - val_accuracy: 0.8813\n",
      "Epoch 10/100\n",
      "14/14 [==============================] - 0s 16ms/step - loss: 0.2831 - accuracy: 0.8922 - val_loss: 0.2971 - val_accuracy: 0.8875\n",
      "Epoch 11/100\n",
      "14/14 [==============================] - 0s 16ms/step - loss: 0.2564 - accuracy: 0.9031 - val_loss: 0.2905 - val_accuracy: 0.8906\n",
      "Epoch 12/100\n",
      "14/14 [==============================] - 0s 16ms/step - loss: 0.2439 - accuracy: 0.9164 - val_loss: 0.2978 - val_accuracy: 0.8688\n",
      "Epoch 13/100\n",
      "14/14 [==============================] - 0s 15ms/step - loss: 0.2217 - accuracy: 0.9234 - val_loss: 0.2720 - val_accuracy: 0.8969\n",
      "Epoch 14/100\n",
      "14/14 [==============================] - 0s 16ms/step - loss: 0.2096 - accuracy: 0.9398 - val_loss: 0.3002 - val_accuracy: 0.8750\n",
      "Epoch 15/100\n",
      "14/14 [==============================] - 0s 16ms/step - loss: 0.2110 - accuracy: 0.9336 - val_loss: 0.2764 - val_accuracy: 0.8781\n",
      "Epoch 16/100\n",
      "14/14 [==============================] - 0s 16ms/step - loss: 0.1918 - accuracy: 0.9430 - val_loss: 0.2536 - val_accuracy: 0.9062\n",
      "Epoch 17/100\n",
      "14/14 [==============================] - 0s 16ms/step - loss: 0.1790 - accuracy: 0.9453 - val_loss: 0.2382 - val_accuracy: 0.9281\n",
      "Epoch 18/100\n",
      "14/14 [==============================] - 0s 15ms/step - loss: 0.1686 - accuracy: 0.9500 - val_loss: 0.2575 - val_accuracy: 0.8875\n",
      "Epoch 19/100\n",
      "14/14 [==============================] - 0s 16ms/step - loss: 0.1612 - accuracy: 0.9563 - val_loss: 0.2309 - val_accuracy: 0.9187\n",
      "Epoch 20/100\n",
      "14/14 [==============================] - 0s 16ms/step - loss: 0.1667 - accuracy: 0.9484 - val_loss: 0.2340 - val_accuracy: 0.9031\n",
      "Epoch 21/100\n",
      "14/14 [==============================] - 0s 15ms/step - loss: 0.1582 - accuracy: 0.9492 - val_loss: 0.2254 - val_accuracy: 0.9250\n",
      "Epoch 22/100\n",
      "14/14 [==============================] - 0s 15ms/step - loss: 0.1729 - accuracy: 0.9383 - val_loss: 0.2342 - val_accuracy: 0.9187\n",
      "Epoch 23/100\n",
      "14/14 [==============================] - 0s 16ms/step - loss: 0.1634 - accuracy: 0.9438 - val_loss: 0.2315 - val_accuracy: 0.9062\n",
      "Epoch 24/100\n",
      "14/14 [==============================] - 0s 16ms/step - loss: 0.1463 - accuracy: 0.9570 - val_loss: 0.2215 - val_accuracy: 0.9219\n",
      "Epoch 25/100\n",
      "14/14 [==============================] - 0s 16ms/step - loss: 0.1608 - accuracy: 0.9508 - val_loss: 0.2261 - val_accuracy: 0.9219\n",
      "Epoch 26/100\n",
      "14/14 [==============================] - 0s 15ms/step - loss: 0.1428 - accuracy: 0.9570 - val_loss: 0.2235 - val_accuracy: 0.9313\n",
      "Epoch 27/100\n",
      "14/14 [==============================] - 0s 16ms/step - loss: 0.1409 - accuracy: 0.9648 - val_loss: 0.2179 - val_accuracy: 0.9156\n",
      "Epoch 28/100\n",
      "14/14 [==============================] - 0s 16ms/step - loss: 0.1221 - accuracy: 0.9648 - val_loss: 0.2102 - val_accuracy: 0.9313\n",
      "Epoch 29/100\n",
      "14/14 [==============================] - 0s 15ms/step - loss: 0.1158 - accuracy: 0.9703 - val_loss: 0.2159 - val_accuracy: 0.9094\n",
      "Epoch 30/100\n",
      "14/14 [==============================] - 0s 16ms/step - loss: 0.1213 - accuracy: 0.9711 - val_loss: 0.2333 - val_accuracy: 0.9000\n",
      "Epoch 31/100\n",
      "14/14 [==============================] - 0s 16ms/step - loss: 0.1082 - accuracy: 0.9773 - val_loss: 0.2077 - val_accuracy: 0.9281\n",
      "Epoch 32/100\n",
      "14/14 [==============================] - 0s 16ms/step - loss: 0.1051 - accuracy: 0.9773 - val_loss: 0.2149 - val_accuracy: 0.9125\n",
      "Epoch 33/100\n",
      "14/14 [==============================] - 0s 16ms/step - loss: 0.1017 - accuracy: 0.9773 - val_loss: 0.2264 - val_accuracy: 0.9062\n",
      "Epoch 34/100\n",
      "14/14 [==============================] - 0s 16ms/step - loss: 0.0965 - accuracy: 0.9750 - val_loss: 0.2086 - val_accuracy: 0.9187\n",
      "Epoch 35/100\n",
      "14/14 [==============================] - 0s 16ms/step - loss: 0.1035 - accuracy: 0.9742 - val_loss: 0.1995 - val_accuracy: 0.9344\n",
      "Epoch 36/100\n",
      "14/14 [==============================] - 0s 17ms/step - loss: 0.0948 - accuracy: 0.9750 - val_loss: 0.2058 - val_accuracy: 0.9125\n",
      "Epoch 37/100\n",
      "14/14 [==============================] - 0s 15ms/step - loss: 0.1005 - accuracy: 0.9789 - val_loss: 0.2285 - val_accuracy: 0.9187\n",
      "Epoch 38/100\n",
      "14/14 [==============================] - 0s 16ms/step - loss: 0.1186 - accuracy: 0.9594 - val_loss: 0.1998 - val_accuracy: 0.9344\n",
      "Epoch 39/100\n",
      "14/14 [==============================] - 0s 15ms/step - loss: 0.0878 - accuracy: 0.9789 - val_loss: 0.1984 - val_accuracy: 0.9187\n",
      "Epoch 40/100\n",
      "14/14 [==============================] - 0s 16ms/step - loss: 0.0945 - accuracy: 0.9750 - val_loss: 0.2159 - val_accuracy: 0.9062\n",
      "Epoch 41/100\n",
      "14/14 [==============================] - 0s 16ms/step - loss: 0.1067 - accuracy: 0.9672 - val_loss: 0.2498 - val_accuracy: 0.8844\n",
      "Epoch 42/100\n",
      "14/14 [==============================] - 0s 16ms/step - loss: 0.1079 - accuracy: 0.9727 - val_loss: 0.2878 - val_accuracy: 0.8781\n",
      "Epoch 43/100\n",
      "14/14 [==============================] - 0s 16ms/step - loss: 0.0837 - accuracy: 0.9828 - val_loss: 0.2084 - val_accuracy: 0.9094\n",
      "Epoch 44/100\n",
      "14/14 [==============================] - 0s 16ms/step - loss: 0.0796 - accuracy: 0.9820 - val_loss: 0.2157 - val_accuracy: 0.9094\n",
      "Epoch 45/100\n",
      "14/14 [==============================] - 0s 15ms/step - loss: 0.0828 - accuracy: 0.9812 - val_loss: 0.1934 - val_accuracy: 0.9281\n",
      "Epoch 46/100\n",
      "14/14 [==============================] - 0s 16ms/step - loss: 0.0759 - accuracy: 0.9836 - val_loss: 0.1926 - val_accuracy: 0.9250\n",
      "Epoch 47/100\n",
      "14/14 [==============================] - 0s 15ms/step - loss: 0.0668 - accuracy: 0.9898 - val_loss: 0.1906 - val_accuracy: 0.9313\n",
      "Epoch 48/100\n",
      "14/14 [==============================] - 0s 15ms/step - loss: 0.0662 - accuracy: 0.9891 - val_loss: 0.1904 - val_accuracy: 0.9313\n",
      "Epoch 49/100\n",
      "14/14 [==============================] - 0s 15ms/step - loss: 0.0675 - accuracy: 0.9875 - val_loss: 0.2203 - val_accuracy: 0.9031\n",
      "Epoch 50/100\n",
      "14/14 [==============================] - 0s 16ms/step - loss: 0.0692 - accuracy: 0.9844 - val_loss: 0.2292 - val_accuracy: 0.9000\n",
      "Epoch 51/100\n",
      "14/14 [==============================] - 0s 16ms/step - loss: 0.0647 - accuracy: 0.9883 - val_loss: 0.1902 - val_accuracy: 0.9281\n",
      "Epoch 52/100\n",
      "14/14 [==============================] - 0s 15ms/step - loss: 0.0632 - accuracy: 0.9891 - val_loss: 0.1908 - val_accuracy: 0.9469\n",
      "Epoch 53/100\n",
      "14/14 [==============================] - 0s 16ms/step - loss: 0.0587 - accuracy: 0.9945 - val_loss: 0.1940 - val_accuracy: 0.9219\n",
      "Epoch 54/100\n",
      "14/14 [==============================] - 0s 16ms/step - loss: 0.0544 - accuracy: 0.9953 - val_loss: 0.1971 - val_accuracy: 0.9438\n",
      "Epoch 55/100\n",
      "14/14 [==============================] - 0s 16ms/step - loss: 0.0645 - accuracy: 0.9859 - val_loss: 0.2011 - val_accuracy: 0.9438\n",
      "Epoch 56/100\n",
      "14/14 [==============================] - 0s 15ms/step - loss: 0.0579 - accuracy: 0.9883 - val_loss: 0.1971 - val_accuracy: 0.9219\n",
      "Epoch 57/100\n",
      "14/14 [==============================] - 0s 15ms/step - loss: 0.0616 - accuracy: 0.9891 - val_loss: 0.2072 - val_accuracy: 0.9156\n",
      "Epoch 58/100\n",
      "14/14 [==============================] - 0s 15ms/step - loss: 0.0646 - accuracy: 0.9844 - val_loss: 0.1991 - val_accuracy: 0.9219\n",
      "Epoch 59/100\n",
      "14/14 [==============================] - 0s 16ms/step - loss: 0.0566 - accuracy: 0.9922 - val_loss: 0.2175 - val_accuracy: 0.9125\n",
      "Epoch 60/100\n",
      "14/14 [==============================] - 0s 14ms/step - loss: 0.0491 - accuracy: 0.9961 - val_loss: 0.1886 - val_accuracy: 0.9281\n",
      "Epoch 61/100\n",
      "14/14 [==============================] - 0s 16ms/step - loss: 0.0498 - accuracy: 0.9938 - val_loss: 0.1902 - val_accuracy: 0.9219\n",
      "Epoch 62/100\n",
      "14/14 [==============================] - 0s 16ms/step - loss: 0.0463 - accuracy: 0.9984 - val_loss: 0.1927 - val_accuracy: 0.9250\n",
      "Epoch 63/100\n",
      "14/14 [==============================] - 0s 15ms/step - loss: 0.0435 - accuracy: 0.9969 - val_loss: 0.1972 - val_accuracy: 0.9219\n",
      "Epoch 64/100\n",
      "14/14 [==============================] - 0s 16ms/step - loss: 0.0426 - accuracy: 0.9984 - val_loss: 0.1910 - val_accuracy: 0.9219\n",
      "Epoch 65/100\n",
      "14/14 [==============================] - 0s 16ms/step - loss: 0.0441 - accuracy: 0.9969 - val_loss: 0.1920 - val_accuracy: 0.9219\n",
      "Epoch 66/100\n",
      "14/14 [==============================] - 0s 15ms/step - loss: 0.0431 - accuracy: 0.9977 - val_loss: 0.2171 - val_accuracy: 0.9062\n",
      "Epoch 67/100\n",
      "14/14 [==============================] - 0s 15ms/step - loss: 0.0425 - accuracy: 0.9977 - val_loss: 0.2047 - val_accuracy: 0.9187\n",
      "Epoch 68/100\n",
      "14/14 [==============================] - 0s 16ms/step - loss: 0.0404 - accuracy: 0.9977 - val_loss: 0.1988 - val_accuracy: 0.9219\n",
      "Epoch 69/100\n",
      "14/14 [==============================] - 0s 15ms/step - loss: 0.0383 - accuracy: 0.9977 - val_loss: 0.1940 - val_accuracy: 0.9250\n",
      "Epoch 70/100\n",
      "14/14 [==============================] - 0s 16ms/step - loss: 0.0465 - accuracy: 0.9945 - val_loss: 0.2179 - val_accuracy: 0.9094\n",
      "Epoch 71/100\n",
      "14/14 [==============================] - 0s 16ms/step - loss: 0.0416 - accuracy: 0.9961 - val_loss: 0.2166 - val_accuracy: 0.9125\n",
      "Epoch 72/100\n",
      "14/14 [==============================] - 0s 16ms/step - loss: 0.0359 - accuracy: 0.9992 - val_loss: 0.2093 - val_accuracy: 0.9156\n",
      "Epoch 73/100\n",
      "14/14 [==============================] - 0s 16ms/step - loss: 0.0347 - accuracy: 0.9984 - val_loss: 0.2017 - val_accuracy: 0.9219\n",
      "Epoch 74/100\n",
      "14/14 [==============================] - 0s 16ms/step - loss: 0.0350 - accuracy: 0.9992 - val_loss: 0.1933 - val_accuracy: 0.9250\n",
      "Epoch 75/100\n",
      "14/14 [==============================] - 0s 15ms/step - loss: 0.0331 - accuracy: 1.0000 - val_loss: 0.2042 - val_accuracy: 0.9187\n",
      "Epoch 76/100\n",
      "14/14 [==============================] - 0s 15ms/step - loss: 0.0387 - accuracy: 0.9969 - val_loss: 0.1906 - val_accuracy: 0.9281\n",
      "Epoch 77/100\n",
      "14/14 [==============================] - 0s 16ms/step - loss: 0.0344 - accuracy: 0.9984 - val_loss: 0.1898 - val_accuracy: 0.9281\n",
      "Epoch 78/100\n",
      "14/14 [==============================] - 0s 15ms/step - loss: 0.0341 - accuracy: 1.0000 - val_loss: 0.1888 - val_accuracy: 0.9375\n",
      "Epoch 79/100\n",
      "14/14 [==============================] - 0s 16ms/step - loss: 0.0319 - accuracy: 1.0000 - val_loss: 0.1975 - val_accuracy: 0.9219\n",
      "Epoch 80/100\n",
      "14/14 [==============================] - 0s 16ms/step - loss: 0.0321 - accuracy: 1.0000 - val_loss: 0.2242 - val_accuracy: 0.9125\n"
     ]
    }
   ],
   "source": [
    "early_stopping = EarlyStopping(\n",
    "    min_delta=0.001, # minimium amount of change to count as an improvement\n",
    "    patience=20, # how many epochs to wait before stopping\n",
    "    restore_best_weights=True,\n",
    ")\n",
    "# steps per epoch is calculated as train_length // batch_size\n",
    "history = model.fit(train_dataset,\n",
    "        #  steps_per_epoch = 42,\n",
    "         epochs = 100,\n",
    "         callbacks=[early_stopping],\n",
    "         validation_data = validation_dataset,\n",
    "        \n",
    "         )"
   ]
  },
  {
   "cell_type": "code",
   "execution_count": 6,
   "metadata": {},
   "outputs": [
    {
     "data": {
      "text/plain": [
       "<matplotlib.legend.Legend at 0x15420c610>"
      ]
     },
     "execution_count": 6,
     "metadata": {},
     "output_type": "execute_result"
    },
    {
     "data": {
      "image/png": "[encoded data removed]",
      "text/plain": [
       "<Figure size 432x288 with 1 Axes>"
      ]
     },
     "metadata": {
      "needs_background": "light"
     },
     "output_type": "display_data"
    }
   ],
   "source": [
    "# visualizing losses and accuracy\n",
    "# print(history.history)\n",
    "train_loss = history.history['loss']\n",
    "val_loss   = history.history['val_loss']\n",
    "train_acc  = history.history['accuracy']\n",
    "val_acc    = history.history['val_accuracy']\n",
    "xc         = range(80)\n",
    "\n",
    "plt.figure()\n",
    "plt.plot(xc, train_loss,label = 'Train Loss')\n",
    "plt.plot(xc, val_loss,label = 'Val Loss')\n",
    "plt.legend(loc='upper right')\n",
    "\n"
   ]
  },
  {
   "cell_type": "code",
   "execution_count": 7,
   "metadata": {},
   "outputs": [
    {
     "data": {
      "text/plain": [
       "<matplotlib.legend.Legend at 0x2bbfa84f0>"
      ]
     },
     "execution_count": 7,
     "metadata": {},
     "output_type": "execute_result"
    },
    {
     "data": {
      "image/png": "[encoded data removed]",
      "text/plain": [
       "<Figure size 432x288 with 1 Axes>"
      ]
     },
     "metadata": {
      "needs_background": "light"
     },
     "output_type": "display_data"
    }
   ],
   "source": [
    "plt.figure()\n",
    "plt.plot(xc, train_acc,label = 'Train Acc')\n",
    "plt.plot(xc, val_acc,label = 'Val Acc')\n",
    "plt.legend(loc='upper right')"
   ]
  },
  {
   "cell_type": "code",
   "execution_count": 8,
   "metadata": {},
   "outputs": [
    {
     "name": "stdout",
     "output_type": "stream",
     "text": [
      "5/5 [==============================] - 0s 13ms/step - loss: 0.2694 - accuracy: 0.8825\n",
      "Trained with Bicubic\n",
      "Bicubic:  88.24999928474426\n",
      "Found 400 images belonging to 2 classes.\n",
      "5/5 [==============================] - 0s 10ms/step - loss: 1.2504 - accuracy: 0.6200\n",
      "Bilinear:  62.00000047683716\n",
      "Found 400 images belonging to 2 classes.\n",
      "5/5 [==============================] - 0s 10ms/step - loss: 1.0937 - accuracy: 0.6000\n",
      "Pixelsuffle:  59.99999642372131\n"
     ]
    }
   ],
   "source": [
    "_, acc = model.evaluate(test_dataset)\n",
    "print('Trained with Bicubic')\n",
    "print('Bicubic: ' ,acc *100)\n",
    "\n",
    "test_dataset2 = test.flow_from_directory(\"/Users/nayansavaliya/Masters Mechatronics/2022 Summer/RAML - Project/data/bilinear/test\",\n",
    "                                          target_size=(32,32),\n",
    "                                          batch_size =96,\n",
    "                                          class_mode = 'binary')\n",
    "\n",
    "_, acc = model.evaluate(test_dataset2)\n",
    "print('Bilinear: ' ,acc *100)\n",
    "\n",
    "test_dataset3 = test.flow_from_directory(\"/Users/nayansavaliya/Masters Mechatronics/2022 Summer/RAML - Project/data/pixelsuffle/test\",\n",
    "                                          target_size=(32,32),\n",
    "                                          batch_size =96,\n",
    "                                          class_mode = 'binary')\n",
    "\n",
    "_, acc = model.evaluate(test_dataset3)\n",
    "print('Pixelsuffle: ' ,acc *100)"
   ]
  },
  {
   "cell_type": "markdown",
   "metadata": {},
   "source": [
    "Prediction"
   ]
  },
  {
   "cell_type": "code",
   "execution_count": null,
   "metadata": {},
   "outputs": [
    {
     "name": "stdout",
     "output_type": "stream",
     "text": [
      "[[1.]]\n"
     ]
    },
    {
     "name": "stderr",
     "output_type": "stream",
     "text": [
      "2022-05-19 14:34:52.834697: I tensorflow/core/grappler/optimizers/custom_graph_optimizer_registry.cc:113] Plugin optimizer for device_type GPU is enabled.\n"
     ]
    },
    {
     "data": {
      "image/png": "[encoded data removed]",
      "text/plain": [
       "<Figure size 432x288 with 1 Axes>"
      ]
     },
     "metadata": {
      "needs_background": "light"
     },
     "output_type": "display_data"
    }
   ],
   "source": [
    "def predictImage(filename):\n",
    "    img1 = image.load_img(filename,target_size=(32,32))\n",
    "    \n",
    "    plt.imshow(img1)\n",
    " \n",
    "    Y = image.img_to_array(img1)\n",
    "    \n",
    "    X = np.expand_dims(Y,axis=0)\n",
    "    val = model.predict(X)\n",
    "    print(val)\n",
    "    if val >= 0.5:\n",
    "        \n",
    "        plt.xlabel(\"Real\",fontsize=30)\n",
    "        \n",
    "    \n",
    "    elif val < 0.5:\n",
    "        \n",
    "        plt.xlabel(\"Fake\",fontsize=30)\n",
    "\n",
    "predictImage(r\"/Users/nayansavaliya/Masters Mechatronics/2022 Summer/RAML - Project/data/bicubic/test/imagewoof_test/952.jpg\")\n"
   ]
  },
  {
   "cell_type": "code",
   "execution_count": null,
   "metadata": {},
   "outputs": [
    {
     "name": "stdout",
     "output_type": "stream",
     "text": [
      "[[1.]]\n"
     ]
    },
    {
     "data": {
      "image/png": "[encoded data removed]",
      "text/plain": [
       "<Figure size 432x288 with 1 Axes>"
      ]
     },
     "metadata": {
      "needs_background": "light"
     },
     "output_type": "display_data"
    }
   ],
   "source": [
    "\n",
    "predictImage(r\"/Users/nayansavaliya/Masters Mechatronics/2022 Summer/RAML - Project/data/bicubic/test/SNGAN_bicubic_test/960.jpg\")"
   ]
  }
 ],
 "metadata": {
  "interpreter": {
   "hash": "d6559be91acbc93f4d619e1b72121704cbae2e517629d34a1f89aedc7528f034"
  },
  "kernelspec": {
   "display_name": "Python 3.9.12 ('venv': venv)",
   "language": "python",
   "name": "python3"
  },
  "language_info": {
   "codemirror_mode": {
    "name": "ipython",
    "version": 3
   },
   "file_extension": ".py",
   "mimetype": "text/x-python",
   "name": "python",
   "nbconvert_exporter": "python",
   "pygments_lexer": "ipython3",
   "version": "3.9.12"
  },
  "orig_nbformat": 4
 },
 "nbformat": 4,
 "nbformat_minor": 2
}
