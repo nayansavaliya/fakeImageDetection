{
 "cells": [
  {
   "cell_type": "markdown",
   "metadata": {},
   "source": [
    "Imports"
   ]
  },
  {
   "cell_type": "code",
   "execution_count": 2,
   "metadata": {},
   "outputs": [],
   "source": [
    "import tensorflow as tf\n",
    "import numpy as np\n",
    "from tensorflow import keras\n",
    "from keras.preprocessing.image import ImageDataGenerator\n",
    "from keras.preprocessing import image\n",
    "import matplotlib.pyplot as plt\n",
    "from keras.callbacks import EarlyStopping\n",
    "\n",
    "\n",
    "# from IPython.core.interactiveshell import InteractiveShell\n",
    "# InteractiveShell.ast_node_interactivity = \"all\"\n",
    "\n"
   ]
  },
  {
   "cell_type": "markdown",
   "metadata": {},
   "source": [
    "Prepare DATASET"
   ]
  },
  {
   "cell_type": "code",
   "execution_count": 3,
   "metadata": {},
   "outputs": [
    {
     "name": "stdout",
     "output_type": "stream",
     "text": [
      "Found 400 images belonging to 2 classes.\n",
      "Found 400 images belonging to 2 classes.\n",
      "Found 1600 images belonging to 2 classes.\n"
     ]
    },
    {
     "data": {
      "text/plain": [
       "{'SNGAN_bicubic': 0, 'imagewoof': 1}"
      ]
     },
     "execution_count": 3,
     "metadata": {},
     "output_type": "execute_result"
    }
   ],
   "source": [
    "\n",
    "train = ImageDataGenerator(rescale=1/255,validation_split=0.2)\n",
    "test = ImageDataGenerator(rescale=1/255)\n",
    "\n",
    "train_dataset = train.flow_from_directory(\"/Users/nayansavaliya/Masters Mechatronics/2022 Summer/RAML - Project/data/bicubic/test\",\n",
    "                                          target_size=(32,32),\n",
    "                                          batch_size = 1,\n",
    "                                          class_mode = 'binary')\n",
    "\n",
    "validation_dataset = train.flow_from_directory(\"/Users/nayansavaliya/Masters Mechatronics/2022 Summer/RAML - Project/data/bicubic/test\",\n",
    "                                          target_size=(32,32),\n",
    "                                          batch_size = 1,\n",
    "                                          class_mode = 'binary')                                    \n",
    "test_dataset = test.flow_from_directory(\"/Users/nayansavaliya/Masters Mechatronics/2022 Summer/RAML - Project/data/bicubic/train\",\n",
    "                                          target_size=(32,32),\n",
    "                                          batch_size =1,\n",
    "                                          class_mode = 'binary')\n",
    "\n",
    "test_dataset.class_indices"
   ]
  },
  {
   "cell_type": "markdown",
   "metadata": {},
   "source": [
    "Design Model"
   ]
  },
  {
   "cell_type": "code",
   "execution_count": 3,
   "metadata": {},
   "outputs": [
    {
     "name": "stdout",
     "output_type": "stream",
     "text": [
      "Metal device set to: Apple M1\n",
      "\n",
      "systemMemory: 16.00 GB\n",
      "maxCacheSize: 5.33 GB\n",
      "\n"
     ]
    },
    {
     "name": "stderr",
     "output_type": "stream",
     "text": [
      "2022-05-13 20:12:00.321255: I tensorflow/core/common_runtime/pluggable_device/pluggable_device_factory.cc:305] Could not identify NUMA node of platform GPU ID 0, defaulting to 0. Your kernel may not have been built with NUMA support.\n",
      "2022-05-13 20:12:00.321413: I tensorflow/core/common_runtime/pluggable_device/pluggable_device_factory.cc:271] Created TensorFlow device (/job:localhost/replica:0/task:0/device:GPU:0 with 0 MB memory) -> physical PluggableDevice (device: 0, name: METAL, pci bus id: <undefined>)\n"
     ]
    }
   ],
   "source": [
    "model = keras.Sequential()\n",
    "\n",
    "# Convolutional layer and maxpool layer 1\n",
    "model.add(keras.layers.Conv2D(32,(3,3),activation='relu',input_shape=(32,32,3)))\n",
    "model.add(keras.layers.MaxPool2D(2,2))\n",
    "\n",
    "# Convolutional layer and maxpool layer 3\n",
    "model.add(keras.layers.Conv2D(64,(3,3),activation='relu'))\n",
    "model.add(keras.layers.MaxPool2D(2,2))\n",
    "\n",
    "# Convolutional layer and maxpool layer 3\n",
    "model.add(keras.layers.Conv2D(64,(3,3),activation='relu'))\n",
    "model.add(keras.layers.MaxPool2D(2,2))\n",
    "\n",
    "# This layer flattens the resulting image array to 1D array\n",
    "model.add(keras.layers.Flatten())\n",
    "\n",
    "# Hidden layer with 512 neurons and Rectified Linear Unit activation function \n",
    "model.add(keras.layers.Dense(512,activation='relu'))\n",
    "\n",
    "# Output layer with single neuron which gives 0 for fake or 1 for real \n",
    "#Here we use sigmoid activation function which makes our model output to lie between 0 and 1\n",
    "model.add(keras.layers.Dense(1,activation='sigmoid'))\n",
    "\n",
    "\n",
    "model.compile(optimizer='adam',loss='binary_crossentropy',metrics=['accuracy'])"
   ]
  },
  {
   "cell_type": "markdown",
   "metadata": {},
   "source": [
    "Training\n",
    "\n",
    "Usually with every epoch increasing, loss goes lower and accuracy goes higher. But with val_loss and val_acc, many cases can be possible:\n",
    "\n",
    "val_loss starts increasing, val_acc starts decreasing(means model is cramming values not learning)\n",
    "\n",
    "val_loss starts increasing, val_acc also increases.(could be case of overfitting or diverse probability values in cases softmax is used in output layer)\n",
    "\n",
    "val_loss starts decreasing, val_acc starts increasing(Correct, means model build is learning and working fine)"
   ]
  },
  {
   "cell_type": "code",
   "execution_count": 4,
   "metadata": {},
   "outputs": [
    {
     "name": "stdout",
     "output_type": "stream",
     "text": [
      "Epoch 1/100\n"
     ]
    },
    {
     "name": "stderr",
     "output_type": "stream",
     "text": [
      "2022-05-13 20:12:00.435742: W tensorflow/core/platform/profile_utils/cpu_utils.cc:128] Failed to get CPU frequency: 0 Hz\n"
     ]
    },
    {
     "name": "stdout",
     "output_type": "stream",
     "text": [
      " 9/80 [==>...........................] - ETA: 0s - loss: 1.1521 - accuracy: 0.5556     "
     ]
    },
    {
     "name": "stderr",
     "output_type": "stream",
     "text": [
      "2022-05-13 20:12:00.711547: I tensorflow/core/grappler/optimizers/custom_graph_optimizer_registry.cc:113] Plugin optimizer for device_type GPU is enabled.\n"
     ]
    },
    {
     "name": "stdout",
     "output_type": "stream",
     "text": [
      "73/80 [==========================>...] - ETA: 0s - loss: 0.7584 - accuracy: 0.4658"
     ]
    },
    {
     "name": "stderr",
     "output_type": "stream",
     "text": [
      "2022-05-13 20:12:01.421112: I tensorflow/core/grappler/optimizers/custom_graph_optimizer_registry.cc:113] Plugin optimizer for device_type GPU is enabled.\n"
     ]
    },
    {
     "name": "stdout",
     "output_type": "stream",
     "text": [
      "80/80 [==============================] - 2s 21ms/step - loss: 0.7521 - accuracy: 0.4625 - val_loss: 0.6881 - val_accuracy: 0.7000\n",
      "Epoch 2/100\n",
      "80/80 [==============================] - 2s 21ms/step - loss: 0.6991 - accuracy: 0.6000 - val_loss: 0.6787 - val_accuracy: 0.7150\n",
      "Epoch 3/100\n",
      "80/80 [==============================] - 2s 21ms/step - loss: 0.7022 - accuracy: 0.5125 - val_loss: 0.6784 - val_accuracy: 0.5000\n",
      "Epoch 4/100\n",
      "80/80 [==============================] - 2s 21ms/step - loss: 0.6939 - accuracy: 0.6250 - val_loss: 0.6401 - val_accuracy: 0.5475\n",
      "Epoch 5/100\n",
      "80/80 [==============================] - 2s 21ms/step - loss: 0.6166 - accuracy: 0.6375 - val_loss: 0.5758 - val_accuracy: 0.7275\n",
      "Epoch 6/100\n",
      "80/80 [==============================] - 2s 21ms/step - loss: 0.6429 - accuracy: 0.6625 - val_loss: 0.5097 - val_accuracy: 0.7850\n",
      "Epoch 7/100\n",
      "80/80 [==============================] - 2s 22ms/step - loss: 0.5327 - accuracy: 0.7125 - val_loss: 0.5057 - val_accuracy: 0.7450\n",
      "Epoch 8/100\n",
      "80/80 [==============================] - 2s 21ms/step - loss: 0.4901 - accuracy: 0.8500 - val_loss: 0.5416 - val_accuracy: 0.7150\n",
      "Epoch 9/100\n",
      "80/80 [==============================] - 2s 21ms/step - loss: 0.4593 - accuracy: 0.8000 - val_loss: 0.4380 - val_accuracy: 0.8025\n",
      "Epoch 10/100\n",
      "80/80 [==============================] - 2s 21ms/step - loss: 0.5189 - accuracy: 0.7000 - val_loss: 0.4285 - val_accuracy: 0.8375\n",
      "Epoch 11/100\n",
      "80/80 [==============================] - 2s 21ms/step - loss: 0.4669 - accuracy: 0.7750 - val_loss: 0.4382 - val_accuracy: 0.8000\n",
      "Epoch 12/100\n",
      "80/80 [==============================] - 2s 21ms/step - loss: 0.5298 - accuracy: 0.7250 - val_loss: 0.3645 - val_accuracy: 0.8425\n",
      "Epoch 13/100\n",
      "80/80 [==============================] - 2s 21ms/step - loss: 0.4054 - accuracy: 0.8125 - val_loss: 0.3965 - val_accuracy: 0.8325\n",
      "Epoch 14/100\n",
      "80/80 [==============================] - 2s 22ms/step - loss: 0.4035 - accuracy: 0.7500 - val_loss: 0.3379 - val_accuracy: 0.8625\n",
      "Epoch 15/100\n",
      "80/80 [==============================] - 2s 22ms/step - loss: 0.4401 - accuracy: 0.7375 - val_loss: 0.2982 - val_accuracy: 0.8725\n",
      "Epoch 16/100\n",
      "80/80 [==============================] - 2s 21ms/step - loss: 0.4070 - accuracy: 0.8375 - val_loss: 0.3560 - val_accuracy: 0.8650\n",
      "Epoch 17/100\n",
      "80/80 [==============================] - 2s 21ms/step - loss: 0.2915 - accuracy: 0.9125 - val_loss: 0.4051 - val_accuracy: 0.8275\n",
      "Epoch 18/100\n",
      "80/80 [==============================] - 2s 22ms/step - loss: 0.4004 - accuracy: 0.7875 - val_loss: 0.2960 - val_accuracy: 0.8800\n",
      "Epoch 19/100\n",
      "80/80 [==============================] - 2s 21ms/step - loss: 0.3552 - accuracy: 0.8625 - val_loss: 0.2754 - val_accuracy: 0.8800\n",
      "Epoch 20/100\n",
      "80/80 [==============================] - 2s 21ms/step - loss: 0.4108 - accuracy: 0.8000 - val_loss: 0.2962 - val_accuracy: 0.8675\n",
      "Epoch 21/100\n",
      "80/80 [==============================] - 2s 21ms/step - loss: 0.2175 - accuracy: 0.9250 - val_loss: 0.4152 - val_accuracy: 0.7925\n",
      "Epoch 22/100\n",
      "80/80 [==============================] - 2s 21ms/step - loss: 0.3509 - accuracy: 0.8500 - val_loss: 0.2700 - val_accuracy: 0.8925\n",
      "Epoch 23/100\n",
      "80/80 [==============================] - 2s 21ms/step - loss: 0.2264 - accuracy: 0.9125 - val_loss: 0.2193 - val_accuracy: 0.9225\n",
      "Epoch 24/100\n",
      "80/80 [==============================] - 2s 21ms/step - loss: 0.2670 - accuracy: 0.8875 - val_loss: 0.2124 - val_accuracy: 0.9250\n",
      "Epoch 25/100\n",
      "80/80 [==============================] - 2s 21ms/step - loss: 0.2510 - accuracy: 0.9000 - val_loss: 0.2310 - val_accuracy: 0.9075\n",
      "Epoch 26/100\n",
      "80/80 [==============================] - 2s 21ms/step - loss: 0.2638 - accuracy: 0.8750 - val_loss: 0.1992 - val_accuracy: 0.9175\n",
      "Epoch 27/100\n",
      "80/80 [==============================] - 2s 21ms/step - loss: 0.5592 - accuracy: 0.7875 - val_loss: 0.3699 - val_accuracy: 0.7925\n",
      "Epoch 28/100\n",
      "80/80 [==============================] - 2s 21ms/step - loss: 0.3685 - accuracy: 0.7750 - val_loss: 0.2768 - val_accuracy: 0.8850\n",
      "Epoch 29/100\n",
      "80/80 [==============================] - 2s 21ms/step - loss: 0.3025 - accuracy: 0.8500 - val_loss: 0.2773 - val_accuracy: 0.8750\n",
      "Epoch 30/100\n",
      "80/80 [==============================] - 2s 21ms/step - loss: 0.2465 - accuracy: 0.8875 - val_loss: 0.2237 - val_accuracy: 0.9025\n",
      "Epoch 31/100\n",
      "80/80 [==============================] - 2s 21ms/step - loss: 0.2238 - accuracy: 0.9375 - val_loss: 0.1776 - val_accuracy: 0.9275\n",
      "Epoch 32/100\n",
      "80/80 [==============================] - 2s 21ms/step - loss: 0.1785 - accuracy: 0.9250 - val_loss: 0.1509 - val_accuracy: 0.9250\n",
      "Epoch 33/100\n",
      "80/80 [==============================] - 2s 21ms/step - loss: 0.1307 - accuracy: 0.9500 - val_loss: 0.1442 - val_accuracy: 0.9350\n",
      "Epoch 34/100\n",
      "80/80 [==============================] - 2s 21ms/step - loss: 0.1749 - accuracy: 0.9250 - val_loss: 0.1219 - val_accuracy: 0.9525\n",
      "Epoch 35/100\n",
      "80/80 [==============================] - 2s 21ms/step - loss: 0.3057 - accuracy: 0.8375 - val_loss: 0.1476 - val_accuracy: 0.9525\n",
      "Epoch 36/100\n",
      "80/80 [==============================] - 2s 21ms/step - loss: 0.1198 - accuracy: 0.9500 - val_loss: 0.1103 - val_accuracy: 0.9500\n",
      "Epoch 37/100\n",
      "80/80 [==============================] - 2s 21ms/step - loss: 0.1466 - accuracy: 0.9500 - val_loss: 0.0858 - val_accuracy: 0.9775\n",
      "Epoch 38/100\n",
      "80/80 [==============================] - 2s 21ms/step - loss: 0.0711 - accuracy: 0.9750 - val_loss: 0.0884 - val_accuracy: 0.9675\n",
      "Epoch 39/100\n",
      "80/80 [==============================] - 2s 21ms/step - loss: 0.0924 - accuracy: 0.9625 - val_loss: 0.0702 - val_accuracy: 0.9725\n",
      "Epoch 40/100\n",
      "80/80 [==============================] - 2s 21ms/step - loss: 0.2108 - accuracy: 0.9125 - val_loss: 0.0989 - val_accuracy: 0.9625\n",
      "Epoch 41/100\n",
      "80/80 [==============================] - 2s 21ms/step - loss: 0.1456 - accuracy: 0.9250 - val_loss: 0.0952 - val_accuracy: 0.9650\n",
      "Epoch 42/100\n",
      "80/80 [==============================] - 2s 21ms/step - loss: 0.0908 - accuracy: 0.9625 - val_loss: 0.1038 - val_accuracy: 0.9725\n",
      "Epoch 43/100\n",
      "80/80 [==============================] - 2s 22ms/step - loss: 0.0795 - accuracy: 0.9625 - val_loss: 0.0521 - val_accuracy: 0.9850\n",
      "Epoch 44/100\n",
      "80/80 [==============================] - 2s 21ms/step - loss: 0.0742 - accuracy: 0.9750 - val_loss: 0.0803 - val_accuracy: 0.9725\n",
      "Epoch 45/100\n",
      "80/80 [==============================] - 2s 21ms/step - loss: 0.0235 - accuracy: 1.0000 - val_loss: 0.0430 - val_accuracy: 0.9825\n",
      "Epoch 46/100\n",
      "80/80 [==============================] - 2s 22ms/step - loss: 0.1255 - accuracy: 0.9500 - val_loss: 0.0759 - val_accuracy: 0.9725\n",
      "Epoch 47/100\n",
      "80/80 [==============================] - 2s 22ms/step - loss: 0.2297 - accuracy: 0.9250 - val_loss: 0.0794 - val_accuracy: 0.9825\n",
      "Epoch 48/100\n",
      "80/80 [==============================] - 2s 22ms/step - loss: 0.2017 - accuracy: 0.9125 - val_loss: 0.1058 - val_accuracy: 0.9775\n",
      "Epoch 49/100\n",
      "80/80 [==============================] - 2s 21ms/step - loss: 0.2006 - accuracy: 0.9500 - val_loss: 0.0951 - val_accuracy: 0.9750\n",
      "Epoch 50/100\n",
      "80/80 [==============================] - 2s 21ms/step - loss: 0.1364 - accuracy: 0.9250 - val_loss: 0.1288 - val_accuracy: 0.9575\n",
      "Epoch 51/100\n",
      "80/80 [==============================] - 2s 22ms/step - loss: 0.0705 - accuracy: 0.9875 - val_loss: 0.0926 - val_accuracy: 0.9700\n",
      "Epoch 52/100\n",
      "80/80 [==============================] - 2s 21ms/step - loss: 0.1018 - accuracy: 0.9500 - val_loss: 0.0640 - val_accuracy: 0.9800\n",
      "Epoch 53/100\n",
      "80/80 [==============================] - 2s 21ms/step - loss: 0.0435 - accuracy: 0.9875 - val_loss: 0.0401 - val_accuracy: 0.9875\n",
      "Epoch 54/100\n",
      "80/80 [==============================] - 2s 21ms/step - loss: 0.0441 - accuracy: 0.9875 - val_loss: 0.0232 - val_accuracy: 0.9950\n",
      "Epoch 55/100\n",
      "80/80 [==============================] - 2s 21ms/step - loss: 0.0196 - accuracy: 1.0000 - val_loss: 0.0264 - val_accuracy: 0.9950\n",
      "Epoch 56/100\n",
      "80/80 [==============================] - 2s 21ms/step - loss: 0.0093 - accuracy: 1.0000 - val_loss: 0.0166 - val_accuracy: 0.9950\n",
      "Epoch 57/100\n",
      "80/80 [==============================] - 2s 21ms/step - loss: 0.0058 - accuracy: 1.0000 - val_loss: 0.0119 - val_accuracy: 0.9975\n",
      "Epoch 58/100\n",
      "80/80 [==============================] - 2s 21ms/step - loss: 0.0061 - accuracy: 1.0000 - val_loss: 0.0102 - val_accuracy: 0.9950\n",
      "Epoch 59/100\n",
      "80/80 [==============================] - 2s 21ms/step - loss: 0.0636 - accuracy: 0.9750 - val_loss: 0.0262 - val_accuracy: 0.9900\n",
      "Epoch 60/100\n",
      "80/80 [==============================] - 2s 21ms/step - loss: 0.1883 - accuracy: 0.9500 - val_loss: 0.0551 - val_accuracy: 0.9850\n",
      "Epoch 61/100\n",
      "80/80 [==============================] - 2s 21ms/step - loss: 0.0339 - accuracy: 0.9875 - val_loss: 0.0337 - val_accuracy: 0.9925\n",
      "Epoch 62/100\n",
      "80/80 [==============================] - 2s 22ms/step - loss: 0.0173 - accuracy: 1.0000 - val_loss: 0.0463 - val_accuracy: 0.9825\n",
      "Epoch 63/100\n",
      "80/80 [==============================] - 2s 21ms/step - loss: 0.0189 - accuracy: 1.0000 - val_loss: 0.0118 - val_accuracy: 0.9975\n",
      "Epoch 64/100\n",
      "80/80 [==============================] - 2s 21ms/step - loss: 0.0089 - accuracy: 1.0000 - val_loss: 0.0112 - val_accuracy: 0.9975\n",
      "Epoch 65/100\n",
      "80/80 [==============================] - 2s 21ms/step - loss: 0.0012 - accuracy: 1.0000 - val_loss: 0.0104 - val_accuracy: 0.9975\n",
      "Epoch 66/100\n",
      "80/80 [==============================] - 2s 21ms/step - loss: 0.0068 - accuracy: 1.0000 - val_loss: 0.0086 - val_accuracy: 0.9975\n",
      "Epoch 67/100\n",
      "80/80 [==============================] - 2s 21ms/step - loss: 0.0239 - accuracy: 0.9875 - val_loss: 0.0085 - val_accuracy: 1.0000\n",
      "Epoch 68/100\n",
      "80/80 [==============================] - 2s 21ms/step - loss: 0.0075 - accuracy: 1.0000 - val_loss: 0.0061 - val_accuracy: 1.0000\n",
      "Epoch 69/100\n",
      "80/80 [==============================] - 2s 22ms/step - loss: 0.0325 - accuracy: 0.9750 - val_loss: 0.0580 - val_accuracy: 0.9775\n",
      "Epoch 70/100\n",
      "80/80 [==============================] - 2s 21ms/step - loss: 0.1211 - accuracy: 0.9500 - val_loss: 0.0297 - val_accuracy: 0.9950\n",
      "Epoch 71/100\n",
      "80/80 [==============================] - 2s 21ms/step - loss: 0.1539 - accuracy: 0.9500 - val_loss: 0.1430 - val_accuracy: 0.9450\n",
      "Epoch 72/100\n",
      "80/80 [==============================] - 2s 21ms/step - loss: 0.1292 - accuracy: 0.9000 - val_loss: 0.0528 - val_accuracy: 0.9900\n",
      "Epoch 73/100\n",
      "80/80 [==============================] - 2s 21ms/step - loss: 0.0411 - accuracy: 0.9875 - val_loss: 0.0203 - val_accuracy: 0.9975\n",
      "Epoch 74/100\n",
      "80/80 [==============================] - 2s 21ms/step - loss: 0.0106 - accuracy: 1.0000 - val_loss: 0.0095 - val_accuracy: 0.9975\n",
      "Epoch 75/100\n",
      "80/80 [==============================] - 2s 21ms/step - loss: 0.0030 - accuracy: 1.0000 - val_loss: 0.0076 - val_accuracy: 1.0000\n",
      "Epoch 76/100\n",
      "80/80 [==============================] - 2s 21ms/step - loss: 0.0066 - accuracy: 1.0000 - val_loss: 0.0109 - val_accuracy: 0.9950\n",
      "Epoch 77/100\n",
      "80/80 [==============================] - 2s 21ms/step - loss: 0.0127 - accuracy: 1.0000 - val_loss: 0.0103 - val_accuracy: 0.9975\n",
      "Epoch 78/100\n",
      "80/80 [==============================] - 2s 21ms/step - loss: 0.0072 - accuracy: 1.0000 - val_loss: 0.0333 - val_accuracy: 0.9875\n",
      "Epoch 79/100\n",
      "80/80 [==============================] - 2s 21ms/step - loss: 0.0103 - accuracy: 1.0000 - val_loss: 0.0123 - val_accuracy: 0.9975\n",
      "Epoch 80/100\n",
      "80/80 [==============================] - 2s 21ms/step - loss: 0.0049 - accuracy: 1.0000 - val_loss: 0.0029 - val_accuracy: 1.0000\n",
      "Epoch 81/100\n",
      "80/80 [==============================] - 2s 22ms/step - loss: 0.0011 - accuracy: 1.0000 - val_loss: 0.0029 - val_accuracy: 1.0000\n",
      "Epoch 82/100\n",
      "80/80 [==============================] - 2s 21ms/step - loss: 0.0492 - accuracy: 0.9625 - val_loss: 0.4692 - val_accuracy: 0.8200\n",
      "Epoch 83/100\n",
      "80/80 [==============================] - 2s 21ms/step - loss: 0.3108 - accuracy: 0.8750 - val_loss: 0.2589 - val_accuracy: 0.9100\n",
      "Epoch 84/100\n",
      "80/80 [==============================] - 2s 21ms/step - loss: 0.4666 - accuracy: 0.9125 - val_loss: 0.0919 - val_accuracy: 0.9725\n",
      "Epoch 85/100\n",
      "80/80 [==============================] - 2s 21ms/step - loss: 0.1126 - accuracy: 0.9500 - val_loss: 0.0509 - val_accuracy: 0.9825\n",
      "Epoch 86/100\n",
      "80/80 [==============================] - 2s 22ms/step - loss: 0.0400 - accuracy: 0.9750 - val_loss: 0.0277 - val_accuracy: 0.9950\n",
      "Epoch 87/100\n",
      "80/80 [==============================] - 2s 22ms/step - loss: 0.0133 - accuracy: 1.0000 - val_loss: 0.0152 - val_accuracy: 0.9950\n",
      "Epoch 88/100\n",
      "80/80 [==============================] - 2s 22ms/step - loss: 0.0081 - accuracy: 1.0000 - val_loss: 0.0101 - val_accuracy: 0.9975\n",
      "Epoch 89/100\n",
      "80/80 [==============================] - 2s 22ms/step - loss: 0.0041 - accuracy: 1.0000 - val_loss: 0.0074 - val_accuracy: 0.9975\n",
      "Epoch 90/100\n",
      "80/80 [==============================] - 2s 21ms/step - loss: 0.0177 - accuracy: 1.0000 - val_loss: 0.0087 - val_accuracy: 0.9975\n",
      "Epoch 91/100\n",
      "80/80 [==============================] - 2s 21ms/step - loss: 0.0064 - accuracy: 1.0000 - val_loss: 0.0034 - val_accuracy: 1.0000\n",
      "Epoch 92/100\n",
      "80/80 [==============================] - 2s 21ms/step - loss: 0.0017 - accuracy: 1.0000 - val_loss: 0.0028 - val_accuracy: 1.0000\n",
      "Epoch 93/100\n",
      "80/80 [==============================] - 2s 21ms/step - loss: 0.0013 - accuracy: 1.0000 - val_loss: 0.0027 - val_accuracy: 1.0000\n",
      "Epoch 94/100\n",
      "80/80 [==============================] - 2s 21ms/step - loss: 0.0067 - accuracy: 1.0000 - val_loss: 0.0027 - val_accuracy: 1.0000\n",
      "Epoch 95/100\n",
      "80/80 [==============================] - 2s 22ms/step - loss: 0.0016 - accuracy: 1.0000 - val_loss: 0.0018 - val_accuracy: 1.0000\n",
      "Epoch 96/100\n",
      "80/80 [==============================] - 2s 22ms/step - loss: 0.0021 - accuracy: 1.0000 - val_loss: 0.0015 - val_accuracy: 1.0000\n",
      "Epoch 97/100\n",
      "80/80 [==============================] - 2s 21ms/step - loss: 5.3581e-04 - accuracy: 1.0000 - val_loss: 0.0013 - val_accuracy: 1.0000\n",
      "Epoch 98/100\n",
      "80/80 [==============================] - 2s 21ms/step - loss: 7.5599e-04 - accuracy: 1.0000 - val_loss: 0.0011 - val_accuracy: 1.0000\n",
      "Epoch 99/100\n",
      "80/80 [==============================] - 2s 21ms/step - loss: 9.3496e-04 - accuracy: 1.0000 - val_loss: 9.1650e-04 - val_accuracy: 1.0000\n",
      "Epoch 100/100\n",
      "80/80 [==============================] - 2s 21ms/step - loss: 6.4449e-04 - accuracy: 1.0000 - val_loss: 8.1208e-04 - val_accuracy: 1.0000\n"
     ]
    }
   ],
   "source": [
    "early_stopping = EarlyStopping(\n",
    "    min_delta=0.001, # minimium amount of change to count as an improvement\n",
    "    patience=20, # how many epochs to wait before stopping\n",
    "    restore_best_weights=True,\n",
    ")\n",
    "\n",
    "history = model.fit(train_dataset,\n",
    "         steps_per_epoch = 80,\n",
    "         epochs = 100,\n",
    "         callbacks=[early_stopping],\n",
    "         validation_data = validation_dataset\n",
    "         )"
   ]
  },
  {
   "cell_type": "code",
   "execution_count": 6,
   "metadata": {},
   "outputs": [
    {
     "data": {
      "text/plain": [
       "[<matplotlib.lines.Line2D at 0x2b28fa3a0>]"
      ]
     },
     "execution_count": 6,
     "metadata": {},
     "output_type": "execute_result"
    },
    {
     "data": {
      "image/png": "[encoded data removed]",
      "text/plain": [
       "<Figure size 432x288 with 1 Axes>"
      ]
     },
     "metadata": {
      "needs_background": "light"
     },
     "output_type": "display_data"
    }
   ],
   "source": [
    "# visualizing losses and accuracy\n",
    "# print(history.history)\n",
    "train_loss = history.history['loss']\n",
    "val_loss   = history.history['val_loss']\n",
    "train_acc  = history.history['accuracy']\n",
    "val_acc    = history.history['val_accuracy']\n",
    "xc         = range(100)\n",
    "\n",
    "plt.figure()\n",
    "plt.plot(xc, train_loss)\n",
    "plt.plot(xc, val_loss)"
   ]
  },
  {
   "cell_type": "code",
   "execution_count": 7,
   "metadata": {},
   "outputs": [
    {
     "name": "stdout",
     "output_type": "stream",
     "text": [
      "1600/1600 [==============================] - 5s 3ms/step - loss: 1.2040 - accuracy: 0.7856\n",
      "78.56249809265137\n"
     ]
    }
   ],
   "source": [
    "_, acc = model.evaluate(test_dataset)\n",
    "print(acc *100)"
   ]
  },
  {
   "cell_type": "markdown",
   "metadata": {},
   "source": [
    "Prediction"
   ]
  },
  {
   "cell_type": "code",
   "execution_count": 8,
   "metadata": {},
   "outputs": [
    {
     "name": "stdout",
     "output_type": "stream",
     "text": [
      "[[1.]]\n"
     ]
    },
    {
     "name": "stderr",
     "output_type": "stream",
     "text": [
      "2022-05-13 20:15:39.515514: I tensorflow/core/grappler/optimizers/custom_graph_optimizer_registry.cc:113] Plugin optimizer for device_type GPU is enabled.\n"
     ]
    },
    {
     "data": {
      "image/png": "[encoded data removed]",
      "text/plain": [
       "<Figure size 432x288 with 1 Axes>"
      ]
     },
     "metadata": {
      "needs_background": "light"
     },
     "output_type": "display_data"
    }
   ],
   "source": [
    "def predictImage(filename):\n",
    "    img1 = image.load_img(filename,target_size=(32,32))\n",
    "    \n",
    "    plt.imshow(img1)\n",
    " \n",
    "    Y = image.img_to_array(img1)\n",
    "    \n",
    "    X = np.expand_dims(Y,axis=0)\n",
    "    val = model.predict(X)\n",
    "    print(val)\n",
    "    if val == 1:\n",
    "        \n",
    "        plt.xlabel(\"Real\",fontsize=30)\n",
    "        \n",
    "    \n",
    "    elif val == 0:\n",
    "        \n",
    "        plt.xlabel(\"Fake\",fontsize=30)\n",
    "\n",
    "predictImage(r\"/Users/nayansavaliya/Masters Mechatronics/2022 Summer/RAML - Project/data/test/imagewoof_test/985.jpg\")\n"
   ]
  },
  {
   "cell_type": "code",
   "execution_count": 9,
   "metadata": {},
   "outputs": [
    {
     "name": "stdout",
     "output_type": "stream",
     "text": [
      "[[1.]]\n"
     ]
    },
    {
     "data": {
      "image/png": "[encoded data removed]",
      "text/plain": [
       "<Figure size 432x288 with 1 Axes>"
      ]
     },
     "metadata": {
      "needs_background": "light"
     },
     "output_type": "display_data"
    }
   ],
   "source": [
    "\n",
    "predictImage(r\"/Users/nayansavaliya/Masters Mechatronics/2022 Summer/RAML - Project/data/test/SNGAN_bicubic_test/954.jpg\")"
   ]
  }
 ],
 "metadata": {
  "interpreter": {
   "hash": "d6559be91acbc93f4d619e1b72121704cbae2e517629d34a1f89aedc7528f034"
  },
  "kernelspec": {
   "display_name": "Python 3.9.12 ('venv': venv)",
   "language": "python",
   "name": "python3"
  },
  "language_info": {
   "codemirror_mode": {
    "name": "ipython",
    "version": 3
   },
   "file_extension": ".py",
   "mimetype": "text/x-python",
   "name": "python",
   "nbconvert_exporter": "python",
   "pygments_lexer": "ipython3",
   "version": "3.9.12"
  },
  "orig_nbformat": 4
 },
 "nbformat": 4,
 "nbformat_minor": 2
}
