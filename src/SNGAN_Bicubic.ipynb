{
 "cells": [
  {
   "cell_type": "markdown",
   "metadata": {},
   "source": [
    "Imports"
   ]
  },
  {
   "cell_type": "code",
   "execution_count": 1,
   "metadata": {},
   "outputs": [],
   "source": [
    "import tensorflow as tf\n",
    "import numpy as np\n",
    "from tensorflow import keras\n",
    "from keras.preprocessing.image import ImageDataGenerator\n",
    "from keras.preprocessing import image\n",
    "import matplotlib.pyplot as plt\n",
    "from keras.callbacks import EarlyStopping\n",
    "\n",
    "\n",
    "# from IPython.core.interactiveshell import InteractiveShell\n",
    "# InteractiveShell.ast_node_interactivity = \"all\"\n",
    "\n"
   ]
  },
  {
   "cell_type": "markdown",
   "metadata": {},
   "source": [
    "Prepare DATASET"
   ]
  },
  {
   "cell_type": "code",
   "execution_count": 2,
   "metadata": {},
   "outputs": [
    {
     "name": "stdout",
     "output_type": "stream",
     "text": [
      "Found 1280 images belonging to 2 classes.\n",
      "Found 320 images belonging to 2 classes.\n",
      "Found 400 images belonging to 2 classes.\n"
     ]
    },
    {
     "data": {
      "text/plain": [
       "{'SNGAN_bicubic_test': 0, 'imagewoof_test': 1}"
      ]
     },
     "execution_count": 2,
     "metadata": {},
     "output_type": "execute_result"
    }
   ],
   "source": [
    "\n",
    "train = ImageDataGenerator(rescale=1/255,validation_split=0.2)\n",
    "test = ImageDataGenerator(rescale=1/255)\n",
    "\n",
    "train_dataset = train.flow_from_directory(\"/Users/nayansavaliya/Masters Mechatronics/2022 Summer/RAML - Project/data/bicubic/train\",\n",
    "                                          target_size=(32,32),\n",
    "                                          batch_size = 1,\n",
    "                                          class_mode = 'binary',subset='training')\n",
    "\n",
    "validation_dataset = train.flow_from_directory(\"/Users/nayansavaliya/Masters Mechatronics/2022 Summer/RAML - Project/data/bicubic/train\",\n",
    "                                          target_size=(32,32),\n",
    "                                          batch_size = 1,\n",
    "                                          class_mode = 'binary',subset='validation')                                    \n",
    "test_dataset = test.flow_from_directory(\"/Users/nayansavaliya/Masters Mechatronics/2022 Summer/RAML - Project/data/bicubic/test\",\n",
    "                                          target_size=(32,32),\n",
    "                                          batch_size =1,\n",
    "                                          class_mode = 'binary')\n",
    "\n",
    "test_dataset.class_indices"
   ]
  },
  {
   "cell_type": "markdown",
   "metadata": {},
   "source": [
    "Design Model"
   ]
  },
  {
   "cell_type": "code",
   "execution_count": 3,
   "metadata": {},
   "outputs": [
    {
     "name": "stdout",
     "output_type": "stream",
     "text": [
      "Metal device set to: Apple M1\n",
      "\n",
      "systemMemory: 16.00 GB\n",
      "maxCacheSize: 5.33 GB\n",
      "\n"
     ]
    },
    {
     "name": "stderr",
     "output_type": "stream",
     "text": [
      "2022-05-16 14:24:24.579550: I tensorflow/core/common_runtime/pluggable_device/pluggable_device_factory.cc:305] Could not identify NUMA node of platform GPU ID 0, defaulting to 0. Your kernel may not have been built with NUMA support.\n",
      "2022-05-16 14:24:24.579673: I tensorflow/core/common_runtime/pluggable_device/pluggable_device_factory.cc:271] Created TensorFlow device (/job:localhost/replica:0/task:0/device:GPU:0 with 0 MB memory) -> physical PluggableDevice (device: 0, name: METAL, pci bus id: <undefined>)\n"
     ]
    }
   ],
   "source": [
    "model = keras.Sequential()\n",
    "\n",
    "# Convolutional layer and maxpool layer 1\n",
    "model.add(keras.layers.Conv2D(32,(3,3),activation='relu',input_shape=(32,32,3)))\n",
    "model.add(keras.layers.MaxPool2D(2,2))\n",
    "\n",
    "# This layer flattens the resulting image array to 1D array\n",
    "model.add(keras.layers.Flatten())\n",
    "\n",
    "# Hidden layer with 512 neurons and Rectified Linear Unit activation function \n",
    "model.add(keras.layers.Dense(32,activation='relu'))\n",
    "\n",
    "# Output layer with single neuron which gives 0 for fake or 1 for real \n",
    "#Here we use sigmoid activation function which makes our model output to lie between 0 and 1\n",
    "model.add(keras.layers.Dense(1,activation='sigmoid'))\n",
    "\n",
    "\n",
    "model.compile(optimizer='adam',loss='binary_crossentropy',metrics=['accuracy'])"
   ]
  },
  {
   "cell_type": "markdown",
   "metadata": {},
   "source": [
    "Training\n",
    "\n",
    "Usually with every epoch increasing, loss goes lower and accuracy goes higher. But with val_loss and val_acc, many cases can be possible:\n",
    "\n",
    "val_loss starts increasing, val_acc starts decreasing(means model is cramming values not learning)\n",
    "\n",
    "val_loss starts increasing, val_acc also increases.(could be case of overfitting or diverse probability values in cases softmax is used in output layer)\n",
    "\n",
    "val_loss starts decreasing, val_acc starts increasing(Correct, means model build is learning and working fine)"
   ]
  },
  {
   "cell_type": "code",
   "execution_count": 4,
   "metadata": {},
   "outputs": [
    {
     "name": "stdout",
     "output_type": "stream",
     "text": [
      "Epoch 1/100\n"
     ]
    },
    {
     "name": "stderr",
     "output_type": "stream",
     "text": [
      "2022-05-16 14:24:24.682399: W tensorflow/core/platform/profile_utils/cpu_utils.cc:128] Failed to get CPU frequency: 0 Hz\n",
      "2022-05-16 14:24:24.957784: I tensorflow/core/grappler/optimizers/custom_graph_optimizer_registry.cc:113] Plugin optimizer for device_type GPU is enabled.\n"
     ]
    },
    {
     "name": "stdout",
     "output_type": "stream",
     "text": [
      "1270/1280 [============================>.] - ETA: 0s - loss: 0.5775 - accuracy: 0.6945"
     ]
    },
    {
     "name": "stderr",
     "output_type": "stream",
     "text": [
      "2022-05-16 14:24:31.725350: I tensorflow/core/grappler/optimizers/custom_graph_optimizer_registry.cc:113] Plugin optimizer for device_type GPU is enabled.\n"
     ]
    },
    {
     "name": "stdout",
     "output_type": "stream",
     "text": [
      "1280/1280 [==============================] - 8s 6ms/step - loss: 0.5770 - accuracy: 0.6945 - val_loss: 0.4279 - val_accuracy: 0.8188\n",
      "Epoch 2/100\n",
      "1280/1280 [==============================] - 8s 6ms/step - loss: 0.3853 - accuracy: 0.8305 - val_loss: 0.3482 - val_accuracy: 0.8500\n",
      "Epoch 3/100\n",
      "1280/1280 [==============================] - 8s 6ms/step - loss: 0.2896 - accuracy: 0.8789 - val_loss: 0.3365 - val_accuracy: 0.8719\n",
      "Epoch 4/100\n",
      "1280/1280 [==============================] - 8s 6ms/step - loss: 0.2147 - accuracy: 0.9109 - val_loss: 0.3592 - val_accuracy: 0.8562\n",
      "Epoch 5/100\n",
      "1280/1280 [==============================] - 8s 6ms/step - loss: 0.1610 - accuracy: 0.9391 - val_loss: 0.3205 - val_accuracy: 0.8625\n",
      "Epoch 6/100\n",
      "1280/1280 [==============================] - 8s 6ms/step - loss: 0.1239 - accuracy: 0.9531 - val_loss: 0.3729 - val_accuracy: 0.8813\n",
      "Epoch 7/100\n",
      "1280/1280 [==============================] - 8s 6ms/step - loss: 0.0765 - accuracy: 0.9742 - val_loss: 0.4654 - val_accuracy: 0.8562\n",
      "Epoch 8/100\n",
      "1280/1280 [==============================] - 8s 6ms/step - loss: 0.0705 - accuracy: 0.9742 - val_loss: 0.3836 - val_accuracy: 0.8875\n",
      "Epoch 9/100\n",
      "1280/1280 [==============================] - 8s 6ms/step - loss: 0.0359 - accuracy: 0.9898 - val_loss: 0.5188 - val_accuracy: 0.8500\n",
      "Epoch 10/100\n",
      "1280/1280 [==============================] - 8s 6ms/step - loss: 0.0352 - accuracy: 0.9953 - val_loss: 0.5687 - val_accuracy: 0.8688\n",
      "Epoch 11/100\n",
      "1280/1280 [==============================] - 8s 6ms/step - loss: 0.0471 - accuracy: 0.9852 - val_loss: 0.5661 - val_accuracy: 0.8719\n",
      "Epoch 12/100\n",
      "1280/1280 [==============================] - 8s 6ms/step - loss: 0.0064 - accuracy: 1.0000 - val_loss: 0.5540 - val_accuracy: 0.8875\n",
      "Epoch 13/100\n",
      "1280/1280 [==============================] - 8s 6ms/step - loss: 0.0320 - accuracy: 0.9945 - val_loss: 0.5310 - val_accuracy: 0.8844\n",
      "Epoch 14/100\n",
      "1280/1280 [==============================] - 8s 7ms/step - loss: 0.0177 - accuracy: 0.9945 - val_loss: 0.8893 - val_accuracy: 0.8281\n",
      "Epoch 15/100\n",
      "1280/1280 [==============================] - 8s 6ms/step - loss: 0.0425 - accuracy: 0.9906 - val_loss: 0.6862 - val_accuracy: 0.8781\n",
      "Epoch 16/100\n",
      "1280/1280 [==============================] - 8s 6ms/step - loss: 0.0116 - accuracy: 0.9953 - val_loss: 0.5974 - val_accuracy: 0.9000\n",
      "Epoch 17/100\n",
      "1280/1280 [==============================] - 8s 6ms/step - loss: 0.0019 - accuracy: 1.0000 - val_loss: 0.6778 - val_accuracy: 0.8781\n",
      "Epoch 18/100\n",
      "1280/1280 [==============================] - 8s 6ms/step - loss: 2.2666e-04 - accuracy: 1.0000 - val_loss: 0.6598 - val_accuracy: 0.8938\n",
      "Epoch 19/100\n",
      "1280/1280 [==============================] - 8s 6ms/step - loss: 8.8937e-05 - accuracy: 1.0000 - val_loss: 0.6788 - val_accuracy: 0.8969\n",
      "Epoch 20/100\n",
      "1280/1280 [==============================] - 8s 6ms/step - loss: 4.9318e-05 - accuracy: 1.0000 - val_loss: 0.7170 - val_accuracy: 0.8969\n",
      "Epoch 21/100\n",
      "1280/1280 [==============================] - 8s 6ms/step - loss: 3.7166e-05 - accuracy: 1.0000 - val_loss: 0.7519 - val_accuracy: 0.8906\n",
      "Epoch 22/100\n",
      "1280/1280 [==============================] - 8s 6ms/step - loss: 1.9776e-05 - accuracy: 1.0000 - val_loss: 0.7598 - val_accuracy: 0.9000\n",
      "Epoch 23/100\n",
      "1280/1280 [==============================] - 8s 6ms/step - loss: 0.0429 - accuracy: 0.9891 - val_loss: 0.7219 - val_accuracy: 0.8781\n",
      "Epoch 24/100\n",
      "1280/1280 [==============================] - 8s 6ms/step - loss: 0.0291 - accuracy: 0.9922 - val_loss: 0.6334 - val_accuracy: 0.8781\n",
      "Epoch 25/100\n",
      "1280/1280 [==============================] - 8s 6ms/step - loss: 0.0106 - accuracy: 0.9977 - val_loss: 0.6561 - val_accuracy: 0.8906\n"
     ]
    }
   ],
   "source": [
    "early_stopping = EarlyStopping(\n",
    "    min_delta=0.001, # minimium amount of change to count as an improvement\n",
    "    patience=20, # how many epochs to wait before stopping\n",
    "    restore_best_weights=True,\n",
    ")\n",
    "# steps per epoch is calculated as train_length // batch_size\n",
    "history = model.fit(train_dataset,\n",
    "        #  steps_per_epoch = 42,\n",
    "         epochs = 100,\n",
    "         callbacks=[early_stopping],\n",
    "         validation_data = validation_dataset,\n",
    "        \n",
    "         )"
   ]
  },
  {
   "cell_type": "code",
   "execution_count": 6,
   "metadata": {},
   "outputs": [
    {
     "data": {
      "text/plain": [
       "<matplotlib.legend.Legend at 0x2b19b25b0>"
      ]
     },
     "execution_count": 6,
     "metadata": {},
     "output_type": "execute_result"
    },
    {
     "data": {
      "image/png": "[encoded data removed]",
      "text/plain": [
       "<Figure size 432x288 with 1 Axes>"
      ]
     },
     "metadata": {
      "needs_background": "light"
     },
     "output_type": "display_data"
    }
   ],
   "source": [
    "# visualizing losses and accuracy\n",
    "# print(history.history)\n",
    "train_loss = history.history['loss']\n",
    "val_loss   = history.history['val_loss']\n",
    "train_acc  = history.history['accuracy']\n",
    "val_acc    = history.history['val_accuracy']\n",
    "xc         = range(25)\n",
    "\n",
    "plt.figure()\n",
    "plt.plot(xc, train_loss,label = 'Train Loss')\n",
    "plt.plot(xc, val_loss,label = 'Val Loss')\n",
    "plt.legend(loc='upper right')\n",
    "\n"
   ]
  },
  {
   "cell_type": "code",
   "execution_count": 7,
   "metadata": {},
   "outputs": [
    {
     "data": {
      "text/plain": [
       "<matplotlib.legend.Legend at 0x171d1dc40>"
      ]
     },
     "execution_count": 7,
     "metadata": {},
     "output_type": "execute_result"
    },
    {
     "data": {
      "image/png": "[encoded data removed]",
      "text/plain": [
       "<Figure size 432x288 with 1 Axes>"
      ]
     },
     "metadata": {
      "needs_background": "light"
     },
     "output_type": "display_data"
    }
   ],
   "source": [
    "plt.figure()\n",
    "plt.plot(xc, train_acc,label = 'Train Acc')\n",
    "plt.plot(xc, val_acc,label = 'Val Acc')\n",
    "plt.legend(loc='upper right')"
   ]
  },
  {
   "cell_type": "code",
   "execution_count": 8,
   "metadata": {},
   "outputs": [
    {
     "name": "stdout",
     "output_type": "stream",
     "text": [
      "400/400 [==============================] - 1s 3ms/step - loss: 0.4250 - accuracy: 0.8475\n",
      "84.74999666213989\n"
     ]
    }
   ],
   "source": [
    "_, acc = model.evaluate(test_dataset)\n",
    "print(acc *100)"
   ]
  },
  {
   "cell_type": "markdown",
   "metadata": {},
   "source": [
    "Prediction"
   ]
  },
  {
   "cell_type": "code",
   "execution_count": 9,
   "metadata": {},
   "outputs": [
    {
     "name": "stdout",
     "output_type": "stream",
     "text": [
      "[[1.]]\n"
     ]
    },
    {
     "name": "stderr",
     "output_type": "stream",
     "text": [
      "2022-05-16 14:28:36.241499: I tensorflow/core/grappler/optimizers/custom_graph_optimizer_registry.cc:113] Plugin optimizer for device_type GPU is enabled.\n"
     ]
    },
    {
     "data": {
      "image/png": "[encoded data removed]",
      "text/plain": [
       "<Figure size 432x288 with 1 Axes>"
      ]
     },
     "metadata": {
      "needs_background": "light"
     },
     "output_type": "display_data"
    }
   ],
   "source": [
    "def predictImage(filename):\n",
    "    img1 = image.load_img(filename,target_size=(32,32))\n",
    "    \n",
    "    plt.imshow(img1)\n",
    " \n",
    "    Y = image.img_to_array(img1)\n",
    "    \n",
    "    X = np.expand_dims(Y,axis=0)\n",
    "    val = model.predict(X)\n",
    "    print(val)\n",
    "    if val == 1:\n",
    "        \n",
    "        plt.xlabel(\"Real\",fontsize=30)\n",
    "        \n",
    "    \n",
    "    elif val == 0:\n",
    "        \n",
    "        plt.xlabel(\"Fake\",fontsize=30)\n",
    "\n",
    "predictImage(r\"/Users/nayansavaliya/Masters Mechatronics/2022 Summer/RAML - Project/data/bicubic/test/imagewoof_test/985.jpg\")\n"
   ]
  },
  {
   "cell_type": "code",
   "execution_count": 10,
   "metadata": {},
   "outputs": [
    {
     "name": "stdout",
     "output_type": "stream",
     "text": [
      "[[0.]]\n"
     ]
    },
    {
     "data": {
      "image/png": "[encoded data removed]",
      "text/plain": [
       "<Figure size 432x288 with 1 Axes>"
      ]
     },
     "metadata": {
      "needs_background": "light"
     },
     "output_type": "display_data"
    }
   ],
   "source": [
    "\n",
    "predictImage(r\"/Users/nayansavaliya/Masters Mechatronics/2022 Summer/RAML - Project/data/bicubic/test/SNGAN_bicubic_test/952.jpg\")"
   ]
  }
 ],
 "metadata": {
  "interpreter": {
   "hash": "d6559be91acbc93f4d619e1b72121704cbae2e517629d34a1f89aedc7528f034"
  },
  "kernelspec": {
   "display_name": "Python 3.9.12 ('venv': venv)",
   "language": "python",
   "name": "python3"
  },
  "language_info": {
   "codemirror_mode": {
    "name": "ipython",
    "version": 3
   },
   "file_extension": ".py",
   "mimetype": "text/x-python",
   "name": "python",
   "nbconvert_exporter": "python",
   "pygments_lexer": "ipython3",
   "version": "3.9.12"
  },
  "orig_nbformat": 4
 },
 "nbformat": 4,
 "nbformat_minor": 2
}
