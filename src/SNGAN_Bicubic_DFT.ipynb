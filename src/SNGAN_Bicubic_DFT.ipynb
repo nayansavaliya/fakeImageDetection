{
 "cells": [
  {
   "cell_type": "markdown",
   "metadata": {},
   "source": [
    "Imports"
   ]
  },
  {
   "cell_type": "code",
   "execution_count": 1,
   "metadata": {},
   "outputs": [],
   "source": [
    "import tensorflow as tf\n",
    "import numpy as np\n",
    "from tensorflow import keras\n",
    "from keras.preprocessing.image import ImageDataGenerator\n",
    "from keras.preprocessing import image\n",
    "import matplotlib.pyplot as plt\n",
    "from keras.callbacks import EarlyStopping\n",
    "\n",
    "# from IPython.core.interactiveshell import InteractiveShell\n",
    "# InteractiveShell.ast_node_interactivity = \"all\"\n",
    "\n"
   ]
  },
  {
   "cell_type": "markdown",
   "metadata": {},
   "source": [
    "Prepare DATASET"
   ]
  },
  {
   "cell_type": "code",
   "execution_count": 2,
   "metadata": {},
   "outputs": [
    {
     "name": "stdout",
     "output_type": "stream",
     "text": [
      "Found 1280 images belonging to 2 classes.\n",
      "Found 320 images belonging to 2 classes.\n",
      "Found 400 images belonging to 2 classes.\n"
     ]
    },
    {
     "data": {
      "text/plain": [
       "{'SNGAN_bicubic_test': 0, 'imagewoof_test': 1}"
      ]
     },
     "execution_count": 2,
     "metadata": {},
     "output_type": "execute_result"
    }
   ],
   "source": [
    "\n",
    "train = ImageDataGenerator(rescale=1/255,validation_split=0.2)\n",
    "test = ImageDataGenerator(rescale=1/255)\n",
    "\n",
    "train_dataset = train.flow_from_directory(\"/Users/nayansavaliya/Masters Mechatronics/2022 Summer/RAML - Project/data/bicubic/train\",\n",
    "                                          target_size=(32,32),\n",
    "                                          color_mode=\"grayscale\",\n",
    "                                          batch_size =50,\n",
    "                                          class_mode = 'binary',\n",
    "                                          subset='training',)\n",
    "\n",
    "validation_dataset = train.flow_from_directory(\"/Users/nayansavaliya/Masters Mechatronics/2022 Summer/RAML - Project/data/bicubic/train\",\n",
    "                                          target_size=(32,32),\n",
    "                                          color_mode=\"grayscale\",\n",
    "                                          batch_size = 50,\n",
    "                                          class_mode = 'binary',\n",
    "                                          subset='validation')                                    \n",
    "test_dataset = test.flow_from_directory(\"/Users/nayansavaliya/Masters Mechatronics/2022 Summer/RAML - Project/data/bicubic/test\",\n",
    "                                          target_size=(32,32),\n",
    "                                          color_mode=\"grayscale\",\n",
    "                                          batch_size =50,\n",
    "                                          class_mode = 'binary')\n",
    "\n",
    "test_dataset.class_indices"
   ]
  },
  {
   "cell_type": "code",
   "execution_count": 3,
   "metadata": {},
   "outputs": [],
   "source": [
    "class PowerSpectrum(object):\n",
    "    \"\"\" Class for calculating a the power spectrum (1D or 2D) of an image in tensorflow.\n",
    "        Expects square image as input.\n",
    "    \"\"\"\n",
    "    def __init__(self,image_size=None,scale=1):\n",
    "        \"\"\"image_size: only needed for power1D\n",
    "        \"\"\"\n",
    "        self.image_size = image_size\n",
    "        self.scale = scale\n",
    "        if self.image_size is not None:\n",
    "            self.az_mask=self.build_azimuthal_mask()\n",
    "        \n",
    "    def power2D(self,x):\n",
    "        x = tf.signal.fft2d(tf.cast(x,dtype=tf.complex64))\n",
    "        x = tf.signal.fftshift(x, axes=None, name=None)\n",
    "        return abs(x)\n",
    "     \n",
    "    def build_azimuthal_mask(self):\n",
    "        \n",
    "        x,y = np.meshgrid(np.arange(self.image_size),np.arange(self.image_size))\n",
    "        R = np.sqrt((x-self.image_size/2)**2+(y-self.image_size/2)**2)\n",
    "        masks = np.array(list(map(lambda r : (R >= r-.5) & (R < r+.5),np.arange(1,int(self.image_size/2+1),1))))\n",
    "        norm = np.sum(masks,axis=(1,2),keepdims=True)\n",
    "        masks=masks/norm\n",
    "        n=len(masks)\n",
    "        return tf.reshape(tf.cast(masks,dtype=tf.float32),(1,n,self.image_size,self.image_size))\n",
    "        \n",
    "    def az_average(self,x):\n",
    "        x=tf.reshape(x,(-1,1,self.image_size,self.image_size))\n",
    "        return tf.reduce_sum(tf.reduce_sum(tf.multiply(self.az_mask,x),axis=3),axis=2)\n",
    "    \n",
    "    def power1D(self,x):\n",
    "        x = self.power2D(x)\n",
    "        az_avg = self.az_average(x)\n",
    "        ell=np.arange(int(az_avg.shape[1]))*9\n",
    "        return tf.multiply(az_avg,tf.reshape(tf.cast(ell*(ell+1)/2/np.pi,dtype=tf.float32),(1,-1)))\n"
   ]
  },
  {
   "cell_type": "markdown",
   "metadata": {},
   "source": [
    "Design Model"
   ]
  },
  {
   "cell_type": "code",
   "execution_count": 4,
   "metadata": {},
   "outputs": [
    {
     "name": "stdout",
     "output_type": "stream",
     "text": [
      "Metal device set to: Apple M1\n",
      "\n",
      "systemMemory: 16.00 GB\n",
      "maxCacheSize: 5.33 GB\n",
      "\n"
     ]
    },
    {
     "name": "stderr",
     "output_type": "stream",
     "text": [
      "2022-05-15 23:36:31.381056: I tensorflow/core/common_runtime/pluggable_device/pluggable_device_factory.cc:305] Could not identify NUMA node of platform GPU ID 0, defaulting to 0. Your kernel may not have been built with NUMA support.\n",
      "2022-05-15 23:36:31.381160: I tensorflow/core/common_runtime/pluggable_device/pluggable_device_factory.cc:271] Created TensorFlow device (/job:localhost/replica:0/task:0/device:GPU:0 with 0 MB memory) -> physical PluggableDevice (device: 0, name: METAL, pci bus id: <undefined>)\n"
     ]
    }
   ],
   "source": [
    "model = keras.Sequential()\n",
    "\n",
    "ps = PowerSpectrum(32)\n",
    "model.add(keras.layers.Lambda(lambda v: ps.power2D(v)))\n",
    "\n",
    "\n",
    "model.add(keras.layers.Flatten())\n",
    "model.add(keras.layers.Dense(32,input_dim=32,activation='relu'))\n",
    "\n",
    "model.add(keras.layers.Dense(1,activation='sigmoid'))\n",
    "\n",
    "\n",
    "model.compile(optimizer='adam',loss='binary_crossentropy',metrics=['accuracy'])"
   ]
  },
  {
   "cell_type": "markdown",
   "metadata": {},
   "source": [
    "Training\n",
    "\n",
    "Usually with every epoch increasing, loss goes lower and accuracy goes higher. But with val_loss and val_acc, many cases can be possible:\n",
    "\n",
    "val_loss starts increasing, val_acc starts decreasing(means model is cramming values not learning)\n",
    "\n",
    "val_loss starts increasing, val_acc also increases.(could be case of overfitting or diverse probability values in cases softmax is used in output layer)\n",
    "\n",
    "val_loss starts decreasing, val_acc starts increasing(Correct, means model build is learning and working fine)"
   ]
  },
  {
   "cell_type": "code",
   "execution_count": 5,
   "metadata": {},
   "outputs": [
    {
     "name": "stdout",
     "output_type": "stream",
     "text": [
      "Epoch 1/500\n"
     ]
    },
    {
     "name": "stderr",
     "output_type": "stream",
     "text": [
      "2022-05-15 23:36:31.501505: W tensorflow/core/platform/profile_utils/cpu_utils.cc:128] Failed to get CPU frequency: 0 Hz\n"
     ]
    },
    {
     "name": "stdout",
     "output_type": "stream",
     "text": [
      " 8/26 [========>.....................] - ETA: 0s - loss: 1.1731 - accuracy: 0.5325"
     ]
    },
    {
     "name": "stderr",
     "output_type": "stream",
     "text": [
      "2022-05-15 23:36:31.779282: I tensorflow/core/grappler/optimizers/custom_graph_optimizer_registry.cc:113] Plugin optimizer for device_type GPU is enabled.\n"
     ]
    },
    {
     "name": "stdout",
     "output_type": "stream",
     "text": [
      "26/26 [==============================] - 1s 14ms/step - loss: 0.8914 - accuracy: 0.4930 - val_loss: 0.7092 - val_accuracy: 0.5125\n",
      "Epoch 2/500\n",
      " 9/26 [=========>....................] - ETA: 0s - loss: 0.7107 - accuracy: 0.5244"
     ]
    },
    {
     "name": "stderr",
     "output_type": "stream",
     "text": [
      "2022-05-15 23:36:32.168369: I tensorflow/core/grappler/optimizers/custom_graph_optimizer_registry.cc:113] Plugin optimizer for device_type GPU is enabled.\n"
     ]
    },
    {
     "name": "stdout",
     "output_type": "stream",
     "text": [
      "26/26 [==============================] - 0s 9ms/step - loss: 0.7080 - accuracy: 0.5211 - val_loss: 0.7119 - val_accuracy: 0.5406\n",
      "Epoch 3/500\n",
      "26/26 [==============================] - 0s 8ms/step - loss: 0.7173 - accuracy: 0.4977 - val_loss: 0.7198 - val_accuracy: 0.4875\n",
      "Epoch 4/500\n",
      "26/26 [==============================] - 0s 8ms/step - loss: 0.7164 - accuracy: 0.4852 - val_loss: 0.7218 - val_accuracy: 0.4750\n",
      "Epoch 5/500\n",
      "26/26 [==============================] - 0s 9ms/step - loss: 0.7164 - accuracy: 0.4961 - val_loss: 0.7031 - val_accuracy: 0.5219\n",
      "Epoch 6/500\n",
      "26/26 [==============================] - 0s 9ms/step - loss: 0.7249 - accuracy: 0.4727 - val_loss: 0.7200 - val_accuracy: 0.5156\n",
      "Epoch 7/500\n",
      "26/26 [==============================] - 0s 9ms/step - loss: 0.7372 - accuracy: 0.5078 - val_loss: 0.7464 - val_accuracy: 0.4906\n",
      "Epoch 8/500\n",
      "26/26 [==============================] - 0s 9ms/step - loss: 0.7130 - accuracy: 0.5133 - val_loss: 0.7241 - val_accuracy: 0.4813\n",
      "Epoch 9/500\n",
      "26/26 [==============================] - 0s 9ms/step - loss: 0.7027 - accuracy: 0.5031 - val_loss: 0.7062 - val_accuracy: 0.4719\n",
      "Epoch 10/500\n",
      "26/26 [==============================] - 0s 8ms/step - loss: 0.7187 - accuracy: 0.4820 - val_loss: 0.7266 - val_accuracy: 0.4875\n",
      "Epoch 11/500\n",
      "26/26 [==============================] - 0s 9ms/step - loss: 0.7106 - accuracy: 0.4969 - val_loss: 0.7576 - val_accuracy: 0.5000\n",
      "Epoch 12/500\n",
      "26/26 [==============================] - 0s 9ms/step - loss: 0.7310 - accuracy: 0.4859 - val_loss: 0.7435 - val_accuracy: 0.4875\n",
      "Epoch 13/500\n",
      "26/26 [==============================] - 0s 9ms/step - loss: 0.7158 - accuracy: 0.4898 - val_loss: 0.7134 - val_accuracy: 0.5031\n",
      "Epoch 14/500\n",
      "26/26 [==============================] - 0s 9ms/step - loss: 0.7142 - accuracy: 0.5000 - val_loss: 0.6975 - val_accuracy: 0.5312\n",
      "Epoch 15/500\n",
      "26/26 [==============================] - 0s 9ms/step - loss: 0.7121 - accuracy: 0.5016 - val_loss: 0.7207 - val_accuracy: 0.4938\n",
      "Epoch 16/500\n",
      "26/26 [==============================] - 0s 9ms/step - loss: 0.7046 - accuracy: 0.5047 - val_loss: 0.7083 - val_accuracy: 0.4719\n",
      "Epoch 17/500\n",
      "26/26 [==============================] - 0s 9ms/step - loss: 0.7156 - accuracy: 0.4984 - val_loss: 0.7019 - val_accuracy: 0.5000\n",
      "Epoch 18/500\n",
      "26/26 [==============================] - 0s 9ms/step - loss: 0.7075 - accuracy: 0.5023 - val_loss: 0.6999 - val_accuracy: 0.5125\n",
      "Epoch 19/500\n",
      "26/26 [==============================] - 0s 9ms/step - loss: 0.7131 - accuracy: 0.4930 - val_loss: 0.7077 - val_accuracy: 0.5188\n",
      "Epoch 20/500\n",
      "26/26 [==============================] - 0s 9ms/step - loss: 0.7204 - accuracy: 0.4805 - val_loss: 0.7000 - val_accuracy: 0.5094\n",
      "Epoch 21/500\n",
      "26/26 [==============================] - 0s 9ms/step - loss: 0.7062 - accuracy: 0.4977 - val_loss: 0.7169 - val_accuracy: 0.4938\n",
      "Epoch 22/500\n",
      "26/26 [==============================] - 0s 9ms/step - loss: 0.7130 - accuracy: 0.4883 - val_loss: 0.7007 - val_accuracy: 0.5000\n",
      "Epoch 23/500\n",
      "26/26 [==============================] - 0s 11ms/step - loss: 0.7053 - accuracy: 0.4688 - val_loss: 0.7164 - val_accuracy: 0.5031\n",
      "Epoch 24/500\n",
      "26/26 [==============================] - 0s 9ms/step - loss: 0.7145 - accuracy: 0.4938 - val_loss: 0.7306 - val_accuracy: 0.5000\n",
      "Epoch 25/500\n",
      "26/26 [==============================] - 0s 9ms/step - loss: 0.7074 - accuracy: 0.5164 - val_loss: 0.6947 - val_accuracy: 0.5250\n",
      "Epoch 26/500\n",
      "26/26 [==============================] - 0s 9ms/step - loss: 0.6985 - accuracy: 0.4844 - val_loss: 0.7079 - val_accuracy: 0.4844\n",
      "Epoch 27/500\n",
      "26/26 [==============================] - 0s 9ms/step - loss: 0.7067 - accuracy: 0.4578 - val_loss: 0.6940 - val_accuracy: 0.5406\n",
      "Epoch 28/500\n",
      "26/26 [==============================] - 0s 9ms/step - loss: 0.6996 - accuracy: 0.4953 - val_loss: 0.6955 - val_accuracy: 0.5000\n",
      "Epoch 29/500\n",
      "26/26 [==============================] - 0s 9ms/step - loss: 0.7022 - accuracy: 0.4930 - val_loss: 0.6969 - val_accuracy: 0.5094\n",
      "Epoch 30/500\n",
      "26/26 [==============================] - 0s 9ms/step - loss: 0.6992 - accuracy: 0.5008 - val_loss: 0.7123 - val_accuracy: 0.5000\n",
      "Epoch 31/500\n",
      "26/26 [==============================] - 0s 9ms/step - loss: 0.7017 - accuracy: 0.4930 - val_loss: 0.7410 - val_accuracy: 0.5000\n",
      "Epoch 32/500\n",
      "26/26 [==============================] - 0s 9ms/step - loss: 0.7086 - accuracy: 0.5047 - val_loss: 0.7043 - val_accuracy: 0.4781\n",
      "Epoch 33/500\n",
      "26/26 [==============================] - 0s 9ms/step - loss: 0.7027 - accuracy: 0.5055 - val_loss: 0.7090 - val_accuracy: 0.4656\n",
      "Epoch 34/500\n",
      "26/26 [==============================] - 0s 9ms/step - loss: 0.7064 - accuracy: 0.4805 - val_loss: 0.6958 - val_accuracy: 0.4844\n",
      "Epoch 35/500\n",
      "26/26 [==============================] - 0s 9ms/step - loss: 0.7014 - accuracy: 0.4828 - val_loss: 0.7053 - val_accuracy: 0.4875\n",
      "Epoch 36/500\n",
      "26/26 [==============================] - 0s 9ms/step - loss: 0.6999 - accuracy: 0.5063 - val_loss: 0.6948 - val_accuracy: 0.5125\n",
      "Epoch 37/500\n",
      "26/26 [==============================] - 0s 9ms/step - loss: 0.6980 - accuracy: 0.5078 - val_loss: 0.6971 - val_accuracy: 0.5063\n",
      "Epoch 38/500\n",
      "26/26 [==============================] - 0s 9ms/step - loss: 0.6996 - accuracy: 0.5008 - val_loss: 0.6983 - val_accuracy: 0.5063\n",
      "Epoch 39/500\n",
      "26/26 [==============================] - 0s 9ms/step - loss: 0.6978 - accuracy: 0.5164 - val_loss: 0.7217 - val_accuracy: 0.4938\n",
      "Epoch 40/500\n",
      "26/26 [==============================] - 0s 9ms/step - loss: 0.7124 - accuracy: 0.4977 - val_loss: 0.7088 - val_accuracy: 0.4969\n",
      "Epoch 41/500\n",
      "26/26 [==============================] - 0s 9ms/step - loss: 0.7094 - accuracy: 0.5039 - val_loss: 0.6946 - val_accuracy: 0.4750\n",
      "Epoch 42/500\n",
      "26/26 [==============================] - 0s 9ms/step - loss: 0.7031 - accuracy: 0.4852 - val_loss: 0.6972 - val_accuracy: 0.5156\n",
      "Epoch 43/500\n",
      "26/26 [==============================] - 0s 9ms/step - loss: 0.7006 - accuracy: 0.4891 - val_loss: 0.6914 - val_accuracy: 0.5469\n",
      "Epoch 44/500\n",
      "26/26 [==============================] - 0s 9ms/step - loss: 0.7024 - accuracy: 0.4789 - val_loss: 0.7117 - val_accuracy: 0.5031\n",
      "Epoch 45/500\n",
      "26/26 [==============================] - 0s 9ms/step - loss: 0.7090 - accuracy: 0.5023 - val_loss: 0.7002 - val_accuracy: 0.5031\n",
      "Epoch 46/500\n",
      "26/26 [==============================] - 0s 9ms/step - loss: 0.7002 - accuracy: 0.4977 - val_loss: 0.6977 - val_accuracy: 0.4844\n",
      "Epoch 47/500\n",
      "26/26 [==============================] - 0s 10ms/step - loss: 0.6966 - accuracy: 0.4891 - val_loss: 0.6974 - val_accuracy: 0.4844\n",
      "Epoch 48/500\n",
      "26/26 [==============================] - 0s 9ms/step - loss: 0.6986 - accuracy: 0.4773 - val_loss: 0.7059 - val_accuracy: 0.4750\n",
      "Epoch 49/500\n",
      "26/26 [==============================] - 0s 9ms/step - loss: 0.7027 - accuracy: 0.5102 - val_loss: 0.7093 - val_accuracy: 0.5000\n",
      "Epoch 50/500\n",
      "26/26 [==============================] - 0s 9ms/step - loss: 0.7128 - accuracy: 0.5063 - val_loss: 0.6983 - val_accuracy: 0.5125\n",
      "Epoch 51/500\n",
      "26/26 [==============================] - 0s 9ms/step - loss: 0.7017 - accuracy: 0.4813 - val_loss: 0.7013 - val_accuracy: 0.5063\n",
      "Epoch 52/500\n",
      "26/26 [==============================] - 0s 9ms/step - loss: 0.7013 - accuracy: 0.4813 - val_loss: 0.7060 - val_accuracy: 0.4875\n",
      "Epoch 53/500\n",
      "26/26 [==============================] - 0s 9ms/step - loss: 0.6991 - accuracy: 0.5023 - val_loss: 0.7032 - val_accuracy: 0.5094\n",
      "Epoch 54/500\n",
      "26/26 [==============================] - 0s 9ms/step - loss: 0.6993 - accuracy: 0.5164 - val_loss: 0.6978 - val_accuracy: 0.5094\n",
      "Epoch 55/500\n",
      "26/26 [==============================] - 0s 9ms/step - loss: 0.7024 - accuracy: 0.4844 - val_loss: 0.7016 - val_accuracy: 0.5156\n",
      "Epoch 56/500\n",
      "26/26 [==============================] - 0s 9ms/step - loss: 0.6984 - accuracy: 0.5078 - val_loss: 0.7113 - val_accuracy: 0.5031\n",
      "Epoch 57/500\n",
      "26/26 [==============================] - 0s 9ms/step - loss: 0.7046 - accuracy: 0.4930 - val_loss: 0.6972 - val_accuracy: 0.5094\n",
      "Epoch 58/500\n",
      "26/26 [==============================] - 0s 9ms/step - loss: 0.7052 - accuracy: 0.4945 - val_loss: 0.7081 - val_accuracy: 0.5000\n",
      "Epoch 59/500\n",
      "26/26 [==============================] - 0s 9ms/step - loss: 0.6998 - accuracy: 0.5047 - val_loss: 0.6821 - val_accuracy: 0.5844\n",
      "Epoch 60/500\n",
      "26/26 [==============================] - 0s 9ms/step - loss: 0.6961 - accuracy: 0.5047 - val_loss: 0.6954 - val_accuracy: 0.5281\n",
      "Epoch 61/500\n",
      "26/26 [==============================] - 0s 9ms/step - loss: 0.6955 - accuracy: 0.5070 - val_loss: 0.7041 - val_accuracy: 0.4969\n",
      "Epoch 62/500\n",
      "26/26 [==============================] - 0s 9ms/step - loss: 0.6977 - accuracy: 0.5383 - val_loss: 0.7075 - val_accuracy: 0.5063\n",
      "Epoch 63/500\n",
      "26/26 [==============================] - 0s 9ms/step - loss: 0.7015 - accuracy: 0.4953 - val_loss: 0.7061 - val_accuracy: 0.4938\n",
      "Epoch 64/500\n",
      "26/26 [==============================] - 0s 9ms/step - loss: 0.7030 - accuracy: 0.5000 - val_loss: 0.6869 - val_accuracy: 0.5375\n",
      "Epoch 65/500\n",
      "26/26 [==============================] - 0s 9ms/step - loss: 0.7038 - accuracy: 0.4891 - val_loss: 0.7067 - val_accuracy: 0.5000\n",
      "Epoch 66/500\n",
      "26/26 [==============================] - 0s 9ms/step - loss: 0.7057 - accuracy: 0.4992 - val_loss: 0.6953 - val_accuracy: 0.5094\n",
      "Epoch 67/500\n",
      "26/26 [==============================] - 0s 9ms/step - loss: 0.6992 - accuracy: 0.4883 - val_loss: 0.7000 - val_accuracy: 0.4844\n",
      "Epoch 68/500\n",
      "26/26 [==============================] - 0s 9ms/step - loss: 0.7045 - accuracy: 0.5055 - val_loss: 0.7042 - val_accuracy: 0.4938\n",
      "Epoch 69/500\n",
      "26/26 [==============================] - 0s 9ms/step - loss: 0.6994 - accuracy: 0.4828 - val_loss: 0.6965 - val_accuracy: 0.4938\n",
      "Epoch 70/500\n",
      "26/26 [==============================] - 0s 9ms/step - loss: 0.6957 - accuracy: 0.5008 - val_loss: 0.6994 - val_accuracy: 0.4969\n",
      "Epoch 71/500\n",
      "26/26 [==============================] - 0s 9ms/step - loss: 0.6992 - accuracy: 0.4797 - val_loss: 0.6945 - val_accuracy: 0.5250\n",
      "Epoch 72/500\n",
      "26/26 [==============================] - 0s 9ms/step - loss: 0.7018 - accuracy: 0.5008 - val_loss: 0.7022 - val_accuracy: 0.5063\n",
      "Epoch 73/500\n",
      "26/26 [==============================] - 0s 9ms/step - loss: 0.7031 - accuracy: 0.4992 - val_loss: 0.7042 - val_accuracy: 0.5000\n",
      "Epoch 74/500\n",
      "26/26 [==============================] - 0s 9ms/step - loss: 0.7026 - accuracy: 0.4805 - val_loss: 0.6920 - val_accuracy: 0.5219\n",
      "Epoch 75/500\n",
      "26/26 [==============================] - 0s 9ms/step - loss: 0.7007 - accuracy: 0.4922 - val_loss: 0.7053 - val_accuracy: 0.4844\n",
      "Epoch 76/500\n",
      "26/26 [==============================] - 0s 9ms/step - loss: 0.6998 - accuracy: 0.4930 - val_loss: 0.6926 - val_accuracy: 0.5281\n",
      "Epoch 77/500\n",
      "26/26 [==============================] - 0s 9ms/step - loss: 0.6993 - accuracy: 0.4852 - val_loss: 0.6946 - val_accuracy: 0.4969\n",
      "Epoch 78/500\n",
      "26/26 [==============================] - 0s 9ms/step - loss: 0.6971 - accuracy: 0.4773 - val_loss: 0.6977 - val_accuracy: 0.4781\n",
      "Epoch 79/500\n",
      "26/26 [==============================] - 0s 9ms/step - loss: 0.6976 - accuracy: 0.4953 - val_loss: 0.6890 - val_accuracy: 0.5063\n"
     ]
    }
   ],
   "source": [
    "early_stopping = EarlyStopping(\n",
    "    min_delta=0.001, # minimium amount of change to count as an improvement\n",
    "    patience=20, # how many epochs to wait before stopping\n",
    "    restore_best_weights=True,\n",
    ")\n",
    "\n",
    "history = model.fit(train_dataset,\n",
    "        #  steps_per_epoch = 25,\n",
    "         epochs = 500, \n",
    "         callbacks=[early_stopping],\n",
    "         validation_data = validation_dataset\n",
    "         )"
   ]
  },
  {
   "cell_type": "code",
   "execution_count": 7,
   "metadata": {},
   "outputs": [
    {
     "data": {
      "text/plain": [
       "<matplotlib.legend.Legend at 0x175b485e0>"
      ]
     },
     "execution_count": 7,
     "metadata": {},
     "output_type": "execute_result"
    },
    {
     "data": {
      "image/png": "[encoded data removed]",
      "text/plain": [
       "<Figure size 432x288 with 1 Axes>"
      ]
     },
     "metadata": {
      "needs_background": "light"
     },
     "output_type": "display_data"
    }
   ],
   "source": [
    "# visualizing losses and accuracy\n",
    "# print(history.history)\n",
    "train_loss = history.history['loss']\n",
    "val_loss   = history.history['val_loss']\n",
    "train_acc  = history.history['accuracy']\n",
    "val_acc    = history.history['val_accuracy']\n",
    "xc         = range(79)\n",
    "\n",
    "plt.figure()\n",
    "plt.plot(xc, train_loss,label = 'Train Loss')\n",
    "plt.plot(xc, val_loss,label = 'Val Loss')\n",
    "plt.legend(loc='upper right')"
   ]
  },
  {
   "cell_type": "code",
   "execution_count": 8,
   "metadata": {},
   "outputs": [
    {
     "name": "stdout",
     "output_type": "stream",
     "text": [
      "8/8 [==============================] - 0s 7ms/step - loss: 0.6940 - accuracy: 0.5100\n",
      "50.999999046325684\n"
     ]
    }
   ],
   "source": [
    "_, acc = model.evaluate(test_dataset)\n",
    "print(acc *100)"
   ]
  },
  {
   "cell_type": "markdown",
   "metadata": {},
   "source": [
    "Prediction"
   ]
  },
  {
   "cell_type": "code",
   "execution_count": 9,
   "metadata": {},
   "outputs": [
    {
     "name": "stdout",
     "output_type": "stream",
     "text": [
      "<PIL.Image.Image image mode=L size=32x32 at 0x175B66040>\n",
      "[[4.2054646e-21]]\n"
     ]
    },
    {
     "name": "stderr",
     "output_type": "stream",
     "text": [
      "2022-05-15 23:37:40.756621: I tensorflow/core/grappler/optimizers/custom_graph_optimizer_registry.cc:113] Plugin optimizer for device_type GPU is enabled.\n"
     ]
    },
    {
     "data": {
      "image/png": "[encoded data removed]",
      "text/plain": [
       "<Figure size 432x288 with 1 Axes>"
      ]
     },
     "metadata": {
      "needs_background": "light"
     },
     "output_type": "display_data"
    }
   ],
   "source": [
    "\n",
    "def predictImage(filename):\n",
    "    img1 = image.load_img(filename,target_size=(32,32),color_mode = \"grayscale\")\n",
    "    print(img1)\n",
    "    plt.imshow(img1,cmap='gray')\n",
    " \n",
    "    Y = image.img_to_array(img1)\n",
    "    \n",
    "    X = np.expand_dims(Y,axis=0)\n",
    "    val = model.predict(X)\n",
    "    print(val)\n",
    "    if val == 1:\n",
    "        \n",
    "        plt.xlabel(\"Real\",fontsize=30)\n",
    "        \n",
    "    \n",
    "    elif val == 0:\n",
    "        \n",
    "        plt.xlabel(\"Fake\",fontsize=30)\n",
    "\n",
    "predictImage(r\"/Users/nayansavaliya/Masters Mechatronics/2022 Summer/RAML - Project/data/bicubic/test/imagewoof_test/985.jpg\")\n"
   ]
  },
  {
   "cell_type": "code",
   "execution_count": 10,
   "metadata": {},
   "outputs": [
    {
     "name": "stdout",
     "output_type": "stream",
     "text": [
      "<PIL.Image.Image image mode=L size=32x32 at 0x29E9D9D90>\n",
      "[[1.0393866e-21]]\n"
     ]
    },
    {
     "data": {
      "image/png": "[encoded data removed]",
      "text/plain": [
       "<Figure size 432x288 with 1 Axes>"
      ]
     },
     "metadata": {
      "needs_background": "light"
     },
     "output_type": "display_data"
    }
   ],
   "source": [
    "\n",
    "predictImage(r\"/Users/nayansavaliya/Masters Mechatronics/2022 Summer/RAML - Project/data/bicubic/test/SNGAN_bicubic_test/952.jpg\")"
   ]
  },
  {
   "cell_type": "code",
   "execution_count": 21,
   "metadata": {},
   "outputs": [
    {
     "name": "stdout",
     "output_type": "stream",
     "text": [
      "tf.Tensor(\n",
      "[[ 12.        23.54583   61.36754  ...  86.37432   61.367493  23.545649]\n",
      " [ 37.663204  40.53632   29.926552 ...  68.71243   16.548492  72.506065]\n",
      " [ 27.970072  82.69767   21.390945 ... 103.86136   19.325945  43.163292]\n",
      " ...\n",
      " [ 41.88379   39.036057  11.604282 ...  67.37433   45.89464   48.75548 ]\n",
      " [ 27.970184  43.162895  19.325989 ...  28.768604  21.390884  82.69789 ]\n",
      " [ 37.663788  72.505974  16.548082 ... 119.20304   29.926268  40.53631 ]], shape=(32, 32), dtype=float32)\n"
     ]
    },
    {
     "data": {
      "text/plain": [
       "<matplotlib.image.AxesImage at 0x299184c40>"
      ]
     },
     "execution_count": 21,
     "metadata": {},
     "output_type": "execute_result"
    },
    {
     "data": {
      "image/png": "[encoded data removed]",
      "text/plain": [
       "<Figure size 432x288 with 1 Axes>"
      ]
     },
     "metadata": {
      "needs_background": "light"
     },
     "output_type": "display_data"
    }
   ],
   "source": [
    "class PowerSpectrum(object):\n",
    "    \"\"\" Class for calculating a the power spectrum (1D or 2D) of an image in tensorflow.\n",
    "        Expects square image as input.\n",
    "    \"\"\"\n",
    "    def __init__(self,image_size=None,scale=1):\n",
    "        \"\"\"image_size: only needed for power1D\n",
    "        \"\"\"\n",
    "        self.image_size = image_size\n",
    "        self.scale = scale\n",
    "        if self.image_size is not None:\n",
    "            self.az_mask=self.build_azimuthal_mask()\n",
    "        \n",
    "    def power2D(self,x):\n",
    "        x = tf.signal.fft2d(tf.cast(x,dtype=tf.complex64))\n",
    "        x = tf.signal.fftshift(x, axes=None, name=None)\n",
    "        return abs(x)\n",
    "     \n",
    "    def build_azimuthal_mask(self):\n",
    "        \n",
    "        x,y = np.meshgrid(np.arange(self.image_size),np.arange(self.image_size))\n",
    "        R = np.sqrt((x-self.image_size/2)**2+(y-self.image_size/2)**2)\n",
    "        masks = np.array(list(map(lambda r : (R >= r-.5) & (R < r+.5),np.arange(1,int(self.image_size/2+1),1))))\n",
    "        norm = np.sum(masks,axis=(1,2),keepdims=True)\n",
    "        masks=masks/norm\n",
    "        n=len(masks)\n",
    "        return tf.reshape(tf.cast(masks,dtype=tf.float32),(1,n,self.image_size,self.image_size))\n",
    "        \n",
    "    def az_average(self,x):\n",
    "        x=tf.reshape(x,(-1,1,self.image_size,self.image_size))\n",
    "        return tf.reduce_sum(tf.reduce_sum(tf.multiply(self.az_mask,x),axis=3),axis=2)\n",
    "    \n",
    "    def power1D(self,x):\n",
    "        x = self.power2D(x)\n",
    "        az_avg = self.az_average(x)\n",
    "        ell=np.arange(int(az_avg.shape[1]))*9\n",
    "        return tf.multiply(az_avg,tf.reshape(tf.cast(ell*(ell+1)/2/np.pi,dtype=tf.float32),(1,-1)))\n",
    "\n",
    "ss = PowerSpectrum(image_size=32).power2D(image.load_img(r\"/Users/nayansavaliya/Masters Mechatronics/2022 Summer/RAML - Project/data/bicubic/test/imagewoof_test/860.jpg\",target_size=(32,32),color_mode = \"grayscale\"))\n",
    "print(ss)\n",
    "plt.imshow(ss,cmap='gray')\n",
    "\n"
   ]
  },
  {
   "cell_type": "code",
   "execution_count": 24,
   "metadata": {},
   "outputs": [
    {
     "name": "stdout",
     "output_type": "stream",
     "text": [
      "tf.Tensor(\n",
      "[[     0.    84156.35 224446.02 270031.8  260740.72 475722.56 598830.75\n",
      "  639740.1  697710.06 810709.2  664137.25 769665.94 836384.75 716103.44\n",
      "  729603.06 758634.1 ]], shape=(1, 16), dtype=float32)\n"
     ]
    },
    {
     "data": {
      "text/plain": [
       "<matplotlib.image.AxesImage at 0x17700b970>"
      ]
     },
     "execution_count": 24,
     "metadata": {},
     "output_type": "execute_result"
    },
    {
     "data": {
      "image/png": "[encoded data removed]",
      "text/plain": [
       "<Figure size 432x288 with 1 Axes>"
      ]
     },
     "metadata": {
      "needs_background": "light"
     },
     "output_type": "display_data"
    }
   ],
   "source": [
    "ss1 = PowerSpectrum(image_size=32).power1D(image.load_img(r\"/Users/nayansavaliya/Masters Mechatronics/2022 Summer/RAML - Project/data/bicubic/test/SNGAN_bicubic_test/840.jpg\",target_size=(32,32),color_mode = \"grayscale\"))\n",
    "\n",
    "print(ss1)\n",
    "plt.imshow(ss1,cmap='gray')\n"
   ]
  }
 ],
 "metadata": {
  "interpreter": {
   "hash": "d6559be91acbc93f4d619e1b72121704cbae2e517629d34a1f89aedc7528f034"
  },
  "kernelspec": {
   "display_name": "Python 3.9.12 ('venv': venv)",
   "language": "python",
   "name": "python3"
  },
  "language_info": {
   "codemirror_mode": {
    "name": "ipython",
    "version": 3
   },
   "file_extension": ".py",
   "mimetype": "text/x-python",
   "name": "python",
   "nbconvert_exporter": "python",
   "pygments_lexer": "ipython3",
   "version": "3.9.12"
  },
  "orig_nbformat": 4
 },
 "nbformat": 4,
 "nbformat_minor": 2
}
