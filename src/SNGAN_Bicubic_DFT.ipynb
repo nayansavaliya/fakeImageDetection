{
 "cells": [
  {
   "cell_type": "markdown",
   "metadata": {},
   "source": [
    "Imports"
   ]
  },
  {
   "cell_type": "code",
   "execution_count": 1,
   "metadata": {},
   "outputs": [],
   "source": [
    "import tensorflow as tf\n",
    "import numpy as np\n",
    "from tensorflow import keras\n",
    "from keras.preprocessing.image import ImageDataGenerator\n",
    "from keras.preprocessing import image\n",
    "import matplotlib.pyplot as plt\n",
    "from keras.callbacks import EarlyStopping\n",
    "\n",
    "# from IPython.core.interactiveshell import InteractiveShell\n",
    "# InteractiveShell.ast_node_interactivity = \"all\"\n",
    "\n"
   ]
  },
  {
   "cell_type": "markdown",
   "metadata": {},
   "source": [
    "Prepare DATASET"
   ]
  },
  {
   "cell_type": "code",
   "execution_count": 2,
   "metadata": {},
   "outputs": [
    {
     "name": "stdout",
     "output_type": "stream",
     "text": [
      "Found 1280 images belonging to 2 classes.\n",
      "Found 320 images belonging to 2 classes.\n",
      "Found 400 images belonging to 2 classes.\n"
     ]
    },
    {
     "data": {
      "text/plain": [
       "{'SNGAN_bicubic_test': 0, 'imagewoof_test': 1}"
      ]
     },
     "execution_count": 2,
     "metadata": {},
     "output_type": "execute_result"
    }
   ],
   "source": [
    "\n",
    "train = ImageDataGenerator(rescale=1/255,validation_split=0.2)\n",
    "test = ImageDataGenerator(rescale=1/255)\n",
    "\n",
    "train_dataset = train.flow_from_directory(\"/Users/nayansavaliya/Masters Mechatronics/2022 Summer/RAML - Project/data/bicubic/train\",\n",
    "                                          target_size=(32,32),\n",
    "                                          color_mode=\"grayscale\",\n",
    "                                          batch_size =64,\n",
    "                                          class_mode = 'binary',\n",
    "                                          subset='training',)\n",
    "\n",
    "validation_dataset = train.flow_from_directory(\"/Users/nayansavaliya/Masters Mechatronics/2022 Summer/RAML - Project/data/bicubic/train\",\n",
    "                                          target_size=(32,32),\n",
    "                                          color_mode=\"grayscale\",\n",
    "                                          batch_size = 64,\n",
    "                                          class_mode = 'binary',\n",
    "                                          subset='validation')                                    \n",
    "test_dataset = test.flow_from_directory(\"/Users/nayansavaliya/Masters Mechatronics/2022 Summer/RAML - Project/data/bicubic/test\",\n",
    "                                          target_size=(32,32),\n",
    "                                          color_mode=\"grayscale\",\n",
    "                                          batch_size =64,\n",
    "                                          class_mode = 'binary')\n",
    "\n",
    "test_dataset.class_indices"
   ]
  },
  {
   "cell_type": "code",
   "execution_count": 3,
   "metadata": {},
   "outputs": [],
   "source": [
    "class PowerSpectrum(object):\n",
    "    \"\"\" Class for calculating a the power spectrum (1D or 2D) of an image in tensorflow.\n",
    "        Expects square image as input.\n",
    "    \"\"\"\n",
    "    def __init__(self,image_size=None,scale=1):\n",
    "        \"\"\"image_size: only needed for power1D\n",
    "        \"\"\"\n",
    "        self.image_size = image_size\n",
    "        self.scale = scale\n",
    "        if self.image_size is not None:\n",
    "            self.az_mask=self.build_azimuthal_mask()\n",
    "        \n",
    "    def power2D(self,x):\n",
    "        x = tf.signal.fft2d(tf.cast(x,dtype=tf.complex64))\n",
    "        # x = tf.signal.fftshift(x, axes=None, name=None)\n",
    "        return abs(x)\n",
    "     \n",
    "    def build_azimuthal_mask(self):\n",
    "        \n",
    "        x,y = np.meshgrid(np.arange(self.image_size),np.arange(self.image_size))\n",
    "        R = np.sqrt((x-self.image_size/2)**2+(y-self.image_size/2)**2)\n",
    "        masks = np.array(list(map(lambda r : (R >= r-.5) & (R < r+.5),np.arange(1,int(self.image_size/2+1),1))))\n",
    "        norm = np.sum(masks,axis=(1,2),keepdims=True)\n",
    "        masks=masks/norm\n",
    "        n=len(masks)\n",
    "        return tf.reshape(tf.cast(masks,dtype=tf.float32),(1,n,self.image_size,self.image_size))\n",
    "        \n",
    "    def az_average(self,x):\n",
    "        x=tf.reshape(x,(-1,1,self.image_size,self.image_size))\n",
    "        return tf.reduce_sum(tf.reduce_sum(tf.multiply(self.az_mask,x),axis=3),axis=2)\n",
    "    \n",
    "    def power1D(self,x):\n",
    "        x = self.power2D(x)\n",
    "        az_avg = self.az_average(x)\n",
    "        ell=np.arange(int(az_avg.shape[1]))*9\n",
    "        return tf.multiply(az_avg,tf.reshape(tf.cast(ell*(ell+1)/2/np.pi,dtype=tf.float32),(1,-1)))\n"
   ]
  },
  {
   "cell_type": "markdown",
   "metadata": {},
   "source": [
    "Design Model"
   ]
  },
  {
   "cell_type": "code",
   "execution_count": 4,
   "metadata": {},
   "outputs": [
    {
     "name": "stdout",
     "output_type": "stream",
     "text": [
      "Metal device set to: Apple M1\n",
      "\n",
      "systemMemory: 16.00 GB\n",
      "maxCacheSize: 5.33 GB\n",
      "\n"
     ]
    },
    {
     "name": "stderr",
     "output_type": "stream",
     "text": [
      "2022-07-10 00:11:34.740378: I tensorflow/core/common_runtime/pluggable_device/pluggable_device_factory.cc:305] Could not identify NUMA node of platform GPU ID 0, defaulting to 0. Your kernel may not have been built with NUMA support.\n",
      "2022-07-10 00:11:34.740478: I tensorflow/core/common_runtime/pluggable_device/pluggable_device_factory.cc:271] Created TensorFlow device (/job:localhost/replica:0/task:0/device:GPU:0 with 0 MB memory) -> physical PluggableDevice (device: 0, name: METAL, pci bus id: <undefined>)\n"
     ]
    }
   ],
   "source": [
    "model = keras.Sequential()\n",
    "\n",
    "ps = PowerSpectrum(32)\n",
    "model.add(keras.layers.Lambda(lambda v: ps.power2D(v)))\n",
    "\n",
    "\n",
    "model.add(keras.layers.Flatten())\n",
    "model.add(keras.layers.Dense(32,input_dim=32,activation='relu'))\n",
    "\n",
    "model.add(keras.layers.Dense(1,activation='sigmoid'))\n",
    "\n",
    "\n",
    "model.compile(optimizer='adam',loss='binary_crossentropy',metrics=['accuracy'])"
   ]
  },
  {
   "cell_type": "markdown",
   "metadata": {},
   "source": [
    "Training\n",
    "\n",
    "Usually with every epoch increasing, loss goes lower and accuracy goes higher. But with val_loss and val_acc, many cases can be possible:\n",
    "\n",
    "val_loss starts increasing, val_acc starts decreasing(means model is cramming values not learning)\n",
    "\n",
    "val_loss starts increasing, val_acc also increases.(could be case of overfitting or diverse probability values in cases softmax is used in output layer)\n",
    "\n",
    "val_loss starts decreasing, val_acc starts increasing(Correct, means model build is learning and working fine)"
   ]
  },
  {
   "cell_type": "code",
   "execution_count": 5,
   "metadata": {},
   "outputs": [
    {
     "name": "stdout",
     "output_type": "stream",
     "text": [
      "Epoch 1/500\n"
     ]
    },
    {
     "name": "stderr",
     "output_type": "stream",
     "text": [
      "2022-07-10 00:11:34.906642: W tensorflow/core/platform/profile_utils/cpu_utils.cc:128] Failed to get CPU frequency: 0 Hz\n",
      "2022-07-10 00:11:35.233445: I tensorflow/core/grappler/optimizers/custom_graph_optimizer_registry.cc:113] Plugin optimizer for device_type GPU is enabled.\n"
     ]
    },
    {
     "name": "stdout",
     "output_type": "stream",
     "text": [
      "20/20 [==============================] - 1s 23ms/step - loss: 0.8665 - accuracy: 0.5367 - val_loss: 0.6360 - val_accuracy: 0.6500\n",
      "Epoch 2/500\n",
      " 6/20 [========>.....................] - ETA: 0s - loss: 0.5970 - accuracy: 0.6641"
     ]
    },
    {
     "name": "stderr",
     "output_type": "stream",
     "text": [
      "2022-07-10 00:11:35.830771: I tensorflow/core/grappler/optimizers/custom_graph_optimizer_registry.cc:113] Plugin optimizer for device_type GPU is enabled.\n"
     ]
    },
    {
     "name": "stdout",
     "output_type": "stream",
     "text": [
      "20/20 [==============================] - 0s 13ms/step - loss: 0.5648 - accuracy: 0.6898 - val_loss: 0.5825 - val_accuracy: 0.7031\n",
      "Epoch 3/500\n",
      "20/20 [==============================] - 0s 11ms/step - loss: 0.5134 - accuracy: 0.7523 - val_loss: 0.5675 - val_accuracy: 0.7156\n",
      "Epoch 4/500\n",
      "20/20 [==============================] - 0s 14ms/step - loss: 0.4954 - accuracy: 0.7594 - val_loss: 0.5199 - val_accuracy: 0.7531\n",
      "Epoch 5/500\n",
      "20/20 [==============================] - 0s 13ms/step - loss: 0.4743 - accuracy: 0.7820 - val_loss: 0.5034 - val_accuracy: 0.7688\n",
      "Epoch 6/500\n",
      "20/20 [==============================] - 0s 11ms/step - loss: 0.4634 - accuracy: 0.7812 - val_loss: 0.5572 - val_accuracy: 0.7312\n",
      "Epoch 7/500\n",
      "20/20 [==============================] - 0s 13ms/step - loss: 0.4651 - accuracy: 0.7797 - val_loss: 0.5040 - val_accuracy: 0.7469\n",
      "Epoch 8/500\n",
      "20/20 [==============================] - 0s 14ms/step - loss: 0.4437 - accuracy: 0.7828 - val_loss: 0.4764 - val_accuracy: 0.7656\n",
      "Epoch 9/500\n",
      "20/20 [==============================] - 0s 13ms/step - loss: 0.4130 - accuracy: 0.8055 - val_loss: 0.4695 - val_accuracy: 0.7781\n",
      "Epoch 10/500\n",
      "20/20 [==============================] - 0s 14ms/step - loss: 0.4282 - accuracy: 0.7937 - val_loss: 0.4750 - val_accuracy: 0.7844\n",
      "Epoch 11/500\n",
      "20/20 [==============================] - 0s 14ms/step - loss: 0.3983 - accuracy: 0.8117 - val_loss: 0.4604 - val_accuracy: 0.7875\n",
      "Epoch 12/500\n",
      "20/20 [==============================] - 0s 11ms/step - loss: 0.3885 - accuracy: 0.8203 - val_loss: 0.4560 - val_accuracy: 0.7937\n",
      "Epoch 13/500\n",
      "20/20 [==============================] - 0s 10ms/step - loss: 0.3798 - accuracy: 0.8273 - val_loss: 0.4910 - val_accuracy: 0.7656\n",
      "Epoch 14/500\n",
      "20/20 [==============================] - 0s 10ms/step - loss: 0.3857 - accuracy: 0.8234 - val_loss: 0.4627 - val_accuracy: 0.7969\n",
      "Epoch 15/500\n",
      "20/20 [==============================] - 0s 10ms/step - loss: 0.3666 - accuracy: 0.8398 - val_loss: 0.4820 - val_accuracy: 0.7594\n",
      "Epoch 16/500\n",
      "20/20 [==============================] - 0s 11ms/step - loss: 0.3613 - accuracy: 0.8328 - val_loss: 0.4734 - val_accuracy: 0.7750\n",
      "Epoch 17/500\n",
      "20/20 [==============================] - 0s 10ms/step - loss: 0.3548 - accuracy: 0.8391 - val_loss: 0.4534 - val_accuracy: 0.8000\n",
      "Epoch 18/500\n",
      "20/20 [==============================] - 0s 10ms/step - loss: 0.3442 - accuracy: 0.8414 - val_loss: 0.6056 - val_accuracy: 0.7031\n",
      "Epoch 19/500\n",
      "20/20 [==============================] - 0s 10ms/step - loss: 0.3596 - accuracy: 0.8344 - val_loss: 0.4539 - val_accuracy: 0.7969\n",
      "Epoch 20/500\n",
      "20/20 [==============================] - 0s 10ms/step - loss: 0.3326 - accuracy: 0.8570 - val_loss: 0.4506 - val_accuracy: 0.7937\n",
      "Epoch 21/500\n",
      "20/20 [==============================] - 0s 10ms/step - loss: 0.3241 - accuracy: 0.8516 - val_loss: 0.4346 - val_accuracy: 0.8063\n",
      "Epoch 22/500\n",
      "20/20 [==============================] - 0s 10ms/step - loss: 0.3184 - accuracy: 0.8641 - val_loss: 0.4510 - val_accuracy: 0.7937\n",
      "Epoch 23/500\n",
      "20/20 [==============================] - 0s 10ms/step - loss: 0.3137 - accuracy: 0.8656 - val_loss: 0.4277 - val_accuracy: 0.8063\n",
      "Epoch 24/500\n",
      "20/20 [==============================] - 0s 11ms/step - loss: 0.2995 - accuracy: 0.8750 - val_loss: 0.4296 - val_accuracy: 0.8094\n",
      "Epoch 25/500\n",
      "20/20 [==============================] - 0s 13ms/step - loss: 0.2990 - accuracy: 0.8727 - val_loss: 0.4221 - val_accuracy: 0.8063\n",
      "Epoch 26/500\n",
      "20/20 [==============================] - 0s 13ms/step - loss: 0.2912 - accuracy: 0.8703 - val_loss: 0.4246 - val_accuracy: 0.8063\n",
      "Epoch 27/500\n",
      "20/20 [==============================] - 0s 12ms/step - loss: 0.2966 - accuracy: 0.8789 - val_loss: 0.4818 - val_accuracy: 0.7969\n",
      "Epoch 28/500\n",
      "20/20 [==============================] - 0s 12ms/step - loss: 0.3300 - accuracy: 0.8477 - val_loss: 0.5079 - val_accuracy: 0.7688\n",
      "Epoch 29/500\n",
      "20/20 [==============================] - 0s 12ms/step - loss: 0.3006 - accuracy: 0.8555 - val_loss: 0.4257 - val_accuracy: 0.8094\n",
      "Epoch 30/500\n",
      "20/20 [==============================] - 0s 11ms/step - loss: 0.2867 - accuracy: 0.8797 - val_loss: 0.4405 - val_accuracy: 0.8156\n",
      "Epoch 31/500\n",
      "20/20 [==============================] - 0s 12ms/step - loss: 0.2705 - accuracy: 0.8922 - val_loss: 0.4450 - val_accuracy: 0.8125\n",
      "Epoch 32/500\n",
      "20/20 [==============================] - 0s 13ms/step - loss: 0.2683 - accuracy: 0.9016 - val_loss: 0.4306 - val_accuracy: 0.8063\n",
      "Epoch 33/500\n",
      "20/20 [==============================] - 0s 12ms/step - loss: 0.2447 - accuracy: 0.9109 - val_loss: 0.4529 - val_accuracy: 0.7969\n",
      "Epoch 34/500\n",
      "20/20 [==============================] - 0s 10ms/step - loss: 0.2535 - accuracy: 0.8992 - val_loss: 0.4297 - val_accuracy: 0.8219\n",
      "Epoch 35/500\n",
      "20/20 [==============================] - 0s 11ms/step - loss: 0.2371 - accuracy: 0.9086 - val_loss: 0.4311 - val_accuracy: 0.8188\n",
      "Epoch 36/500\n",
      "20/20 [==============================] - 0s 10ms/step - loss: 0.2256 - accuracy: 0.9203 - val_loss: 0.4729 - val_accuracy: 0.8031\n",
      "Epoch 37/500\n",
      "20/20 [==============================] - 0s 11ms/step - loss: 0.2345 - accuracy: 0.9109 - val_loss: 0.4282 - val_accuracy: 0.8156\n",
      "Epoch 38/500\n",
      "20/20 [==============================] - 0s 11ms/step - loss: 0.2207 - accuracy: 0.9234 - val_loss: 0.4323 - val_accuracy: 0.8125\n",
      "Epoch 39/500\n",
      "20/20 [==============================] - 0s 11ms/step - loss: 0.2143 - accuracy: 0.9250 - val_loss: 0.4333 - val_accuracy: 0.8094\n",
      "Epoch 40/500\n",
      "20/20 [==============================] - 0s 11ms/step - loss: 0.2079 - accuracy: 0.9328 - val_loss: 0.4634 - val_accuracy: 0.8125\n",
      "Epoch 41/500\n",
      "20/20 [==============================] - 0s 11ms/step - loss: 0.1997 - accuracy: 0.9344 - val_loss: 0.4388 - val_accuracy: 0.8188\n",
      "Epoch 42/500\n",
      "20/20 [==============================] - 0s 11ms/step - loss: 0.1962 - accuracy: 0.9375 - val_loss: 0.4767 - val_accuracy: 0.7969\n",
      "Epoch 43/500\n",
      "20/20 [==============================] - 0s 11ms/step - loss: 0.2106 - accuracy: 0.9227 - val_loss: 0.5265 - val_accuracy: 0.7875\n",
      "Epoch 44/500\n",
      "20/20 [==============================] - 0s 11ms/step - loss: 0.1953 - accuracy: 0.9406 - val_loss: 0.4473 - val_accuracy: 0.8063\n",
      "Epoch 45/500\n",
      "20/20 [==============================] - 0s 11ms/step - loss: 0.1790 - accuracy: 0.9500 - val_loss: 0.5616 - val_accuracy: 0.7625\n"
     ]
    }
   ],
   "source": [
    "early_stopping = EarlyStopping(\n",
    "    min_delta=0.001, # minimium amount of change to count as an improvement\n",
    "    patience=20, # how many epochs to wait before stopping\n",
    "    restore_best_weights=True,\n",
    ")\n",
    "\n",
    "history = model.fit(train_dataset,\n",
    "        #  steps_per_epoch = 25,\n",
    "         epochs = 500, \n",
    "         callbacks=[early_stopping],\n",
    "         validation_data = validation_dataset\n",
    "         )"
   ]
  },
  {
   "cell_type": "code",
   "execution_count": 7,
   "metadata": {},
   "outputs": [
    {
     "data": {
      "text/plain": [
       "<matplotlib.legend.Legend at 0x29dcbd3d0>"
      ]
     },
     "execution_count": 7,
     "metadata": {},
     "output_type": "execute_result"
    },
    {
     "data": {
      "image/png": "[encoded data removed]",
      "text/plain": [
       "<Figure size 432x288 with 1 Axes>"
      ]
     },
     "metadata": {
      "needs_background": "light"
     },
     "output_type": "display_data"
    }
   ],
   "source": [
    "# visualizing losses and accuracy\n",
    "# print(history.history)\n",
    "train_loss = history.history['loss']\n",
    "val_loss   = history.history['val_loss']\n",
    "train_acc  = history.history['accuracy']\n",
    "val_acc    = history.history['val_accuracy']\n",
    "xc         = range(45)\n",
    "\n",
    "plt.figure()\n",
    "plt.plot(xc, train_loss,label = 'Train Loss')\n",
    "plt.plot(xc, val_loss,label = 'Val Loss')\n",
    "plt.legend(loc='upper right')"
   ]
  },
  {
   "cell_type": "code",
   "execution_count": 1,
   "metadata": {},
   "outputs": [
    {
     "ename": "NameError",
     "evalue": "name 'model' is not defined",
     "output_type": "error",
     "traceback": [
      "\u001b[0;31m---------------------------------------------------------------------------\u001b[0m",
      "\u001b[0;31mNameError\u001b[0m                                 Traceback (most recent call last)",
      "\u001b[1;32m/Users/nayansavaliya/Masters Mechatronics/2022 Summer/RAML - Project/src/SNGAN_Bicubic_DFT.ipynb Cell 11\u001b[0m in \u001b[0;36m<cell line: 1>\u001b[0;34m()\u001b[0m\n\u001b[0;32m----> <a href='vscode-notebook-cell:/Users/nayansavaliya/Masters%20Mechatronics/2022%20Summer/RAML%20-%20Project/src/SNGAN_Bicubic_DFT.ipynb#ch0000010?line=0'>1</a>\u001b[0m _, acc \u001b[39m=\u001b[39m model\u001b[39m.\u001b[39mevaluate(test_dataset)\n\u001b[1;32m      <a href='vscode-notebook-cell:/Users/nayansavaliya/Masters%20Mechatronics/2022%20Summer/RAML%20-%20Project/src/SNGAN_Bicubic_DFT.ipynb#ch0000010?line=1'>2</a>\u001b[0m \u001b[39mprint\u001b[39m(acc \u001b[39m*\u001b[39m\u001b[39m100\u001b[39m)\n",
      "\u001b[0;31mNameError\u001b[0m: name 'model' is not defined"
     ]
    }
   ],
   "source": [
    "_, acc = model.evaluate(test_dataset)\n",
    "print(acc *100)"
   ]
  },
  {
   "cell_type": "markdown",
   "metadata": {},
   "source": [
    "Prediction"
   ]
  },
  {
   "cell_type": "code",
   "execution_count": null,
   "metadata": {},
   "outputs": [
    {
     "name": "stdout",
     "output_type": "stream",
     "text": [
      "<PIL.Image.Image image mode=L size=32x32 at 0x2930FEE80>\n",
      "[[1.]]\n"
     ]
    },
    {
     "name": "stderr",
     "output_type": "stream",
     "text": [
      "2022-06-09 19:45:54.113983: I tensorflow/core/grappler/optimizers/custom_graph_optimizer_registry.cc:113] Plugin optimizer for device_type GPU is enabled.\n"
     ]
    },
    {
     "data": {
      "image/png": "[encoded data removed]",
      "text/plain": [
       "<Figure size 432x288 with 1 Axes>"
      ]
     },
     "metadata": {
      "needs_background": "light"
     },
     "output_type": "display_data"
    }
   ],
   "source": [
    "\n",
    "def predictImage(filename):\n",
    "    img1 = image.load_img(filename,target_size=(32,32),color_mode = \"grayscale\")\n",
    "    print(img1)\n",
    "    plt.imshow(img1,cmap='gray')\n",
    " \n",
    "    Y = image.img_to_array(img1)\n",
    "    \n",
    "    X = np.expand_dims(Y,axis=0)\n",
    "    val = model.predict(X)\n",
    "    print(val)\n",
    "    if val == 1:\n",
    "        \n",
    "        plt.xlabel(\"Real\",fontsize=30)\n",
    "        \n",
    "    \n",
    "    elif val == 0:\n",
    "        \n",
    "        plt.xlabel(\"Fake\",fontsize=30)\n",
    "\n",
    "predictImage(r\"/Users/nayansavaliya/Masters Mechatronics/2022 Summer/RAML - Project/data/bicubic/test/imagewoof_test/985.jpg\")\n"
   ]
  },
  {
   "cell_type": "code",
   "execution_count": null,
   "metadata": {},
   "outputs": [
    {
     "name": "stdout",
     "output_type": "stream",
     "text": [
      "<PIL.Image.Image image mode=L size=32x32 at 0x148020C10>\n",
      "[[1.]]\n"
     ]
    },
    {
     "data": {
      "image/png": "[encoded data removed]",
      "text/plain": [
       "<Figure size 432x288 with 1 Axes>"
      ]
     },
     "metadata": {
      "needs_background": "light"
     },
     "output_type": "display_data"
    }
   ],
   "source": [
    "\n",
    "predictImage(r\"/Users/nayansavaliya/Masters Mechatronics/2022 Summer/RAML - Project/data/bicubic/test/SNGAN_bicubic_test/952.jpg\")"
   ]
  },
  {
   "cell_type": "code",
   "execution_count": 9,
   "metadata": {},
   "outputs": [
    {
     "name": "stderr",
     "output_type": "stream",
     "text": [
      "Clipping input data to the valid range for imshow with RGB data ([0..1] for floats or [0..255] for integers).\n"
     ]
    },
    {
     "name": "stdout",
     "output_type": "stream",
     "text": [
      "tf.Tensor(\n",
      "[[[4.0000014e+00 6.8000000e+01 3.9999990e+00]\n",
      "  [2.9216952e+00 4.4882446e+01 2.9216945e+00]\n",
      "  [1.5521972e-01 1.3987633e+02 1.5520771e-01]\n",
      "  ...\n",
      "  [2.1741192e+00 6.8379547e+01 2.1741168e+00]\n",
      "  [1.5521471e-01 1.3987622e+02 1.5520899e-01]\n",
      "  [2.9216321e+00 4.4881618e+01 2.9216340e+00]]\n",
      "\n",
      " [[3.0157830e-06 6.3000000e+01 0.0000000e+00]\n",
      "  [2.8610229e-06 8.9535538e+01 2.1324806e-06]\n",
      "  [4.7683711e-06 9.3664864e+01 3.0157830e-06]\n",
      "  ...\n",
      "  [8.5299225e-06 1.4154083e+02 1.9073486e-06]\n",
      "  [0.0000000e+00 9.3665169e+01 2.1324806e-06]\n",
      "  [3.4385216e-06 8.9535606e+01 2.6973985e-06]]\n",
      "\n",
      " [[0.0000000e+00 6.0000000e+00 2.6656008e-07]\n",
      "  [4.7683716e-07 8.2279663e+01 1.3486992e-06]\n",
      "  [6.0315656e-06 1.4598997e+02 0.0000000e+00]\n",
      "  ...\n",
      "  [3.8146973e-06 2.4196512e+02 0.0000000e+00]\n",
      "  [4.2649613e-06 1.4599020e+02 4.2649613e-06]\n",
      "  [1.4305115e-06 8.2280121e+01 4.7683716e-07]]\n",
      "\n",
      " ...\n",
      "\n",
      " [[7.2111020e+00 1.7000000e+01 7.2111025e+00]\n",
      "  [9.1003647e+00 1.6369589e+02 9.6414709e+00]\n",
      "  [1.2369176e+01 1.8255197e+02 1.1569084e+01]\n",
      "  ...\n",
      "  [3.6326442e+00 1.6652721e+02 2.3778224e+00]\n",
      "  [1.1569078e+01 1.8255145e+02 1.2369203e+01]\n",
      "  [9.6414595e+00 1.6369591e+02 9.1003542e+00]]\n",
      "\n",
      " [[9.9999428e-01 1.1800000e+02 9.9999839e-01]\n",
      "  [1.2126205e+01 1.3722627e+02 1.2216872e+01]\n",
      "  [1.0201883e+01 1.6805450e+02 9.1832399e+00]\n",
      "  ...\n",
      "  [5.3403583e+00 8.5764030e+01 3.4808714e+00]\n",
      "  [9.1832523e+00 1.6805392e+02 1.0201888e+01]\n",
      "  [1.2216875e+01 1.3722672e+02 1.2126233e+01]]\n",
      "\n",
      " [[5.2915025e+00 5.6000000e+01 5.2915030e+00]\n",
      "  [5.3659134e+00 9.5651329e+01 5.2650075e+00]\n",
      "  [6.9214439e+00 1.6250363e+02 6.9085894e+00]\n",
      "  ...\n",
      "  [4.9516335e+00 1.1181475e+02 3.4980819e+00]\n",
      "  [6.9086161e+00 1.6250319e+02 6.9214368e+00]\n",
      "  [5.2649522e+00 9.5651932e+01 5.3658662e+00]]], shape=(32, 32, 3), dtype=float32)\n"
     ]
    },
    {
     "data": {
      "text/plain": [
       "<matplotlib.image.AxesImage at 0x1660bf550>"
      ]
     },
     "execution_count": 9,
     "metadata": {},
     "output_type": "execute_result"
    },
    {
     "data": {
      "image/png": "[encoded data removed]",
      "text/plain": [
       "<Figure size 432x288 with 1 Axes>"
      ]
     },
     "metadata": {
      "needs_background": "light"
     },
     "output_type": "display_data"
    }
   ],
   "source": [
    "class PowerSpectrum(object):\n",
    "    def __init__(self,image_size=None,scale=1):\n",
    "        self.image_size = image_size\n",
    "        self.scale = scale\n",
    "        if self.image_size is not None:\n",
    "            self.az_mask=self.build_azimuthal_mask()\n",
    "        \n",
    "    def power2D(self,x):\n",
    "        x = tf.signal.fft2d(tf.cast(x,dtype=tf.complex64))\n",
    "        x = tf.signal.fftshift(x, axes=None, name=None)\n",
    "        return abs(x)\n",
    "     \n",
    "    def build_azimuthal_mask(self):\n",
    "        \n",
    "        x,y = np.meshgrid(np.arange(self.image_size),np.arange(self.image_size))\n",
    "        R = np.sqrt((x-self.image_size/2)**2+(y-self.image_size/2)**2)\n",
    "        masks = np.array(list(map(lambda r : (R >= r-.5) & (R < r+.5),np.arange(1,int(self.image_size/2+1),1))))\n",
    "        norm = np.sum(masks,axis=(1,2),keepdims=True)\n",
    "        masks=masks/norm\n",
    "        n=len(masks)\n",
    "        return tf.reshape(tf.cast(masks,dtype=tf.float32),(1,n,self.image_size,self.image_size))\n",
    "        \n",
    "    def az_average(self,x):\n",
    "        x=tf.reshape(x,(-1,1,self.image_size,self.image_size))\n",
    "        return tf.reduce_sum(tf.reduce_sum(tf.multiply(self.az_mask,x),axis=3),axis=2)\n",
    "    \n",
    "    def power1D(self,x):\n",
    "        x = self.power2D(x)\n",
    "        az_avg = self.az_average(x)\n",
    "        ell=np.arange(int(az_avg.shape[1]))*9\n",
    "        return tf.multiply(az_avg,tf.reshape(tf.cast(ell*(ell+1)/2/np.pi,dtype=tf.float32),(1,-1)))\n",
    "\n",
    "ss = PowerSpectrum(image_size=32).power2D(image.load_img(r\"/Users/nayansavaliya/Masters Mechatronics/2022 Summer/RAML - Project/data/bicubic/test/imagewoof_test/856.jpg\",target_size=(32,32),color_mode = \"rgb\"))\n",
    "print(ss)\n",
    "plt.imshow(ss,cmap='gray')\n",
    "\n"
   ]
  },
  {
   "cell_type": "code",
   "execution_count": null,
   "metadata": {},
   "outputs": [
    {
     "name": "stdout",
     "output_type": "stream",
     "text": [
      "tf.Tensor(\n",
      "[[     0.    84156.35 224446.02 270031.8  260740.72 475722.56 598830.75\n",
      "  639740.1  697710.06 810709.2  664137.25 769665.94 836384.75 716103.44\n",
      "  729603.06 758634.1 ]], shape=(1, 16), dtype=float32)\n"
     ]
    },
    {
     "data": {
      "text/plain": [
       "<matplotlib.image.AxesImage at 0x1582c03d0>"
      ]
     },
     "execution_count": 13,
     "metadata": {},
     "output_type": "execute_result"
    },
    {
     "data": {
      "image/png": "[encoded data removed]",
      "text/plain": [
       "<Figure size 432x288 with 1 Axes>"
      ]
     },
     "metadata": {
      "needs_background": "light"
     },
     "output_type": "display_data"
    }
   ],
   "source": [
    "ss1 = PowerSpectrum(image_size=32).power1D(image.load_img(r\"/Users/nayansavaliya/Masters Mechatronics/2022 Summer/RAML - Project/data/bicubic/test/SNGAN_bicubic_test/840.jpg\",target_size=(32,32),color_mode = \"grayscale\"))\n",
    "\n",
    "print(ss1)\n",
    "plt.imshow(ss1,cmap='gray')\n"
   ]
  }
 ],
 "metadata": {
  "interpreter": {
   "hash": "d6559be91acbc93f4d619e1b72121704cbae2e517629d34a1f89aedc7528f034"
  },
  "kernelspec": {
   "display_name": "Python 3.9.12 ('venv': venv)",
   "language": "python",
   "name": "python3"
  },
  "language_info": {
   "codemirror_mode": {
    "name": "ipython",
    "version": 3
   },
   "file_extension": ".py",
   "mimetype": "text/x-python",
   "name": "python",
   "nbconvert_exporter": "python",
   "pygments_lexer": "ipython3",
   "version": "3.9.12"
  },
  "orig_nbformat": 4
 },
 "nbformat": 4,
 "nbformat_minor": 2
}
