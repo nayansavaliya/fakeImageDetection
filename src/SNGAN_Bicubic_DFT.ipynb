{
 "cells": [
  {
   "cell_type": "markdown",
   "metadata": {},
   "source": [
    "Imports"
   ]
  },
  {
   "cell_type": "code",
   "execution_count": 1,
   "metadata": {},
   "outputs": [],
   "source": [
    "import tensorflow as tf\n",
    "import numpy as np\n",
    "from tensorflow import keras\n",
    "from keras.preprocessing.image import ImageDataGenerator\n",
    "from keras.preprocessing import image\n",
    "import matplotlib.pyplot as plt\n",
    "from keras.callbacks import EarlyStopping\n",
    "\n",
    "# from IPython.core.interactiveshell import InteractiveShell\n",
    "# InteractiveShell.ast_node_interactivity = \"all\"\n",
    "\n"
   ]
  },
  {
   "cell_type": "markdown",
   "metadata": {},
   "source": [
    "Prepare DATASET"
   ]
  },
  {
   "cell_type": "code",
   "execution_count": 2,
   "metadata": {},
   "outputs": [
    {
     "name": "stdout",
     "output_type": "stream",
     "text": [
      "Found 1280 images belonging to 2 classes.\n",
      "Found 320 images belonging to 2 classes.\n",
      "Found 400 images belonging to 2 classes.\n"
     ]
    },
    {
     "data": {
      "text/plain": [
       "{'SNGAN_bicubic_test': 0, 'imagewoof_test': 1}"
      ]
     },
     "execution_count": 2,
     "metadata": {},
     "output_type": "execute_result"
    }
   ],
   "source": [
    "\n",
    "train = ImageDataGenerator(rescale=1/255,validation_split=0.2)\n",
    "test = ImageDataGenerator(rescale=1/255)\n",
    "\n",
    "train_dataset = train.flow_from_directory(\"/Users/nayansavaliya/Masters Mechatronics/2022 Summer/RAML - Project/data/bicubic/train\",\n",
    "                                          target_size=(32,32),\n",
    "                                          color_mode=\"grayscale\",\n",
    "                                          batch_size =50,\n",
    "                                          class_mode = 'binary',\n",
    "                                          subset='training',)\n",
    "\n",
    "validation_dataset = train.flow_from_directory(\"/Users/nayansavaliya/Masters Mechatronics/2022 Summer/RAML - Project/data/bicubic/train\",\n",
    "                                          target_size=(32,32),\n",
    "                                          color_mode=\"grayscale\",\n",
    "                                          batch_size = 50,\n",
    "                                          class_mode = 'binary',\n",
    "                                          subset='validation')                                    \n",
    "test_dataset = test.flow_from_directory(\"/Users/nayansavaliya/Masters Mechatronics/2022 Summer/RAML - Project/data/bicubic/test\",\n",
    "                                          target_size=(32,32),\n",
    "                                          color_mode=\"grayscale\",\n",
    "                                          batch_size =50,\n",
    "                                          class_mode = 'binary')\n",
    "\n",
    "test_dataset.class_indices"
   ]
  },
  {
   "cell_type": "code",
   "execution_count": 3,
   "metadata": {},
   "outputs": [],
   "source": [
    "class PowerSpectrum(object):\n",
    "    \"\"\" Class for calculating a the power spectrum (1D or 2D) of an image in tensorflow.\n",
    "        Expects square image as input.\n",
    "    \"\"\"\n",
    "    def __init__(self,image_size=None,scale=1):\n",
    "        \"\"\"image_size: only needed for power1D\n",
    "        \"\"\"\n",
    "        self.image_size = image_size\n",
    "        self.scale = scale\n",
    "        if self.image_size is not None:\n",
    "            self.az_mask=self.build_azimuthal_mask()\n",
    "        \n",
    "    def power2D(self,x):\n",
    "        x = tf.signal.fft2d(tf.cast(x,dtype=tf.complex64))\n",
    "        x = tf.signal.fftshift(x, axes=None, name=None)\n",
    "        return abs(x)\n",
    "     \n",
    "    def build_azimuthal_mask(self):\n",
    "        \n",
    "        x,y = np.meshgrid(np.arange(self.image_size),np.arange(self.image_size))\n",
    "        R = np.sqrt((x-self.image_size/2)**2+(y-self.image_size/2)**2)\n",
    "        masks = np.array(list(map(lambda r : (R >= r-.5) & (R < r+.5),np.arange(1,int(self.image_size/2+1),1))))\n",
    "        norm = np.sum(masks,axis=(1,2),keepdims=True)\n",
    "        masks=masks/norm\n",
    "        n=len(masks)\n",
    "        return tf.reshape(tf.cast(masks,dtype=tf.float32),(1,n,self.image_size,self.image_size))\n",
    "        \n",
    "    def az_average(self,x):\n",
    "        x=tf.reshape(x,(-1,1,self.image_size,self.image_size))\n",
    "        return tf.reduce_sum(tf.reduce_sum(tf.multiply(self.az_mask,x),axis=3),axis=2)\n",
    "    \n",
    "    def power1D(self,x):\n",
    "        x = self.power2D(x)\n",
    "        az_avg = self.az_average(x)\n",
    "        ell=np.arange(int(az_avg.shape[1]))*9\n",
    "        return tf.multiply(az_avg,tf.reshape(tf.cast(ell*(ell+1)/2/np.pi,dtype=tf.float32),(1,-1)))\n"
   ]
  },
  {
   "cell_type": "markdown",
   "metadata": {},
   "source": [
    "Design Model"
   ]
  },
  {
   "cell_type": "code",
   "execution_count": 4,
   "metadata": {},
   "outputs": [
    {
     "name": "stdout",
     "output_type": "stream",
     "text": [
      "Metal device set to: Apple M1\n",
      "\n",
      "systemMemory: 16.00 GB\n",
      "maxCacheSize: 5.33 GB\n",
      "\n"
     ]
    },
    {
     "name": "stderr",
     "output_type": "stream",
     "text": [
      "2022-05-15 16:36:54.432263: I tensorflow/core/common_runtime/pluggable_device/pluggable_device_factory.cc:305] Could not identify NUMA node of platform GPU ID 0, defaulting to 0. Your kernel may not have been built with NUMA support.\n",
      "2022-05-15 16:36:54.432395: I tensorflow/core/common_runtime/pluggable_device/pluggable_device_factory.cc:271] Created TensorFlow device (/job:localhost/replica:0/task:0/device:GPU:0 with 0 MB memory) -> physical PluggableDevice (device: 0, name: METAL, pci bus id: <undefined>)\n"
     ]
    }
   ],
   "source": [
    "model = keras.Sequential()\n",
    "\n",
    "ps = PowerSpectrum(32)\n",
    "model.add(keras.layers.Lambda(lambda v: ps.power2D(v)))\n",
    "\n",
    "\n",
    "model.add(keras.layers.Flatten())\n",
    "model.add(keras.layers.Dense(32,input_dim=32,activation='relu'))\n",
    "\n",
    "model.add(keras.layers.Dense(1,activation='sigmoid'))\n",
    "\n",
    "\n",
    "model.compile(optimizer='adam',loss='binary_crossentropy',metrics=['accuracy'])"
   ]
  },
  {
   "cell_type": "markdown",
   "metadata": {},
   "source": [
    "Training\n",
    "\n",
    "Usually with every epoch increasing, loss goes lower and accuracy goes higher. But with val_loss and val_acc, many cases can be possible:\n",
    "\n",
    "val_loss starts increasing, val_acc starts decreasing(means model is cramming values not learning)\n",
    "\n",
    "val_loss starts increasing, val_acc also increases.(could be case of overfitting or diverse probability values in cases softmax is used in output layer)\n",
    "\n",
    "val_loss starts decreasing, val_acc starts increasing(Correct, means model build is learning and working fine)"
   ]
  },
  {
   "cell_type": "code",
   "execution_count": 5,
   "metadata": {},
   "outputs": [
    {
     "name": "stdout",
     "output_type": "stream",
     "text": [
      "Epoch 1/500\n"
     ]
    },
    {
     "name": "stderr",
     "output_type": "stream",
     "text": [
      "2022-05-15 16:36:54.556989: W tensorflow/core/platform/profile_utils/cpu_utils.cc:128] Failed to get CPU frequency: 0 Hz\n"
     ]
    },
    {
     "name": "stdout",
     "output_type": "stream",
     "text": [
      " 6/25 [======>.......................] - ETA: 0s - loss: 1.1623 - accuracy: 0.5100"
     ]
    },
    {
     "name": "stderr",
     "output_type": "stream",
     "text": [
      "2022-05-15 16:36:54.826559: I tensorflow/core/grappler/optimizers/custom_graph_optimizer_registry.cc:113] Plugin optimizer for device_type GPU is enabled.\n"
     ]
    },
    {
     "name": "stdout",
     "output_type": "stream",
     "text": [
      "25/25 [==============================] - 1s 18ms/step - loss: 0.9017 - accuracy: 0.5065 - val_loss: 0.7608 - val_accuracy: 0.4469\n",
      "Epoch 2/500\n",
      "10/25 [===========>..................] - ETA: 0s - loss: 0.7605 - accuracy: 0.4700"
     ]
    },
    {
     "name": "stderr",
     "output_type": "stream",
     "text": [
      "2022-05-15 16:36:55.270137: I tensorflow/core/grappler/optimizers/custom_graph_optimizer_registry.cc:113] Plugin optimizer for device_type GPU is enabled.\n"
     ]
    },
    {
     "name": "stdout",
     "output_type": "stream",
     "text": [
      "25/25 [==============================] - 0s 8ms/step - loss: 0.7364 - accuracy: 0.4927 - val_loss: 0.7523 - val_accuracy: 0.4906\n",
      "Epoch 3/500\n",
      "25/25 [==============================] - 0s 8ms/step - loss: 0.7233 - accuracy: 0.5171 - val_loss: 0.7224 - val_accuracy: 0.5469\n",
      "Epoch 4/500\n",
      "25/25 [==============================] - 0s 9ms/step - loss: 0.7151 - accuracy: 0.5000 - val_loss: 0.7276 - val_accuracy: 0.4813\n",
      "Epoch 5/500\n",
      "25/25 [==============================] - 0s 9ms/step - loss: 0.7110 - accuracy: 0.4919 - val_loss: 0.6964 - val_accuracy: 0.5188\n",
      "Epoch 6/500\n",
      "25/25 [==============================] - 0s 9ms/step - loss: 0.7369 - accuracy: 0.4935 - val_loss: 0.6991 - val_accuracy: 0.5312\n",
      "Epoch 7/500\n",
      "25/25 [==============================] - 0s 8ms/step - loss: 0.7166 - accuracy: 0.4992 - val_loss: 0.7168 - val_accuracy: 0.5125\n",
      "Epoch 8/500\n",
      "25/25 [==============================] - 0s 8ms/step - loss: 0.7293 - accuracy: 0.5114 - val_loss: 0.7679 - val_accuracy: 0.5188\n",
      "Epoch 9/500\n",
      "25/25 [==============================] - 0s 8ms/step - loss: 0.7311 - accuracy: 0.5146 - val_loss: 0.7438 - val_accuracy: 0.5000\n",
      "Epoch 10/500\n",
      "25/25 [==============================] - 0s 8ms/step - loss: 0.7115 - accuracy: 0.4984 - val_loss: 0.7105 - val_accuracy: 0.5125\n",
      "Epoch 11/500\n",
      "25/25 [==============================] - 0s 8ms/step - loss: 0.7178 - accuracy: 0.4984 - val_loss: 0.7132 - val_accuracy: 0.5156\n",
      "Epoch 12/500\n",
      "25/25 [==============================] - 0s 8ms/step - loss: 0.7094 - accuracy: 0.5114 - val_loss: 0.6995 - val_accuracy: 0.5125\n",
      "Epoch 13/500\n",
      "25/25 [==============================] - 0s 9ms/step - loss: 0.7081 - accuracy: 0.4813 - val_loss: 0.7106 - val_accuracy: 0.4969\n",
      "Epoch 14/500\n",
      "25/25 [==============================] - 0s 8ms/step - loss: 0.7267 - accuracy: 0.4772 - val_loss: 0.6983 - val_accuracy: 0.5125\n",
      "Epoch 15/500\n",
      "25/25 [==============================] - 0s 8ms/step - loss: 0.7017 - accuracy: 0.5293 - val_loss: 0.7367 - val_accuracy: 0.5094\n",
      "Epoch 16/500\n",
      "25/25 [==============================] - 0s 8ms/step - loss: 0.7055 - accuracy: 0.4902 - val_loss: 0.7028 - val_accuracy: 0.4938\n",
      "Epoch 17/500\n",
      "25/25 [==============================] - 0s 8ms/step - loss: 0.7125 - accuracy: 0.4821 - val_loss: 0.6970 - val_accuracy: 0.4969\n",
      "Epoch 18/500\n",
      "25/25 [==============================] - 0s 8ms/step - loss: 0.7034 - accuracy: 0.5130 - val_loss: 0.7001 - val_accuracy: 0.5094\n",
      "Epoch 19/500\n",
      "25/25 [==============================] - 0s 9ms/step - loss: 0.7034 - accuracy: 0.5065 - val_loss: 0.7264 - val_accuracy: 0.5000\n",
      "Epoch 20/500\n",
      "25/25 [==============================] - 0s 8ms/step - loss: 0.7062 - accuracy: 0.5024 - val_loss: 0.6967 - val_accuracy: 0.5281\n",
      "Epoch 21/500\n",
      "25/25 [==============================] - 0s 8ms/step - loss: 0.7092 - accuracy: 0.4756 - val_loss: 0.6957 - val_accuracy: 0.5281\n",
      "Epoch 22/500\n",
      "25/25 [==============================] - 0s 9ms/step - loss: 0.6936 - accuracy: 0.5244 - val_loss: 0.6907 - val_accuracy: 0.5344\n",
      "Epoch 23/500\n",
      "25/25 [==============================] - 0s 8ms/step - loss: 0.7025 - accuracy: 0.5024 - val_loss: 0.7003 - val_accuracy: 0.4875\n",
      "Epoch 24/500\n",
      "25/25 [==============================] - 0s 8ms/step - loss: 0.7111 - accuracy: 0.4593 - val_loss: 0.7038 - val_accuracy: 0.4969\n",
      "Epoch 25/500\n",
      "25/25 [==============================] - 0s 8ms/step - loss: 0.7013 - accuracy: 0.4967 - val_loss: 0.6982 - val_accuracy: 0.4813\n",
      "Epoch 26/500\n",
      "25/25 [==============================] - 0s 8ms/step - loss: 0.7000 - accuracy: 0.5179 - val_loss: 0.7110 - val_accuracy: 0.4781\n",
      "Epoch 27/500\n",
      "25/25 [==============================] - 0s 8ms/step - loss: 0.7068 - accuracy: 0.4902 - val_loss: 0.6972 - val_accuracy: 0.4938\n",
      "Epoch 28/500\n",
      "25/25 [==============================] - 0s 8ms/step - loss: 0.7024 - accuracy: 0.5195 - val_loss: 0.7034 - val_accuracy: 0.5031\n",
      "Epoch 29/500\n",
      "25/25 [==============================] - 0s 8ms/step - loss: 0.7059 - accuracy: 0.4829 - val_loss: 0.6939 - val_accuracy: 0.5156\n",
      "Epoch 30/500\n",
      "25/25 [==============================] - 0s 10ms/step - loss: 0.7024 - accuracy: 0.5122 - val_loss: 0.6979 - val_accuracy: 0.5000\n",
      "Epoch 31/500\n",
      "25/25 [==============================] - 0s 8ms/step - loss: 0.7108 - accuracy: 0.5089 - val_loss: 0.7025 - val_accuracy: 0.5094\n",
      "Epoch 32/500\n",
      "25/25 [==============================] - 0s 8ms/step - loss: 0.7025 - accuracy: 0.4789 - val_loss: 0.6944 - val_accuracy: 0.5188\n",
      "Epoch 33/500\n",
      "25/25 [==============================] - 0s 10ms/step - loss: 0.6997 - accuracy: 0.4764 - val_loss: 0.6844 - val_accuracy: 0.5594\n",
      "Epoch 34/500\n",
      "25/25 [==============================] - 0s 8ms/step - loss: 0.7073 - accuracy: 0.4984 - val_loss: 0.6969 - val_accuracy: 0.5125\n",
      "Epoch 35/500\n",
      "25/25 [==============================] - 0s 9ms/step - loss: 0.6949 - accuracy: 0.5057 - val_loss: 0.7035 - val_accuracy: 0.4969\n",
      "Epoch 36/500\n",
      "25/25 [==============================] - 0s 9ms/step - loss: 0.6984 - accuracy: 0.5260 - val_loss: 0.7271 - val_accuracy: 0.5000\n",
      "Epoch 37/500\n",
      "25/25 [==============================] - 0s 8ms/step - loss: 0.7014 - accuracy: 0.5008 - val_loss: 0.6911 - val_accuracy: 0.4875\n",
      "Epoch 38/500\n",
      "25/25 [==============================] - 0s 8ms/step - loss: 0.6961 - accuracy: 0.4919 - val_loss: 0.6971 - val_accuracy: 0.5219\n",
      "Epoch 39/500\n",
      "25/25 [==============================] - 0s 8ms/step - loss: 0.6982 - accuracy: 0.5089 - val_loss: 0.7131 - val_accuracy: 0.5031\n",
      "Epoch 40/500\n",
      "25/25 [==============================] - 0s 8ms/step - loss: 0.6986 - accuracy: 0.4927 - val_loss: 0.7015 - val_accuracy: 0.5125\n",
      "Epoch 41/500\n",
      "25/25 [==============================] - 0s 8ms/step - loss: 0.7028 - accuracy: 0.5081 - val_loss: 0.6990 - val_accuracy: 0.4688\n",
      "Epoch 42/500\n",
      "25/25 [==============================] - 0s 8ms/step - loss: 0.7017 - accuracy: 0.4911 - val_loss: 0.6953 - val_accuracy: 0.4906\n",
      "Epoch 43/500\n",
      "25/25 [==============================] - 0s 8ms/step - loss: 0.7034 - accuracy: 0.4951 - val_loss: 0.7002 - val_accuracy: 0.4938\n",
      "Epoch 44/500\n",
      "25/25 [==============================] - 0s 9ms/step - loss: 0.7052 - accuracy: 0.4902 - val_loss: 0.6966 - val_accuracy: 0.5125\n",
      "Epoch 45/500\n",
      "25/25 [==============================] - 0s 8ms/step - loss: 0.7009 - accuracy: 0.4862 - val_loss: 0.6970 - val_accuracy: 0.5000\n",
      "Epoch 46/500\n",
      "25/25 [==============================] - 0s 8ms/step - loss: 0.7027 - accuracy: 0.4829 - val_loss: 0.7011 - val_accuracy: 0.4938\n",
      "Epoch 47/500\n",
      "25/25 [==============================] - 0s 8ms/step - loss: 0.6986 - accuracy: 0.5000 - val_loss: 0.6951 - val_accuracy: 0.5000\n",
      "Epoch 48/500\n",
      "25/25 [==============================] - 0s 8ms/step - loss: 0.6976 - accuracy: 0.4894 - val_loss: 0.7007 - val_accuracy: 0.4875\n",
      "Epoch 49/500\n",
      "25/25 [==============================] - 0s 8ms/step - loss: 0.6962 - accuracy: 0.4837 - val_loss: 0.7011 - val_accuracy: 0.4906\n",
      "Epoch 50/500\n",
      "25/25 [==============================] - 0s 9ms/step - loss: 0.6943 - accuracy: 0.5073 - val_loss: 0.6937 - val_accuracy: 0.5094\n",
      "Epoch 51/500\n",
      "25/25 [==============================] - 0s 8ms/step - loss: 0.7003 - accuracy: 0.4659 - val_loss: 0.6893 - val_accuracy: 0.5469\n",
      "Epoch 52/500\n",
      "25/25 [==============================] - 0s 8ms/step - loss: 0.7037 - accuracy: 0.4902 - val_loss: 0.6970 - val_accuracy: 0.4906\n",
      "Epoch 53/500\n",
      "25/25 [==============================] - 0s 9ms/step - loss: 0.7006 - accuracy: 0.4886 - val_loss: 0.6989 - val_accuracy: 0.4875\n"
     ]
    }
   ],
   "source": [
    "early_stopping = EarlyStopping(\n",
    "    min_delta=0.001, # minimium amount of change to count as an improvement\n",
    "    patience=20, # how many epochs to wait before stopping\n",
    "    restore_best_weights=True,\n",
    ")\n",
    "\n",
    "history = model.fit(train_dataset,\n",
    "         steps_per_epoch = 25,\n",
    "         epochs = 500, \n",
    "         callbacks=[early_stopping],\n",
    "         validation_data = validation_dataset\n",
    "         )"
   ]
  },
  {
   "cell_type": "code",
   "execution_count": 7,
   "metadata": {},
   "outputs": [
    {
     "data": {
      "text/plain": [
       "<matplotlib.legend.Legend at 0x29aadb2e0>"
      ]
     },
     "execution_count": 7,
     "metadata": {},
     "output_type": "execute_result"
    },
    {
     "data": {
      "image/png": "[encoded data removed]",
      "text/plain": [
       "<Figure size 432x288 with 1 Axes>"
      ]
     },
     "metadata": {
      "needs_background": "light"
     },
     "output_type": "display_data"
    }
   ],
   "source": [
    "# visualizing losses and accuracy\n",
    "# print(history.history)\n",
    "train_loss = history.history['loss']\n",
    "val_loss   = history.history['val_loss']\n",
    "train_acc  = history.history['accuracy']\n",
    "val_acc    = history.history['val_accuracy']\n",
    "xc         = range(53)\n",
    "\n",
    "plt.figure()\n",
    "plt.plot(xc, train_loss,label = 'Train Loss')\n",
    "plt.plot(xc, val_loss,label = 'Val Loss')\n",
    "plt.legend(loc='upper right')"
   ]
  },
  {
   "cell_type": "code",
   "execution_count": 9,
   "metadata": {},
   "outputs": [
    {
     "name": "stdout",
     "output_type": "stream",
     "text": [
      "8/8 [==============================] - 0s 6ms/step - loss: 0.6969 - accuracy: 0.4925\n",
      "49.2499977350235\n"
     ]
    }
   ],
   "source": [
    "_, acc = model.evaluate(test_dataset)\n",
    "print(acc *100)"
   ]
  },
  {
   "cell_type": "markdown",
   "metadata": {},
   "source": [
    "Prediction"
   ]
  },
  {
   "cell_type": "code",
   "execution_count": null,
   "metadata": {},
   "outputs": [
    {
     "name": "stdout",
     "output_type": "stream",
     "text": [
      "<PIL.Image.Image image mode=L size=32x32 at 0x15E044970>\n",
      "[[0.]]\n"
     ]
    },
    {
     "name": "stderr",
     "output_type": "stream",
     "text": [
      "2022-05-15 16:35:38.688435: I tensorflow/core/grappler/optimizers/custom_graph_optimizer_registry.cc:113] Plugin optimizer for device_type GPU is enabled.\n"
     ]
    },
    {
     "data": {
      "image/png": "[encoded data removed]",
      "text/plain": [
       "<Figure size 432x288 with 1 Axes>"
      ]
     },
     "metadata": {
      "needs_background": "light"
     },
     "output_type": "display_data"
    }
   ],
   "source": [
    "\n",
    "def predictImage(filename):\n",
    "    img1 = image.load_img(filename,target_size=(32,32),color_mode = \"grayscale\")\n",
    "    print(img1)\n",
    "    plt.imshow(img1,cmap='gray')\n",
    " \n",
    "    Y = image.img_to_array(img1)\n",
    "    \n",
    "    X = np.expand_dims(Y,axis=0)\n",
    "    val = model.predict(X)\n",
    "    print(val)\n",
    "    if val == 1:\n",
    "        \n",
    "        plt.xlabel(\"Real\",fontsize=30)\n",
    "        \n",
    "    \n",
    "    elif val == 0:\n",
    "        \n",
    "        plt.xlabel(\"Fake\",fontsize=30)\n",
    "\n",
    "predictImage(r\"/Users/nayansavaliya/Masters Mechatronics/2022 Summer/RAML - Project/data/bicubic/test/imagewoof_test/985.jpg\")\n"
   ]
  },
  {
   "cell_type": "code",
   "execution_count": null,
   "metadata": {},
   "outputs": [
    {
     "name": "stdout",
     "output_type": "stream",
     "text": [
      "<PIL.Image.Image image mode=L size=32x32 at 0x2ABA91610>\n",
      "[[1.]]\n"
     ]
    },
    {
     "data": {
      "image/png": "[encoded data removed]",
      "text/plain": [
       "<Figure size 432x288 with 1 Axes>"
      ]
     },
     "metadata": {
      "needs_background": "light"
     },
     "output_type": "display_data"
    }
   ],
   "source": [
    "\n",
    "predictImage(r\"/Users/nayansavaliya/Masters Mechatronics/2022 Summer/RAML - Project/data/bicubic/test/SNGAN_bicubic_test/952.jpg\")"
   ]
  },
  {
   "cell_type": "code",
   "execution_count": 14,
   "metadata": {},
   "outputs": [
    {
     "name": "stdout",
     "output_type": "stream",
     "text": [
      "tf.Tensor(\n",
      "[[ 12.        23.54583   61.36754  ...  86.37432   61.367493  23.545649]\n",
      " [ 37.663204  40.53632   29.926552 ...  68.71243   16.548492  72.506065]\n",
      " [ 27.970072  82.69767   21.390945 ... 103.86136   19.325945  43.163292]\n",
      " ...\n",
      " [ 41.88379   39.036057  11.604282 ...  67.37433   45.89464   48.75548 ]\n",
      " [ 27.970184  43.162895  19.325989 ...  28.768604  21.390884  82.69789 ]\n",
      " [ 37.663788  72.505974  16.548082 ... 119.20304   29.926268  40.53631 ]], shape=(32, 32), dtype=float32)\n"
     ]
    },
    {
     "data": {
      "text/plain": [
       "<matplotlib.image.AxesImage at 0x17e6a3580>"
      ]
     },
     "execution_count": 14,
     "metadata": {},
     "output_type": "execute_result"
    },
    {
     "data": {
      "image/png": "[encoded data removed]",
      "text/plain": [
       "<Figure size 432x288 with 1 Axes>"
      ]
     },
     "metadata": {
      "needs_background": "light"
     },
     "output_type": "display_data"
    }
   ],
   "source": [
    "class PowerSpectrum(object):\n",
    "    \"\"\" Class for calculating a the power spectrum (1D or 2D) of an image in tensorflow.\n",
    "        Expects square image as input.\n",
    "    \"\"\"\n",
    "    def __init__(self,image_size=None,scale=1):\n",
    "        \"\"\"image_size: only needed for power1D\n",
    "        \"\"\"\n",
    "        self.image_size = image_size\n",
    "        self.scale = scale\n",
    "        if self.image_size is not None:\n",
    "            self.az_mask=self.build_azimuthal_mask()\n",
    "        \n",
    "    def power2D(self,x):\n",
    "        x = tf.signal.fft2d(tf.cast(x,dtype=tf.complex64))\n",
    "        x = tf.signal.fftshift(x, axes=None, name=None)\n",
    "        return abs(x)\n",
    "     \n",
    "    def build_azimuthal_mask(self):\n",
    "        \n",
    "        x,y = np.meshgrid(np.arange(self.image_size),np.arange(self.image_size))\n",
    "        R = np.sqrt((x-self.image_size/2)**2+(y-self.image_size/2)**2)\n",
    "        masks = np.array(list(map(lambda r : (R >= r-.5) & (R < r+.5),np.arange(1,int(self.image_size/2+1),1))))\n",
    "        norm = np.sum(masks,axis=(1,2),keepdims=True)\n",
    "        masks=masks/norm\n",
    "        n=len(masks)\n",
    "        return tf.reshape(tf.cast(masks,dtype=tf.float32),(1,n,self.image_size,self.image_size))\n",
    "        \n",
    "    def az_average(self,x):\n",
    "        x=tf.reshape(x,(-1,1,self.image_size,self.image_size))\n",
    "        return tf.reduce_sum(tf.reduce_sum(tf.multiply(self.az_mask,x),axis=3),axis=2)\n",
    "    \n",
    "    def power1D(self,x):\n",
    "        x = self.power2D(x)\n",
    "        az_avg = self.az_average(x)\n",
    "        ell=np.arange(int(az_avg.shape[1]))*9\n",
    "        return tf.multiply(az_avg,tf.reshape(tf.cast(ell*(ell+1)/2/np.pi,dtype=tf.float32),(1,-1)))\n",
    "\n",
    "ss = PowerSpectrum(image_size=32).power2D(image.load_img(r\"/Users/nayansavaliya/Masters Mechatronics/2022 Summer/RAML - Project/data/bicubic/test/imagewoof_test/860.jpg\",target_size=(32,32),color_mode = \"grayscale\"))\n",
    "print(ss)\n",
    "plt.imshow(ss,cmap='gray')\n",
    "\n"
   ]
  },
  {
   "cell_type": "code",
   "execution_count": 13,
   "metadata": {},
   "outputs": [
    {
     "name": "stdout",
     "output_type": "stream",
     "text": [
      "tf.Tensor(\n",
      "[[ 65.        42.11335   21.72342  ... 139.51886   21.723272  42.11344 ]\n",
      " [ 68.22374   73.9073    96.05781  ...  97.33321   57.464577  50.733627]\n",
      " [ 46.399494  93.188484  72.8631   ...  72.57227   26.1374    87.4881  ]\n",
      " ...\n",
      " [194.95193   79.73593   50.005177 ...  54.688343  38.837685  32.05418 ]\n",
      " [ 46.39965   87.48817   26.137444 ...  45.175716  72.863106  93.188255]\n",
      " [ 68.22383   50.733738  57.46451  ... 111.68047   96.05807   73.90757 ]], shape=(32, 32), dtype=float32)\n"
     ]
    },
    {
     "data": {
      "text/plain": [
       "<matplotlib.image.AxesImage at 0x1773e3c70>"
      ]
     },
     "execution_count": 13,
     "metadata": {},
     "output_type": "execute_result"
    },
    {
     "data": {
      "image/png": "[encoded data removed]",
      "text/plain": [
       "<Figure size 432x288 with 1 Axes>"
      ]
     },
     "metadata": {
      "needs_background": "light"
     },
     "output_type": "display_data"
    }
   ],
   "source": [
    "ss = PowerSpectrum(image_size=32).power2D(image.load_img(r\"/Users/nayansavaliya/Masters Mechatronics/2022 Summer/RAML - Project/data/bicubic/test/SNGAN_bicubic_test/860.jpg\",target_size=(32,32),color_mode = \"grayscale\"))\n",
    "\n",
    "print(ss)\n",
    "plt.imshow(ss,cmap='gray')\n"
   ]
  }
 ],
 "metadata": {
  "interpreter": {
   "hash": "d6559be91acbc93f4d619e1b72121704cbae2e517629d34a1f89aedc7528f034"
  },
  "kernelspec": {
   "display_name": "Python 3.9.12 ('venv': venv)",
   "language": "python",
   "name": "python3"
  },
  "language_info": {
   "codemirror_mode": {
    "name": "ipython",
    "version": 3
   },
   "file_extension": ".py",
   "mimetype": "text/x-python",
   "name": "python",
   "nbconvert_exporter": "python",
   "pygments_lexer": "ipython3",
   "version": "3.9.12"
  },
  "orig_nbformat": 4
 },
 "nbformat": 4,
 "nbformat_minor": 2
}
