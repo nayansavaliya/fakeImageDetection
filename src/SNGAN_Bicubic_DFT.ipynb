{
 "cells": [
  {
   "cell_type": "markdown",
   "metadata": {},
   "source": [
    "Imports"
   ]
  },
  {
   "cell_type": "code",
   "execution_count": 1,
   "metadata": {},
   "outputs": [],
   "source": [
    "import tensorflow as tf\n",
    "import numpy as np\n",
    "from tensorflow import keras\n",
    "from keras.preprocessing.image import ImageDataGenerator\n",
    "from keras.preprocessing import image\n",
    "import matplotlib.pyplot as plt\n",
    "from keras.callbacks import EarlyStopping\n",
    "\n",
    "# from IPython.core.interactiveshell import InteractiveShell\n",
    "# InteractiveShell.ast_node_interactivity = \"all\"\n",
    "\n"
   ]
  },
  {
   "cell_type": "markdown",
   "metadata": {},
   "source": [
    "Prepare DATASET"
   ]
  },
  {
   "cell_type": "code",
   "execution_count": 2,
   "metadata": {},
   "outputs": [
    {
     "name": "stdout",
     "output_type": "stream",
     "text": [
      "Found 1280 images belonging to 2 classes.\n",
      "Found 320 images belonging to 2 classes.\n",
      "Found 400 images belonging to 2 classes.\n"
     ]
    },
    {
     "data": {
      "text/plain": [
       "{'SNGAN_bicubic_test': 0, 'imagewoof_test': 1}"
      ]
     },
     "execution_count": 2,
     "metadata": {},
     "output_type": "execute_result"
    }
   ],
   "source": [
    "\n",
    "train = ImageDataGenerator(rescale=1/255,validation_split=0.2)\n",
    "test = ImageDataGenerator(rescale=1/255)\n",
    "\n",
    "train_dataset = train.flow_from_directory(\"/Users/nayansavaliya/Masters Mechatronics/2022 Summer/RAML - Project/data/bicubic/train\",\n",
    "                                          target_size=(32,32),\n",
    "                                          color_mode=\"grayscale\",\n",
    "                                          batch_size =50,\n",
    "                                          class_mode = 'binary',\n",
    "                                          subset='training',)\n",
    "\n",
    "validation_dataset = train.flow_from_directory(\"/Users/nayansavaliya/Masters Mechatronics/2022 Summer/RAML - Project/data/bicubic/train\",\n",
    "                                          target_size=(32,32),\n",
    "                                          color_mode=\"grayscale\",\n",
    "                                          batch_size = 50,\n",
    "                                          class_mode = 'binary',\n",
    "                                          subset='validation')                                    \n",
    "test_dataset = test.flow_from_directory(\"/Users/nayansavaliya/Masters Mechatronics/2022 Summer/RAML - Project/data/bicubic/test\",\n",
    "                                          target_size=(32,32),\n",
    "                                          color_mode=\"grayscale\",\n",
    "                                          batch_size =50,\n",
    "                                          class_mode = 'binary')\n",
    "\n",
    "test_dataset.class_indices"
   ]
  },
  {
   "cell_type": "code",
   "execution_count": 3,
   "metadata": {},
   "outputs": [],
   "source": [
    "class PowerSpectrum(object):\n",
    "    \"\"\" Class for calculating a the power spectrum (1D or 2D) of an image in tensorflow.\n",
    "        Expects square image as input.\n",
    "    \"\"\"\n",
    "    def __init__(self,image_size=None,scale=1):\n",
    "        \"\"\"image_size: only needed for power1D\n",
    "        \"\"\"\n",
    "        self.image_size = image_size\n",
    "        self.scale = scale\n",
    "        if self.image_size is not None:\n",
    "            self.az_mask=self.build_azimuthal_mask()\n",
    "        \n",
    "    def power2D(self,x):\n",
    "        x = tf.signal.fft2d(tf.cast(x,dtype=tf.complex64))\n",
    "        # x = tf.signal.fftshift(x, axes=None, name=None)\n",
    "        return abs(x)\n",
    "     \n",
    "    def build_azimuthal_mask(self):\n",
    "        \n",
    "        x,y = np.meshgrid(np.arange(self.image_size),np.arange(self.image_size))\n",
    "        R = np.sqrt((x-self.image_size/2)**2+(y-self.image_size/2)**2)\n",
    "        masks = np.array(list(map(lambda r : (R >= r-.5) & (R < r+.5),np.arange(1,int(self.image_size/2+1),1))))\n",
    "        norm = np.sum(masks,axis=(1,2),keepdims=True)\n",
    "        masks=masks/norm\n",
    "        n=len(masks)\n",
    "        return tf.reshape(tf.cast(masks,dtype=tf.float32),(1,n,self.image_size,self.image_size))\n",
    "        \n",
    "    def az_average(self,x):\n",
    "        x=tf.reshape(x,(-1,1,self.image_size,self.image_size))\n",
    "        return tf.reduce_sum(tf.reduce_sum(tf.multiply(self.az_mask,x),axis=3),axis=2)\n",
    "    \n",
    "    def power1D(self,x):\n",
    "        x = self.power2D(x)\n",
    "        az_avg = self.az_average(x)\n",
    "        ell=np.arange(int(az_avg.shape[1]))*9\n",
    "        return tf.multiply(az_avg,tf.reshape(tf.cast(ell*(ell+1)/2/np.pi,dtype=tf.float32),(1,-1)))\n"
   ]
  },
  {
   "cell_type": "markdown",
   "metadata": {},
   "source": [
    "Design Model"
   ]
  },
  {
   "cell_type": "code",
   "execution_count": 4,
   "metadata": {},
   "outputs": [
    {
     "name": "stdout",
     "output_type": "stream",
     "text": [
      "Metal device set to: Apple M1\n",
      "\n",
      "systemMemory: 16.00 GB\n",
      "maxCacheSize: 5.33 GB\n",
      "\n"
     ]
    },
    {
     "name": "stderr",
     "output_type": "stream",
     "text": [
      "2022-06-09 19:46:25.282912: I tensorflow/core/common_runtime/pluggable_device/pluggable_device_factory.cc:305] Could not identify NUMA node of platform GPU ID 0, defaulting to 0. Your kernel may not have been built with NUMA support.\n",
      "2022-06-09 19:46:25.283013: I tensorflow/core/common_runtime/pluggable_device/pluggable_device_factory.cc:271] Created TensorFlow device (/job:localhost/replica:0/task:0/device:GPU:0 with 0 MB memory) -> physical PluggableDevice (device: 0, name: METAL, pci bus id: <undefined>)\n"
     ]
    }
   ],
   "source": [
    "model = keras.Sequential()\n",
    "\n",
    "ps = PowerSpectrum(32)\n",
    "model.add(keras.layers.Lambda(lambda v: ps.power1D(v)))\n",
    "\n",
    "\n",
    "model.add(keras.layers.Flatten())\n",
    "model.add(keras.layers.Dense(16,input_dim=16,activation='relu'))\n",
    "\n",
    "model.add(keras.layers.Dense(1,activation='sigmoid'))\n",
    "\n",
    "\n",
    "model.compile(optimizer='adam',loss='binary_crossentropy',metrics=['accuracy'])"
   ]
  },
  {
   "cell_type": "markdown",
   "metadata": {},
   "source": [
    "Training\n",
    "\n",
    "Usually with every epoch increasing, loss goes lower and accuracy goes higher. But with val_loss and val_acc, many cases can be possible:\n",
    "\n",
    "val_loss starts increasing, val_acc starts decreasing(means model is cramming values not learning)\n",
    "\n",
    "val_loss starts increasing, val_acc also increases.(could be case of overfitting or diverse probability values in cases softmax is used in output layer)\n",
    "\n",
    "val_loss starts decreasing, val_acc starts increasing(Correct, means model build is learning and working fine)"
   ]
  },
  {
   "cell_type": "code",
   "execution_count": 5,
   "metadata": {},
   "outputs": [
    {
     "name": "stdout",
     "output_type": "stream",
     "text": [
      "Epoch 1/500\n"
     ]
    },
    {
     "name": "stderr",
     "output_type": "stream",
     "text": [
      "2022-06-09 19:46:25.420337: W tensorflow/core/platform/profile_utils/cpu_utils.cc:128] Failed to get CPU frequency: 0 Hz\n"
     ]
    },
    {
     "name": "stdout",
     "output_type": "stream",
     "text": [
      " 8/26 [========>.....................] - ETA: 0s - loss: 1375.3989 - accuracy: 0.5025"
     ]
    },
    {
     "name": "stderr",
     "output_type": "stream",
     "text": [
      "2022-06-09 19:46:25.682636: I tensorflow/core/grappler/optimizers/custom_graph_optimizer_registry.cc:113] Plugin optimizer for device_type GPU is enabled.\n"
     ]
    },
    {
     "name": "stdout",
     "output_type": "stream",
     "text": [
      "26/26 [==============================] - 1s 14ms/step - loss: 1108.9762 - accuracy: 0.5000 - val_loss: 717.4173 - val_accuracy: 0.5000\n",
      "Epoch 2/500\n",
      " 9/26 [=========>....................] - ETA: 0s - loss: 632.2045 - accuracy: 0.4778"
     ]
    },
    {
     "name": "stderr",
     "output_type": "stream",
     "text": [
      "2022-06-09 19:46:26.060172: I tensorflow/core/grappler/optimizers/custom_graph_optimizer_registry.cc:113] Plugin optimizer for device_type GPU is enabled.\n"
     ]
    },
    {
     "name": "stdout",
     "output_type": "stream",
     "text": [
      "26/26 [==============================] - 0s 9ms/step - loss: 421.1991 - accuracy: 0.4531 - val_loss: 242.0727 - val_accuracy: 0.3688\n",
      "Epoch 3/500\n",
      "26/26 [==============================] - 0s 9ms/step - loss: 221.1045 - accuracy: 0.3516 - val_loss: 169.1103 - val_accuracy: 0.4375\n",
      "Epoch 4/500\n",
      "26/26 [==============================] - 0s 9ms/step - loss: 134.1591 - accuracy: 0.4578 - val_loss: 86.5948 - val_accuracy: 0.5500\n",
      "Epoch 5/500\n",
      "26/26 [==============================] - 0s 9ms/step - loss: 81.1476 - accuracy: 0.5133 - val_loss: 60.6526 - val_accuracy: 0.5875\n",
      "Epoch 6/500\n",
      "26/26 [==============================] - 0s 9ms/step - loss: 64.1705 - accuracy: 0.5422 - val_loss: 51.2909 - val_accuracy: 0.6000\n",
      "Epoch 7/500\n",
      "26/26 [==============================] - 0s 9ms/step - loss: 55.0606 - accuracy: 0.5648 - val_loss: 43.7673 - val_accuracy: 0.6062\n",
      "Epoch 8/500\n",
      "26/26 [==============================] - 0s 9ms/step - loss: 48.0619 - accuracy: 0.5727 - val_loss: 38.4053 - val_accuracy: 0.6125\n",
      "Epoch 9/500\n",
      "26/26 [==============================] - 0s 9ms/step - loss: 42.5476 - accuracy: 0.5781 - val_loss: 34.1700 - val_accuracy: 0.6125\n",
      "Epoch 10/500\n",
      "26/26 [==============================] - 0s 9ms/step - loss: 39.2267 - accuracy: 0.5914 - val_loss: 33.4564 - val_accuracy: 0.5969\n",
      "Epoch 11/500\n",
      "26/26 [==============================] - 0s 9ms/step - loss: 35.9815 - accuracy: 0.5852 - val_loss: 29.3541 - val_accuracy: 0.6062\n",
      "Epoch 12/500\n",
      "26/26 [==============================] - 0s 9ms/step - loss: 34.1695 - accuracy: 0.5828 - val_loss: 28.4634 - val_accuracy: 0.6062\n",
      "Epoch 13/500\n",
      "26/26 [==============================] - 0s 9ms/step - loss: 32.4886 - accuracy: 0.5922 - val_loss: 26.9854 - val_accuracy: 0.6094\n",
      "Epoch 14/500\n",
      "26/26 [==============================] - 0s 9ms/step - loss: 29.3870 - accuracy: 0.6102 - val_loss: 28.6574 - val_accuracy: 0.6031\n",
      "Epoch 15/500\n",
      "26/26 [==============================] - 0s 9ms/step - loss: 29.2302 - accuracy: 0.5859 - val_loss: 26.8823 - val_accuracy: 0.6031\n",
      "Epoch 16/500\n",
      "26/26 [==============================] - 0s 9ms/step - loss: 24.5735 - accuracy: 0.6117 - val_loss: 22.5700 - val_accuracy: 0.6031\n",
      "Epoch 17/500\n",
      "26/26 [==============================] - 0s 9ms/step - loss: 22.4694 - accuracy: 0.6125 - val_loss: 20.7743 - val_accuracy: 0.6156\n",
      "Epoch 18/500\n",
      "26/26 [==============================] - 0s 9ms/step - loss: 20.5093 - accuracy: 0.6109 - val_loss: 20.0643 - val_accuracy: 0.5938\n",
      "Epoch 19/500\n",
      "26/26 [==============================] - 0s 9ms/step - loss: 18.8765 - accuracy: 0.6172 - val_loss: 18.8158 - val_accuracy: 0.6031\n",
      "Epoch 20/500\n",
      "26/26 [==============================] - 0s 9ms/step - loss: 18.2330 - accuracy: 0.6016 - val_loss: 16.5049 - val_accuracy: 0.6250\n",
      "Epoch 21/500\n",
      "26/26 [==============================] - 0s 9ms/step - loss: 15.7938 - accuracy: 0.6203 - val_loss: 15.1414 - val_accuracy: 0.6125\n",
      "Epoch 22/500\n",
      "26/26 [==============================] - 0s 9ms/step - loss: 14.5795 - accuracy: 0.6086 - val_loss: 14.4234 - val_accuracy: 0.6000\n",
      "Epoch 23/500\n",
      "26/26 [==============================] - 0s 9ms/step - loss: 13.7402 - accuracy: 0.6148 - val_loss: 12.4054 - val_accuracy: 0.6062\n",
      "Epoch 24/500\n",
      "26/26 [==============================] - 0s 9ms/step - loss: 12.1150 - accuracy: 0.5992 - val_loss: 13.3285 - val_accuracy: 0.5844\n",
      "Epoch 25/500\n",
      "26/26 [==============================] - 0s 9ms/step - loss: 11.1835 - accuracy: 0.6055 - val_loss: 10.0269 - val_accuracy: 0.6188\n",
      "Epoch 26/500\n",
      "26/26 [==============================] - 0s 9ms/step - loss: 9.6022 - accuracy: 0.6078 - val_loss: 9.2073 - val_accuracy: 0.5781\n",
      "Epoch 27/500\n",
      "26/26 [==============================] - 0s 9ms/step - loss: 8.8817 - accuracy: 0.6180 - val_loss: 8.2540 - val_accuracy: 0.6094\n",
      "Epoch 28/500\n",
      "26/26 [==============================] - 0s 9ms/step - loss: 8.7514 - accuracy: 0.5898 - val_loss: 7.7305 - val_accuracy: 0.5813\n",
      "Epoch 29/500\n",
      "26/26 [==============================] - 0s 9ms/step - loss: 8.8135 - accuracy: 0.6102 - val_loss: 7.7237 - val_accuracy: 0.6313\n",
      "Epoch 30/500\n",
      "26/26 [==============================] - 0s 9ms/step - loss: 6.3733 - accuracy: 0.6336 - val_loss: 7.3921 - val_accuracy: 0.5938\n",
      "Epoch 31/500\n",
      "26/26 [==============================] - 0s 9ms/step - loss: 6.7214 - accuracy: 0.6094 - val_loss: 5.8848 - val_accuracy: 0.5969\n",
      "Epoch 32/500\n",
      "26/26 [==============================] - 0s 9ms/step - loss: 8.1862 - accuracy: 0.6094 - val_loss: 6.7945 - val_accuracy: 0.5750\n",
      "Epoch 33/500\n",
      "26/26 [==============================] - 0s 9ms/step - loss: 5.6751 - accuracy: 0.6242 - val_loss: 5.0315 - val_accuracy: 0.6000\n",
      "Epoch 34/500\n",
      "26/26 [==============================] - 0s 9ms/step - loss: 4.7916 - accuracy: 0.6250 - val_loss: 4.6031 - val_accuracy: 0.5969\n",
      "Epoch 35/500\n",
      "26/26 [==============================] - 0s 9ms/step - loss: 4.8801 - accuracy: 0.6102 - val_loss: 4.2860 - val_accuracy: 0.5938\n",
      "Epoch 36/500\n",
      "26/26 [==============================] - 0s 9ms/step - loss: 4.5041 - accuracy: 0.6297 - val_loss: 4.0463 - val_accuracy: 0.6031\n",
      "Epoch 37/500\n",
      "26/26 [==============================] - 0s 9ms/step - loss: 3.7759 - accuracy: 0.6273 - val_loss: 3.9363 - val_accuracy: 0.5875\n",
      "Epoch 38/500\n",
      "26/26 [==============================] - 0s 9ms/step - loss: 3.4310 - accuracy: 0.6266 - val_loss: 4.6245 - val_accuracy: 0.5344\n",
      "Epoch 39/500\n",
      "26/26 [==============================] - 0s 9ms/step - loss: 3.9595 - accuracy: 0.6102 - val_loss: 3.4056 - val_accuracy: 0.6219\n",
      "Epoch 40/500\n",
      "26/26 [==============================] - 0s 9ms/step - loss: 3.1677 - accuracy: 0.6500 - val_loss: 2.8417 - val_accuracy: 0.6156\n",
      "Epoch 41/500\n",
      "26/26 [==============================] - 0s 9ms/step - loss: 2.9782 - accuracy: 0.6242 - val_loss: 3.0539 - val_accuracy: 0.5906\n",
      "Epoch 42/500\n",
      "26/26 [==============================] - 0s 9ms/step - loss: 2.9644 - accuracy: 0.6172 - val_loss: 4.0772 - val_accuracy: 0.5875\n",
      "Epoch 43/500\n",
      "26/26 [==============================] - 0s 9ms/step - loss: 3.8133 - accuracy: 0.6078 - val_loss: 3.6142 - val_accuracy: 0.6250\n",
      "Epoch 44/500\n",
      "26/26 [==============================] - 0s 9ms/step - loss: 5.2171 - accuracy: 0.6000 - val_loss: 4.1167 - val_accuracy: 0.6406\n",
      "Epoch 45/500\n",
      "26/26 [==============================] - 0s 9ms/step - loss: 2.9015 - accuracy: 0.6313 - val_loss: 4.3254 - val_accuracy: 0.5375\n",
      "Epoch 46/500\n",
      "26/26 [==============================] - 0s 9ms/step - loss: 2.9472 - accuracy: 0.6070 - val_loss: 3.1088 - val_accuracy: 0.5906\n",
      "Epoch 47/500\n",
      "26/26 [==============================] - 0s 9ms/step - loss: 3.2236 - accuracy: 0.6188 - val_loss: 5.6930 - val_accuracy: 0.5500\n",
      "Epoch 48/500\n",
      "26/26 [==============================] - 0s 9ms/step - loss: 4.0560 - accuracy: 0.6062 - val_loss: 6.3529 - val_accuracy: 0.5469\n",
      "Epoch 49/500\n",
      "26/26 [==============================] - 0s 9ms/step - loss: 3.8139 - accuracy: 0.5977 - val_loss: 6.0005 - val_accuracy: 0.5375\n",
      "Epoch 50/500\n",
      "26/26 [==============================] - 0s 9ms/step - loss: 2.9512 - accuracy: 0.6195 - val_loss: 3.0026 - val_accuracy: 0.5531\n",
      "Epoch 51/500\n",
      "26/26 [==============================] - 0s 9ms/step - loss: 2.0305 - accuracy: 0.6320 - val_loss: 2.0865 - val_accuracy: 0.6313\n",
      "Epoch 52/500\n",
      "26/26 [==============================] - 0s 9ms/step - loss: 2.1868 - accuracy: 0.6344 - val_loss: 3.1871 - val_accuracy: 0.5875\n",
      "Epoch 53/500\n",
      "26/26 [==============================] - 0s 9ms/step - loss: 2.0383 - accuracy: 0.6398 - val_loss: 2.3642 - val_accuracy: 0.5594\n",
      "Epoch 54/500\n",
      "26/26 [==============================] - 0s 9ms/step - loss: 2.0042 - accuracy: 0.6164 - val_loss: 1.9687 - val_accuracy: 0.6188\n",
      "Epoch 55/500\n",
      "26/26 [==============================] - 0s 9ms/step - loss: 3.1772 - accuracy: 0.6031 - val_loss: 4.7006 - val_accuracy: 0.5781\n",
      "Epoch 56/500\n",
      "26/26 [==============================] - 0s 9ms/step - loss: 3.1057 - accuracy: 0.6195 - val_loss: 2.0259 - val_accuracy: 0.6438\n",
      "Epoch 57/500\n",
      "26/26 [==============================] - 0s 9ms/step - loss: 1.7199 - accuracy: 0.6414 - val_loss: 3.4110 - val_accuracy: 0.5688\n",
      "Epoch 58/500\n",
      "26/26 [==============================] - 0s 9ms/step - loss: 3.5237 - accuracy: 0.5883 - val_loss: 4.0668 - val_accuracy: 0.5938\n",
      "Epoch 59/500\n",
      "26/26 [==============================] - 0s 9ms/step - loss: 2.9980 - accuracy: 0.6031 - val_loss: 2.8531 - val_accuracy: 0.5781\n",
      "Epoch 60/500\n",
      "26/26 [==============================] - 0s 9ms/step - loss: 3.3935 - accuracy: 0.6109 - val_loss: 2.5179 - val_accuracy: 0.6438\n",
      "Epoch 61/500\n",
      "26/26 [==============================] - 0s 9ms/step - loss: 1.8006 - accuracy: 0.6359 - val_loss: 1.9650 - val_accuracy: 0.6188\n",
      "Epoch 62/500\n",
      "26/26 [==============================] - 0s 9ms/step - loss: 2.3352 - accuracy: 0.6023 - val_loss: 6.2504 - val_accuracy: 0.5406\n",
      "Epoch 63/500\n",
      "26/26 [==============================] - 0s 9ms/step - loss: 2.2688 - accuracy: 0.6211 - val_loss: 2.9953 - val_accuracy: 0.5594\n",
      "Epoch 64/500\n",
      "26/26 [==============================] - 0s 9ms/step - loss: 3.1688 - accuracy: 0.5953 - val_loss: 3.3982 - val_accuracy: 0.6062\n",
      "Epoch 65/500\n",
      "26/26 [==============================] - 0s 9ms/step - loss: 1.8234 - accuracy: 0.6516 - val_loss: 2.8021 - val_accuracy: 0.5500\n",
      "Epoch 66/500\n",
      "26/26 [==============================] - 0s 9ms/step - loss: 1.7658 - accuracy: 0.6141 - val_loss: 2.4355 - val_accuracy: 0.6031\n",
      "Epoch 67/500\n",
      "26/26 [==============================] - 0s 9ms/step - loss: 1.7874 - accuracy: 0.6273 - val_loss: 1.6060 - val_accuracy: 0.6375\n",
      "Epoch 68/500\n",
      "26/26 [==============================] - 0s 9ms/step - loss: 2.3757 - accuracy: 0.5984 - val_loss: 3.9451 - val_accuracy: 0.5875\n",
      "Epoch 69/500\n",
      "26/26 [==============================] - 0s 9ms/step - loss: 2.3906 - accuracy: 0.6250 - val_loss: 2.1385 - val_accuracy: 0.5813\n",
      "Epoch 70/500\n",
      "26/26 [==============================] - 0s 9ms/step - loss: 1.7500 - accuracy: 0.6133 - val_loss: 2.1206 - val_accuracy: 0.6062\n",
      "Epoch 71/500\n",
      "26/26 [==============================] - 0s 9ms/step - loss: 1.7536 - accuracy: 0.6352 - val_loss: 1.5533 - val_accuracy: 0.6469\n",
      "Epoch 72/500\n",
      "26/26 [==============================] - 0s 9ms/step - loss: 2.6334 - accuracy: 0.5883 - val_loss: 2.2289 - val_accuracy: 0.6031\n",
      "Epoch 73/500\n",
      "26/26 [==============================] - 0s 9ms/step - loss: 1.7761 - accuracy: 0.6539 - val_loss: 3.2564 - val_accuracy: 0.5375\n",
      "Epoch 74/500\n",
      "26/26 [==============================] - 0s 9ms/step - loss: 2.8387 - accuracy: 0.5906 - val_loss: 3.5694 - val_accuracy: 0.5625\n",
      "Epoch 75/500\n",
      "26/26 [==============================] - 0s 9ms/step - loss: 3.0243 - accuracy: 0.6000 - val_loss: 2.9843 - val_accuracy: 0.5531\n",
      "Epoch 76/500\n",
      "26/26 [==============================] - 0s 9ms/step - loss: 2.2391 - accuracy: 0.6172 - val_loss: 2.3999 - val_accuracy: 0.5437\n",
      "Epoch 77/500\n",
      "26/26 [==============================] - 0s 9ms/step - loss: 4.2146 - accuracy: 0.5898 - val_loss: 7.8349 - val_accuracy: 0.5437\n",
      "Epoch 78/500\n",
      "26/26 [==============================] - 0s 9ms/step - loss: 4.8307 - accuracy: 0.6039 - val_loss: 4.3436 - val_accuracy: 0.5875\n",
      "Epoch 79/500\n",
      "26/26 [==============================] - 0s 9ms/step - loss: 3.0380 - accuracy: 0.6250 - val_loss: 2.1970 - val_accuracy: 0.6250\n",
      "Epoch 80/500\n",
      "26/26 [==============================] - 0s 9ms/step - loss: 1.3641 - accuracy: 0.6609 - val_loss: 1.7241 - val_accuracy: 0.5906\n",
      "Epoch 81/500\n",
      "26/26 [==============================] - 0s 9ms/step - loss: 1.2148 - accuracy: 0.6648 - val_loss: 1.4767 - val_accuracy: 0.6344\n",
      "Epoch 82/500\n",
      "26/26 [==============================] - 0s 9ms/step - loss: 1.5680 - accuracy: 0.6188 - val_loss: 2.1779 - val_accuracy: 0.5563\n",
      "Epoch 83/500\n",
      "26/26 [==============================] - 0s 9ms/step - loss: 1.5173 - accuracy: 0.6430 - val_loss: 2.1311 - val_accuracy: 0.5750\n",
      "Epoch 84/500\n",
      "26/26 [==============================] - 0s 9ms/step - loss: 2.8256 - accuracy: 0.5945 - val_loss: 2.3471 - val_accuracy: 0.6406\n",
      "Epoch 85/500\n",
      "26/26 [==============================] - 0s 9ms/step - loss: 2.7568 - accuracy: 0.5961 - val_loss: 2.5179 - val_accuracy: 0.6125\n",
      "Epoch 86/500\n",
      "26/26 [==============================] - 0s 9ms/step - loss: 1.7018 - accuracy: 0.6398 - val_loss: 1.6436 - val_accuracy: 0.6250\n",
      "Epoch 87/500\n",
      "26/26 [==============================] - 0s 9ms/step - loss: 1.6329 - accuracy: 0.6234 - val_loss: 4.2891 - val_accuracy: 0.5281\n",
      "Epoch 88/500\n",
      "26/26 [==============================] - 0s 9ms/step - loss: 2.0685 - accuracy: 0.6281 - val_loss: 1.8371 - val_accuracy: 0.6125\n",
      "Epoch 89/500\n",
      "26/26 [==============================] - 0s 9ms/step - loss: 2.8654 - accuracy: 0.5883 - val_loss: 4.7630 - val_accuracy: 0.5344\n",
      "Epoch 90/500\n",
      "26/26 [==============================] - 0s 9ms/step - loss: 1.9483 - accuracy: 0.6305 - val_loss: 2.1752 - val_accuracy: 0.5625\n",
      "Epoch 91/500\n",
      "26/26 [==============================] - 0s 9ms/step - loss: 1.4568 - accuracy: 0.6695 - val_loss: 1.9302 - val_accuracy: 0.6125\n",
      "Epoch 92/500\n",
      "26/26 [==============================] - 0s 9ms/step - loss: 1.8052 - accuracy: 0.6141 - val_loss: 3.5856 - val_accuracy: 0.5375\n",
      "Epoch 93/500\n",
      "26/26 [==============================] - 0s 9ms/step - loss: 3.2226 - accuracy: 0.5867 - val_loss: 4.4941 - val_accuracy: 0.5563\n",
      "Epoch 94/500\n",
      "26/26 [==============================] - 0s 9ms/step - loss: 2.5250 - accuracy: 0.6203 - val_loss: 2.2931 - val_accuracy: 0.6250\n",
      "Epoch 95/500\n",
      "26/26 [==============================] - 0s 9ms/step - loss: 3.4291 - accuracy: 0.5906 - val_loss: 5.3405 - val_accuracy: 0.5500\n",
      "Epoch 96/500\n",
      "26/26 [==============================] - 0s 9ms/step - loss: 2.0708 - accuracy: 0.6758 - val_loss: 1.7221 - val_accuracy: 0.5750\n",
      "Epoch 97/500\n",
      "26/26 [==============================] - 0s 9ms/step - loss: 1.5923 - accuracy: 0.6242 - val_loss: 3.2487 - val_accuracy: 0.5531\n",
      "Epoch 98/500\n",
      "26/26 [==============================] - 0s 9ms/step - loss: 1.7723 - accuracy: 0.6594 - val_loss: 1.8995 - val_accuracy: 0.5813\n",
      "Epoch 99/500\n",
      "26/26 [==============================] - 0s 9ms/step - loss: 1.9170 - accuracy: 0.6227 - val_loss: 3.2027 - val_accuracy: 0.5500\n",
      "Epoch 100/500\n",
      "26/26 [==============================] - 0s 9ms/step - loss: 2.1787 - accuracy: 0.6313 - val_loss: 3.7806 - val_accuracy: 0.5406\n",
      "Epoch 101/500\n",
      "26/26 [==============================] - 0s 9ms/step - loss: 6.4548 - accuracy: 0.5617 - val_loss: 3.2733 - val_accuracy: 0.6250\n"
     ]
    }
   ],
   "source": [
    "early_stopping = EarlyStopping(\n",
    "    min_delta=0.001, # minimium amount of change to count as an improvement\n",
    "    patience=20, # how many epochs to wait before stopping\n",
    "    restore_best_weights=True,\n",
    ")\n",
    "\n",
    "history = model.fit(train_dataset,\n",
    "        #  steps_per_epoch = 25,\n",
    "         epochs = 500, \n",
    "         callbacks=[early_stopping],\n",
    "         validation_data = validation_dataset\n",
    "         )"
   ]
  },
  {
   "cell_type": "code",
   "execution_count": 7,
   "metadata": {},
   "outputs": [
    {
     "data": {
      "text/plain": [
       "<matplotlib.legend.Legend at 0x175945370>"
      ]
     },
     "execution_count": 7,
     "metadata": {},
     "output_type": "execute_result"
    },
    {
     "data": {
      "image/png": "[encoded data removed]",
      "text/plain": [
       "<Figure size 432x288 with 1 Axes>"
      ]
     },
     "metadata": {
      "needs_background": "light"
     },
     "output_type": "display_data"
    }
   ],
   "source": [
    "# visualizing losses and accuracy\n",
    "# print(history.history)\n",
    "train_loss = history.history['loss']\n",
    "val_loss   = history.history['val_loss']\n",
    "train_acc  = history.history['accuracy']\n",
    "val_acc    = history.history['val_accuracy']\n",
    "xc         = range(101)\n",
    "\n",
    "plt.figure()\n",
    "plt.plot(xc, train_loss,label = 'Train Loss')\n",
    "plt.plot(xc, val_loss,label = 'Val Loss')\n",
    "plt.legend(loc='upper right')"
   ]
  },
  {
   "cell_type": "code",
   "execution_count": 8,
   "metadata": {},
   "outputs": [
    {
     "name": "stdout",
     "output_type": "stream",
     "text": [
      "8/8 [==============================] - 0s 6ms/step - loss: 1.1331 - accuracy: 0.6625\n",
      "66.24999642372131\n"
     ]
    }
   ],
   "source": [
    "_, acc = model.evaluate(test_dataset)\n",
    "print(acc *100)"
   ]
  },
  {
   "cell_type": "markdown",
   "metadata": {},
   "source": [
    "Prediction"
   ]
  },
  {
   "cell_type": "code",
   "execution_count": null,
   "metadata": {},
   "outputs": [
    {
     "name": "stdout",
     "output_type": "stream",
     "text": [
      "<PIL.Image.Image image mode=L size=32x32 at 0x2930FEE80>\n",
      "[[1.]]\n"
     ]
    },
    {
     "name": "stderr",
     "output_type": "stream",
     "text": [
      "2022-06-09 19:45:54.113983: I tensorflow/core/grappler/optimizers/custom_graph_optimizer_registry.cc:113] Plugin optimizer for device_type GPU is enabled.\n"
     ]
    },
    {
     "data": {
      "image/png": "[encoded data removed]",
      "text/plain": [
       "<Figure size 432x288 with 1 Axes>"
      ]
     },
     "metadata": {
      "needs_background": "light"
     },
     "output_type": "display_data"
    }
   ],
   "source": [
    "\n",
    "def predictImage(filename):\n",
    "    img1 = image.load_img(filename,target_size=(32,32),color_mode = \"grayscale\")\n",
    "    print(img1)\n",
    "    plt.imshow(img1,cmap='gray')\n",
    " \n",
    "    Y = image.img_to_array(img1)\n",
    "    \n",
    "    X = np.expand_dims(Y,axis=0)\n",
    "    val = model.predict(X)\n",
    "    print(val)\n",
    "    if val == 1:\n",
    "        \n",
    "        plt.xlabel(\"Real\",fontsize=30)\n",
    "        \n",
    "    \n",
    "    elif val == 0:\n",
    "        \n",
    "        plt.xlabel(\"Fake\",fontsize=30)\n",
    "\n",
    "predictImage(r\"/Users/nayansavaliya/Masters Mechatronics/2022 Summer/RAML - Project/data/bicubic/test/imagewoof_test/985.jpg\")\n"
   ]
  },
  {
   "cell_type": "code",
   "execution_count": null,
   "metadata": {},
   "outputs": [
    {
     "name": "stdout",
     "output_type": "stream",
     "text": [
      "<PIL.Image.Image image mode=L size=32x32 at 0x148020C10>\n",
      "[[1.]]\n"
     ]
    },
    {
     "data": {
      "image/png": "[encoded data removed]",
      "text/plain": [
       "<Figure size 432x288 with 1 Axes>"
      ]
     },
     "metadata": {
      "needs_background": "light"
     },
     "output_type": "display_data"
    }
   ],
   "source": [
    "\n",
    "predictImage(r\"/Users/nayansavaliya/Masters Mechatronics/2022 Summer/RAML - Project/data/bicubic/test/SNGAN_bicubic_test/952.jpg\")"
   ]
  },
  {
   "cell_type": "code",
   "execution_count": null,
   "metadata": {},
   "outputs": [
    {
     "name": "stdout",
     "output_type": "stream",
     "text": [
      "tf.Tensor(\n",
      "[[210.        74.85386   84.014046 ...  51.940174  84.014206  74.853966]\n",
      " [126.311264  50.78618   48.85548  ... 112.37211  227.17798   55.062515]\n",
      " [181.85095  139.74811   80.216484 ... 185.6893    47.41952   86.42856 ]\n",
      " ...\n",
      " [117.22816   60.508064 146.22131  ...  93.78925  308.35425  114.073845]\n",
      " [181.85065   86.4286    47.419773 ... 120.15541   80.21627  139.74818 ]\n",
      " [126.31114   55.06267  227.17792  ...  96.001     48.85535   50.78591 ]], shape=(32, 32), dtype=float32)\n"
     ]
    },
    {
     "data": {
      "text/plain": [
       "<matplotlib.image.AxesImage at 0x1755f74f0>"
      ]
     },
     "execution_count": 18,
     "metadata": {},
     "output_type": "execute_result"
    },
    {
     "data": {
      "image/png": "[encoded data removed]",
      "text/plain": [
       "<Figure size 432x288 with 1 Axes>"
      ]
     },
     "metadata": {
      "needs_background": "light"
     },
     "output_type": "display_data"
    }
   ],
   "source": [
    "class PowerSpectrum(object):\n",
    "    def __init__(self,image_size=None,scale=1):\n",
    "        self.image_size = image_size\n",
    "        self.scale = scale\n",
    "        if self.image_size is not None:\n",
    "            self.az_mask=self.build_azimuthal_mask()\n",
    "        \n",
    "    def power2D(self,x):\n",
    "        x = tf.signal.fft2d(tf.cast(x,dtype=tf.complex64))\n",
    "        x = tf.signal.fftshift(x, axes=None, name=None)\n",
    "        return abs(x)\n",
    "     \n",
    "    def build_azimuthal_mask(self):\n",
    "        \n",
    "        x,y = np.meshgrid(np.arange(self.image_size),np.arange(self.image_size))\n",
    "        R = np.sqrt((x-self.image_size/2)**2+(y-self.image_size/2)**2)\n",
    "        masks = np.array(list(map(lambda r : (R >= r-.5) & (R < r+.5),np.arange(1,int(self.image_size/2+1),1))))\n",
    "        norm = np.sum(masks,axis=(1,2),keepdims=True)\n",
    "        masks=masks/norm\n",
    "        n=len(masks)\n",
    "        return tf.reshape(tf.cast(masks,dtype=tf.float32),(1,n,self.image_size,self.image_size))\n",
    "        \n",
    "    def az_average(self,x):\n",
    "        x=tf.reshape(x,(-1,1,self.image_size,self.image_size))\n",
    "        return tf.reduce_sum(tf.reduce_sum(tf.multiply(self.az_mask,x),axis=3),axis=2)\n",
    "    \n",
    "    def power1D(self,x):\n",
    "        x = self.power2D(x)\n",
    "        az_avg = self.az_average(x)\n",
    "        ell=np.arange(int(az_avg.shape[1]))*9\n",
    "        return tf.multiply(az_avg,tf.reshape(tf.cast(ell*(ell+1)/2/np.pi,dtype=tf.float32),(1,-1)))\n",
    "\n",
    "ss = PowerSpectrum(image_size=32).power2D(image.load_img(r\"/Users/nayansavaliya/Masters Mechatronics/2022 Summer/RAML - Project/data/bicubic/test/imagewoof_test/856.jpg\",target_size=(32,32),color_mode = \"grayscale\"))\n",
    "print(ss)\n",
    "plt.imshow(ss,cmap='gray')\n",
    "\n"
   ]
  },
  {
   "cell_type": "code",
   "execution_count": null,
   "metadata": {},
   "outputs": [
    {
     "name": "stdout",
     "output_type": "stream",
     "text": [
      "tf.Tensor(\n",
      "[[     0.    84156.35 224446.02 270031.8  260740.72 475722.56 598830.75\n",
      "  639740.1  697710.06 810709.2  664137.25 769665.94 836384.75 716103.44\n",
      "  729603.06 758634.1 ]], shape=(1, 16), dtype=float32)\n"
     ]
    },
    {
     "data": {
      "text/plain": [
       "<matplotlib.image.AxesImage at 0x1582c03d0>"
      ]
     },
     "execution_count": 13,
     "metadata": {},
     "output_type": "execute_result"
    },
    {
     "data": {
      "image/png": "[encoded data removed]",
      "text/plain": [
       "<Figure size 432x288 with 1 Axes>"
      ]
     },
     "metadata": {
      "needs_background": "light"
     },
     "output_type": "display_data"
    }
   ],
   "source": [
    "ss1 = PowerSpectrum(image_size=32).power1D(image.load_img(r\"/Users/nayansavaliya/Masters Mechatronics/2022 Summer/RAML - Project/data/bicubic/test/SNGAN_bicubic_test/840.jpg\",target_size=(32,32),color_mode = \"grayscale\"))\n",
    "\n",
    "print(ss1)\n",
    "plt.imshow(ss1,cmap='gray')\n"
   ]
  }
 ],
 "metadata": {
  "interpreter": {
   "hash": "d6559be91acbc93f4d619e1b72121704cbae2e517629d34a1f89aedc7528f034"
  },
  "kernelspec": {
   "display_name": "Python 3.9.12 ('venv': venv)",
   "language": "python",
   "name": "python3"
  },
  "language_info": {
   "codemirror_mode": {
    "name": "ipython",
    "version": 3
   },
   "file_extension": ".py",
   "mimetype": "text/x-python",
   "name": "python",
   "nbconvert_exporter": "python",
   "pygments_lexer": "ipython3",
   "version": "3.9.12"
  },
  "orig_nbformat": 4
 },
 "nbformat": 4,
 "nbformat_minor": 2
}
