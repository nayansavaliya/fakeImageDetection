{
 "cells": [
  {
   "cell_type": "markdown",
   "metadata": {},
   "source": [
    "Imports"
   ]
  },
  {
   "cell_type": "code",
   "execution_count": 1,
   "metadata": {},
   "outputs": [],
   "source": [
    "import tensorflow as tf\n",
    "import numpy as np\n",
    "from tensorflow import keras\n",
    "from keras.preprocessing.image import ImageDataGenerator\n",
    "from keras.preprocessing import image\n",
    "import matplotlib.pyplot as plt\n",
    "from keras.callbacks import EarlyStopping\n",
    "\n",
    "\n",
    "# from IPython.core.interactiveshell import InteractiveShell\n",
    "# InteractiveShell.ast_node_interactivity = \"all\"\n",
    "\n"
   ]
  },
  {
   "cell_type": "markdown",
   "metadata": {},
   "source": [
    "Prepare DATASET"
   ]
  },
  {
   "cell_type": "code",
   "execution_count": 2,
   "metadata": {},
   "outputs": [
    {
     "name": "stdout",
     "output_type": "stream",
     "text": [
      "Found 400 images belonging to 2 classes.\n",
      "Found 400 images belonging to 2 classes.\n",
      "Found 1600 images belonging to 2 classes.\n"
     ]
    },
    {
     "data": {
      "text/plain": [
       "{'SNGAN_bilinear': 0, 'imagewoof': 1}"
      ]
     },
     "execution_count": 2,
     "metadata": {},
     "output_type": "execute_result"
    }
   ],
   "source": [
    "\n",
    "train = ImageDataGenerator(rescale=1/255,validation_split=0.2)\n",
    "test = ImageDataGenerator(rescale=1/255)\n",
    "\n",
    "train_dataset = train.flow_from_directory(\"/Users/nayansavaliya/Masters Mechatronics/2022 Summer/RAML - Project/data/bilinear/test\",\n",
    "                                          target_size=(32,32),\n",
    "                                          batch_size = 1,\n",
    "                                          class_mode = 'binary')\n",
    "\n",
    "validation_dataset = train.flow_from_directory(\"/Users/nayansavaliya/Masters Mechatronics/2022 Summer/RAML - Project/data/bilinear/test\",\n",
    "                                          target_size=(32,32),\n",
    "                                          batch_size = 1,\n",
    "                                          class_mode = 'binary')                                    \n",
    "test_dataset = test.flow_from_directory(\"/Users/nayansavaliya/Masters Mechatronics/2022 Summer/RAML - Project/data/bilinear/train\",\n",
    "                                          target_size=(32,32),\n",
    "                                          batch_size =1,\n",
    "                                          class_mode = 'binary')\n",
    "\n",
    "test_dataset.class_indices"
   ]
  },
  {
   "cell_type": "markdown",
   "metadata": {},
   "source": [
    "Design Model"
   ]
  },
  {
   "cell_type": "code",
   "execution_count": 3,
   "metadata": {},
   "outputs": [
    {
     "name": "stdout",
     "output_type": "stream",
     "text": [
      "Metal device set to: Apple M1\n",
      "\n",
      "systemMemory: 16.00 GB\n",
      "maxCacheSize: 5.33 GB\n",
      "\n"
     ]
    },
    {
     "name": "stderr",
     "output_type": "stream",
     "text": [
      "2022-05-13 21:01:20.369290: I tensorflow/core/common_runtime/pluggable_device/pluggable_device_factory.cc:305] Could not identify NUMA node of platform GPU ID 0, defaulting to 0. Your kernel may not have been built with NUMA support.\n",
      "2022-05-13 21:01:20.369403: I tensorflow/core/common_runtime/pluggable_device/pluggable_device_factory.cc:271] Created TensorFlow device (/job:localhost/replica:0/task:0/device:GPU:0 with 0 MB memory) -> physical PluggableDevice (device: 0, name: METAL, pci bus id: <undefined>)\n"
     ]
    }
   ],
   "source": [
    "model = keras.Sequential()\n",
    "\n",
    "# Convolutional layer and maxpool layer 1\n",
    "model.add(keras.layers.Conv2D(32,(3,3),activation='relu',input_shape=(32,32,3)))\n",
    "\n",
    "model.add(keras.layers.MaxPool2D(2,2))\n",
    "\n",
    "# Convolutional layer and maxpool layer 2\n",
    "model.add(keras.layers.Conv2D(64,(3,3),activation='relu'))\n",
    "\n",
    "model.add(keras.layers.MaxPool2D(2,2))\n",
    "\n",
    "# Convolutional layer and maxpool layer 3\n",
    "model.add(keras.layers.Conv2D(64,(3,3),activation='relu'))\n",
    "\n",
    "model.add(keras.layers.MaxPool2D(2,2))\n",
    "\n",
    "# This layer flattens the resulting image array to 1D array\n",
    "model.add(keras.layers.Flatten())\n",
    "\n",
    "# Hidden layer with 512 neurons and Rectified Linear Unit activation function \n",
    "model.add(keras.layers.Dense(512,activation='relu'))\n",
    "\n",
    "# Output layer with single neuron which gives 0 for fake or 1 for real \n",
    "#Here we use sigmoid activation function which makes our model output to lie between 0 and 1\n",
    "model.add(keras.layers.Dense(1,activation='sigmoid'))\n",
    "\n",
    "\n",
    "model.compile(optimizer='adam',loss='binary_crossentropy',metrics=['accuracy'])"
   ]
  },
  {
   "cell_type": "markdown",
   "metadata": {},
   "source": [
    "Training\n",
    "\n",
    "Usually with every epoch increasing, loss goes lower and accuracy goes higher. But with val_loss and val_acc, many cases can be possible:\n",
    "\n",
    "val_loss starts increasing, val_acc starts decreasing(means model is cramming values not learning)\n",
    "\n",
    "val_loss starts increasing, val_acc also increases.(could be case of overfitting or diverse probability values in cases softmax is used in output layer)\n",
    "\n",
    "val_loss starts decreasing, val_acc starts increasing(Correct, means model build is learning and working fine)"
   ]
  },
  {
   "cell_type": "code",
   "execution_count": 4,
   "metadata": {},
   "outputs": [
    {
     "name": "stdout",
     "output_type": "stream",
     "text": [
      "Epoch 1/100\n"
     ]
    },
    {
     "name": "stderr",
     "output_type": "stream",
     "text": [
      "2022-05-13 21:01:20.497921: W tensorflow/core/platform/profile_utils/cpu_utils.cc:128] Failed to get CPU frequency: 0 Hz\n"
     ]
    },
    {
     "name": "stdout",
     "output_type": "stream",
     "text": [
      " 1/80 [..............................] - ETA: 35s - loss: 0.6587 - accuracy: 1.0000"
     ]
    },
    {
     "name": "stderr",
     "output_type": "stream",
     "text": [
      "2022-05-13 21:01:20.805203: I tensorflow/core/grappler/optimizers/custom_graph_optimizer_registry.cc:113] Plugin optimizer for device_type GPU is enabled.\n"
     ]
    },
    {
     "name": "stdout",
     "output_type": "stream",
     "text": [
      "73/80 [==========================>...] - ETA: 0s - loss: 0.7344 - accuracy: 0.5205"
     ]
    },
    {
     "name": "stderr",
     "output_type": "stream",
     "text": [
      "2022-05-13 21:01:21.524590: I tensorflow/core/grappler/optimizers/custom_graph_optimizer_registry.cc:113] Plugin optimizer for device_type GPU is enabled.\n"
     ]
    },
    {
     "name": "stdout",
     "output_type": "stream",
     "text": [
      "80/80 [==============================] - 2s 22ms/step - loss: 0.7310 - accuracy: 0.5125 - val_loss: 0.6914 - val_accuracy: 0.5000\n",
      "Epoch 2/100\n",
      "80/80 [==============================] - 2s 20ms/step - loss: 0.6924 - accuracy: 0.5500 - val_loss: 0.6895 - val_accuracy: 0.5000\n",
      "Epoch 3/100\n",
      "80/80 [==============================] - 2s 22ms/step - loss: 0.6807 - accuracy: 0.5625 - val_loss: 0.7994 - val_accuracy: 0.5000\n",
      "Epoch 4/100\n",
      "80/80 [==============================] - 2s 22ms/step - loss: 0.7415 - accuracy: 0.5250 - val_loss: 0.6857 - val_accuracy: 0.5000\n",
      "Epoch 5/100\n",
      "80/80 [==============================] - 2s 21ms/step - loss: 0.7285 - accuracy: 0.5375 - val_loss: 0.6917 - val_accuracy: 0.5975\n",
      "Epoch 6/100\n",
      "80/80 [==============================] - 2s 21ms/step - loss: 0.6906 - accuracy: 0.5500 - val_loss: 0.6719 - val_accuracy: 0.5000\n",
      "Epoch 7/100\n",
      "80/80 [==============================] - 2s 22ms/step - loss: 0.6768 - accuracy: 0.5625 - val_loss: 0.6567 - val_accuracy: 0.7175\n",
      "Epoch 8/100\n",
      "80/80 [==============================] - 2s 21ms/step - loss: 0.6769 - accuracy: 0.7000 - val_loss: 0.6644 - val_accuracy: 0.6700\n",
      "Epoch 9/100\n",
      "80/80 [==============================] - 2s 21ms/step - loss: 0.6541 - accuracy: 0.6125 - val_loss: 0.6467 - val_accuracy: 0.6775\n",
      "Epoch 10/100\n",
      "80/80 [==============================] - 2s 22ms/step - loss: 0.6718 - accuracy: 0.5875 - val_loss: 0.6114 - val_accuracy: 0.6975\n",
      "Epoch 11/100\n",
      "80/80 [==============================] - 2s 21ms/step - loss: 0.6497 - accuracy: 0.6375 - val_loss: 0.6120 - val_accuracy: 0.7200\n",
      "Epoch 12/100\n",
      "80/80 [==============================] - 2s 22ms/step - loss: 0.5878 - accuracy: 0.7500 - val_loss: 0.5478 - val_accuracy: 0.7675\n",
      "Epoch 13/100\n",
      "80/80 [==============================] - 2s 22ms/step - loss: 0.5711 - accuracy: 0.6750 - val_loss: 0.5308 - val_accuracy: 0.7425\n",
      "Epoch 14/100\n",
      "80/80 [==============================] - 2s 21ms/step - loss: 0.5688 - accuracy: 0.7500 - val_loss: 0.5255 - val_accuracy: 0.7450\n",
      "Epoch 15/100\n",
      "80/80 [==============================] - 2s 22ms/step - loss: 0.5614 - accuracy: 0.6875 - val_loss: 0.4821 - val_accuracy: 0.7775\n",
      "Epoch 16/100\n",
      "80/80 [==============================] - 2s 22ms/step - loss: 0.5700 - accuracy: 0.6625 - val_loss: 0.4583 - val_accuracy: 0.7975\n",
      "Epoch 17/100\n",
      "80/80 [==============================] - 2s 21ms/step - loss: 0.5745 - accuracy: 0.7250 - val_loss: 0.4852 - val_accuracy: 0.7850\n",
      "Epoch 18/100\n",
      "80/80 [==============================] - 2s 22ms/step - loss: 0.5435 - accuracy: 0.6750 - val_loss: 0.4287 - val_accuracy: 0.8200\n",
      "Epoch 19/100\n",
      "80/80 [==============================] - 2s 22ms/step - loss: 0.5073 - accuracy: 0.7625 - val_loss: 0.5103 - val_accuracy: 0.7200\n",
      "Epoch 20/100\n",
      "80/80 [==============================] - 2s 21ms/step - loss: 0.4124 - accuracy: 0.8000 - val_loss: 0.4606 - val_accuracy: 0.7875\n",
      "Epoch 21/100\n",
      "80/80 [==============================] - 2s 22ms/step - loss: 0.4810 - accuracy: 0.7750 - val_loss: 0.3710 - val_accuracy: 0.8300\n",
      "Epoch 22/100\n",
      "80/80 [==============================] - 2s 22ms/step - loss: 0.3102 - accuracy: 0.8750 - val_loss: 0.2958 - val_accuracy: 0.8650\n",
      "Epoch 23/100\n",
      "80/80 [==============================] - 2s 21ms/step - loss: 0.2437 - accuracy: 0.9250 - val_loss: 0.3216 - val_accuracy: 0.8700\n",
      "Epoch 24/100\n",
      "80/80 [==============================] - 2s 22ms/step - loss: 0.4174 - accuracy: 0.8625 - val_loss: 0.3195 - val_accuracy: 0.8600\n",
      "Epoch 25/100\n",
      "80/80 [==============================] - 2s 22ms/step - loss: 0.2682 - accuracy: 0.8750 - val_loss: 0.2897 - val_accuracy: 0.8850\n",
      "Epoch 26/100\n",
      "80/80 [==============================] - 2s 21ms/step - loss: 0.3533 - accuracy: 0.8375 - val_loss: 0.2658 - val_accuracy: 0.8950\n",
      "Epoch 27/100\n",
      "80/80 [==============================] - 2s 22ms/step - loss: 0.2643 - accuracy: 0.8625 - val_loss: 0.2505 - val_accuracy: 0.8825\n",
      "Epoch 28/100\n",
      "80/80 [==============================] - 2s 22ms/step - loss: 0.3248 - accuracy: 0.8625 - val_loss: 0.2636 - val_accuracy: 0.8925\n",
      "Epoch 29/100\n",
      "80/80 [==============================] - 2s 21ms/step - loss: 0.3455 - accuracy: 0.8625 - val_loss: 0.2117 - val_accuracy: 0.9175\n",
      "Epoch 30/100\n",
      "80/80 [==============================] - 2s 21ms/step - loss: 0.1997 - accuracy: 0.9250 - val_loss: 0.2299 - val_accuracy: 0.9300\n",
      "Epoch 31/100\n",
      "80/80 [==============================] - 2s 22ms/step - loss: 0.3025 - accuracy: 0.8375 - val_loss: 0.1940 - val_accuracy: 0.9350\n",
      "Epoch 32/100\n",
      "80/80 [==============================] - 2s 21ms/step - loss: 0.2633 - accuracy: 0.9000 - val_loss: 0.1920 - val_accuracy: 0.9250\n",
      "Epoch 33/100\n",
      "80/80 [==============================] - 2s 22ms/step - loss: 0.2487 - accuracy: 0.9000 - val_loss: 0.2293 - val_accuracy: 0.9050\n",
      "Epoch 34/100\n",
      "80/80 [==============================] - 2s 21ms/step - loss: 0.2503 - accuracy: 0.9000 - val_loss: 0.1589 - val_accuracy: 0.9375\n",
      "Epoch 35/100\n",
      "80/80 [==============================] - 2s 21ms/step - loss: 0.1524 - accuracy: 0.9375 - val_loss: 0.1656 - val_accuracy: 0.9325\n",
      "Epoch 36/100\n",
      "80/80 [==============================] - 2s 22ms/step - loss: 0.1354 - accuracy: 0.9375 - val_loss: 0.1496 - val_accuracy: 0.9425\n",
      "Epoch 37/100\n",
      "80/80 [==============================] - 2s 21ms/step - loss: 0.1122 - accuracy: 0.9750 - val_loss: 0.1375 - val_accuracy: 0.9500\n",
      "Epoch 38/100\n",
      "80/80 [==============================] - 2s 20ms/step - loss: 0.1447 - accuracy: 0.9375 - val_loss: 0.1419 - val_accuracy: 0.9475\n",
      "Epoch 39/100\n",
      "80/80 [==============================] - 2s 22ms/step - loss: 0.2033 - accuracy: 0.9125 - val_loss: 0.1507 - val_accuracy: 0.9325\n",
      "Epoch 40/100\n",
      "80/80 [==============================] - 2s 21ms/step - loss: 0.0560 - accuracy: 0.9750 - val_loss: 0.0893 - val_accuracy: 0.9725\n",
      "Epoch 41/100\n",
      "80/80 [==============================] - 2s 21ms/step - loss: 0.0727 - accuracy: 0.9750 - val_loss: 0.0830 - val_accuracy: 0.9700\n",
      "Epoch 42/100\n",
      "80/80 [==============================] - 2s 22ms/step - loss: 0.0460 - accuracy: 0.9875 - val_loss: 0.0939 - val_accuracy: 0.9625\n",
      "Epoch 43/100\n",
      "80/80 [==============================] - 2s 21ms/step - loss: 0.1445 - accuracy: 0.9250 - val_loss: 0.0813 - val_accuracy: 0.9775\n",
      "Epoch 44/100\n",
      "80/80 [==============================] - 2s 21ms/step - loss: 0.2732 - accuracy: 0.9375 - val_loss: 0.2727 - val_accuracy: 0.8775\n",
      "Epoch 45/100\n",
      "80/80 [==============================] - 2s 22ms/step - loss: 0.1353 - accuracy: 0.9500 - val_loss: 0.0666 - val_accuracy: 0.9800\n",
      "Epoch 46/100\n",
      "80/80 [==============================] - 2s 22ms/step - loss: 0.0552 - accuracy: 0.9875 - val_loss: 0.0819 - val_accuracy: 0.9700\n",
      "Epoch 47/100\n",
      "80/80 [==============================] - 2s 21ms/step - loss: 0.0883 - accuracy: 0.9750 - val_loss: 0.0732 - val_accuracy: 0.9725\n",
      "Epoch 48/100\n",
      "80/80 [==============================] - 2s 21ms/step - loss: 0.0564 - accuracy: 1.0000 - val_loss: 0.0453 - val_accuracy: 0.9775\n",
      "Epoch 49/100\n",
      "80/80 [==============================] - 2s 22ms/step - loss: 0.1302 - accuracy: 0.9625 - val_loss: 0.0371 - val_accuracy: 0.9825\n",
      "Epoch 50/100\n",
      "80/80 [==============================] - 2s 21ms/step - loss: 0.0306 - accuracy: 0.9875 - val_loss: 0.0358 - val_accuracy: 0.9825\n",
      "Epoch 51/100\n",
      "80/80 [==============================] - 2s 23ms/step - loss: 0.1677 - accuracy: 0.9375 - val_loss: 0.0587 - val_accuracy: 0.9775\n",
      "Epoch 52/100\n",
      "80/80 [==============================] - 2s 22ms/step - loss: 0.0390 - accuracy: 0.9875 - val_loss: 0.0498 - val_accuracy: 0.9850\n",
      "Epoch 53/100\n",
      "80/80 [==============================] - 2s 21ms/step - loss: 0.0637 - accuracy: 0.9750 - val_loss: 0.0523 - val_accuracy: 0.9825\n",
      "Epoch 54/100\n",
      "80/80 [==============================] - 2s 22ms/step - loss: 0.0342 - accuracy: 0.9875 - val_loss: 0.0635 - val_accuracy: 0.9800\n",
      "Epoch 55/100\n",
      "80/80 [==============================] - 2s 21ms/step - loss: 0.0311 - accuracy: 0.9875 - val_loss: 0.0345 - val_accuracy: 0.9800\n",
      "Epoch 56/100\n",
      "80/80 [==============================] - 2s 21ms/step - loss: 0.0116 - accuracy: 1.0000 - val_loss: 0.0241 - val_accuracy: 0.9900\n",
      "Epoch 57/100\n",
      "80/80 [==============================] - 2s 22ms/step - loss: 0.0222 - accuracy: 0.9875 - val_loss: 0.0200 - val_accuracy: 0.9925\n",
      "Epoch 58/100\n",
      "80/80 [==============================] - 2s 21ms/step - loss: 0.0560 - accuracy: 0.9750 - val_loss: 0.0479 - val_accuracy: 0.9775\n",
      "Epoch 59/100\n",
      "80/80 [==============================] - 2s 20ms/step - loss: 0.0105 - accuracy: 1.0000 - val_loss: 0.0503 - val_accuracy: 0.9800\n",
      "Epoch 60/100\n",
      "80/80 [==============================] - 2s 22ms/step - loss: 0.2383 - accuracy: 0.9250 - val_loss: 0.0784 - val_accuracy: 0.9725\n",
      "Epoch 61/100\n",
      "80/80 [==============================] - 2s 21ms/step - loss: 0.0376 - accuracy: 1.0000 - val_loss: 0.0305 - val_accuracy: 0.9925\n",
      "Epoch 62/100\n",
      "80/80 [==============================] - 2s 21ms/step - loss: 0.0154 - accuracy: 1.0000 - val_loss: 0.0281 - val_accuracy: 0.9900\n",
      "Epoch 63/100\n",
      "80/80 [==============================] - 2s 22ms/step - loss: 0.1859 - accuracy: 0.9250 - val_loss: 0.0622 - val_accuracy: 0.9750\n",
      "Epoch 64/100\n",
      "80/80 [==============================] - 2s 21ms/step - loss: 0.0847 - accuracy: 0.9625 - val_loss: 0.3116 - val_accuracy: 0.8900\n",
      "Epoch 65/100\n",
      "80/80 [==============================] - 2s 20ms/step - loss: 0.0959 - accuracy: 0.9500 - val_loss: 0.0373 - val_accuracy: 0.9850\n",
      "Epoch 66/100\n",
      "80/80 [==============================] - 2s 21ms/step - loss: 0.0318 - accuracy: 0.9875 - val_loss: 0.0224 - val_accuracy: 0.9950\n",
      "Epoch 67/100\n",
      "80/80 [==============================] - 2s 22ms/step - loss: 0.0343 - accuracy: 0.9875 - val_loss: 0.0270 - val_accuracy: 0.9950\n",
      "Epoch 68/100\n",
      "80/80 [==============================] - 2s 21ms/step - loss: 0.0098 - accuracy: 1.0000 - val_loss: 0.0345 - val_accuracy: 0.9950\n",
      "Epoch 69/100\n",
      "80/80 [==============================] - 2s 21ms/step - loss: 0.0303 - accuracy: 0.9875 - val_loss: 0.0667 - val_accuracy: 0.9725\n",
      "Epoch 70/100\n",
      "80/80 [==============================] - 2s 22ms/step - loss: 0.0200 - accuracy: 1.0000 - val_loss: 0.0274 - val_accuracy: 0.9900\n",
      "Epoch 71/100\n",
      "80/80 [==============================] - 2s 21ms/step - loss: 0.0135 - accuracy: 1.0000 - val_loss: 0.0176 - val_accuracy: 0.9900\n",
      "Epoch 72/100\n",
      "80/80 [==============================] - 2s 22ms/step - loss: 0.0037 - accuracy: 1.0000 - val_loss: 0.0113 - val_accuracy: 0.9950\n",
      "Epoch 73/100\n",
      "80/80 [==============================] - 2s 21ms/step - loss: 0.0041 - accuracy: 1.0000 - val_loss: 0.0091 - val_accuracy: 0.9950\n",
      "Epoch 74/100\n",
      "80/80 [==============================] - 2s 20ms/step - loss: 6.2292e-04 - accuracy: 1.0000 - val_loss: 0.0094 - val_accuracy: 0.9950\n",
      "Epoch 75/100\n",
      "80/80 [==============================] - 2s 21ms/step - loss: 0.0026 - accuracy: 1.0000 - val_loss: 0.0084 - val_accuracy: 0.9975\n",
      "Epoch 76/100\n",
      "80/80 [==============================] - 2s 21ms/step - loss: 0.0063 - accuracy: 1.0000 - val_loss: 0.0172 - val_accuracy: 0.9925\n",
      "Epoch 77/100\n",
      "80/80 [==============================] - 2s 21ms/step - loss: 0.1205 - accuracy: 0.9750 - val_loss: 0.1937 - val_accuracy: 0.9400\n",
      "Epoch 78/100\n",
      "80/80 [==============================] - 2s 22ms/step - loss: 0.2018 - accuracy: 0.9000 - val_loss: 0.2164 - val_accuracy: 0.9300\n",
      "Epoch 79/100\n",
      "80/80 [==============================] - 2s 21ms/step - loss: 0.2738 - accuracy: 0.9250 - val_loss: 0.0733 - val_accuracy: 0.9675\n",
      "Epoch 80/100\n",
      "80/80 [==============================] - 2s 20ms/step - loss: 0.1179 - accuracy: 0.9500 - val_loss: 0.0382 - val_accuracy: 0.9800\n",
      "Epoch 81/100\n",
      "80/80 [==============================] - 2s 22ms/step - loss: 0.1125 - accuracy: 0.9375 - val_loss: 0.0972 - val_accuracy: 0.9625\n",
      "Epoch 82/100\n",
      "80/80 [==============================] - 2s 21ms/step - loss: 0.0308 - accuracy: 0.9875 - val_loss: 0.0307 - val_accuracy: 0.9925\n",
      "Epoch 83/100\n",
      "80/80 [==============================] - 2s 21ms/step - loss: 0.0153 - accuracy: 1.0000 - val_loss: 0.0142 - val_accuracy: 0.9975\n",
      "Epoch 84/100\n",
      "80/80 [==============================] - 2s 22ms/step - loss: 0.0395 - accuracy: 0.9875 - val_loss: 0.0744 - val_accuracy: 0.9700\n",
      "Epoch 85/100\n",
      "80/80 [==============================] - 2s 21ms/step - loss: 0.1537 - accuracy: 0.9625 - val_loss: 0.0405 - val_accuracy: 0.9900\n",
      "Epoch 86/100\n",
      "80/80 [==============================] - 2s 21ms/step - loss: 0.0486 - accuracy: 0.9750 - val_loss: 0.0380 - val_accuracy: 0.9950\n",
      "Epoch 87/100\n",
      "80/80 [==============================] - 2s 21ms/step - loss: 0.0135 - accuracy: 1.0000 - val_loss: 0.0281 - val_accuracy: 0.9950\n",
      "Epoch 88/100\n",
      "80/80 [==============================] - 2s 22ms/step - loss: 0.0057 - accuracy: 1.0000 - val_loss: 0.0174 - val_accuracy: 0.9950\n",
      "Epoch 89/100\n",
      "80/80 [==============================] - 2s 21ms/step - loss: 0.0047 - accuracy: 1.0000 - val_loss: 0.0166 - val_accuracy: 0.9950\n",
      "Epoch 90/100\n",
      "80/80 [==============================] - 2s 22ms/step - loss: 0.0029 - accuracy: 1.0000 - val_loss: 0.0158 - val_accuracy: 0.9950\n",
      "Epoch 91/100\n",
      "80/80 [==============================] - 2s 22ms/step - loss: 0.0037 - accuracy: 1.0000 - val_loss: 0.0146 - val_accuracy: 0.9950\n",
      "Epoch 92/100\n",
      "80/80 [==============================] - 2s 20ms/step - loss: 0.0019 - accuracy: 1.0000 - val_loss: 0.0143 - val_accuracy: 0.9950\n",
      "Epoch 93/100\n",
      "80/80 [==============================] - 2s 21ms/step - loss: 0.1714 - accuracy: 0.9625 - val_loss: 0.0545 - val_accuracy: 0.9775\n"
     ]
    }
   ],
   "source": [
    "early_stopping = EarlyStopping(\n",
    "    min_delta=0.001, # minimium amount of change to count as an improvement\n",
    "    patience=20, # how many epochs to wait before stopping\n",
    "    restore_best_weights=True,\n",
    ")\n",
    "\n",
    "history = model.fit(train_dataset,\n",
    "         steps_per_epoch = 80,\n",
    "         epochs = 100,\n",
    "         callbacks=[early_stopping],\n",
    "         validation_data = validation_dataset\n",
    "         )"
   ]
  },
  {
   "cell_type": "code",
   "execution_count": 6,
   "metadata": {},
   "outputs": [
    {
     "data": {
      "text/plain": [
       "[<matplotlib.lines.Line2D at 0x146c03790>]"
      ]
     },
     "execution_count": 6,
     "metadata": {},
     "output_type": "execute_result"
    },
    {
     "data": {
      "image/png": "[encoded data removed]",
      "text/plain": [
       "<Figure size 432x288 with 1 Axes>"
      ]
     },
     "metadata": {
      "needs_background": "light"
     },
     "output_type": "display_data"
    }
   ],
   "source": [
    "# visualizing losses and accuracy\n",
    "# print(history.history)\n",
    "train_loss = history.history['loss']\n",
    "val_loss   = history.history['val_loss']\n",
    "train_acc  = history.history['accuracy']\n",
    "val_acc    = history.history['val_accuracy']\n",
    "xc         = range(93)\n",
    "\n",
    "plt.figure()\n",
    "plt.plot(xc, train_loss)\n",
    "plt.plot(xc, val_loss)"
   ]
  },
  {
   "cell_type": "code",
   "execution_count": 7,
   "metadata": {},
   "outputs": [
    {
     "name": "stdout",
     "output_type": "stream",
     "text": [
      "1600/1600 [==============================] - 6s 4ms/step - loss: 1.5925 - accuracy: 0.7713\n",
      "77.12500095367432\n"
     ]
    }
   ],
   "source": [
    "_, acc = model.evaluate(test_dataset)\n",
    "print(acc *100)"
   ]
  },
  {
   "cell_type": "markdown",
   "metadata": {},
   "source": [
    "Prediction"
   ]
  },
  {
   "cell_type": "code",
   "execution_count": null,
   "metadata": {},
   "outputs": [
    {
     "ename": "FileNotFoundError",
     "evalue": "[Errno 2] No such file or directory: '/Users/nayansavaliya/Masters Mechatronics/2022 Summer/RAML - Project/data/test/imagewoof_test/985.jpg'",
     "output_type": "error",
     "traceback": [
      "\u001b[0;31m---------------------------------------------------------------------------\u001b[0m",
      "\u001b[0;31mFileNotFoundError\u001b[0m                         Traceback (most recent call last)",
      "\u001b[1;32m/Users/nayansavaliya/Masters Mechatronics/2022 Summer/RAML - Project/src/SNGAN_Bilinear.ipynb Cell 12'\u001b[0m in \u001b[0;36m<cell line: 20>\u001b[0;34m()\u001b[0m\n\u001b[1;32m     <a href='vscode-notebook-cell:/Users/nayansavaliya/Masters%20Mechatronics/2022%20Summer/RAML%20-%20Project/src/SNGAN_Bilinear.ipynb#ch0000011?line=15'>16</a>\u001b[0m     \u001b[39melif\u001b[39;00m val \u001b[39m==\u001b[39m \u001b[39m0\u001b[39m:\n\u001b[1;32m     <a href='vscode-notebook-cell:/Users/nayansavaliya/Masters%20Mechatronics/2022%20Summer/RAML%20-%20Project/src/SNGAN_Bilinear.ipynb#ch0000011?line=17'>18</a>\u001b[0m         plt\u001b[39m.\u001b[39mxlabel(\u001b[39m\"\u001b[39m\u001b[39mFake\u001b[39m\u001b[39m\"\u001b[39m,fontsize\u001b[39m=\u001b[39m\u001b[39m30\u001b[39m)\n\u001b[0;32m---> <a href='vscode-notebook-cell:/Users/nayansavaliya/Masters%20Mechatronics/2022%20Summer/RAML%20-%20Project/src/SNGAN_Bilinear.ipynb#ch0000011?line=19'>20</a>\u001b[0m predictImage(\u001b[39mr\u001b[39;49m\u001b[39m\"\u001b[39;49m\u001b[39m/Users/nayansavaliya/Masters Mechatronics/2022 Summer/RAML - Project/data/test/imagewoof_test/985.jpg\u001b[39;49m\u001b[39m\"\u001b[39;49m)\n",
      "\u001b[1;32m/Users/nayansavaliya/Masters Mechatronics/2022 Summer/RAML - Project/src/SNGAN_Bilinear.ipynb Cell 12'\u001b[0m in \u001b[0;36mpredictImage\u001b[0;34m(filename)\u001b[0m\n\u001b[1;32m      <a href='vscode-notebook-cell:/Users/nayansavaliya/Masters%20Mechatronics/2022%20Summer/RAML%20-%20Project/src/SNGAN_Bilinear.ipynb#ch0000011?line=0'>1</a>\u001b[0m \u001b[39mdef\u001b[39;00m \u001b[39mpredictImage\u001b[39m(filename):\n\u001b[0;32m----> <a href='vscode-notebook-cell:/Users/nayansavaliya/Masters%20Mechatronics/2022%20Summer/RAML%20-%20Project/src/SNGAN_Bilinear.ipynb#ch0000011?line=1'>2</a>\u001b[0m     img1 \u001b[39m=\u001b[39m image\u001b[39m.\u001b[39;49mload_img(filename,target_size\u001b[39m=\u001b[39;49m(\u001b[39m32\u001b[39;49m,\u001b[39m32\u001b[39;49m))\n\u001b[1;32m      <a href='vscode-notebook-cell:/Users/nayansavaliya/Masters%20Mechatronics/2022%20Summer/RAML%20-%20Project/src/SNGAN_Bilinear.ipynb#ch0000011?line=3'>4</a>\u001b[0m     plt\u001b[39m.\u001b[39mimshow(img1)\n\u001b[1;32m      <a href='vscode-notebook-cell:/Users/nayansavaliya/Masters%20Mechatronics/2022%20Summer/RAML%20-%20Project/src/SNGAN_Bilinear.ipynb#ch0000011?line=5'>6</a>\u001b[0m     Y \u001b[39m=\u001b[39m image\u001b[39m.\u001b[39mimg_to_array(img1)\n",
      "File \u001b[0;32m~/Masters Mechatronics/2022 Summer/RAML - Project/venv/lib/python3.9/site-packages/keras/preprocessing/image.py:313\u001b[0m, in \u001b[0;36mload_img\u001b[0;34m(path, grayscale, color_mode, target_size, interpolation)\u001b[0m\n\u001b[1;32m    <a href='file:///Users/nayansavaliya/Masters%20Mechatronics/2022%20Summer/RAML%20-%20Project/venv/lib/python3.9/site-packages/keras/preprocessing/image.py?line=276'>277</a>\u001b[0m \u001b[39m@keras_export\u001b[39m(\u001b[39m'\u001b[39m\u001b[39mkeras.utils.load_img\u001b[39m\u001b[39m'\u001b[39m,\n\u001b[1;32m    <a href='file:///Users/nayansavaliya/Masters%20Mechatronics/2022%20Summer/RAML%20-%20Project/venv/lib/python3.9/site-packages/keras/preprocessing/image.py?line=277'>278</a>\u001b[0m               \u001b[39m'\u001b[39m\u001b[39mkeras.preprocessing.image.load_img\u001b[39m\u001b[39m'\u001b[39m)\n\u001b[1;32m    <a href='file:///Users/nayansavaliya/Masters%20Mechatronics/2022%20Summer/RAML%20-%20Project/venv/lib/python3.9/site-packages/keras/preprocessing/image.py?line=278'>279</a>\u001b[0m \u001b[39mdef\u001b[39;00m \u001b[39mload_img\u001b[39m(path, grayscale\u001b[39m=\u001b[39m\u001b[39mFalse\u001b[39;00m, color_mode\u001b[39m=\u001b[39m\u001b[39m'\u001b[39m\u001b[39mrgb\u001b[39m\u001b[39m'\u001b[39m, target_size\u001b[39m=\u001b[39m\u001b[39mNone\u001b[39;00m,\n\u001b[1;32m    <a href='file:///Users/nayansavaliya/Masters%20Mechatronics/2022%20Summer/RAML%20-%20Project/venv/lib/python3.9/site-packages/keras/preprocessing/image.py?line=279'>280</a>\u001b[0m              interpolation\u001b[39m=\u001b[39m\u001b[39m'\u001b[39m\u001b[39mnearest\u001b[39m\u001b[39m'\u001b[39m):\n\u001b[1;32m    <a href='file:///Users/nayansavaliya/Masters%20Mechatronics/2022%20Summer/RAML%20-%20Project/venv/lib/python3.9/site-packages/keras/preprocessing/image.py?line=280'>281</a>\u001b[0m   \u001b[39m\"\"\"Loads an image into PIL format.\u001b[39;00m\n\u001b[1;32m    <a href='file:///Users/nayansavaliya/Masters%20Mechatronics/2022%20Summer/RAML%20-%20Project/venv/lib/python3.9/site-packages/keras/preprocessing/image.py?line=281'>282</a>\u001b[0m \n\u001b[1;32m    <a href='file:///Users/nayansavaliya/Masters%20Mechatronics/2022%20Summer/RAML%20-%20Project/venv/lib/python3.9/site-packages/keras/preprocessing/image.py?line=282'>283</a>\u001b[0m \u001b[39m  Usage:\u001b[39;00m\n\u001b[0;32m   (...)\u001b[0m\n\u001b[1;32m    <a href='file:///Users/nayansavaliya/Masters%20Mechatronics/2022%20Summer/RAML%20-%20Project/venv/lib/python3.9/site-packages/keras/preprocessing/image.py?line=310'>311</a>\u001b[0m \u001b[39m      ValueError: if interpolation method is not supported.\u001b[39;00m\n\u001b[1;32m    <a href='file:///Users/nayansavaliya/Masters%20Mechatronics/2022%20Summer/RAML%20-%20Project/venv/lib/python3.9/site-packages/keras/preprocessing/image.py?line=311'>312</a>\u001b[0m \u001b[39m  \"\"\"\u001b[39;00m\n\u001b[0;32m--> <a href='file:///Users/nayansavaliya/Masters%20Mechatronics/2022%20Summer/RAML%20-%20Project/venv/lib/python3.9/site-packages/keras/preprocessing/image.py?line=312'>313</a>\u001b[0m   \u001b[39mreturn\u001b[39;00m image\u001b[39m.\u001b[39;49mload_img(path, grayscale\u001b[39m=\u001b[39;49mgrayscale, color_mode\u001b[39m=\u001b[39;49mcolor_mode,\n\u001b[1;32m    <a href='file:///Users/nayansavaliya/Masters%20Mechatronics/2022%20Summer/RAML%20-%20Project/venv/lib/python3.9/site-packages/keras/preprocessing/image.py?line=313'>314</a>\u001b[0m                         target_size\u001b[39m=\u001b[39;49mtarget_size, interpolation\u001b[39m=\u001b[39;49minterpolation)\n",
      "File \u001b[0;32m~/Masters Mechatronics/2022 Summer/RAML - Project/venv/lib/python3.9/site-packages/keras_preprocessing/image/utils.py:113\u001b[0m, in \u001b[0;36mload_img\u001b[0;34m(path, grayscale, color_mode, target_size, interpolation)\u001b[0m\n\u001b[1;32m    <a href='file:///Users/nayansavaliya/Masters%20Mechatronics/2022%20Summer/RAML%20-%20Project/venv/lib/python3.9/site-packages/keras_preprocessing/image/utils.py?line=109'>110</a>\u001b[0m \u001b[39mif\u001b[39;00m pil_image \u001b[39mis\u001b[39;00m \u001b[39mNone\u001b[39;00m:\n\u001b[1;32m    <a href='file:///Users/nayansavaliya/Masters%20Mechatronics/2022%20Summer/RAML%20-%20Project/venv/lib/python3.9/site-packages/keras_preprocessing/image/utils.py?line=110'>111</a>\u001b[0m     \u001b[39mraise\u001b[39;00m \u001b[39mImportError\u001b[39;00m(\u001b[39m'\u001b[39m\u001b[39mCould not import PIL.Image. \u001b[39m\u001b[39m'\u001b[39m\n\u001b[1;32m    <a href='file:///Users/nayansavaliya/Masters%20Mechatronics/2022%20Summer/RAML%20-%20Project/venv/lib/python3.9/site-packages/keras_preprocessing/image/utils.py?line=111'>112</a>\u001b[0m                       \u001b[39m'\u001b[39m\u001b[39mThe use of `load_img` requires PIL.\u001b[39m\u001b[39m'\u001b[39m)\n\u001b[0;32m--> <a href='file:///Users/nayansavaliya/Masters%20Mechatronics/2022%20Summer/RAML%20-%20Project/venv/lib/python3.9/site-packages/keras_preprocessing/image/utils.py?line=112'>113</a>\u001b[0m \u001b[39mwith\u001b[39;00m \u001b[39mopen\u001b[39;49m(path, \u001b[39m'\u001b[39;49m\u001b[39mrb\u001b[39;49m\u001b[39m'\u001b[39;49m) \u001b[39mas\u001b[39;00m f:\n\u001b[1;32m    <a href='file:///Users/nayansavaliya/Masters%20Mechatronics/2022%20Summer/RAML%20-%20Project/venv/lib/python3.9/site-packages/keras_preprocessing/image/utils.py?line=113'>114</a>\u001b[0m     img \u001b[39m=\u001b[39m pil_image\u001b[39m.\u001b[39mopen(io\u001b[39m.\u001b[39mBytesIO(f\u001b[39m.\u001b[39mread()))\n\u001b[1;32m    <a href='file:///Users/nayansavaliya/Masters%20Mechatronics/2022%20Summer/RAML%20-%20Project/venv/lib/python3.9/site-packages/keras_preprocessing/image/utils.py?line=114'>115</a>\u001b[0m     \u001b[39mif\u001b[39;00m color_mode \u001b[39m==\u001b[39m \u001b[39m'\u001b[39m\u001b[39mgrayscale\u001b[39m\u001b[39m'\u001b[39m:\n\u001b[1;32m    <a href='file:///Users/nayansavaliya/Masters%20Mechatronics/2022%20Summer/RAML%20-%20Project/venv/lib/python3.9/site-packages/keras_preprocessing/image/utils.py?line=115'>116</a>\u001b[0m         \u001b[39m# if image is not already an 8-bit, 16-bit or 32-bit grayscale image\u001b[39;00m\n\u001b[1;32m    <a href='file:///Users/nayansavaliya/Masters%20Mechatronics/2022%20Summer/RAML%20-%20Project/venv/lib/python3.9/site-packages/keras_preprocessing/image/utils.py?line=116'>117</a>\u001b[0m         \u001b[39m# convert it to an 8-bit grayscale image.\u001b[39;00m\n",
      "\u001b[0;31mFileNotFoundError\u001b[0m: [Errno 2] No such file or directory: '/Users/nayansavaliya/Masters Mechatronics/2022 Summer/RAML - Project/data/test/imagewoof_test/985.jpg'"
     ]
    }
   ],
   "source": [
    "def predictImage(filename):\n",
    "    img1 = image.load_img(filename,target_size=(32,32))\n",
    "    \n",
    "    plt.imshow(img1)\n",
    " \n",
    "    Y = image.img_to_array(img1)\n",
    "    \n",
    "    X = np.expand_dims(Y,axis=0)\n",
    "    val = model.predict(X)\n",
    "    print(val)\n",
    "    if val == 1:\n",
    "        \n",
    "        plt.xlabel(\"Real\",fontsize=30)\n",
    "        \n",
    "    \n",
    "    elif val == 0:\n",
    "        \n",
    "        plt.xlabel(\"Fake\",fontsize=30)\n",
    "\n",
    "predictImage(r\"/Users/nayansavaliya/Masters Mechatronics/2022 Summer/RAML - Project/data/test/imagewoof_test/985.jpg\")\n"
   ]
  },
  {
   "cell_type": "code",
   "execution_count": null,
   "metadata": {},
   "outputs": [
    {
     "name": "stdout",
     "output_type": "stream",
     "text": [
      "[[1.]]\n"
     ]
    },
    {
     "data": {
      "image/png": "[encoded data removed]",
      "text/plain": [
       "<Figure size 432x288 with 1 Axes>"
      ]
     },
     "metadata": {
      "needs_background": "light"
     },
     "output_type": "display_data"
    }
   ],
   "source": [
    "\n",
    "predictImage(r\"/Users/nayansavaliya/Masters Mechatronics/2022 Summer/RAML - Project/data/test/SNGAN_bicubic_test/954.jpg\")"
   ]
  }
 ],
 "metadata": {
  "interpreter": {
   "hash": "d6559be91acbc93f4d619e1b72121704cbae2e517629d34a1f89aedc7528f034"
  },
  "kernelspec": {
   "display_name": "Python 3.9.12 ('venv': venv)",
   "language": "python",
   "name": "python3"
  },
  "language_info": {
   "codemirror_mode": {
    "name": "ipython",
    "version": 3
   },
   "file_extension": ".py",
   "mimetype": "text/x-python",
   "name": "python",
   "nbconvert_exporter": "python",
   "pygments_lexer": "ipython3",
   "version": "3.9.12"
  },
  "orig_nbformat": 4
 },
 "nbformat": 4,
 "nbformat_minor": 2
}
