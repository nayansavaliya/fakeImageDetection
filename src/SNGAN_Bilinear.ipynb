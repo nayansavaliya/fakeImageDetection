{
 "cells": [
  {
   "cell_type": "markdown",
   "metadata": {},
   "source": [
    "Imports"
   ]
  },
  {
   "cell_type": "code",
   "execution_count": 1,
   "metadata": {},
   "outputs": [],
   "source": [
    "import tensorflow as tf\n",
    "import numpy as np\n",
    "from tensorflow import keras\n",
    "from keras.preprocessing.image import ImageDataGenerator\n",
    "from keras.preprocessing import image\n",
    "import matplotlib.pyplot as plt\n",
    "from keras.callbacks import EarlyStopping\n",
    "\n",
    "\n",
    "# from IPython.core.interactiveshell import InteractiveShell\n",
    "# InteractiveShell.ast_node_interactivity = \"all\"\n",
    "\n"
   ]
  },
  {
   "cell_type": "markdown",
   "metadata": {},
   "source": [
    "Prepare DATASET"
   ]
  },
  {
   "cell_type": "code",
   "execution_count": 2,
   "metadata": {},
   "outputs": [
    {
     "name": "stdout",
     "output_type": "stream",
     "text": [
      "Found 1280 images belonging to 2 classes.\n",
      "Found 320 images belonging to 2 classes.\n",
      "Found 400 images belonging to 2 classes.\n"
     ]
    },
    {
     "data": {
      "text/plain": [
       "{'SNGAN_bilinear_test': 0, 'imagewoof_test': 1}"
      ]
     },
     "execution_count": 2,
     "metadata": {},
     "output_type": "execute_result"
    }
   ],
   "source": [
    "\n",
    "train = ImageDataGenerator(rescale=1/255,validation_split=0.2)\n",
    "test = ImageDataGenerator(rescale=1/255)\n",
    "\n",
    "train_dataset = train.flow_from_directory(\"/Users/nayansavaliya/Masters Mechatronics/2022 Summer/RAML - Project/data/bilinear/train\",\n",
    "                                          target_size=(32,32),\n",
    "                                          batch_size = 30,\n",
    "                                          class_mode = 'binary',subset='training')\n",
    "\n",
    "validation_dataset = train.flow_from_directory(\"/Users/nayansavaliya/Masters Mechatronics/2022 Summer/RAML - Project/data/bilinear/train\",\n",
    "                                          target_size=(32,32),\n",
    "                                          batch_size = 30,\n",
    "                                          class_mode = 'binary',subset='validation')                                    \n",
    "test_dataset = test.flow_from_directory(\"/Users/nayansavaliya/Masters Mechatronics/2022 Summer/RAML - Project/data/bilinear/test\",\n",
    "                                          target_size=(32,32),\n",
    "                                          batch_size =30,\n",
    "                                          class_mode = 'binary')\n",
    "\n",
    "test_dataset.class_indices"
   ]
  },
  {
   "cell_type": "markdown",
   "metadata": {},
   "source": [
    "Design Model"
   ]
  },
  {
   "cell_type": "code",
   "execution_count": 3,
   "metadata": {},
   "outputs": [
    {
     "name": "stdout",
     "output_type": "stream",
     "text": [
      "Metal device set to: Apple M1\n",
      "\n",
      "systemMemory: 16.00 GB\n",
      "maxCacheSize: 5.33 GB\n",
      "\n"
     ]
    },
    {
     "name": "stderr",
     "output_type": "stream",
     "text": [
      "2022-06-01 12:36:35.746705: I tensorflow/core/common_runtime/pluggable_device/pluggable_device_factory.cc:305] Could not identify NUMA node of platform GPU ID 0, defaulting to 0. Your kernel may not have been built with NUMA support.\n",
      "2022-06-01 12:36:35.746822: I tensorflow/core/common_runtime/pluggable_device/pluggable_device_factory.cc:271] Created TensorFlow device (/job:localhost/replica:0/task:0/device:GPU:0 with 0 MB memory) -> physical PluggableDevice (device: 0, name: METAL, pci bus id: <undefined>)\n"
     ]
    }
   ],
   "source": [
    "model = keras.Sequential()\n",
    "\n",
    "# Convolutional layer and maxpool layer 1\n",
    "model.add(keras.layers.Conv2D(32,(3,3),activation='relu',input_shape=(32,32,3)))\n",
    "model.add(keras.layers.MaxPool2D(2,2))\n",
    "\n",
    "\n",
    "# This layer flattens the resulting image array to 1D array\n",
    "model.add(keras.layers.Flatten())\n",
    "\n",
    "# Hidden layer with 512 neurons and Rectified Linear Unit activation function \n",
    "model.add(keras.layers.Dense(32,activation='relu'))\n",
    "\n",
    "# Output layer with single neuron which gives 0 for fake or 1 for real \n",
    "#Here we use sigmoid activation function which makes our model output to lie between 0 and 1\n",
    "model.add(keras.layers.Dense(1,activation='sigmoid'))\n",
    "\n",
    "\n",
    "model.compile(optimizer='adam',loss='binary_crossentropy',metrics=['accuracy'])"
   ]
  },
  {
   "cell_type": "markdown",
   "metadata": {},
   "source": [
    "Training\n",
    "\n",
    "Usually with every epoch increasing, loss goes lower and accuracy goes higher. But with val_loss and val_acc, many cases can be possible:\n",
    "\n",
    "val_loss starts increasing, val_acc starts decreasing(means model is cramming values not learning)\n",
    "\n",
    "val_loss starts increasing, val_acc also increases.(could be case of overfitting or diverse probability values in cases softmax is used in output layer)\n",
    "\n",
    "val_loss starts decreasing, val_acc starts increasing(Correct, means model build is learning and working fine)"
   ]
  },
  {
   "cell_type": "code",
   "execution_count": 4,
   "metadata": {},
   "outputs": [
    {
     "name": "stdout",
     "output_type": "stream",
     "text": [
      "Epoch 1/120\n"
     ]
    },
    {
     "name": "stderr",
     "output_type": "stream",
     "text": [
      "2022-06-01 12:36:35.865445: W tensorflow/core/platform/profile_utils/cpu_utils.cc:128] Failed to get CPU frequency: 0 Hz\n"
     ]
    },
    {
     "name": "stdout",
     "output_type": "stream",
     "text": [
      " 1/43 [..............................] - ETA: 17s - loss: 0.7109 - accuracy: 0.4000"
     ]
    },
    {
     "name": "stderr",
     "output_type": "stream",
     "text": [
      "2022-06-01 12:36:36.125910: I tensorflow/core/grappler/optimizers/custom_graph_optimizer_registry.cc:113] Plugin optimizer for device_type GPU is enabled.\n"
     ]
    },
    {
     "name": "stdout",
     "output_type": "stream",
     "text": [
      "43/43 [==============================] - 1s 13ms/step - loss: 0.6495 - accuracy: 0.6195 - val_loss: 0.5617 - val_accuracy: 0.7969\n",
      "Epoch 2/120\n",
      " 7/43 [===>..........................] - ETA: 0s - loss: 0.5435 - accuracy: 0.7476"
     ]
    },
    {
     "name": "stderr",
     "output_type": "stream",
     "text": [
      "2022-06-01 12:36:36.758769: I tensorflow/core/grappler/optimizers/custom_graph_optimizer_registry.cc:113] Plugin optimizer for device_type GPU is enabled.\n"
     ]
    },
    {
     "name": "stdout",
     "output_type": "stream",
     "text": [
      "43/43 [==============================] - 0s 11ms/step - loss: 0.4897 - accuracy: 0.7828 - val_loss: 0.4406 - val_accuracy: 0.8000\n",
      "Epoch 3/120\n",
      "43/43 [==============================] - 0s 11ms/step - loss: 0.3797 - accuracy: 0.8508 - val_loss: 0.3457 - val_accuracy: 0.8656\n",
      "Epoch 4/120\n",
      "43/43 [==============================] - 0s 11ms/step - loss: 0.3042 - accuracy: 0.8852 - val_loss: 0.3305 - val_accuracy: 0.8469\n",
      "Epoch 5/120\n",
      "43/43 [==============================] - 0s 11ms/step - loss: 0.2519 - accuracy: 0.9148 - val_loss: 0.4264 - val_accuracy: 0.8219\n",
      "Epoch 6/120\n",
      "43/43 [==============================] - 0s 11ms/step - loss: 0.2197 - accuracy: 0.9258 - val_loss: 0.2464 - val_accuracy: 0.9000\n",
      "Epoch 7/120\n",
      "43/43 [==============================] - 0s 11ms/step - loss: 0.1732 - accuracy: 0.9453 - val_loss: 0.2532 - val_accuracy: 0.8938\n",
      "Epoch 8/120\n",
      "43/43 [==============================] - 0s 11ms/step - loss: 0.1586 - accuracy: 0.9500 - val_loss: 0.2241 - val_accuracy: 0.9000\n",
      "Epoch 9/120\n",
      "43/43 [==============================] - 0s 11ms/step - loss: 0.1346 - accuracy: 0.9633 - val_loss: 0.2039 - val_accuracy: 0.9125\n",
      "Epoch 10/120\n",
      "43/43 [==============================] - 0s 11ms/step - loss: 0.1212 - accuracy: 0.9641 - val_loss: 0.2334 - val_accuracy: 0.9125\n",
      "Epoch 11/120\n",
      "43/43 [==============================] - 0s 11ms/step - loss: 0.1014 - accuracy: 0.9719 - val_loss: 0.1911 - val_accuracy: 0.9094\n",
      "Epoch 12/120\n",
      "43/43 [==============================] - 0s 11ms/step - loss: 0.0926 - accuracy: 0.9789 - val_loss: 0.2228 - val_accuracy: 0.8906\n",
      "Epoch 13/120\n",
      "43/43 [==============================] - 0s 11ms/step - loss: 0.0887 - accuracy: 0.9734 - val_loss: 0.1906 - val_accuracy: 0.9156\n",
      "Epoch 14/120\n",
      "43/43 [==============================] - 0s 11ms/step - loss: 0.0660 - accuracy: 0.9875 - val_loss: 0.1849 - val_accuracy: 0.9094\n",
      "Epoch 15/120\n",
      "43/43 [==============================] - 0s 11ms/step - loss: 0.0775 - accuracy: 0.9711 - val_loss: 0.1740 - val_accuracy: 0.9156\n",
      "Epoch 16/120\n",
      "43/43 [==============================] - 0s 11ms/step - loss: 0.0591 - accuracy: 0.9852 - val_loss: 0.1763 - val_accuracy: 0.9156\n",
      "Epoch 17/120\n",
      "43/43 [==============================] - 0s 11ms/step - loss: 0.0465 - accuracy: 0.9930 - val_loss: 0.1645 - val_accuracy: 0.9125\n",
      "Epoch 18/120\n",
      "43/43 [==============================] - 0s 11ms/step - loss: 0.0549 - accuracy: 0.9867 - val_loss: 0.1708 - val_accuracy: 0.9156\n",
      "Epoch 19/120\n",
      "43/43 [==============================] - 0s 11ms/step - loss: 0.0398 - accuracy: 0.9922 - val_loss: 0.1795 - val_accuracy: 0.9125\n",
      "Epoch 20/120\n",
      "43/43 [==============================] - 0s 11ms/step - loss: 0.0368 - accuracy: 0.9953 - val_loss: 0.1690 - val_accuracy: 0.9125\n",
      "Epoch 21/120\n",
      "43/43 [==============================] - 0s 11ms/step - loss: 0.0321 - accuracy: 0.9969 - val_loss: 0.1637 - val_accuracy: 0.9156\n",
      "Epoch 22/120\n",
      "43/43 [==============================] - 0s 11ms/step - loss: 0.0247 - accuracy: 0.9992 - val_loss: 0.1625 - val_accuracy: 0.9156\n",
      "Epoch 23/120\n",
      "43/43 [==============================] - 0s 11ms/step - loss: 0.0219 - accuracy: 1.0000 - val_loss: 0.1660 - val_accuracy: 0.9219\n",
      "Epoch 24/120\n",
      "43/43 [==============================] - 0s 11ms/step - loss: 0.0206 - accuracy: 0.9992 - val_loss: 0.1747 - val_accuracy: 0.9125\n",
      "Epoch 25/120\n",
      "43/43 [==============================] - 0s 11ms/step - loss: 0.0178 - accuracy: 0.9992 - val_loss: 0.1781 - val_accuracy: 0.9156\n",
      "Epoch 26/120\n",
      "43/43 [==============================] - 0s 11ms/step - loss: 0.0154 - accuracy: 1.0000 - val_loss: 0.1674 - val_accuracy: 0.9125\n",
      "Epoch 27/120\n",
      "43/43 [==============================] - 0s 11ms/step - loss: 0.0140 - accuracy: 1.0000 - val_loss: 0.1667 - val_accuracy: 0.9219\n",
      "Epoch 28/120\n",
      "43/43 [==============================] - 0s 11ms/step - loss: 0.0125 - accuracy: 1.0000 - val_loss: 0.1694 - val_accuracy: 0.9219\n",
      "Epoch 29/120\n",
      "43/43 [==============================] - 0s 11ms/step - loss: 0.0178 - accuracy: 0.9992 - val_loss: 0.2835 - val_accuracy: 0.9031\n",
      "Epoch 30/120\n",
      "43/43 [==============================] - 0s 11ms/step - loss: 0.0212 - accuracy: 0.9984 - val_loss: 0.1712 - val_accuracy: 0.9219\n",
      "Epoch 31/120\n",
      "43/43 [==============================] - 0s 11ms/step - loss: 0.0102 - accuracy: 1.0000 - val_loss: 0.1700 - val_accuracy: 0.9187\n",
      "Epoch 32/120\n",
      "43/43 [==============================] - 0s 11ms/step - loss: 0.0086 - accuracy: 1.0000 - val_loss: 0.1787 - val_accuracy: 0.9219\n",
      "Epoch 33/120\n",
      "43/43 [==============================] - 0s 11ms/step - loss: 0.0073 - accuracy: 1.0000 - val_loss: 0.1775 - val_accuracy: 0.9125\n",
      "Epoch 34/120\n",
      "43/43 [==============================] - 0s 11ms/step - loss: 0.0073 - accuracy: 1.0000 - val_loss: 0.1814 - val_accuracy: 0.9219\n",
      "Epoch 35/120\n",
      "43/43 [==============================] - 0s 11ms/step - loss: 0.0063 - accuracy: 1.0000 - val_loss: 0.1959 - val_accuracy: 0.9219\n",
      "Epoch 36/120\n",
      "43/43 [==============================] - 0s 11ms/step - loss: 0.0066 - accuracy: 1.0000 - val_loss: 0.1789 - val_accuracy: 0.9187\n",
      "Epoch 37/120\n",
      "43/43 [==============================] - 0s 11ms/step - loss: 0.0053 - accuracy: 1.0000 - val_loss: 0.1855 - val_accuracy: 0.9156\n",
      "Epoch 38/120\n",
      "43/43 [==============================] - 0s 11ms/step - loss: 0.0052 - accuracy: 1.0000 - val_loss: 0.1850 - val_accuracy: 0.9219\n",
      "Epoch 39/120\n",
      "43/43 [==============================] - 0s 11ms/step - loss: 0.0048 - accuracy: 1.0000 - val_loss: 0.1832 - val_accuracy: 0.9156\n",
      "Epoch 40/120\n",
      "43/43 [==============================] - 0s 11ms/step - loss: 0.0043 - accuracy: 1.0000 - val_loss: 0.1849 - val_accuracy: 0.9125\n",
      "Epoch 41/120\n",
      "43/43 [==============================] - 0s 11ms/step - loss: 0.0038 - accuracy: 1.0000 - val_loss: 0.1876 - val_accuracy: 0.9219\n",
      "Epoch 42/120\n",
      "43/43 [==============================] - 0s 11ms/step - loss: 0.0035 - accuracy: 1.0000 - val_loss: 0.1856 - val_accuracy: 0.9219\n"
     ]
    }
   ],
   "source": [
    "early_stopping = EarlyStopping(\n",
    "    min_delta=0.001, # minimium amount of change to count as an improvement\n",
    "    patience=20, # how many epochs to wait before stopping\n",
    "    restore_best_weights=True,\n",
    ")\n",
    "\n",
    "history = model.fit(train_dataset,\n",
    "        #  steps_per_epoch = 25,\n",
    "         epochs = 120,\n",
    "         callbacks=[early_stopping],\n",
    "         validation_data = validation_dataset\n",
    "         )"
   ]
  },
  {
   "cell_type": "code",
   "execution_count": 5,
   "metadata": {},
   "outputs": [
    {
     "ename": "ValueError",
     "evalue": "x and y must have same first dimension, but have shapes (45,) and (42,)",
     "output_type": "error",
     "traceback": [
      "\u001b[0;31m---------------------------------------------------------------------------\u001b[0m",
      "\u001b[0;31mValueError\u001b[0m                                Traceback (most recent call last)",
      "\u001b[1;32m/Users/nayansavaliya/Masters Mechatronics/2022 Summer/RAML - Project/src/SNGAN_Bilinear.ipynb Cell 9'\u001b[0m in \u001b[0;36m<cell line: 10>\u001b[0;34m()\u001b[0m\n\u001b[1;32m      <a href='vscode-notebook-cell:/Users/nayansavaliya/Masters%20Mechatronics/2022%20Summer/RAML%20-%20Project/src/SNGAN_Bilinear.ipynb#ch0000008?line=6'>7</a>\u001b[0m xc         \u001b[39m=\u001b[39m \u001b[39mrange\u001b[39m(\u001b[39m45\u001b[39m)\n\u001b[1;32m      <a href='vscode-notebook-cell:/Users/nayansavaliya/Masters%20Mechatronics/2022%20Summer/RAML%20-%20Project/src/SNGAN_Bilinear.ipynb#ch0000008?line=8'>9</a>\u001b[0m plt\u001b[39m.\u001b[39mfigure()\n\u001b[0;32m---> <a href='vscode-notebook-cell:/Users/nayansavaliya/Masters%20Mechatronics/2022%20Summer/RAML%20-%20Project/src/SNGAN_Bilinear.ipynb#ch0000008?line=9'>10</a>\u001b[0m plt\u001b[39m.\u001b[39;49mplot(xc, train_loss,label \u001b[39m=\u001b[39;49m \u001b[39m'\u001b[39;49m\u001b[39mTrain Loss\u001b[39;49m\u001b[39m'\u001b[39;49m)\n\u001b[1;32m     <a href='vscode-notebook-cell:/Users/nayansavaliya/Masters%20Mechatronics/2022%20Summer/RAML%20-%20Project/src/SNGAN_Bilinear.ipynb#ch0000008?line=10'>11</a>\u001b[0m plt\u001b[39m.\u001b[39mplot(xc, val_loss,label \u001b[39m=\u001b[39m \u001b[39m'\u001b[39m\u001b[39mVal Loss\u001b[39m\u001b[39m'\u001b[39m)\n\u001b[1;32m     <a href='vscode-notebook-cell:/Users/nayansavaliya/Masters%20Mechatronics/2022%20Summer/RAML%20-%20Project/src/SNGAN_Bilinear.ipynb#ch0000008?line=11'>12</a>\u001b[0m plt\u001b[39m.\u001b[39mlegend(loc\u001b[39m=\u001b[39m\u001b[39m'\u001b[39m\u001b[39mupper right\u001b[39m\u001b[39m'\u001b[39m)\n",
      "File \u001b[0;32m~/Masters Mechatronics/2022 Summer/RAML - Project/venv/lib/python3.9/site-packages/matplotlib/pyplot.py:2769\u001b[0m, in \u001b[0;36mplot\u001b[0;34m(scalex, scaley, data, *args, **kwargs)\u001b[0m\n\u001b[1;32m   <a href='file:///Users/nayansavaliya/Masters%20Mechatronics/2022%20Summer/RAML%20-%20Project/venv/lib/python3.9/site-packages/matplotlib/pyplot.py?line=2766'>2767</a>\u001b[0m \u001b[39m@_copy_docstring_and_deprecators\u001b[39m(Axes\u001b[39m.\u001b[39mplot)\n\u001b[1;32m   <a href='file:///Users/nayansavaliya/Masters%20Mechatronics/2022%20Summer/RAML%20-%20Project/venv/lib/python3.9/site-packages/matplotlib/pyplot.py?line=2767'>2768</a>\u001b[0m \u001b[39mdef\u001b[39;00m \u001b[39mplot\u001b[39m(\u001b[39m*\u001b[39margs, scalex\u001b[39m=\u001b[39m\u001b[39mTrue\u001b[39;00m, scaley\u001b[39m=\u001b[39m\u001b[39mTrue\u001b[39;00m, data\u001b[39m=\u001b[39m\u001b[39mNone\u001b[39;00m, \u001b[39m*\u001b[39m\u001b[39m*\u001b[39mkwargs):\n\u001b[0;32m-> <a href='file:///Users/nayansavaliya/Masters%20Mechatronics/2022%20Summer/RAML%20-%20Project/venv/lib/python3.9/site-packages/matplotlib/pyplot.py?line=2768'>2769</a>\u001b[0m     \u001b[39mreturn\u001b[39;00m gca()\u001b[39m.\u001b[39;49mplot(\n\u001b[1;32m   <a href='file:///Users/nayansavaliya/Masters%20Mechatronics/2022%20Summer/RAML%20-%20Project/venv/lib/python3.9/site-packages/matplotlib/pyplot.py?line=2769'>2770</a>\u001b[0m         \u001b[39m*\u001b[39;49margs, scalex\u001b[39m=\u001b[39;49mscalex, scaley\u001b[39m=\u001b[39;49mscaley,\n\u001b[1;32m   <a href='file:///Users/nayansavaliya/Masters%20Mechatronics/2022%20Summer/RAML%20-%20Project/venv/lib/python3.9/site-packages/matplotlib/pyplot.py?line=2770'>2771</a>\u001b[0m         \u001b[39m*\u001b[39;49m\u001b[39m*\u001b[39;49m({\u001b[39m\"\u001b[39;49m\u001b[39mdata\u001b[39;49m\u001b[39m\"\u001b[39;49m: data} \u001b[39mif\u001b[39;49;00m data \u001b[39mis\u001b[39;49;00m \u001b[39mnot\u001b[39;49;00m \u001b[39mNone\u001b[39;49;00m \u001b[39melse\u001b[39;49;00m {}), \u001b[39m*\u001b[39;49m\u001b[39m*\u001b[39;49mkwargs)\n",
      "File \u001b[0;32m~/Masters Mechatronics/2022 Summer/RAML - Project/venv/lib/python3.9/site-packages/matplotlib/axes/_axes.py:1632\u001b[0m, in \u001b[0;36mAxes.plot\u001b[0;34m(self, scalex, scaley, data, *args, **kwargs)\u001b[0m\n\u001b[1;32m   <a href='file:///Users/nayansavaliya/Masters%20Mechatronics/2022%20Summer/RAML%20-%20Project/venv/lib/python3.9/site-packages/matplotlib/axes/_axes.py?line=1389'>1390</a>\u001b[0m \u001b[39m\"\"\"\u001b[39;00m\n\u001b[1;32m   <a href='file:///Users/nayansavaliya/Masters%20Mechatronics/2022%20Summer/RAML%20-%20Project/venv/lib/python3.9/site-packages/matplotlib/axes/_axes.py?line=1390'>1391</a>\u001b[0m \u001b[39mPlot y versus x as lines and/or markers.\u001b[39;00m\n\u001b[1;32m   <a href='file:///Users/nayansavaliya/Masters%20Mechatronics/2022%20Summer/RAML%20-%20Project/venv/lib/python3.9/site-packages/matplotlib/axes/_axes.py?line=1391'>1392</a>\u001b[0m \n\u001b[0;32m   (...)\u001b[0m\n\u001b[1;32m   <a href='file:///Users/nayansavaliya/Masters%20Mechatronics/2022%20Summer/RAML%20-%20Project/venv/lib/python3.9/site-packages/matplotlib/axes/_axes.py?line=1628'>1629</a>\u001b[0m \u001b[39m(``'green'``) or hex strings (``'#008000'``).\u001b[39;00m\n\u001b[1;32m   <a href='file:///Users/nayansavaliya/Masters%20Mechatronics/2022%20Summer/RAML%20-%20Project/venv/lib/python3.9/site-packages/matplotlib/axes/_axes.py?line=1629'>1630</a>\u001b[0m \u001b[39m\"\"\"\u001b[39;00m\n\u001b[1;32m   <a href='file:///Users/nayansavaliya/Masters%20Mechatronics/2022%20Summer/RAML%20-%20Project/venv/lib/python3.9/site-packages/matplotlib/axes/_axes.py?line=1630'>1631</a>\u001b[0m kwargs \u001b[39m=\u001b[39m cbook\u001b[39m.\u001b[39mnormalize_kwargs(kwargs, mlines\u001b[39m.\u001b[39mLine2D)\n\u001b[0;32m-> <a href='file:///Users/nayansavaliya/Masters%20Mechatronics/2022%20Summer/RAML%20-%20Project/venv/lib/python3.9/site-packages/matplotlib/axes/_axes.py?line=1631'>1632</a>\u001b[0m lines \u001b[39m=\u001b[39m [\u001b[39m*\u001b[39m\u001b[39mself\u001b[39m\u001b[39m.\u001b[39m_get_lines(\u001b[39m*\u001b[39margs, data\u001b[39m=\u001b[39mdata, \u001b[39m*\u001b[39m\u001b[39m*\u001b[39mkwargs)]\n\u001b[1;32m   <a href='file:///Users/nayansavaliya/Masters%20Mechatronics/2022%20Summer/RAML%20-%20Project/venv/lib/python3.9/site-packages/matplotlib/axes/_axes.py?line=1632'>1633</a>\u001b[0m \u001b[39mfor\u001b[39;00m line \u001b[39min\u001b[39;00m lines:\n\u001b[1;32m   <a href='file:///Users/nayansavaliya/Masters%20Mechatronics/2022%20Summer/RAML%20-%20Project/venv/lib/python3.9/site-packages/matplotlib/axes/_axes.py?line=1633'>1634</a>\u001b[0m     \u001b[39mself\u001b[39m\u001b[39m.\u001b[39madd_line(line)\n",
      "File \u001b[0;32m~/Masters Mechatronics/2022 Summer/RAML - Project/venv/lib/python3.9/site-packages/matplotlib/axes/_base.py:312\u001b[0m, in \u001b[0;36m_process_plot_var_args.__call__\u001b[0;34m(self, data, *args, **kwargs)\u001b[0m\n\u001b[1;32m    <a href='file:///Users/nayansavaliya/Masters%20Mechatronics/2022%20Summer/RAML%20-%20Project/venv/lib/python3.9/site-packages/matplotlib/axes/_base.py?line=309'>310</a>\u001b[0m     this \u001b[39m+\u001b[39m\u001b[39m=\u001b[39m args[\u001b[39m0\u001b[39m],\n\u001b[1;32m    <a href='file:///Users/nayansavaliya/Masters%20Mechatronics/2022%20Summer/RAML%20-%20Project/venv/lib/python3.9/site-packages/matplotlib/axes/_base.py?line=310'>311</a>\u001b[0m     args \u001b[39m=\u001b[39m args[\u001b[39m1\u001b[39m:]\n\u001b[0;32m--> <a href='file:///Users/nayansavaliya/Masters%20Mechatronics/2022%20Summer/RAML%20-%20Project/venv/lib/python3.9/site-packages/matplotlib/axes/_base.py?line=311'>312</a>\u001b[0m \u001b[39myield from\u001b[39;00m \u001b[39mself\u001b[39;49m\u001b[39m.\u001b[39;49m_plot_args(this, kwargs)\n",
      "File \u001b[0;32m~/Masters Mechatronics/2022 Summer/RAML - Project/venv/lib/python3.9/site-packages/matplotlib/axes/_base.py:498\u001b[0m, in \u001b[0;36m_process_plot_var_args._plot_args\u001b[0;34m(self, tup, kwargs, return_kwargs)\u001b[0m\n\u001b[1;32m    <a href='file:///Users/nayansavaliya/Masters%20Mechatronics/2022%20Summer/RAML%20-%20Project/venv/lib/python3.9/site-packages/matplotlib/axes/_base.py?line=494'>495</a>\u001b[0m     \u001b[39mself\u001b[39m\u001b[39m.\u001b[39maxes\u001b[39m.\u001b[39myaxis\u001b[39m.\u001b[39mupdate_units(y)\n\u001b[1;32m    <a href='file:///Users/nayansavaliya/Masters%20Mechatronics/2022%20Summer/RAML%20-%20Project/venv/lib/python3.9/site-packages/matplotlib/axes/_base.py?line=496'>497</a>\u001b[0m \u001b[39mif\u001b[39;00m x\u001b[39m.\u001b[39mshape[\u001b[39m0\u001b[39m] \u001b[39m!=\u001b[39m y\u001b[39m.\u001b[39mshape[\u001b[39m0\u001b[39m]:\n\u001b[0;32m--> <a href='file:///Users/nayansavaliya/Masters%20Mechatronics/2022%20Summer/RAML%20-%20Project/venv/lib/python3.9/site-packages/matplotlib/axes/_base.py?line=497'>498</a>\u001b[0m     \u001b[39mraise\u001b[39;00m \u001b[39mValueError\u001b[39;00m(\u001b[39mf\u001b[39m\u001b[39m\"\u001b[39m\u001b[39mx and y must have same first dimension, but \u001b[39m\u001b[39m\"\u001b[39m\n\u001b[1;32m    <a href='file:///Users/nayansavaliya/Masters%20Mechatronics/2022%20Summer/RAML%20-%20Project/venv/lib/python3.9/site-packages/matplotlib/axes/_base.py?line=498'>499</a>\u001b[0m                      \u001b[39mf\u001b[39m\u001b[39m\"\u001b[39m\u001b[39mhave shapes \u001b[39m\u001b[39m{\u001b[39;00mx\u001b[39m.\u001b[39mshape\u001b[39m}\u001b[39;00m\u001b[39m and \u001b[39m\u001b[39m{\u001b[39;00my\u001b[39m.\u001b[39mshape\u001b[39m}\u001b[39;00m\u001b[39m\"\u001b[39m)\n\u001b[1;32m    <a href='file:///Users/nayansavaliya/Masters%20Mechatronics/2022%20Summer/RAML%20-%20Project/venv/lib/python3.9/site-packages/matplotlib/axes/_base.py?line=499'>500</a>\u001b[0m \u001b[39mif\u001b[39;00m x\u001b[39m.\u001b[39mndim \u001b[39m>\u001b[39m \u001b[39m2\u001b[39m \u001b[39mor\u001b[39;00m y\u001b[39m.\u001b[39mndim \u001b[39m>\u001b[39m \u001b[39m2\u001b[39m:\n\u001b[1;32m    <a href='file:///Users/nayansavaliya/Masters%20Mechatronics/2022%20Summer/RAML%20-%20Project/venv/lib/python3.9/site-packages/matplotlib/axes/_base.py?line=500'>501</a>\u001b[0m     \u001b[39mraise\u001b[39;00m \u001b[39mValueError\u001b[39;00m(\u001b[39mf\u001b[39m\u001b[39m\"\u001b[39m\u001b[39mx and y can be no greater than 2D, but have \u001b[39m\u001b[39m\"\u001b[39m\n\u001b[1;32m    <a href='file:///Users/nayansavaliya/Masters%20Mechatronics/2022%20Summer/RAML%20-%20Project/venv/lib/python3.9/site-packages/matplotlib/axes/_base.py?line=501'>502</a>\u001b[0m                      \u001b[39mf\u001b[39m\u001b[39m\"\u001b[39m\u001b[39mshapes \u001b[39m\u001b[39m{\u001b[39;00mx\u001b[39m.\u001b[39mshape\u001b[39m}\u001b[39;00m\u001b[39m and \u001b[39m\u001b[39m{\u001b[39;00my\u001b[39m.\u001b[39mshape\u001b[39m}\u001b[39;00m\u001b[39m\"\u001b[39m)\n",
      "\u001b[0;31mValueError\u001b[0m: x and y must have same first dimension, but have shapes (45,) and (42,)"
     ]
    },
    {
     "data": {
      "image/png": "[encoded data removed]",
      "text/plain": [
       "<Figure size 432x288 with 1 Axes>"
      ]
     },
     "metadata": {
      "needs_background": "light"
     },
     "output_type": "display_data"
    }
   ],
   "source": [
    "# visualizing losses and accuracy\n",
    "# print(history.history)\n",
    "train_loss = history.history['loss']\n",
    "val_loss   = history.history['val_loss']\n",
    "train_acc  = history.history['accuracy']\n",
    "val_acc    = history.history['val_accuracy']\n",
    "xc         = range(45)\n",
    "\n",
    "plt.figure()\n",
    "plt.plot(xc, train_loss,label = 'Train Loss')\n",
    "plt.plot(xc, val_loss,label = 'Val Loss')\n",
    "plt.legend(loc='upper right')"
   ]
  },
  {
   "cell_type": "code",
   "execution_count": null,
   "metadata": {},
   "outputs": [
    {
     "data": {
      "text/plain": [
       "<matplotlib.legend.Legend at 0x1713104c0>"
      ]
     },
     "execution_count": 7,
     "metadata": {},
     "output_type": "execute_result"
    },
    {
     "data": {
      "image/png": "[encoded data removed]",
      "text/plain": [
       "<Figure size 432x288 with 1 Axes>"
      ]
     },
     "metadata": {
      "needs_background": "light"
     },
     "output_type": "display_data"
    }
   ],
   "source": [
    "plt.figure()\n",
    "plt.plot(xc, train_acc,label = 'Train Acc')\n",
    "plt.plot(xc, val_acc,label = 'Val Acc')\n",
    "plt.legend(loc='upper right')"
   ]
  },
  {
   "cell_type": "code",
   "execution_count": null,
   "metadata": {},
   "outputs": [
    {
     "name": "stdout",
     "output_type": "stream",
     "text": [
      "14/14 [==============================] - 0s 11ms/step - loss: 0.1812 - accuracy: 0.9400\n",
      "Trained with Bilinear\n",
      "Bilinear:  93.99999976158142\n",
      "Found 400 images belonging to 2 classes.\n",
      "14/14 [==============================] - 0s 6ms/step - loss: 1.8336 - accuracy: 0.5975\n",
      "Bicubic:  59.74999666213989\n",
      "Found 400 images belonging to 2 classes.\n",
      "14/14 [==============================] - 0s 5ms/step - loss: 1.7709 - accuracy: 0.5750\n",
      "Pixelsuffle:  57.499998807907104\n"
     ]
    }
   ],
   "source": [
    "_, acc = model.evaluate(test_dataset)\n",
    "print('Trained with Bilinear')\n",
    "print('Bilinear: ' ,acc *100)\n",
    "\n",
    "test_dataset2 = test.flow_from_directory(\"/Users/nayansavaliya/Masters Mechatronics/2022 Summer/RAML - Project/data/bicubic/test\",\n",
    "                                          target_size=(32,32),\n",
    "                                          batch_size =30,\n",
    "                                          class_mode = 'binary')\n",
    "\n",
    "_, acc = model.evaluate(test_dataset2)\n",
    "print('Bicubic: ' ,acc *100)\n",
    "\n",
    "test_dataset3 = test.flow_from_directory(\"/Users/nayansavaliya/Masters Mechatronics/2022 Summer/RAML - Project/data/pixelsuffle/test\",\n",
    "                                          target_size=(32,32),\n",
    "                                          batch_size =30,\n",
    "                                          class_mode = 'binary')\n",
    "\n",
    "_, acc = model.evaluate(test_dataset3)\n",
    "print('Pixelsuffle: ' ,acc *100)"
   ]
  },
  {
   "cell_type": "markdown",
   "metadata": {},
   "source": [
    "Prediction"
   ]
  },
  {
   "cell_type": "code",
   "execution_count": null,
   "metadata": {},
   "outputs": [
    {
     "name": "stdout",
     "output_type": "stream",
     "text": [
      "[[1.]]\n"
     ]
    },
    {
     "name": "stderr",
     "output_type": "stream",
     "text": [
      "2022-05-19 14:33:11.938339: I tensorflow/core/grappler/optimizers/custom_graph_optimizer_registry.cc:113] Plugin optimizer for device_type GPU is enabled.\n"
     ]
    },
    {
     "data": {
      "image/png": "[encoded data removed]",
      "text/plain": [
       "<Figure size 432x288 with 1 Axes>"
      ]
     },
     "metadata": {
      "needs_background": "light"
     },
     "output_type": "display_data"
    }
   ],
   "source": [
    "def predictImage(filename):\n",
    "    img1 = image.load_img(filename,target_size=(32,32))\n",
    "    \n",
    "    plt.imshow(img1)\n",
    " \n",
    "    Y = image.img_to_array(img1)\n",
    "    \n",
    "    X = np.expand_dims(Y,axis=0)\n",
    "    val = model.predict(X)\n",
    "    print(val)\n",
    "    if val == 1:\n",
    "        \n",
    "        plt.xlabel(\"Real\",fontsize=30)\n",
    "        \n",
    "    \n",
    "    elif val == 0:\n",
    "        \n",
    "        plt.xlabel(\"Fake\",fontsize=30)\n",
    "\n",
    "predictImage(r\"/Users/nayansavaliya/Masters Mechatronics/2022 Summer/RAML - Project/data/bilinear/test/imagewoof_test/952.jpg\")\n"
   ]
  },
  {
   "cell_type": "code",
   "execution_count": null,
   "metadata": {},
   "outputs": [
    {
     "name": "stdout",
     "output_type": "stream",
     "text": [
      "[[0.]]\n"
     ]
    },
    {
     "data": {
      "image/png": "[encoded data removed]",
      "text/plain": [
       "<Figure size 432x288 with 1 Axes>"
      ]
     },
     "metadata": {
      "needs_background": "light"
     },
     "output_type": "display_data"
    }
   ],
   "source": [
    "\n",
    "predictImage(r\"/Users/nayansavaliya/Masters Mechatronics/2022 Summer/RAML - Project/data/bilinear/test/SNGAN_bilinear_test/920.jpg\")"
   ]
  }
 ],
 "metadata": {
  "interpreter": {
   "hash": "d6559be91acbc93f4d619e1b72121704cbae2e517629d34a1f89aedc7528f034"
  },
  "kernelspec": {
   "display_name": "Python 3.9.12 ('venv': venv)",
   "language": "python",
   "name": "python3"
  },
  "language_info": {
   "codemirror_mode": {
    "name": "ipython",
    "version": 3
   },
   "file_extension": ".py",
   "mimetype": "text/x-python",
   "name": "python",
   "nbconvert_exporter": "python",
   "pygments_lexer": "ipython3",
   "version": "3.9.12"
  },
  "orig_nbformat": 4
 },
 "nbformat": 4,
 "nbformat_minor": 2
}
