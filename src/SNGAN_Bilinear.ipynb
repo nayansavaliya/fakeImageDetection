{
 "cells": [
  {
   "cell_type": "markdown",
   "metadata": {},
   "source": [
    "Imports"
   ]
  },
  {
   "cell_type": "code",
   "execution_count": 1,
   "metadata": {},
   "outputs": [],
   "source": [
    "import tensorflow as tf\n",
    "import numpy as np\n",
    "from tensorflow import keras\n",
    "from keras.preprocessing.image import ImageDataGenerator\n",
    "from keras.preprocessing import image\n",
    "import matplotlib.pyplot as plt\n",
    "from keras.callbacks import EarlyStopping\n",
    "\n",
    "\n",
    "# from IPython.core.interactiveshell import InteractiveShell\n",
    "# InteractiveShell.ast_node_interactivity = \"all\"\n",
    "\n"
   ]
  },
  {
   "cell_type": "markdown",
   "metadata": {},
   "source": [
    "Prepare DATASET"
   ]
  },
  {
   "cell_type": "code",
   "execution_count": 2,
   "metadata": {},
   "outputs": [
    {
     "name": "stdout",
     "output_type": "stream",
     "text": [
      "Found 1280 images belonging to 2 classes.\n",
      "Found 320 images belonging to 2 classes.\n",
      "Found 400 images belonging to 2 classes.\n"
     ]
    },
    {
     "data": {
      "text/plain": [
       "{'SNGAN_bilinear_test': 0, 'imagewoof_test': 1}"
      ]
     },
     "execution_count": 2,
     "metadata": {},
     "output_type": "execute_result"
    }
   ],
   "source": [
    "\n",
    "train = ImageDataGenerator(rescale=1/255,validation_split=0.2)\n",
    "test = ImageDataGenerator(rescale=1/255)\n",
    "\n",
    "train_dataset = train.flow_from_directory(\"/Users/nayansavaliya/Masters Mechatronics/2022 Summer/RAML - Project/data/bilinear/train\",\n",
    "                                          target_size=(32,32),\n",
    "                                          batch_size = 96,\n",
    "                                          class_mode = 'binary',subset='training')\n",
    "\n",
    "validation_dataset = train.flow_from_directory(\"/Users/nayansavaliya/Masters Mechatronics/2022 Summer/RAML - Project/data/bilinear/train\",\n",
    "                                          target_size=(32,32),\n",
    "                                          batch_size = 96,\n",
    "                                          class_mode = 'binary',subset='validation')                                    \n",
    "test_dataset = test.flow_from_directory(\"/Users/nayansavaliya/Masters Mechatronics/2022 Summer/RAML - Project/data/bilinear/test\",\n",
    "                                          target_size=(32,32),\n",
    "                                          batch_size =96,\n",
    "                                          class_mode = 'binary')\n",
    "\n",
    "test_dataset.class_indices"
   ]
  },
  {
   "cell_type": "markdown",
   "metadata": {},
   "source": [
    "Design Model"
   ]
  },
  {
   "cell_type": "code",
   "execution_count": 3,
   "metadata": {},
   "outputs": [
    {
     "name": "stdout",
     "output_type": "stream",
     "text": [
      "Metal device set to: Apple M1\n",
      "\n",
      "systemMemory: 16.00 GB\n",
      "maxCacheSize: 5.33 GB\n",
      "\n"
     ]
    },
    {
     "name": "stderr",
     "output_type": "stream",
     "text": [
      "2022-07-11 22:19:45.399971: I tensorflow/core/common_runtime/pluggable_device/pluggable_device_factory.cc:305] Could not identify NUMA node of platform GPU ID 0, defaulting to 0. Your kernel may not have been built with NUMA support.\n",
      "2022-07-11 22:19:45.400111: I tensorflow/core/common_runtime/pluggable_device/pluggable_device_factory.cc:271] Created TensorFlow device (/job:localhost/replica:0/task:0/device:GPU:0 with 0 MB memory) -> physical PluggableDevice (device: 0, name: METAL, pci bus id: <undefined>)\n"
     ]
    }
   ],
   "source": [
    "model = keras.Sequential()\n",
    "\n",
    "# Convolutional layer and maxpool layer 1\n",
    "model.add(keras.layers.Conv2D(32,(3,3),activation='relu',input_shape=(32,32,3)))\n",
    "# model.add(keras.layers.MaxPool2D(2,2))\n",
    "\n",
    "\n",
    "# This layer flattens the resulting image array to 1D array\n",
    "model.add(keras.layers.Flatten())\n",
    "\n",
    "# Hidden layer with 512 neurons and Rectified Linear Unit activation function \n",
    "# model.add(keras.layers.Dense(32,activation='relu'))\n",
    "\n",
    "# Output layer with single neuron which gives 0 for fake or 1 for real \n",
    "#Here we use sigmoid activation function which makes our model output to lie between 0 and 1\n",
    "model.add(keras.layers.Dense(1,activation='sigmoid'))\n",
    "\n",
    "\n",
    "model.compile(optimizer='adam',loss='binary_crossentropy',metrics=['accuracy'])"
   ]
  },
  {
   "cell_type": "markdown",
   "metadata": {},
   "source": [
    "Training\n",
    "\n",
    "Usually with every epoch increasing, loss goes lower and accuracy goes higher. But with val_loss and val_acc, many cases can be possible:\n",
    "\n",
    "val_loss starts increasing, val_acc starts decreasing(means model is cramming values not learning)\n",
    "\n",
    "val_loss starts increasing, val_acc also increases.(could be case of overfitting or diverse probability values in cases softmax is used in output layer)\n",
    "\n",
    "val_loss starts decreasing, val_acc starts increasing(Correct, means model build is learning and working fine)"
   ]
  },
  {
   "cell_type": "code",
   "execution_count": 4,
   "metadata": {},
   "outputs": [
    {
     "name": "stdout",
     "output_type": "stream",
     "text": [
      "Epoch 1/120\n"
     ]
    },
    {
     "name": "stderr",
     "output_type": "stream",
     "text": [
      "2022-07-11 22:19:45.547983: W tensorflow/core/platform/profile_utils/cpu_utils.cc:128] Failed to get CPU frequency: 0 Hz\n"
     ]
    },
    {
     "name": "stdout",
     "output_type": "stream",
     "text": [
      " 1/14 [=>............................] - ETA: 5s - loss: 0.6990 - accuracy: 0.5521"
     ]
    },
    {
     "name": "stderr",
     "output_type": "stream",
     "text": [
      "2022-07-11 22:19:45.803831: I tensorflow/core/grappler/optimizers/custom_graph_optimizer_registry.cc:113] Plugin optimizer for device_type GPU is enabled.\n"
     ]
    },
    {
     "name": "stdout",
     "output_type": "stream",
     "text": [
      "14/14 [==============================] - 1s 34ms/step - loss: 0.6534 - accuracy: 0.6305 - val_loss: 0.5849 - val_accuracy: 0.7063\n",
      "Epoch 2/120\n",
      " 6/14 [===========>..................] - ETA: 0s - loss: 0.5526 - accuracy: 0.7309"
     ]
    },
    {
     "name": "stderr",
     "output_type": "stream",
     "text": [
      "2022-07-11 22:19:46.338006: I tensorflow/core/grappler/optimizers/custom_graph_optimizer_registry.cc:113] Plugin optimizer for device_type GPU is enabled.\n"
     ]
    },
    {
     "name": "stdout",
     "output_type": "stream",
     "text": [
      "14/14 [==============================] - 0s 16ms/step - loss: 0.5287 - accuracy: 0.7469 - val_loss: 0.4909 - val_accuracy: 0.7781\n",
      "Epoch 3/120\n",
      "14/14 [==============================] - 0s 16ms/step - loss: 0.4397 - accuracy: 0.8352 - val_loss: 0.4413 - val_accuracy: 0.7844\n",
      "Epoch 4/120\n",
      "14/14 [==============================] - 0s 16ms/step - loss: 0.3663 - accuracy: 0.8703 - val_loss: 0.3719 - val_accuracy: 0.8531\n",
      "Epoch 5/120\n",
      "14/14 [==============================] - 0s 16ms/step - loss: 0.3439 - accuracy: 0.8570 - val_loss: 0.4666 - val_accuracy: 0.7625\n",
      "Epoch 6/120\n",
      "14/14 [==============================] - 0s 16ms/step - loss: 0.3093 - accuracy: 0.8789 - val_loss: 0.3176 - val_accuracy: 0.8906\n",
      "Epoch 7/120\n",
      "14/14 [==============================] - 0s 16ms/step - loss: 0.2625 - accuracy: 0.9172 - val_loss: 0.3098 - val_accuracy: 0.8875\n",
      "Epoch 8/120\n",
      "14/14 [==============================] - 0s 16ms/step - loss: 0.2394 - accuracy: 0.9391 - val_loss: 0.2823 - val_accuracy: 0.9094\n",
      "Epoch 9/120\n",
      "14/14 [==============================] - 0s 16ms/step - loss: 0.2133 - accuracy: 0.9445 - val_loss: 0.2741 - val_accuracy: 0.9031\n",
      "Epoch 10/120\n",
      "14/14 [==============================] - 0s 16ms/step - loss: 0.2015 - accuracy: 0.9445 - val_loss: 0.2855 - val_accuracy: 0.8906\n",
      "Epoch 11/120\n",
      "14/14 [==============================] - 0s 16ms/step - loss: 0.2002 - accuracy: 0.9430 - val_loss: 0.2502 - val_accuracy: 0.9187\n",
      "Epoch 12/120\n",
      "14/14 [==============================] - 0s 16ms/step - loss: 0.1803 - accuracy: 0.9500 - val_loss: 0.2490 - val_accuracy: 0.9031\n",
      "Epoch 13/120\n",
      "14/14 [==============================] - 0s 16ms/step - loss: 0.1759 - accuracy: 0.9547 - val_loss: 0.2373 - val_accuracy: 0.9062\n",
      "Epoch 14/120\n",
      "14/14 [==============================] - 0s 16ms/step - loss: 0.1554 - accuracy: 0.9633 - val_loss: 0.2304 - val_accuracy: 0.9219\n",
      "Epoch 15/120\n",
      "14/14 [==============================] - 0s 16ms/step - loss: 0.1462 - accuracy: 0.9641 - val_loss: 0.2301 - val_accuracy: 0.9187\n",
      "Epoch 16/120\n",
      "14/14 [==============================] - 0s 16ms/step - loss: 0.1461 - accuracy: 0.9594 - val_loss: 0.2269 - val_accuracy: 0.9187\n",
      "Epoch 17/120\n",
      "14/14 [==============================] - 0s 16ms/step - loss: 0.1474 - accuracy: 0.9570 - val_loss: 0.2610 - val_accuracy: 0.8938\n",
      "Epoch 18/120\n",
      "14/14 [==============================] - 0s 16ms/step - loss: 0.1321 - accuracy: 0.9695 - val_loss: 0.2145 - val_accuracy: 0.9094\n",
      "Epoch 19/120\n",
      "14/14 [==============================] - 0s 16ms/step - loss: 0.1133 - accuracy: 0.9766 - val_loss: 0.2039 - val_accuracy: 0.9344\n",
      "Epoch 20/120\n",
      "14/14 [==============================] - 0s 16ms/step - loss: 0.1088 - accuracy: 0.9766 - val_loss: 0.2149 - val_accuracy: 0.9125\n",
      "Epoch 21/120\n",
      "14/14 [==============================] - 0s 15ms/step - loss: 0.1070 - accuracy: 0.9758 - val_loss: 0.1973 - val_accuracy: 0.9281\n",
      "Epoch 22/120\n",
      "14/14 [==============================] - 0s 16ms/step - loss: 0.1098 - accuracy: 0.9672 - val_loss: 0.2139 - val_accuracy: 0.9000\n",
      "Epoch 23/120\n",
      "14/14 [==============================] - 0s 15ms/step - loss: 0.1276 - accuracy: 0.9531 - val_loss: 0.2236 - val_accuracy: 0.8906\n",
      "Epoch 24/120\n",
      "14/14 [==============================] - 0s 15ms/step - loss: 0.0938 - accuracy: 0.9820 - val_loss: 0.1990 - val_accuracy: 0.9125\n",
      "Epoch 25/120\n",
      "14/14 [==============================] - 0s 16ms/step - loss: 0.0952 - accuracy: 0.9789 - val_loss: 0.2069 - val_accuracy: 0.9062\n",
      "Epoch 26/120\n",
      "14/14 [==============================] - 0s 16ms/step - loss: 0.0866 - accuracy: 0.9836 - val_loss: 0.1831 - val_accuracy: 0.9438\n",
      "Epoch 27/120\n",
      "14/14 [==============================] - 0s 16ms/step - loss: 0.0802 - accuracy: 0.9852 - val_loss: 0.1817 - val_accuracy: 0.9344\n",
      "Epoch 28/120\n",
      "14/14 [==============================] - 0s 16ms/step - loss: 0.0751 - accuracy: 0.9875 - val_loss: 0.1793 - val_accuracy: 0.9313\n",
      "Epoch 29/120\n",
      "14/14 [==============================] - 0s 15ms/step - loss: 0.0802 - accuracy: 0.9836 - val_loss: 0.1952 - val_accuracy: 0.9125\n",
      "Epoch 30/120\n",
      "14/14 [==============================] - 0s 15ms/step - loss: 0.0765 - accuracy: 0.9836 - val_loss: 0.1929 - val_accuracy: 0.9125\n",
      "Epoch 31/120\n",
      "14/14 [==============================] - 0s 15ms/step - loss: 0.0692 - accuracy: 0.9891 - val_loss: 0.1780 - val_accuracy: 0.9406\n",
      "Epoch 32/120\n",
      "14/14 [==============================] - 0s 15ms/step - loss: 0.0722 - accuracy: 0.9883 - val_loss: 0.1746 - val_accuracy: 0.9406\n",
      "Epoch 33/120\n",
      "14/14 [==============================] - 0s 15ms/step - loss: 0.0762 - accuracy: 0.9836 - val_loss: 0.2022 - val_accuracy: 0.9062\n",
      "Epoch 34/120\n",
      "14/14 [==============================] - 0s 17ms/step - loss: 0.0829 - accuracy: 0.9781 - val_loss: 0.2048 - val_accuracy: 0.9000\n",
      "Epoch 35/120\n",
      "14/14 [==============================] - 0s 16ms/step - loss: 0.0701 - accuracy: 0.9898 - val_loss: 0.2218 - val_accuracy: 0.9062\n",
      "Epoch 36/120\n",
      "14/14 [==============================] - 0s 16ms/step - loss: 0.0800 - accuracy: 0.9820 - val_loss: 0.1835 - val_accuracy: 0.9250\n",
      "Epoch 37/120\n",
      "14/14 [==============================] - 0s 16ms/step - loss: 0.0545 - accuracy: 0.9914 - val_loss: 0.1723 - val_accuracy: 0.9250\n",
      "Epoch 38/120\n",
      "14/14 [==============================] - 0s 15ms/step - loss: 0.0514 - accuracy: 0.9938 - val_loss: 0.1778 - val_accuracy: 0.9250\n",
      "Epoch 39/120\n",
      "14/14 [==============================] - 0s 16ms/step - loss: 0.0483 - accuracy: 0.9945 - val_loss: 0.1679 - val_accuracy: 0.9406\n",
      "Epoch 40/120\n",
      "14/14 [==============================] - 0s 16ms/step - loss: 0.0551 - accuracy: 0.9914 - val_loss: 0.1981 - val_accuracy: 0.9250\n",
      "Epoch 41/120\n",
      "14/14 [==============================] - 0s 16ms/step - loss: 0.0532 - accuracy: 0.9922 - val_loss: 0.1640 - val_accuracy: 0.9313\n",
      "Epoch 42/120\n",
      "14/14 [==============================] - 0s 15ms/step - loss: 0.0465 - accuracy: 0.9938 - val_loss: 0.1811 - val_accuracy: 0.9187\n",
      "Epoch 43/120\n",
      "14/14 [==============================] - 0s 15ms/step - loss: 0.0479 - accuracy: 0.9938 - val_loss: 0.1665 - val_accuracy: 0.9281\n",
      "Epoch 44/120\n",
      "14/14 [==============================] - 0s 16ms/step - loss: 0.0480 - accuracy: 0.9930 - val_loss: 0.1755 - val_accuracy: 0.9438\n",
      "Epoch 45/120\n",
      "14/14 [==============================] - 0s 16ms/step - loss: 0.0433 - accuracy: 0.9969 - val_loss: 0.1614 - val_accuracy: 0.9406\n",
      "Epoch 46/120\n",
      "14/14 [==============================] - 0s 16ms/step - loss: 0.0429 - accuracy: 0.9930 - val_loss: 0.1914 - val_accuracy: 0.9094\n",
      "Epoch 47/120\n",
      "14/14 [==============================] - 0s 15ms/step - loss: 0.0436 - accuracy: 0.9969 - val_loss: 0.1615 - val_accuracy: 0.9406\n",
      "Epoch 48/120\n",
      "14/14 [==============================] - 0s 16ms/step - loss: 0.0385 - accuracy: 0.9961 - val_loss: 0.1748 - val_accuracy: 0.9219\n",
      "Epoch 49/120\n",
      "14/14 [==============================] - 0s 16ms/step - loss: 0.0352 - accuracy: 0.9992 - val_loss: 0.1690 - val_accuracy: 0.9250\n",
      "Epoch 50/120\n",
      "14/14 [==============================] - 0s 15ms/step - loss: 0.0329 - accuracy: 1.0000 - val_loss: 0.1679 - val_accuracy: 0.9250\n",
      "Epoch 51/120\n",
      "14/14 [==============================] - 0s 15ms/step - loss: 0.0338 - accuracy: 0.9984 - val_loss: 0.1634 - val_accuracy: 0.9250\n",
      "Epoch 52/120\n",
      "14/14 [==============================] - 0s 16ms/step - loss: 0.0334 - accuracy: 0.9984 - val_loss: 0.1585 - val_accuracy: 0.9406\n",
      "Epoch 53/120\n",
      "14/14 [==============================] - 0s 16ms/step - loss: 0.0296 - accuracy: 0.9992 - val_loss: 0.1600 - val_accuracy: 0.9313\n",
      "Epoch 54/120\n",
      "14/14 [==============================] - 0s 15ms/step - loss: 0.0290 - accuracy: 1.0000 - val_loss: 0.1607 - val_accuracy: 0.9406\n",
      "Epoch 55/120\n",
      "14/14 [==============================] - 0s 16ms/step - loss: 0.0314 - accuracy: 0.9984 - val_loss: 0.1627 - val_accuracy: 0.9438\n",
      "Epoch 56/120\n",
      "14/14 [==============================] - 0s 16ms/step - loss: 0.0269 - accuracy: 1.0000 - val_loss: 0.1604 - val_accuracy: 0.9375\n",
      "Epoch 57/120\n",
      "14/14 [==============================] - 0s 15ms/step - loss: 0.0284 - accuracy: 0.9984 - val_loss: 0.1771 - val_accuracy: 0.9125\n",
      "Epoch 58/120\n",
      "14/14 [==============================] - 0s 15ms/step - loss: 0.0267 - accuracy: 0.9984 - val_loss: 0.1615 - val_accuracy: 0.9438\n",
      "Epoch 59/120\n",
      "14/14 [==============================] - 0s 15ms/step - loss: 0.0256 - accuracy: 0.9984 - val_loss: 0.1859 - val_accuracy: 0.9125\n",
      "Epoch 60/120\n",
      "14/14 [==============================] - 0s 16ms/step - loss: 0.0292 - accuracy: 0.9977 - val_loss: 0.1995 - val_accuracy: 0.9187\n",
      "Epoch 61/120\n",
      "14/14 [==============================] - 0s 16ms/step - loss: 0.0259 - accuracy: 0.9984 - val_loss: 0.1589 - val_accuracy: 0.9313\n",
      "Epoch 62/120\n",
      "14/14 [==============================] - 0s 16ms/step - loss: 0.0225 - accuracy: 1.0000 - val_loss: 0.1576 - val_accuracy: 0.9375\n"
     ]
    }
   ],
   "source": [
    "early_stopping = EarlyStopping(\n",
    "    min_delta=0.001, # minimium amount of change to count as an improvement\n",
    "    patience=10, # how many epochs to wait before stopping\n",
    "    restore_best_weights=True,\n",
    ")\n",
    "\n",
    "history = model.fit(train_dataset,\n",
    "        #  steps_per_epoch = 25,\n",
    "         epochs = 120,\n",
    "         callbacks=[early_stopping],\n",
    "         validation_data = validation_dataset\n",
    "         )"
   ]
  },
  {
   "cell_type": "code",
   "execution_count": 6,
   "metadata": {},
   "outputs": [
    {
     "data": {
      "text/plain": [
       "<matplotlib.legend.Legend at 0x169e0a8e0>"
      ]
     },
     "execution_count": 6,
     "metadata": {},
     "output_type": "execute_result"
    },
    {
     "data": {
      "image/png": "[encoded data removed]",
      "text/plain": [
       "<Figure size 432x288 with 1 Axes>"
      ]
     },
     "metadata": {
      "needs_background": "light"
     },
     "output_type": "display_data"
    }
   ],
   "source": [
    "# visualizing losses and accuracy\n",
    "# print(history.history)\n",
    "train_loss = history.history['loss']\n",
    "val_loss   = history.history['val_loss']\n",
    "train_acc  = history.history['accuracy']\n",
    "val_acc    = history.history['val_accuracy']\n",
    "xc         = range(62)\n",
    "\n",
    "plt.figure()\n",
    "plt.plot(xc, train_loss,label = 'Train Loss')\n",
    "plt.plot(xc, val_loss,label = 'Val Loss')\n",
    "plt.legend(loc='upper right')"
   ]
  },
  {
   "cell_type": "code",
   "execution_count": 7,
   "metadata": {},
   "outputs": [
    {
     "data": {
      "text/plain": [
       "<matplotlib.legend.Legend at 0x169e82430>"
      ]
     },
     "execution_count": 7,
     "metadata": {},
     "output_type": "execute_result"
    },
    {
     "data": {
      "image/png": "[encoded data removed]",
      "text/plain": [
       "<Figure size 432x288 with 1 Axes>"
      ]
     },
     "metadata": {
      "needs_background": "light"
     },
     "output_type": "display_data"
    }
   ],
   "source": [
    "plt.figure()\n",
    "plt.plot(xc, train_acc,label = 'Train Acc')\n",
    "plt.plot(xc, val_acc,label = 'Val Acc')\n",
    "plt.legend(loc='upper right')"
   ]
  },
  {
   "cell_type": "code",
   "execution_count": 8,
   "metadata": {},
   "outputs": [
    {
     "name": "stdout",
     "output_type": "stream",
     "text": [
      "5/5 [==============================] - 0s 13ms/step - loss: 0.1526 - accuracy: 0.9450\n",
      "Trained with Bilinear\n",
      "Bilinear:  94.49999928474426\n",
      "Found 400 images belonging to 2 classes.\n",
      "5/5 [==============================] - 0s 10ms/step - loss: 1.4117 - accuracy: 0.6000\n",
      "Bicubic:  59.99999642372131\n",
      "Found 400 images belonging to 2 classes.\n",
      "5/5 [==============================] - 0s 10ms/step - loss: 1.5010 - accuracy: 0.5650\n",
      "Pixelsuffle:  56.49999976158142\n"
     ]
    }
   ],
   "source": [
    "_, acc = model.evaluate(test_dataset)\n",
    "print('Trained with Bilinear')\n",
    "print('Bilinear: ' ,acc *100)\n",
    "\n",
    "test_dataset2 = test.flow_from_directory(\"/Users/nayansavaliya/Masters Mechatronics/2022 Summer/RAML - Project/data/bicubic/test\",\n",
    "                                          target_size=(32,32),\n",
    "                                          batch_size =96,\n",
    "                                          class_mode = 'binary')\n",
    "\n",
    "_, acc = model.evaluate(test_dataset2)\n",
    "print('Bicubic: ' ,acc *100)\n",
    "\n",
    "test_dataset3 = test.flow_from_directory(\"/Users/nayansavaliya/Masters Mechatronics/2022 Summer/RAML - Project/data/pixelsuffle/test\",\n",
    "                                          target_size=(32,32),\n",
    "                                          batch_size =96,\n",
    "                                          class_mode = 'binary')\n",
    "\n",
    "_, acc = model.evaluate(test_dataset3)\n",
    "print('Pixelsuffle: ' ,acc *100)"
   ]
  },
  {
   "cell_type": "markdown",
   "metadata": {},
   "source": [
    "Prediction"
   ]
  },
  {
   "cell_type": "code",
   "execution_count": null,
   "metadata": {},
   "outputs": [
    {
     "name": "stdout",
     "output_type": "stream",
     "text": [
      "[[1.]]\n"
     ]
    },
    {
     "name": "stderr",
     "output_type": "stream",
     "text": [
      "2022-07-03 21:15:07.696520: I tensorflow/core/grappler/optimizers/custom_graph_optimizer_registry.cc:113] Plugin optimizer for device_type GPU is enabled.\n"
     ]
    },
    {
     "data": {
      "image/png": "[encoded data removed]",
      "text/plain": [
       "<Figure size 432x288 with 1 Axes>"
      ]
     },
     "metadata": {
      "needs_background": "light"
     },
     "output_type": "display_data"
    }
   ],
   "source": [
    "def predictImage(filename):\n",
    "    img1 = image.load_img(filename,target_size=(32,32))\n",
    "    \n",
    "    plt.imshow(img1)\n",
    " \n",
    "    Y = image.img_to_array(img1)\n",
    "    \n",
    "    X = np.expand_dims(Y,axis=0)\n",
    "    val = model.predict(X)\n",
    "    print(val)\n",
    "    if val == 1:\n",
    "        \n",
    "        plt.xlabel(\"Real\",fontsize=30)\n",
    "        \n",
    "    \n",
    "    elif val == 0:\n",
    "        \n",
    "        plt.xlabel(\"Fake\",fontsize=30)\n",
    "\n",
    "predictImage(r\"/Users/nayansavaliya/Masters Mechatronics/2022 Summer/RAML - Project/data/bilinear/test/imagewoof_test/952.jpg\")\n"
   ]
  },
  {
   "cell_type": "code",
   "execution_count": null,
   "metadata": {},
   "outputs": [
    {
     "name": "stdout",
     "output_type": "stream",
     "text": [
      "[[0.]]\n"
     ]
    },
    {
     "data": {
      "image/png": "[encoded data removed]",
      "text/plain": [
       "<Figure size 432x288 with 1 Axes>"
      ]
     },
     "metadata": {
      "needs_background": "light"
     },
     "output_type": "display_data"
    }
   ],
   "source": [
    "\n",
    "predictImage(r\"/Users/nayansavaliya/Masters Mechatronics/2022 Summer/RAML - Project/data/bilinear/test/SNGAN_bilinear_test/920.jpg\")"
   ]
  }
 ],
 "metadata": {
  "interpreter": {
   "hash": "d6559be91acbc93f4d619e1b72121704cbae2e517629d34a1f89aedc7528f034"
  },
  "kernelspec": {
   "display_name": "Python 3.9.12 ('venv': venv)",
   "language": "python",
   "name": "python3"
  },
  "language_info": {
   "codemirror_mode": {
    "name": "ipython",
    "version": 3
   },
   "file_extension": ".py",
   "mimetype": "text/x-python",
   "name": "python",
   "nbconvert_exporter": "python",
   "pygments_lexer": "ipython3",
   "version": "3.9.12"
  },
  "orig_nbformat": 4
 },
 "nbformat": 4,
 "nbformat_minor": 2
}
