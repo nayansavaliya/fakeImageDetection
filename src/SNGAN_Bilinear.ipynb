{
 "cells": [
  {
   "cell_type": "markdown",
   "metadata": {},
   "source": [
    "Imports"
   ]
  },
  {
   "cell_type": "code",
   "execution_count": 1,
   "metadata": {},
   "outputs": [],
   "source": [
    "import tensorflow as tf\n",
    "import numpy as np\n",
    "from tensorflow import keras\n",
    "from keras.preprocessing.image import ImageDataGenerator\n",
    "from keras.preprocessing import image\n",
    "import matplotlib.pyplot as plt\n",
    "from keras.callbacks import EarlyStopping\n",
    "\n",
    "\n",
    "# from IPython.core.interactiveshell import InteractiveShell\n",
    "# InteractiveShell.ast_node_interactivity = \"all\"\n",
    "\n"
   ]
  },
  {
   "cell_type": "markdown",
   "metadata": {},
   "source": [
    "Prepare DATASET"
   ]
  },
  {
   "cell_type": "code",
   "execution_count": 2,
   "metadata": {},
   "outputs": [
    {
     "name": "stdout",
     "output_type": "stream",
     "text": [
      "Found 1280 images belonging to 2 classes.\n",
      "Found 320 images belonging to 2 classes.\n",
      "Found 400 images belonging to 2 classes.\n"
     ]
    },
    {
     "data": {
      "text/plain": [
       "{'SNGAN_bilinear_test': 0, 'imagewoof_test': 1}"
      ]
     },
     "execution_count": 2,
     "metadata": {},
     "output_type": "execute_result"
    }
   ],
   "source": [
    "\n",
    "train = ImageDataGenerator(rescale=1/255,validation_split=0.2)\n",
    "test = ImageDataGenerator(rescale=1/255)\n",
    "\n",
    "train_dataset = train.flow_from_directory(\"/Users/nayansavaliya/Masters Mechatronics/2022 Summer/RAML - Project/data/bilinear/train\",\n",
    "                                          target_size=(32,32),\n",
    "                                          batch_size = 1,\n",
    "                                          class_mode = 'binary',subset='training')\n",
    "\n",
    "validation_dataset = train.flow_from_directory(\"/Users/nayansavaliya/Masters Mechatronics/2022 Summer/RAML - Project/data/bilinear/train\",\n",
    "                                          target_size=(32,32),\n",
    "                                          batch_size = 1,\n",
    "                                          class_mode = 'binary',subset='validation')                                    \n",
    "test_dataset = test.flow_from_directory(\"/Users/nayansavaliya/Masters Mechatronics/2022 Summer/RAML - Project/data/bilinear/test\",\n",
    "                                          target_size=(32,32),\n",
    "                                          batch_size =1,\n",
    "                                          class_mode = 'binary')\n",
    "\n",
    "test_dataset.class_indices"
   ]
  },
  {
   "cell_type": "markdown",
   "metadata": {},
   "source": [
    "Design Model"
   ]
  },
  {
   "cell_type": "code",
   "execution_count": 3,
   "metadata": {},
   "outputs": [
    {
     "name": "stdout",
     "output_type": "stream",
     "text": [
      "Metal device set to: Apple M1\n",
      "\n",
      "systemMemory: 16.00 GB\n",
      "maxCacheSize: 5.33 GB\n",
      "\n"
     ]
    },
    {
     "name": "stderr",
     "output_type": "stream",
     "text": [
      "2022-05-15 01:11:10.376414: I tensorflow/core/common_runtime/pluggable_device/pluggable_device_factory.cc:305] Could not identify NUMA node of platform GPU ID 0, defaulting to 0. Your kernel may not have been built with NUMA support.\n",
      "2022-05-15 01:11:10.376542: I tensorflow/core/common_runtime/pluggable_device/pluggable_device_factory.cc:271] Created TensorFlow device (/job:localhost/replica:0/task:0/device:GPU:0 with 0 MB memory) -> physical PluggableDevice (device: 0, name: METAL, pci bus id: <undefined>)\n"
     ]
    }
   ],
   "source": [
    "model = keras.Sequential()\n",
    "\n",
    "# Convolutional layer and maxpool layer 1\n",
    "model.add(keras.layers.Conv2D(32,(3,3),activation='relu',input_shape=(32,32,3)))\n",
    "\n",
    "model.add(keras.layers.MaxPool2D(2,2))\n",
    "\n",
    "# Convolutional layer and maxpool layer 2\n",
    "# model.add(keras.layers.Conv2D(64,(3,3),activation='relu'))\n",
    "\n",
    "# model.add(keras.layers.MaxPool2D(2,2))\n",
    "\n",
    "# # Convolutional layer and maxpool layer 3\n",
    "# model.add(keras.layers.Conv2D(64,(3,3),activation='relu'))\n",
    "\n",
    "# model.add(keras.layers.MaxPool2D(2,2))\n",
    "\n",
    "# This layer flattens the resulting image array to 1D array\n",
    "model.add(keras.layers.Flatten())\n",
    "\n",
    "# Hidden layer with 512 neurons and Rectified Linear Unit activation function \n",
    "model.add(keras.layers.Dense(512,activation='relu'))\n",
    "\n",
    "# Output layer with single neuron which gives 0 for fake or 1 for real \n",
    "#Here we use sigmoid activation function which makes our model output to lie between 0 and 1\n",
    "model.add(keras.layers.Dense(1,activation='sigmoid'))\n",
    "\n",
    "\n",
    "model.compile(optimizer='adam',loss='binary_crossentropy',metrics=['accuracy'])"
   ]
  },
  {
   "cell_type": "markdown",
   "metadata": {},
   "source": [
    "Training\n",
    "\n",
    "Usually with every epoch increasing, loss goes lower and accuracy goes higher. But with val_loss and val_acc, many cases can be possible:\n",
    "\n",
    "val_loss starts increasing, val_acc starts decreasing(means model is cramming values not learning)\n",
    "\n",
    "val_loss starts increasing, val_acc also increases.(could be case of overfitting or diverse probability values in cases softmax is used in output layer)\n",
    "\n",
    "val_loss starts decreasing, val_acc starts increasing(Correct, means model build is learning and working fine)"
   ]
  },
  {
   "cell_type": "code",
   "execution_count": 4,
   "metadata": {},
   "outputs": [
    {
     "name": "stdout",
     "output_type": "stream",
     "text": [
      "Epoch 1/120\n"
     ]
    },
    {
     "name": "stderr",
     "output_type": "stream",
     "text": [
      "2022-05-15 01:11:10.494978: W tensorflow/core/platform/profile_utils/cpu_utils.cc:128] Failed to get CPU frequency: 0 Hz\n"
     ]
    },
    {
     "name": "stdout",
     "output_type": "stream",
     "text": [
      " 7/25 [=======>......................] - ETA: 0s - loss: 2.6832 - accuracy: 0.1429    "
     ]
    },
    {
     "name": "stderr",
     "output_type": "stream",
     "text": [
      "2022-05-15 01:11:10.776318: I tensorflow/core/grappler/optimizers/custom_graph_optimizer_registry.cc:113] Plugin optimizer for device_type GPU is enabled.\n"
     ]
    },
    {
     "name": "stdout",
     "output_type": "stream",
     "text": [
      "25/25 [==============================] - ETA: 0s - loss: 1.3006 - accuracy: 0.4000"
     ]
    },
    {
     "name": "stderr",
     "output_type": "stream",
     "text": [
      "2022-05-15 01:11:11.177882: I tensorflow/core/grappler/optimizers/custom_graph_optimizer_registry.cc:113] Plugin optimizer for device_type GPU is enabled.\n"
     ]
    },
    {
     "name": "stdout",
     "output_type": "stream",
     "text": [
      "25/25 [==============================] - 1s 46ms/step - loss: 1.3006 - accuracy: 0.4000 - val_loss: 0.6932 - val_accuracy: 0.5063\n",
      "Epoch 2/120\n",
      "25/25 [==============================] - 1s 47ms/step - loss: 0.7106 - accuracy: 0.5200 - val_loss: 0.6652 - val_accuracy: 0.5469\n",
      "Epoch 3/120\n",
      "25/25 [==============================] - 1s 47ms/step - loss: 0.6542 - accuracy: 0.6400 - val_loss: 0.6368 - val_accuracy: 0.7312\n",
      "Epoch 4/120\n",
      "25/25 [==============================] - 1s 47ms/step - loss: 0.5395 - accuracy: 0.8000 - val_loss: 0.5946 - val_accuracy: 0.6875\n",
      "Epoch 5/120\n",
      "25/25 [==============================] - 1s 46ms/step - loss: 0.4632 - accuracy: 0.7200 - val_loss: 0.6858 - val_accuracy: 0.6156\n",
      "Epoch 6/120\n",
      "25/25 [==============================] - 1s 46ms/step - loss: 0.6373 - accuracy: 0.6400 - val_loss: 0.6316 - val_accuracy: 0.6219\n",
      "Epoch 7/120\n",
      "25/25 [==============================] - 1s 49ms/step - loss: 0.7045 - accuracy: 0.5600 - val_loss: 0.5884 - val_accuracy: 0.6250\n",
      "Epoch 8/120\n",
      "25/25 [==============================] - 1s 45ms/step - loss: 0.4922 - accuracy: 0.7600 - val_loss: 0.5779 - val_accuracy: 0.6344\n",
      "Epoch 9/120\n",
      "25/25 [==============================] - 1s 46ms/step - loss: 0.5445 - accuracy: 0.6800 - val_loss: 0.5122 - val_accuracy: 0.7563\n",
      "Epoch 10/120\n",
      "25/25 [==============================] - 1s 46ms/step - loss: 0.5359 - accuracy: 0.7200 - val_loss: 0.8201 - val_accuracy: 0.5875\n",
      "Epoch 11/120\n",
      "25/25 [==============================] - 1s 46ms/step - loss: 0.6150 - accuracy: 0.6000 - val_loss: 0.5893 - val_accuracy: 0.6844\n",
      "Epoch 12/120\n",
      "25/25 [==============================] - 1s 45ms/step - loss: 0.4665 - accuracy: 0.8000 - val_loss: 0.5279 - val_accuracy: 0.7406\n",
      "Epoch 13/120\n",
      "25/25 [==============================] - 1s 46ms/step - loss: 0.5545 - accuracy: 0.7600 - val_loss: 0.5330 - val_accuracy: 0.6719\n",
      "Epoch 14/120\n",
      "25/25 [==============================] - 1s 45ms/step - loss: 0.5597 - accuracy: 0.6000 - val_loss: 0.4902 - val_accuracy: 0.7937\n",
      "Epoch 15/120\n",
      "25/25 [==============================] - 1s 47ms/step - loss: 0.5141 - accuracy: 0.7200 - val_loss: 0.4865 - val_accuracy: 0.7812\n",
      "Epoch 16/120\n",
      "25/25 [==============================] - 1s 45ms/step - loss: 0.5073 - accuracy: 0.6800 - val_loss: 0.4776 - val_accuracy: 0.7219\n",
      "Epoch 17/120\n",
      "25/25 [==============================] - 1s 45ms/step - loss: 0.4763 - accuracy: 0.8800 - val_loss: 0.5862 - val_accuracy: 0.6406\n",
      "Epoch 18/120\n",
      "25/25 [==============================] - 1s 46ms/step - loss: 0.4491 - accuracy: 0.7600 - val_loss: 0.4707 - val_accuracy: 0.8281\n",
      "Epoch 19/120\n",
      "25/25 [==============================] - 1s 46ms/step - loss: 0.4664 - accuracy: 0.7600 - val_loss: 0.4569 - val_accuracy: 0.7438\n",
      "Epoch 20/120\n",
      "25/25 [==============================] - 1s 45ms/step - loss: 0.2850 - accuracy: 0.9200 - val_loss: 0.3972 - val_accuracy: 0.7812\n",
      "Epoch 21/120\n",
      "25/25 [==============================] - 1s 46ms/step - loss: 0.4031 - accuracy: 0.8000 - val_loss: 0.3963 - val_accuracy: 0.8313\n",
      "Epoch 22/120\n",
      "25/25 [==============================] - 1s 46ms/step - loss: 0.4269 - accuracy: 0.8000 - val_loss: 0.4728 - val_accuracy: 0.7406\n",
      "Epoch 23/120\n",
      "25/25 [==============================] - 1s 45ms/step - loss: 0.5746 - accuracy: 0.6400 - val_loss: 0.5044 - val_accuracy: 0.7625\n",
      "Epoch 24/120\n",
      "25/25 [==============================] - 1s 45ms/step - loss: 0.3634 - accuracy: 0.9200 - val_loss: 0.4828 - val_accuracy: 0.7406\n",
      "Epoch 25/120\n",
      "25/25 [==============================] - 1s 45ms/step - loss: 0.3640 - accuracy: 0.8000 - val_loss: 0.4565 - val_accuracy: 0.7531\n",
      "Epoch 26/120\n",
      "25/25 [==============================] - 1s 46ms/step - loss: 0.3351 - accuracy: 0.8800 - val_loss: 0.3920 - val_accuracy: 0.8250\n",
      "Epoch 27/120\n",
      "25/25 [==============================] - 1s 46ms/step - loss: 0.4076 - accuracy: 0.8400 - val_loss: 0.3710 - val_accuracy: 0.8344\n",
      "Epoch 28/120\n",
      "25/25 [==============================] - 1s 50ms/step - loss: 0.4053 - accuracy: 0.7200 - val_loss: 0.4443 - val_accuracy: 0.7750\n",
      "Epoch 29/120\n",
      "25/25 [==============================] - 1s 46ms/step - loss: 0.4867 - accuracy: 0.8400 - val_loss: 0.4151 - val_accuracy: 0.8219\n",
      "Epoch 30/120\n",
      "25/25 [==============================] - 1s 46ms/step - loss: 0.4733 - accuracy: 0.7600 - val_loss: 0.4257 - val_accuracy: 0.8000\n",
      "Epoch 31/120\n",
      "25/25 [==============================] - 1s 47ms/step - loss: 0.2615 - accuracy: 0.9600 - val_loss: 0.6170 - val_accuracy: 0.6906\n",
      "Epoch 32/120\n",
      "25/25 [==============================] - 1s 46ms/step - loss: 0.4845 - accuracy: 0.6800 - val_loss: 0.4005 - val_accuracy: 0.7812\n",
      "Epoch 33/120\n",
      "25/25 [==============================] - 1s 47ms/step - loss: 0.2506 - accuracy: 0.8800 - val_loss: 0.3503 - val_accuracy: 0.8313\n",
      "Epoch 34/120\n",
      "25/25 [==============================] - 1s 46ms/step - loss: 0.5966 - accuracy: 0.7200 - val_loss: 0.4902 - val_accuracy: 0.7531\n",
      "Epoch 35/120\n",
      "25/25 [==============================] - 1s 46ms/step - loss: 0.3760 - accuracy: 0.7600 - val_loss: 0.4659 - val_accuracy: 0.7812\n",
      "Epoch 36/120\n",
      "25/25 [==============================] - 1s 47ms/step - loss: 0.6907 - accuracy: 0.7200 - val_loss: 0.5333 - val_accuracy: 0.7188\n",
      "Epoch 37/120\n",
      "25/25 [==============================] - 1s 48ms/step - loss: 0.4610 - accuracy: 0.7600 - val_loss: 0.4240 - val_accuracy: 0.7781\n",
      "Epoch 38/120\n",
      "25/25 [==============================] - 1s 47ms/step - loss: 0.2969 - accuracy: 0.9200 - val_loss: 0.4568 - val_accuracy: 0.7594\n",
      "Epoch 39/120\n",
      "25/25 [==============================] - 1s 47ms/step - loss: 0.3387 - accuracy: 0.9600 - val_loss: 0.9450 - val_accuracy: 0.6406\n",
      "Epoch 40/120\n",
      "25/25 [==============================] - 1s 46ms/step - loss: 0.3579 - accuracy: 0.8400 - val_loss: 0.3941 - val_accuracy: 0.8000\n",
      "Epoch 41/120\n",
      "25/25 [==============================] - 1s 47ms/step - loss: 0.2552 - accuracy: 0.9600 - val_loss: 0.3495 - val_accuracy: 0.8406\n",
      "Epoch 42/120\n",
      "25/25 [==============================] - 1s 46ms/step - loss: 0.2603 - accuracy: 0.8400 - val_loss: 0.3349 - val_accuracy: 0.8531\n",
      "Epoch 43/120\n",
      "25/25 [==============================] - 1s 46ms/step - loss: 0.4235 - accuracy: 0.8000 - val_loss: 0.3811 - val_accuracy: 0.8438\n",
      "Epoch 44/120\n",
      "25/25 [==============================] - 1s 47ms/step - loss: 0.2388 - accuracy: 0.8400 - val_loss: 0.4650 - val_accuracy: 0.7500\n",
      "Epoch 45/120\n",
      "25/25 [==============================] - 1s 46ms/step - loss: 0.2018 - accuracy: 0.8800 - val_loss: 0.3231 - val_accuracy: 0.8500\n",
      "Epoch 46/120\n",
      "25/25 [==============================] - 1s 46ms/step - loss: 0.2649 - accuracy: 0.8800 - val_loss: 0.5984 - val_accuracy: 0.7344\n",
      "Epoch 47/120\n",
      "25/25 [==============================] - 1s 47ms/step - loss: 0.5289 - accuracy: 0.8800 - val_loss: 0.3781 - val_accuracy: 0.8406\n",
      "Epoch 48/120\n",
      "25/25 [==============================] - 1s 46ms/step - loss: 0.4290 - accuracy: 0.7200 - val_loss: 0.4058 - val_accuracy: 0.8094\n",
      "Epoch 49/120\n",
      "25/25 [==============================] - 1s 46ms/step - loss: 0.2316 - accuracy: 0.9600 - val_loss: 0.3469 - val_accuracy: 0.8406\n",
      "Epoch 50/120\n",
      "25/25 [==============================] - 1s 46ms/step - loss: 0.2207 - accuracy: 0.9600 - val_loss: 0.3469 - val_accuracy: 0.8531\n",
      "Epoch 51/120\n",
      "25/25 [==============================] - 1s 47ms/step - loss: 0.2025 - accuracy: 0.9200 - val_loss: 0.3480 - val_accuracy: 0.8344\n",
      "Epoch 52/120\n",
      "25/25 [==============================] - 1s 47ms/step - loss: 0.1017 - accuracy: 0.9600 - val_loss: 0.3295 - val_accuracy: 0.8625\n",
      "Epoch 53/120\n",
      "25/25 [==============================] - 1s 47ms/step - loss: 0.2561 - accuracy: 0.9200 - val_loss: 0.5316 - val_accuracy: 0.7781\n",
      "Epoch 54/120\n",
      "25/25 [==============================] - 1s 47ms/step - loss: 0.2784 - accuracy: 0.8000 - val_loss: 0.2936 - val_accuracy: 0.8688\n",
      "Epoch 55/120\n",
      "25/25 [==============================] - 1s 47ms/step - loss: 0.0898 - accuracy: 1.0000 - val_loss: 0.3928 - val_accuracy: 0.8188\n",
      "Epoch 56/120\n",
      "25/25 [==============================] - 1s 46ms/step - loss: 0.3598 - accuracy: 0.8000 - val_loss: 0.3358 - val_accuracy: 0.8469\n",
      "Epoch 57/120\n",
      "25/25 [==============================] - 1s 47ms/step - loss: 0.2319 - accuracy: 0.9600 - val_loss: 0.3518 - val_accuracy: 0.8344\n",
      "Epoch 58/120\n",
      "25/25 [==============================] - 1s 50ms/step - loss: 0.1605 - accuracy: 0.9200 - val_loss: 0.3065 - val_accuracy: 0.8531\n",
      "Epoch 59/120\n",
      "25/25 [==============================] - 1s 50ms/step - loss: 0.0955 - accuracy: 1.0000 - val_loss: 0.2719 - val_accuracy: 0.8875\n",
      "Epoch 60/120\n",
      "25/25 [==============================] - 1s 48ms/step - loss: 0.2501 - accuracy: 0.8800 - val_loss: 0.2731 - val_accuracy: 0.8781\n",
      "Epoch 61/120\n",
      "25/25 [==============================] - 1s 47ms/step - loss: 0.0749 - accuracy: 0.9600 - val_loss: 0.2843 - val_accuracy: 0.8750\n",
      "Epoch 62/120\n",
      "25/25 [==============================] - 1s 47ms/step - loss: 0.1804 - accuracy: 0.8800 - val_loss: 0.2637 - val_accuracy: 0.9000\n",
      "Epoch 63/120\n",
      "25/25 [==============================] - 1s 48ms/step - loss: 0.2375 - accuracy: 0.9600 - val_loss: 0.3663 - val_accuracy: 0.8406\n",
      "Epoch 64/120\n",
      "25/25 [==============================] - 1s 47ms/step - loss: 0.2679 - accuracy: 0.8400 - val_loss: 0.3758 - val_accuracy: 0.8281\n",
      "Epoch 65/120\n",
      "25/25 [==============================] - 1s 49ms/step - loss: 0.2770 - accuracy: 0.8800 - val_loss: 0.3598 - val_accuracy: 0.8406\n",
      "Epoch 66/120\n",
      "25/25 [==============================] - 1s 46ms/step - loss: 0.3411 - accuracy: 0.8800 - val_loss: 0.3532 - val_accuracy: 0.8219\n",
      "Epoch 67/120\n",
      "25/25 [==============================] - 1s 49ms/step - loss: 0.3823 - accuracy: 0.8400 - val_loss: 0.3025 - val_accuracy: 0.8719\n",
      "Epoch 68/120\n",
      "25/25 [==============================] - 1s 49ms/step - loss: 0.3106 - accuracy: 0.8000 - val_loss: 0.4026 - val_accuracy: 0.7937\n",
      "Epoch 69/120\n",
      "25/25 [==============================] - 1s 48ms/step - loss: 0.2546 - accuracy: 0.8400 - val_loss: 0.2858 - val_accuracy: 0.8750\n",
      "Epoch 70/120\n",
      "25/25 [==============================] - 1s 47ms/step - loss: 0.1395 - accuracy: 0.9600 - val_loss: 0.2863 - val_accuracy: 0.8750\n",
      "Epoch 71/120\n",
      "25/25 [==============================] - 1s 49ms/step - loss: 0.1221 - accuracy: 1.0000 - val_loss: 0.2637 - val_accuracy: 0.8875\n",
      "Epoch 72/120\n",
      "25/25 [==============================] - 1s 49ms/step - loss: 0.1446 - accuracy: 0.9200 - val_loss: 0.2816 - val_accuracy: 0.8875\n",
      "Epoch 73/120\n",
      "25/25 [==============================] - 1s 45ms/step - loss: 0.3172 - accuracy: 0.8800 - val_loss: 0.2832 - val_accuracy: 0.8781\n",
      "Epoch 74/120\n",
      "25/25 [==============================] - 1s 45ms/step - loss: 0.1909 - accuracy: 0.9200 - val_loss: 0.3390 - val_accuracy: 0.8625\n",
      "Epoch 75/120\n",
      "25/25 [==============================] - 1s 45ms/step - loss: 0.1109 - accuracy: 0.9600 - val_loss: 0.3037 - val_accuracy: 0.8625\n",
      "Epoch 76/120\n",
      "25/25 [==============================] - 1s 45ms/step - loss: 0.1984 - accuracy: 0.9200 - val_loss: 0.2726 - val_accuracy: 0.8875\n",
      "Epoch 77/120\n",
      "25/25 [==============================] - 1s 45ms/step - loss: 0.1313 - accuracy: 0.9600 - val_loss: 0.3302 - val_accuracy: 0.8625\n",
      "Epoch 78/120\n",
      "25/25 [==============================] - 1s 45ms/step - loss: 0.2822 - accuracy: 0.8400 - val_loss: 0.3381 - val_accuracy: 0.8562\n",
      "Epoch 79/120\n",
      "25/25 [==============================] - 1s 45ms/step - loss: 0.2666 - accuracy: 0.8400 - val_loss: 0.2964 - val_accuracy: 0.8750\n",
      "Epoch 80/120\n",
      "25/25 [==============================] - 1s 45ms/step - loss: 0.1186 - accuracy: 0.9600 - val_loss: 0.2792 - val_accuracy: 0.8844\n",
      "Epoch 81/120\n",
      "25/25 [==============================] - 1s 45ms/step - loss: 0.2928 - accuracy: 0.8000 - val_loss: 0.4083 - val_accuracy: 0.8406\n",
      "Epoch 82/120\n",
      "25/25 [==============================] - 1s 45ms/step - loss: 0.1765 - accuracy: 0.9200 - val_loss: 0.3017 - val_accuracy: 0.8625\n",
      "Epoch 83/120\n",
      "25/25 [==============================] - 1s 45ms/step - loss: 0.1839 - accuracy: 0.9200 - val_loss: 0.3411 - val_accuracy: 0.8281\n",
      "Epoch 84/120\n",
      "25/25 [==============================] - 1s 45ms/step - loss: 0.2717 - accuracy: 0.8800 - val_loss: 0.3043 - val_accuracy: 0.8688\n",
      "Epoch 85/120\n",
      "25/25 [==============================] - 1s 47ms/step - loss: 0.2170 - accuracy: 0.9200 - val_loss: 0.2642 - val_accuracy: 0.8875\n",
      "Epoch 86/120\n",
      "25/25 [==============================] - 1s 45ms/step - loss: 0.0505 - accuracy: 1.0000 - val_loss: 0.2682 - val_accuracy: 0.8938\n",
      "Epoch 87/120\n",
      "25/25 [==============================] - 1s 45ms/step - loss: 0.1600 - accuracy: 0.9200 - val_loss: 0.3066 - val_accuracy: 0.8719\n",
      "Epoch 88/120\n",
      "25/25 [==============================] - 1s 45ms/step - loss: 0.0843 - accuracy: 1.0000 - val_loss: 0.4279 - val_accuracy: 0.8313\n",
      "Epoch 89/120\n",
      "25/25 [==============================] - 1s 45ms/step - loss: 0.2114 - accuracy: 0.8400 - val_loss: 0.3926 - val_accuracy: 0.8281\n",
      "Epoch 90/120\n",
      "25/25 [==============================] - 1s 45ms/step - loss: 0.1229 - accuracy: 0.9600 - val_loss: 0.3020 - val_accuracy: 0.8813\n",
      "Epoch 91/120\n",
      "25/25 [==============================] - 1s 44ms/step - loss: 0.4306 - accuracy: 0.9200 - val_loss: 0.3155 - val_accuracy: 0.8688\n",
      "Epoch 92/120\n",
      "25/25 [==============================] - 1s 44ms/step - loss: 0.1897 - accuracy: 0.9600 - val_loss: 0.3530 - val_accuracy: 0.8375\n",
      "Epoch 93/120\n",
      "25/25 [==============================] - 1s 45ms/step - loss: 0.0924 - accuracy: 0.9600 - val_loss: 0.3181 - val_accuracy: 0.8500\n",
      "Epoch 94/120\n",
      "25/25 [==============================] - 1s 45ms/step - loss: 0.1682 - accuracy: 0.9600 - val_loss: 0.4902 - val_accuracy: 0.8219\n",
      "Epoch 95/120\n",
      "25/25 [==============================] - 1s 49ms/step - loss: 0.2884 - accuracy: 0.8400 - val_loss: 0.2682 - val_accuracy: 0.8938\n",
      "Epoch 96/120\n",
      "25/25 [==============================] - 1s 46ms/step - loss: 0.1784 - accuracy: 0.8800 - val_loss: 0.3043 - val_accuracy: 0.8594\n",
      "Epoch 97/120\n",
      "25/25 [==============================] - 1s 48ms/step - loss: 0.2640 - accuracy: 0.9200 - val_loss: 0.3806 - val_accuracy: 0.8344\n",
      "Epoch 98/120\n",
      "25/25 [==============================] - 1s 48ms/step - loss: 0.4842 - accuracy: 0.6800 - val_loss: 0.5554 - val_accuracy: 0.7625\n",
      "Epoch 99/120\n",
      "25/25 [==============================] - 1s 60ms/step - loss: 0.4391 - accuracy: 0.8000 - val_loss: 0.2989 - val_accuracy: 0.8844\n",
      "Epoch 100/120\n",
      "25/25 [==============================] - 1s 48ms/step - loss: 0.2334 - accuracy: 0.8800 - val_loss: 0.2991 - val_accuracy: 0.8750\n",
      "Epoch 101/120\n",
      "25/25 [==============================] - 1s 50ms/step - loss: 0.1874 - accuracy: 0.9200 - val_loss: 0.3045 - val_accuracy: 0.8781\n",
      "Epoch 102/120\n",
      "25/25 [==============================] - 1s 46ms/step - loss: 0.1692 - accuracy: 0.9200 - val_loss: 0.3036 - val_accuracy: 0.8781\n",
      "Epoch 103/120\n",
      "25/25 [==============================] - 1s 48ms/step - loss: 0.1214 - accuracy: 0.9600 - val_loss: 0.3075 - val_accuracy: 0.8719\n",
      "Epoch 104/120\n",
      "25/25 [==============================] - 1s 45ms/step - loss: 0.1190 - accuracy: 0.9600 - val_loss: 0.3512 - val_accuracy: 0.8562\n",
      "Epoch 105/120\n",
      "25/25 [==============================] - 1s 45ms/step - loss: 0.3219 - accuracy: 0.8400 - val_loss: 0.2881 - val_accuracy: 0.8813\n",
      "Epoch 106/120\n",
      "25/25 [==============================] - 1s 44ms/step - loss: 0.0720 - accuracy: 1.0000 - val_loss: 0.2768 - val_accuracy: 0.8969\n",
      "Epoch 107/120\n",
      "25/25 [==============================] - 1s 45ms/step - loss: 0.3628 - accuracy: 0.8400 - val_loss: 0.3318 - val_accuracy: 0.8531\n",
      "Epoch 108/120\n",
      "25/25 [==============================] - 1s 44ms/step - loss: 0.2450 - accuracy: 0.9600 - val_loss: 0.3217 - val_accuracy: 0.8594\n",
      "Epoch 109/120\n",
      "25/25 [==============================] - 1s 45ms/step - loss: 0.1014 - accuracy: 1.0000 - val_loss: 0.3054 - val_accuracy: 0.8781\n",
      "Epoch 110/120\n",
      "25/25 [==============================] - 1s 44ms/step - loss: 0.1058 - accuracy: 1.0000 - val_loss: 0.3053 - val_accuracy: 0.8813\n",
      "Epoch 111/120\n",
      "25/25 [==============================] - 1s 44ms/step - loss: 0.2226 - accuracy: 0.8800 - val_loss: 0.6104 - val_accuracy: 0.7844\n",
      "Epoch 112/120\n",
      "25/25 [==============================] - 1s 45ms/step - loss: 0.4099 - accuracy: 0.9600 - val_loss: 0.3319 - val_accuracy: 0.8469\n",
      "Epoch 113/120\n",
      "25/25 [==============================] - 1s 45ms/step - loss: 0.0291 - accuracy: 1.0000 - val_loss: 0.3906 - val_accuracy: 0.8469\n",
      "Epoch 114/120\n",
      "25/25 [==============================] - 1s 46ms/step - loss: 0.0890 - accuracy: 0.9600 - val_loss: 0.3106 - val_accuracy: 0.8719\n",
      "Epoch 115/120\n",
      "25/25 [==============================] - 1s 45ms/step - loss: 0.1036 - accuracy: 0.9600 - val_loss: 0.3369 - val_accuracy: 0.8844\n",
      "Epoch 116/120\n",
      "25/25 [==============================] - 1s 45ms/step - loss: 0.3511 - accuracy: 0.8800 - val_loss: 0.3842 - val_accuracy: 0.8500\n",
      "Epoch 117/120\n",
      "25/25 [==============================] - 1s 45ms/step - loss: 0.1224 - accuracy: 0.9200 - val_loss: 0.3060 - val_accuracy: 0.8781\n",
      "Epoch 118/120\n",
      "25/25 [==============================] - 1s 45ms/step - loss: 0.1433 - accuracy: 0.9200 - val_loss: 0.4622 - val_accuracy: 0.8406\n",
      "Epoch 119/120\n",
      "25/25 [==============================] - 1s 45ms/step - loss: 0.3520 - accuracy: 0.8800 - val_loss: 0.2999 - val_accuracy: 0.8688\n",
      "Epoch 120/120\n",
      "25/25 [==============================] - 1s 44ms/step - loss: 0.0683 - accuracy: 0.9600 - val_loss: 0.3888 - val_accuracy: 0.8531\n"
     ]
    }
   ],
   "source": [
    "early_stopping = EarlyStopping(\n",
    "    min_delta=0.001, # minimium amount of change to count as an improvement\n",
    "    patience=20, # how many epochs to wait before stopping\n",
    "    restore_best_weights=True,\n",
    ")\n",
    "\n",
    "history = model.fit(train_dataset,\n",
    "         steps_per_epoch = 25,\n",
    "         epochs = 120,\n",
    "        #  callbacks=[early_stopping],\n",
    "         validation_data = validation_dataset\n",
    "         )"
   ]
  },
  {
   "cell_type": "code",
   "execution_count": 5,
   "metadata": {},
   "outputs": [
    {
     "data": {
      "text/plain": [
       "<matplotlib.legend.Legend at 0x2a0cb8520>"
      ]
     },
     "execution_count": 5,
     "metadata": {},
     "output_type": "execute_result"
    },
    {
     "data": {
      "image/png": "[encoded data removed]",
      "text/plain": [
       "<Figure size 432x288 with 1 Axes>"
      ]
     },
     "metadata": {
      "needs_background": "light"
     },
     "output_type": "display_data"
    }
   ],
   "source": [
    "# visualizing losses and accuracy\n",
    "# print(history.history)\n",
    "train_loss = history.history['loss']\n",
    "val_loss   = history.history['val_loss']\n",
    "train_acc  = history.history['accuracy']\n",
    "val_acc    = history.history['val_accuracy']\n",
    "xc         = range(120)\n",
    "\n",
    "plt.figure()\n",
    "plt.plot(xc, train_loss,label = 'Train Loss')\n",
    "plt.plot(xc, val_loss,label = 'Val Loss')\n",
    "plt.legend(loc='upper right')"
   ]
  },
  {
   "cell_type": "code",
   "execution_count": 6,
   "metadata": {},
   "outputs": [
    {
     "data": {
      "text/plain": [
       "<matplotlib.legend.Legend at 0x2a68d8370>"
      ]
     },
     "execution_count": 6,
     "metadata": {},
     "output_type": "execute_result"
    },
    {
     "data": {
      "image/png": "[encoded data removed]",
      "text/plain": [
       "<Figure size 432x288 with 1 Axes>"
      ]
     },
     "metadata": {
      "needs_background": "light"
     },
     "output_type": "display_data"
    }
   ],
   "source": [
    "plt.figure()\n",
    "plt.plot(xc, train_acc,label = 'Train Acc')\n",
    "plt.plot(xc, val_acc,label = 'Val Acc')\n",
    "plt.legend(loc='upper right')"
   ]
  },
  {
   "cell_type": "code",
   "execution_count": 9,
   "metadata": {},
   "outputs": [
    {
     "name": "stdout",
     "output_type": "stream",
     "text": [
      "400/400 [==============================] - 2s 4ms/step - loss: 0.3905 - accuracy: 0.8500\n",
      "84.99999642372131\n"
     ]
    }
   ],
   "source": [
    "_, acc = model.evaluate(test_dataset)\n",
    "print(acc *100)"
   ]
  },
  {
   "cell_type": "markdown",
   "metadata": {},
   "source": [
    "Prediction"
   ]
  },
  {
   "cell_type": "code",
   "execution_count": 8,
   "metadata": {},
   "outputs": [
    {
     "ename": "FileNotFoundError",
     "evalue": "[Errno 2] No such file or directory: '/Users/nayansavaliya/Masters Mechatronics/2022 Summer/RAML - Project/data/test/imagewoof_test/985.jpg'",
     "output_type": "error",
     "traceback": [
      "\u001b[0;31m---------------------------------------------------------------------------\u001b[0m",
      "\u001b[0;31mFileNotFoundError\u001b[0m                         Traceback (most recent call last)",
      "\u001b[1;32m/Users/nayansavaliya/Masters Mechatronics/2022 Summer/RAML - Project/src/SNGAN_Bilinear.ipynb Cell 13'\u001b[0m in \u001b[0;36m<cell line: 20>\u001b[0;34m()\u001b[0m\n\u001b[1;32m     <a href='vscode-notebook-cell:/Users/nayansavaliya/Masters%20Mechatronics/2022%20Summer/RAML%20-%20Project/src/SNGAN_Bilinear.ipynb#ch0000011?line=15'>16</a>\u001b[0m     \u001b[39melif\u001b[39;00m val \u001b[39m==\u001b[39m \u001b[39m0\u001b[39m:\n\u001b[1;32m     <a href='vscode-notebook-cell:/Users/nayansavaliya/Masters%20Mechatronics/2022%20Summer/RAML%20-%20Project/src/SNGAN_Bilinear.ipynb#ch0000011?line=17'>18</a>\u001b[0m         plt\u001b[39m.\u001b[39mxlabel(\u001b[39m\"\u001b[39m\u001b[39mFake\u001b[39m\u001b[39m\"\u001b[39m,fontsize\u001b[39m=\u001b[39m\u001b[39m30\u001b[39m)\n\u001b[0;32m---> <a href='vscode-notebook-cell:/Users/nayansavaliya/Masters%20Mechatronics/2022%20Summer/RAML%20-%20Project/src/SNGAN_Bilinear.ipynb#ch0000011?line=19'>20</a>\u001b[0m predictImage(\u001b[39mr\u001b[39;49m\u001b[39m\"\u001b[39;49m\u001b[39m/Users/nayansavaliya/Masters Mechatronics/2022 Summer/RAML - Project/data/test/imagewoof_test/985.jpg\u001b[39;49m\u001b[39m\"\u001b[39;49m)\n",
      "\u001b[1;32m/Users/nayansavaliya/Masters Mechatronics/2022 Summer/RAML - Project/src/SNGAN_Bilinear.ipynb Cell 13'\u001b[0m in \u001b[0;36mpredictImage\u001b[0;34m(filename)\u001b[0m\n\u001b[1;32m      <a href='vscode-notebook-cell:/Users/nayansavaliya/Masters%20Mechatronics/2022%20Summer/RAML%20-%20Project/src/SNGAN_Bilinear.ipynb#ch0000011?line=0'>1</a>\u001b[0m \u001b[39mdef\u001b[39;00m \u001b[39mpredictImage\u001b[39m(filename):\n\u001b[0;32m----> <a href='vscode-notebook-cell:/Users/nayansavaliya/Masters%20Mechatronics/2022%20Summer/RAML%20-%20Project/src/SNGAN_Bilinear.ipynb#ch0000011?line=1'>2</a>\u001b[0m     img1 \u001b[39m=\u001b[39m image\u001b[39m.\u001b[39;49mload_img(filename,target_size\u001b[39m=\u001b[39;49m(\u001b[39m32\u001b[39;49m,\u001b[39m32\u001b[39;49m))\n\u001b[1;32m      <a href='vscode-notebook-cell:/Users/nayansavaliya/Masters%20Mechatronics/2022%20Summer/RAML%20-%20Project/src/SNGAN_Bilinear.ipynb#ch0000011?line=3'>4</a>\u001b[0m     plt\u001b[39m.\u001b[39mimshow(img1)\n\u001b[1;32m      <a href='vscode-notebook-cell:/Users/nayansavaliya/Masters%20Mechatronics/2022%20Summer/RAML%20-%20Project/src/SNGAN_Bilinear.ipynb#ch0000011?line=5'>6</a>\u001b[0m     Y \u001b[39m=\u001b[39m image\u001b[39m.\u001b[39mimg_to_array(img1)\n",
      "File \u001b[0;32m~/Masters Mechatronics/2022 Summer/RAML - Project/venv/lib/python3.9/site-packages/keras/preprocessing/image.py:313\u001b[0m, in \u001b[0;36mload_img\u001b[0;34m(path, grayscale, color_mode, target_size, interpolation)\u001b[0m\n\u001b[1;32m    <a href='file:///Users/nayansavaliya/Masters%20Mechatronics/2022%20Summer/RAML%20-%20Project/venv/lib/python3.9/site-packages/keras/preprocessing/image.py?line=276'>277</a>\u001b[0m \u001b[39m@keras_export\u001b[39m(\u001b[39m'\u001b[39m\u001b[39mkeras.utils.load_img\u001b[39m\u001b[39m'\u001b[39m,\n\u001b[1;32m    <a href='file:///Users/nayansavaliya/Masters%20Mechatronics/2022%20Summer/RAML%20-%20Project/venv/lib/python3.9/site-packages/keras/preprocessing/image.py?line=277'>278</a>\u001b[0m               \u001b[39m'\u001b[39m\u001b[39mkeras.preprocessing.image.load_img\u001b[39m\u001b[39m'\u001b[39m)\n\u001b[1;32m    <a href='file:///Users/nayansavaliya/Masters%20Mechatronics/2022%20Summer/RAML%20-%20Project/venv/lib/python3.9/site-packages/keras/preprocessing/image.py?line=278'>279</a>\u001b[0m \u001b[39mdef\u001b[39;00m \u001b[39mload_img\u001b[39m(path, grayscale\u001b[39m=\u001b[39m\u001b[39mFalse\u001b[39;00m, color_mode\u001b[39m=\u001b[39m\u001b[39m'\u001b[39m\u001b[39mrgb\u001b[39m\u001b[39m'\u001b[39m, target_size\u001b[39m=\u001b[39m\u001b[39mNone\u001b[39;00m,\n\u001b[1;32m    <a href='file:///Users/nayansavaliya/Masters%20Mechatronics/2022%20Summer/RAML%20-%20Project/venv/lib/python3.9/site-packages/keras/preprocessing/image.py?line=279'>280</a>\u001b[0m              interpolation\u001b[39m=\u001b[39m\u001b[39m'\u001b[39m\u001b[39mnearest\u001b[39m\u001b[39m'\u001b[39m):\n\u001b[1;32m    <a href='file:///Users/nayansavaliya/Masters%20Mechatronics/2022%20Summer/RAML%20-%20Project/venv/lib/python3.9/site-packages/keras/preprocessing/image.py?line=280'>281</a>\u001b[0m   \u001b[39m\"\"\"Loads an image into PIL format.\u001b[39;00m\n\u001b[1;32m    <a href='file:///Users/nayansavaliya/Masters%20Mechatronics/2022%20Summer/RAML%20-%20Project/venv/lib/python3.9/site-packages/keras/preprocessing/image.py?line=281'>282</a>\u001b[0m \n\u001b[1;32m    <a href='file:///Users/nayansavaliya/Masters%20Mechatronics/2022%20Summer/RAML%20-%20Project/venv/lib/python3.9/site-packages/keras/preprocessing/image.py?line=282'>283</a>\u001b[0m \u001b[39m  Usage:\u001b[39;00m\n\u001b[0;32m   (...)\u001b[0m\n\u001b[1;32m    <a href='file:///Users/nayansavaliya/Masters%20Mechatronics/2022%20Summer/RAML%20-%20Project/venv/lib/python3.9/site-packages/keras/preprocessing/image.py?line=310'>311</a>\u001b[0m \u001b[39m      ValueError: if interpolation method is not supported.\u001b[39;00m\n\u001b[1;32m    <a href='file:///Users/nayansavaliya/Masters%20Mechatronics/2022%20Summer/RAML%20-%20Project/venv/lib/python3.9/site-packages/keras/preprocessing/image.py?line=311'>312</a>\u001b[0m \u001b[39m  \"\"\"\u001b[39;00m\n\u001b[0;32m--> <a href='file:///Users/nayansavaliya/Masters%20Mechatronics/2022%20Summer/RAML%20-%20Project/venv/lib/python3.9/site-packages/keras/preprocessing/image.py?line=312'>313</a>\u001b[0m   \u001b[39mreturn\u001b[39;00m image\u001b[39m.\u001b[39;49mload_img(path, grayscale\u001b[39m=\u001b[39;49mgrayscale, color_mode\u001b[39m=\u001b[39;49mcolor_mode,\n\u001b[1;32m    <a href='file:///Users/nayansavaliya/Masters%20Mechatronics/2022%20Summer/RAML%20-%20Project/venv/lib/python3.9/site-packages/keras/preprocessing/image.py?line=313'>314</a>\u001b[0m                         target_size\u001b[39m=\u001b[39;49mtarget_size, interpolation\u001b[39m=\u001b[39;49minterpolation)\n",
      "File \u001b[0;32m~/Masters Mechatronics/2022 Summer/RAML - Project/venv/lib/python3.9/site-packages/keras_preprocessing/image/utils.py:113\u001b[0m, in \u001b[0;36mload_img\u001b[0;34m(path, grayscale, color_mode, target_size, interpolation)\u001b[0m\n\u001b[1;32m    <a href='file:///Users/nayansavaliya/Masters%20Mechatronics/2022%20Summer/RAML%20-%20Project/venv/lib/python3.9/site-packages/keras_preprocessing/image/utils.py?line=109'>110</a>\u001b[0m \u001b[39mif\u001b[39;00m pil_image \u001b[39mis\u001b[39;00m \u001b[39mNone\u001b[39;00m:\n\u001b[1;32m    <a href='file:///Users/nayansavaliya/Masters%20Mechatronics/2022%20Summer/RAML%20-%20Project/venv/lib/python3.9/site-packages/keras_preprocessing/image/utils.py?line=110'>111</a>\u001b[0m     \u001b[39mraise\u001b[39;00m \u001b[39mImportError\u001b[39;00m(\u001b[39m'\u001b[39m\u001b[39mCould not import PIL.Image. \u001b[39m\u001b[39m'\u001b[39m\n\u001b[1;32m    <a href='file:///Users/nayansavaliya/Masters%20Mechatronics/2022%20Summer/RAML%20-%20Project/venv/lib/python3.9/site-packages/keras_preprocessing/image/utils.py?line=111'>112</a>\u001b[0m                       \u001b[39m'\u001b[39m\u001b[39mThe use of `load_img` requires PIL.\u001b[39m\u001b[39m'\u001b[39m)\n\u001b[0;32m--> <a href='file:///Users/nayansavaliya/Masters%20Mechatronics/2022%20Summer/RAML%20-%20Project/venv/lib/python3.9/site-packages/keras_preprocessing/image/utils.py?line=112'>113</a>\u001b[0m \u001b[39mwith\u001b[39;00m \u001b[39mopen\u001b[39;49m(path, \u001b[39m'\u001b[39;49m\u001b[39mrb\u001b[39;49m\u001b[39m'\u001b[39;49m) \u001b[39mas\u001b[39;00m f:\n\u001b[1;32m    <a href='file:///Users/nayansavaliya/Masters%20Mechatronics/2022%20Summer/RAML%20-%20Project/venv/lib/python3.9/site-packages/keras_preprocessing/image/utils.py?line=113'>114</a>\u001b[0m     img \u001b[39m=\u001b[39m pil_image\u001b[39m.\u001b[39mopen(io\u001b[39m.\u001b[39mBytesIO(f\u001b[39m.\u001b[39mread()))\n\u001b[1;32m    <a href='file:///Users/nayansavaliya/Masters%20Mechatronics/2022%20Summer/RAML%20-%20Project/venv/lib/python3.9/site-packages/keras_preprocessing/image/utils.py?line=114'>115</a>\u001b[0m     \u001b[39mif\u001b[39;00m color_mode \u001b[39m==\u001b[39m \u001b[39m'\u001b[39m\u001b[39mgrayscale\u001b[39m\u001b[39m'\u001b[39m:\n\u001b[1;32m    <a href='file:///Users/nayansavaliya/Masters%20Mechatronics/2022%20Summer/RAML%20-%20Project/venv/lib/python3.9/site-packages/keras_preprocessing/image/utils.py?line=115'>116</a>\u001b[0m         \u001b[39m# if image is not already an 8-bit, 16-bit or 32-bit grayscale image\u001b[39;00m\n\u001b[1;32m    <a href='file:///Users/nayansavaliya/Masters%20Mechatronics/2022%20Summer/RAML%20-%20Project/venv/lib/python3.9/site-packages/keras_preprocessing/image/utils.py?line=116'>117</a>\u001b[0m         \u001b[39m# convert it to an 8-bit grayscale image.\u001b[39;00m\n",
      "\u001b[0;31mFileNotFoundError\u001b[0m: [Errno 2] No such file or directory: '/Users/nayansavaliya/Masters Mechatronics/2022 Summer/RAML - Project/data/test/imagewoof_test/985.jpg'"
     ]
    }
   ],
   "source": [
    "def predictImage(filename):\n",
    "    img1 = image.load_img(filename,target_size=(32,32))\n",
    "    \n",
    "    plt.imshow(img1)\n",
    " \n",
    "    Y = image.img_to_array(img1)\n",
    "    \n",
    "    X = np.expand_dims(Y,axis=0)\n",
    "    val = model.predict(X)\n",
    "    print(val)\n",
    "    if val == 1:\n",
    "        \n",
    "        plt.xlabel(\"Real\",fontsize=30)\n",
    "        \n",
    "    \n",
    "    elif val == 0:\n",
    "        \n",
    "        plt.xlabel(\"Fake\",fontsize=30)\n",
    "\n",
    "predictImage(r\"/Users/nayansavaliya/Masters Mechatronics/2022 Summer/RAML - Project/data/test/imagewoof_test/985.jpg\")\n"
   ]
  },
  {
   "cell_type": "code",
   "execution_count": null,
   "metadata": {},
   "outputs": [
    {
     "name": "stdout",
     "output_type": "stream",
     "text": [
      "[[1.]]\n"
     ]
    },
    {
     "data": {
      "image/png": "[encoded data removed]",
      "text/plain": [
       "<Figure size 432x288 with 1 Axes>"
      ]
     },
     "metadata": {
      "needs_background": "light"
     },
     "output_type": "display_data"
    }
   ],
   "source": [
    "\n",
    "predictImage(r\"/Users/nayansavaliya/Masters Mechatronics/2022 Summer/RAML - Project/data/test/SNGAN_bicubic_test/954.jpg\")"
   ]
  }
 ],
 "metadata": {
  "interpreter": {
   "hash": "d6559be91acbc93f4d619e1b72121704cbae2e517629d34a1f89aedc7528f034"
  },
  "kernelspec": {
   "display_name": "Python 3.9.12 ('venv': venv)",
   "language": "python",
   "name": "python3"
  },
  "language_info": {
   "codemirror_mode": {
    "name": "ipython",
    "version": 3
   },
   "file_extension": ".py",
   "mimetype": "text/x-python",
   "name": "python",
   "nbconvert_exporter": "python",
   "pygments_lexer": "ipython3",
   "version": "3.9.12"
  },
  "orig_nbformat": 4
 },
 "nbformat": 4,
 "nbformat_minor": 2
}
