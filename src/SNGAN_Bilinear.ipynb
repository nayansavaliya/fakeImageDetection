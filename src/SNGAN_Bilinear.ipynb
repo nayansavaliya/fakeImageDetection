{
 "cells": [
  {
   "cell_type": "markdown",
   "metadata": {},
   "source": [
    "Imports"
   ]
  },
  {
   "cell_type": "code",
   "execution_count": 1,
   "metadata": {},
   "outputs": [],
   "source": [
    "import tensorflow as tf\n",
    "import numpy as np\n",
    "from tensorflow import keras\n",
    "from keras.preprocessing.image import ImageDataGenerator\n",
    "from keras.preprocessing import image\n",
    "import matplotlib.pyplot as plt\n",
    "from keras.callbacks import EarlyStopping\n",
    "\n",
    "\n",
    "# from IPython.core.interactiveshell import InteractiveShell\n",
    "# InteractiveShell.ast_node_interactivity = \"all\"\n",
    "\n"
   ]
  },
  {
   "cell_type": "markdown",
   "metadata": {},
   "source": [
    "Prepare DATASET"
   ]
  },
  {
   "cell_type": "code",
   "execution_count": 2,
   "metadata": {},
   "outputs": [
    {
     "name": "stdout",
     "output_type": "stream",
     "text": [
      "Found 1280 images belonging to 2 classes.\n",
      "Found 320 images belonging to 2 classes.\n",
      "Found 400 images belonging to 2 classes.\n"
     ]
    },
    {
     "data": {
      "text/plain": [
       "{'SNGAN_bilinear_test': 0, 'imagewoof_test': 1}"
      ]
     },
     "execution_count": 2,
     "metadata": {},
     "output_type": "execute_result"
    }
   ],
   "source": [
    "\n",
    "train = ImageDataGenerator(rescale=1/255,validation_split=0.2)\n",
    "test = ImageDataGenerator(rescale=1/255)\n",
    "\n",
    "train_dataset = train.flow_from_directory(\"/Users/nayansavaliya/Masters Mechatronics/2022 Summer/RAML - Project/data/bilinear/train\",\n",
    "                                          target_size=(32,32),\n",
    "                                          batch_size = 30,\n",
    "                                          class_mode = 'binary',subset='training')\n",
    "\n",
    "validation_dataset = train.flow_from_directory(\"/Users/nayansavaliya/Masters Mechatronics/2022 Summer/RAML - Project/data/bilinear/train\",\n",
    "                                          target_size=(32,32),\n",
    "                                          batch_size = 30,\n",
    "                                          class_mode = 'binary',subset='validation')                                    \n",
    "test_dataset = test.flow_from_directory(\"/Users/nayansavaliya/Masters Mechatronics/2022 Summer/RAML - Project/data/bilinear/test\",\n",
    "                                          target_size=(32,32),\n",
    "                                          batch_size =30,\n",
    "                                          class_mode = 'binary')\n",
    "\n",
    "test_dataset.class_indices"
   ]
  },
  {
   "cell_type": "markdown",
   "metadata": {},
   "source": [
    "Design Model"
   ]
  },
  {
   "cell_type": "code",
   "execution_count": 3,
   "metadata": {},
   "outputs": [
    {
     "name": "stdout",
     "output_type": "stream",
     "text": [
      "Metal device set to: Apple M1\n",
      "\n",
      "systemMemory: 16.00 GB\n",
      "maxCacheSize: 5.33 GB\n",
      "\n"
     ]
    },
    {
     "name": "stderr",
     "output_type": "stream",
     "text": [
      "2022-05-16 14:29:12.272449: I tensorflow/core/common_runtime/pluggable_device/pluggable_device_factory.cc:305] Could not identify NUMA node of platform GPU ID 0, defaulting to 0. Your kernel may not have been built with NUMA support.\n",
      "2022-05-16 14:29:12.272564: I tensorflow/core/common_runtime/pluggable_device/pluggable_device_factory.cc:271] Created TensorFlow device (/job:localhost/replica:0/task:0/device:GPU:0 with 0 MB memory) -> physical PluggableDevice (device: 0, name: METAL, pci bus id: <undefined>)\n"
     ]
    }
   ],
   "source": [
    "model = keras.Sequential()\n",
    "\n",
    "# Convolutional layer and maxpool layer 1\n",
    "model.add(keras.layers.Conv2D(32,(3,3),activation='relu',input_shape=(32,32,3)))\n",
    "\n",
    "model.add(keras.layers.MaxPool2D(2,2))\n",
    "\n",
    "# Convolutional layer and maxpool layer 2\n",
    "# model.add(keras.layers.Conv2D(64,(3,3),activation='relu'))\n",
    "\n",
    "# model.add(keras.layers.MaxPool2D(2,2))\n",
    "\n",
    "# # Convolutional layer and maxpool layer 3\n",
    "# model.add(keras.layers.Conv2D(64,(3,3),activation='relu'))\n",
    "\n",
    "# model.add(keras.layers.MaxPool2D(2,2))\n",
    "\n",
    "# This layer flattens the resulting image array to 1D array\n",
    "model.add(keras.layers.Flatten())\n",
    "\n",
    "# Hidden layer with 512 neurons and Rectified Linear Unit activation function \n",
    "model.add(keras.layers.Dense(32,activation='relu'))\n",
    "\n",
    "# Output layer with single neuron which gives 0 for fake or 1 for real \n",
    "#Here we use sigmoid activation function which makes our model output to lie between 0 and 1\n",
    "model.add(keras.layers.Dense(1,activation='sigmoid'))\n",
    "\n",
    "\n",
    "model.compile(optimizer='adam',loss='binary_crossentropy',metrics=['accuracy'])"
   ]
  },
  {
   "cell_type": "markdown",
   "metadata": {},
   "source": [
    "Training\n",
    "\n",
    "Usually with every epoch increasing, loss goes lower and accuracy goes higher. But with val_loss and val_acc, many cases can be possible:\n",
    "\n",
    "val_loss starts increasing, val_acc starts decreasing(means model is cramming values not learning)\n",
    "\n",
    "val_loss starts increasing, val_acc also increases.(could be case of overfitting or diverse probability values in cases softmax is used in output layer)\n",
    "\n",
    "val_loss starts decreasing, val_acc starts increasing(Correct, means model build is learning and working fine)"
   ]
  },
  {
   "cell_type": "code",
   "execution_count": 4,
   "metadata": {},
   "outputs": [
    {
     "name": "stdout",
     "output_type": "stream",
     "text": [
      "Epoch 1/120\n"
     ]
    },
    {
     "name": "stderr",
     "output_type": "stream",
     "text": [
      "2022-05-16 14:29:12.381285: W tensorflow/core/platform/profile_utils/cpu_utils.cc:128] Failed to get CPU frequency: 0 Hz\n"
     ]
    },
    {
     "name": "stdout",
     "output_type": "stream",
     "text": [
      " 7/43 [===>..........................] - ETA: 0s - loss: 0.6950 - accuracy: 0.5619 "
     ]
    },
    {
     "name": "stderr",
     "output_type": "stream",
     "text": [
      "2022-05-16 14:29:12.651514: I tensorflow/core/grappler/optimizers/custom_graph_optimizer_registry.cc:113] Plugin optimizer for device_type GPU is enabled.\n"
     ]
    },
    {
     "name": "stdout",
     "output_type": "stream",
     "text": [
      "43/43 [==============================] - 1s 14ms/step - loss: 0.6679 - accuracy: 0.6156 - val_loss: 0.6052 - val_accuracy: 0.7500\n",
      "Epoch 2/120\n",
      " 6/43 [===>..........................] - ETA: 0s - loss: 0.6176 - accuracy: 0.6706"
     ]
    },
    {
     "name": "stderr",
     "output_type": "stream",
     "text": [
      "2022-05-16 14:29:13.268395: I tensorflow/core/grappler/optimizers/custom_graph_optimizer_registry.cc:113] Plugin optimizer for device_type GPU is enabled.\n"
     ]
    },
    {
     "name": "stdout",
     "output_type": "stream",
     "text": [
      "43/43 [==============================] - 0s 11ms/step - loss: 0.5699 - accuracy: 0.7211 - val_loss: 0.5017 - val_accuracy: 0.8156\n",
      "Epoch 3/120\n",
      "43/43 [==============================] - 0s 11ms/step - loss: 0.4632 - accuracy: 0.7992 - val_loss: 0.4409 - val_accuracy: 0.8281\n",
      "Epoch 4/120\n",
      "43/43 [==============================] - 0s 11ms/step - loss: 0.3724 - accuracy: 0.8656 - val_loss: 0.3662 - val_accuracy: 0.8531\n",
      "Epoch 5/120\n",
      "43/43 [==============================] - 0s 11ms/step - loss: 0.2950 - accuracy: 0.8977 - val_loss: 0.3137 - val_accuracy: 0.8719\n",
      "Epoch 6/120\n",
      "43/43 [==============================] - 0s 11ms/step - loss: 0.2498 - accuracy: 0.9195 - val_loss: 0.2783 - val_accuracy: 0.9000\n",
      "Epoch 7/120\n",
      "43/43 [==============================] - 0s 11ms/step - loss: 0.2073 - accuracy: 0.9328 - val_loss: 0.2755 - val_accuracy: 0.8906\n",
      "Epoch 8/120\n",
      "43/43 [==============================] - 0s 11ms/step - loss: 0.2061 - accuracy: 0.9266 - val_loss: 0.2381 - val_accuracy: 0.9125\n",
      "Epoch 9/120\n",
      "43/43 [==============================] - 0s 10ms/step - loss: 0.1634 - accuracy: 0.9469 - val_loss: 0.2256 - val_accuracy: 0.8875\n",
      "Epoch 10/120\n",
      "43/43 [==============================] - 0s 11ms/step - loss: 0.1425 - accuracy: 0.9570 - val_loss: 0.2194 - val_accuracy: 0.9094\n",
      "Epoch 11/120\n",
      "43/43 [==============================] - 0s 11ms/step - loss: 0.1233 - accuracy: 0.9664 - val_loss: 0.2071 - val_accuracy: 0.9000\n",
      "Epoch 12/120\n",
      "43/43 [==============================] - 0s 11ms/step - loss: 0.1128 - accuracy: 0.9648 - val_loss: 0.1933 - val_accuracy: 0.9125\n",
      "Epoch 13/120\n",
      "43/43 [==============================] - 0s 11ms/step - loss: 0.1004 - accuracy: 0.9719 - val_loss: 0.1873 - val_accuracy: 0.9094\n",
      "Epoch 14/120\n",
      "43/43 [==============================] - 0s 10ms/step - loss: 0.0898 - accuracy: 0.9742 - val_loss: 0.2085 - val_accuracy: 0.9000\n",
      "Epoch 15/120\n",
      "43/43 [==============================] - 0s 11ms/step - loss: 0.0945 - accuracy: 0.9648 - val_loss: 0.1852 - val_accuracy: 0.9094\n",
      "Epoch 16/120\n",
      "43/43 [==============================] - 0s 11ms/step - loss: 0.0795 - accuracy: 0.9758 - val_loss: 0.1751 - val_accuracy: 0.9219\n",
      "Epoch 17/120\n",
      "43/43 [==============================] - 0s 11ms/step - loss: 0.0678 - accuracy: 0.9852 - val_loss: 0.1737 - val_accuracy: 0.9281\n",
      "Epoch 18/120\n",
      "43/43 [==============================] - 0s 10ms/step - loss: 0.0596 - accuracy: 0.9844 - val_loss: 0.2131 - val_accuracy: 0.9094\n",
      "Epoch 19/120\n",
      "43/43 [==============================] - 0s 10ms/step - loss: 0.0552 - accuracy: 0.9883 - val_loss: 0.1647 - val_accuracy: 0.9250\n",
      "Epoch 20/120\n",
      "43/43 [==============================] - 0s 10ms/step - loss: 0.0486 - accuracy: 0.9898 - val_loss: 0.1699 - val_accuracy: 0.9187\n",
      "Epoch 21/120\n",
      "43/43 [==============================] - 0s 11ms/step - loss: 0.0485 - accuracy: 0.9859 - val_loss: 0.1520 - val_accuracy: 0.9313\n",
      "Epoch 22/120\n",
      "43/43 [==============================] - 0s 10ms/step - loss: 0.0497 - accuracy: 0.9906 - val_loss: 0.1660 - val_accuracy: 0.9281\n",
      "Epoch 23/120\n",
      "43/43 [==============================] - 0s 10ms/step - loss: 0.0443 - accuracy: 0.9883 - val_loss: 0.1645 - val_accuracy: 0.9281\n",
      "Epoch 24/120\n",
      "43/43 [==============================] - 0s 10ms/step - loss: 0.0388 - accuracy: 0.9922 - val_loss: 0.1586 - val_accuracy: 0.9313\n",
      "Epoch 25/120\n",
      "43/43 [==============================] - 0s 10ms/step - loss: 0.0276 - accuracy: 0.9984 - val_loss: 0.1626 - val_accuracy: 0.9344\n",
      "Epoch 26/120\n",
      "43/43 [==============================] - 0s 11ms/step - loss: 0.0299 - accuracy: 0.9961 - val_loss: 0.1521 - val_accuracy: 0.9313\n",
      "Epoch 27/120\n",
      "43/43 [==============================] - 0s 11ms/step - loss: 0.0249 - accuracy: 0.9977 - val_loss: 0.1448 - val_accuracy: 0.9219\n",
      "Epoch 28/120\n",
      "43/43 [==============================] - 0s 10ms/step - loss: 0.0208 - accuracy: 0.9992 - val_loss: 0.1453 - val_accuracy: 0.9406\n",
      "Epoch 29/120\n",
      "43/43 [==============================] - 0s 10ms/step - loss: 0.0175 - accuracy: 0.9992 - val_loss: 0.1496 - val_accuracy: 0.9250\n",
      "Epoch 30/120\n",
      "43/43 [==============================] - 0s 10ms/step - loss: 0.0190 - accuracy: 1.0000 - val_loss: 0.1434 - val_accuracy: 0.9281\n",
      "Epoch 31/120\n",
      "43/43 [==============================] - 0s 10ms/step - loss: 0.0147 - accuracy: 1.0000 - val_loss: 0.1431 - val_accuracy: 0.9313\n",
      "Epoch 32/120\n",
      "43/43 [==============================] - 0s 10ms/step - loss: 0.0128 - accuracy: 1.0000 - val_loss: 0.1493 - val_accuracy: 0.9281\n",
      "Epoch 33/120\n",
      "43/43 [==============================] - 0s 11ms/step - loss: 0.0130 - accuracy: 1.0000 - val_loss: 0.1569 - val_accuracy: 0.9250\n",
      "Epoch 34/120\n",
      "43/43 [==============================] - 0s 11ms/step - loss: 0.0109 - accuracy: 1.0000 - val_loss: 0.1455 - val_accuracy: 0.9281\n",
      "Epoch 35/120\n",
      "43/43 [==============================] - 0s 11ms/step - loss: 0.0100 - accuracy: 1.0000 - val_loss: 0.1441 - val_accuracy: 0.9344\n",
      "Epoch 36/120\n",
      "43/43 [==============================] - 0s 10ms/step - loss: 0.0119 - accuracy: 1.0000 - val_loss: 0.1558 - val_accuracy: 0.9344\n",
      "Epoch 37/120\n",
      "43/43 [==============================] - 0s 10ms/step - loss: 0.0086 - accuracy: 1.0000 - val_loss: 0.1456 - val_accuracy: 0.9281\n",
      "Epoch 38/120\n",
      "43/43 [==============================] - 0s 10ms/step - loss: 0.0078 - accuracy: 1.0000 - val_loss: 0.1542 - val_accuracy: 0.9313\n",
      "Epoch 39/120\n",
      "43/43 [==============================] - 0s 10ms/step - loss: 0.0087 - accuracy: 1.0000 - val_loss: 0.1480 - val_accuracy: 0.9344\n",
      "Epoch 40/120\n",
      "43/43 [==============================] - 0s 10ms/step - loss: 0.0068 - accuracy: 1.0000 - val_loss: 0.1463 - val_accuracy: 0.9313\n",
      "Epoch 41/120\n",
      "43/43 [==============================] - 0s 10ms/step - loss: 0.0058 - accuracy: 1.0000 - val_loss: 0.1484 - val_accuracy: 0.9313\n",
      "Epoch 42/120\n",
      "43/43 [==============================] - 0s 10ms/step - loss: 0.0058 - accuracy: 1.0000 - val_loss: 0.1645 - val_accuracy: 0.9219\n",
      "Epoch 43/120\n",
      "43/43 [==============================] - 0s 10ms/step - loss: 0.0055 - accuracy: 1.0000 - val_loss: 0.1518 - val_accuracy: 0.9219\n",
      "Epoch 44/120\n",
      "43/43 [==============================] - 0s 10ms/step - loss: 0.0046 - accuracy: 1.0000 - val_loss: 0.1473 - val_accuracy: 0.9281\n",
      "Epoch 45/120\n",
      "43/43 [==============================] - 0s 10ms/step - loss: 0.0052 - accuracy: 1.0000 - val_loss: 0.1603 - val_accuracy: 0.9313\n",
      "Epoch 46/120\n",
      "43/43 [==============================] - 0s 10ms/step - loss: 0.0043 - accuracy: 1.0000 - val_loss: 0.1469 - val_accuracy: 0.9250\n",
      "Epoch 47/120\n",
      "43/43 [==============================] - 0s 10ms/step - loss: 0.0038 - accuracy: 1.0000 - val_loss: 0.1517 - val_accuracy: 0.9281\n",
      "Epoch 48/120\n",
      "43/43 [==============================] - 0s 11ms/step - loss: 0.0038 - accuracy: 1.0000 - val_loss: 0.1638 - val_accuracy: 0.9281\n",
      "Epoch 49/120\n",
      "43/43 [==============================] - 0s 10ms/step - loss: 0.0034 - accuracy: 1.0000 - val_loss: 0.1507 - val_accuracy: 0.9281\n",
      "Epoch 50/120\n",
      "43/43 [==============================] - 0s 10ms/step - loss: 0.0031 - accuracy: 1.0000 - val_loss: 0.1526 - val_accuracy: 0.9281\n"
     ]
    }
   ],
   "source": [
    "early_stopping = EarlyStopping(\n",
    "    min_delta=0.001, # minimium amount of change to count as an improvement\n",
    "    patience=20, # how many epochs to wait before stopping\n",
    "    restore_best_weights=True,\n",
    ")\n",
    "\n",
    "history = model.fit(train_dataset,\n",
    "        #  steps_per_epoch = 25,\n",
    "         epochs = 120,\n",
    "         callbacks=[early_stopping],\n",
    "         validation_data = validation_dataset\n",
    "         )"
   ]
  },
  {
   "cell_type": "code",
   "execution_count": 7,
   "metadata": {},
   "outputs": [
    {
     "data": {
      "text/plain": [
       "<matplotlib.legend.Legend at 0x14b48f430>"
      ]
     },
     "execution_count": 7,
     "metadata": {},
     "output_type": "execute_result"
    },
    {
     "data": {
      "image/png": "[encoded data removed]",
      "text/plain": [
       "<Figure size 432x288 with 1 Axes>"
      ]
     },
     "metadata": {
      "needs_background": "light"
     },
     "output_type": "display_data"
    }
   ],
   "source": [
    "# visualizing losses and accuracy\n",
    "# print(history.history)\n",
    "train_loss = history.history['loss']\n",
    "val_loss   = history.history['val_loss']\n",
    "train_acc  = history.history['accuracy']\n",
    "val_acc    = history.history['val_accuracy']\n",
    "xc         = range(50)\n",
    "\n",
    "plt.figure()\n",
    "plt.plot(xc, train_loss,label = 'Train Loss')\n",
    "plt.plot(xc, val_loss,label = 'Val Loss')\n",
    "plt.legend(loc='upper right')"
   ]
  },
  {
   "cell_type": "code",
   "execution_count": 8,
   "metadata": {},
   "outputs": [
    {
     "data": {
      "text/plain": [
       "<matplotlib.legend.Legend at 0x14b4f66d0>"
      ]
     },
     "execution_count": 8,
     "metadata": {},
     "output_type": "execute_result"
    },
    {
     "data": {
      "image/png": "[encoded data removed]",
      "text/plain": [
       "<Figure size 432x288 with 1 Axes>"
      ]
     },
     "metadata": {
      "needs_background": "light"
     },
     "output_type": "display_data"
    }
   ],
   "source": [
    "plt.figure()\n",
    "plt.plot(xc, train_acc,label = 'Train Acc')\n",
    "plt.plot(xc, val_acc,label = 'Val Acc')\n",
    "plt.legend(loc='upper right')"
   ]
  },
  {
   "cell_type": "code",
   "execution_count": 9,
   "metadata": {},
   "outputs": [
    {
     "name": "stdout",
     "output_type": "stream",
     "text": [
      "14/14 [==============================] - 0s 6ms/step - loss: 0.1785 - accuracy: 0.9375\n",
      "93.75\n"
     ]
    }
   ],
   "source": [
    "_, acc = model.evaluate(test_dataset)\n",
    "print(acc *100)"
   ]
  },
  {
   "cell_type": "markdown",
   "metadata": {},
   "source": [
    "Prediction"
   ]
  },
  {
   "cell_type": "code",
   "execution_count": 12,
   "metadata": {},
   "outputs": [
    {
     "name": "stdout",
     "output_type": "stream",
     "text": [
      "[[1.]]\n"
     ]
    },
    {
     "data": {
      "image/png": "[encoded data removed]",
      "text/plain": [
       "<Figure size 432x288 with 1 Axes>"
      ]
     },
     "metadata": {
      "needs_background": "light"
     },
     "output_type": "display_data"
    }
   ],
   "source": [
    "def predictImage(filename):\n",
    "    img1 = image.load_img(filename,target_size=(32,32))\n",
    "    \n",
    "    plt.imshow(img1)\n",
    " \n",
    "    Y = image.img_to_array(img1)\n",
    "    \n",
    "    X = np.expand_dims(Y,axis=0)\n",
    "    val = model.predict(X)\n",
    "    print(val)\n",
    "    if val == 1:\n",
    "        \n",
    "        plt.xlabel(\"Real\",fontsize=30)\n",
    "        \n",
    "    \n",
    "    elif val == 0:\n",
    "        \n",
    "        plt.xlabel(\"Fake\",fontsize=30)\n",
    "\n",
    "predictImage(r\"/Users/nayansavaliya/Masters Mechatronics/2022 Summer/RAML - Project/data/bilinear/test/imagewoof_test/985.jpg\")\n"
   ]
  },
  {
   "cell_type": "code",
   "execution_count": 13,
   "metadata": {},
   "outputs": [
    {
     "name": "stdout",
     "output_type": "stream",
     "text": [
      "[[0.]]\n"
     ]
    },
    {
     "data": {
      "image/png": "[encoded data removed]",
      "text/plain": [
       "<Figure size 432x288 with 1 Axes>"
      ]
     },
     "metadata": {
      "needs_background": "light"
     },
     "output_type": "display_data"
    }
   ],
   "source": [
    "\n",
    "predictImage(r\"/Users/nayansavaliya/Masters Mechatronics/2022 Summer/RAML - Project/data/bilinear/test/SNGAN_bilinear_test/954.jpg\")"
   ]
  }
 ],
 "metadata": {
  "interpreter": {
   "hash": "d6559be91acbc93f4d619e1b72121704cbae2e517629d34a1f89aedc7528f034"
  },
  "kernelspec": {
   "display_name": "Python 3.9.12 ('venv': venv)",
   "language": "python",
   "name": "python3"
  },
  "language_info": {
   "codemirror_mode": {
    "name": "ipython",
    "version": 3
   },
   "file_extension": ".py",
   "mimetype": "text/x-python",
   "name": "python",
   "nbconvert_exporter": "python",
   "pygments_lexer": "ipython3",
   "version": "3.9.12"
  },
  "orig_nbformat": 4
 },
 "nbformat": 4,
 "nbformat_minor": 2
}
